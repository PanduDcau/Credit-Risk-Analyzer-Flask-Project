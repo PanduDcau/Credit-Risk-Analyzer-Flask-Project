{
 "cells": [
  {
   "cell_type": "markdown",
   "id": "classical-glossary",
   "metadata": {},
   "source": [
    "# Creditworthiness of Caribbean Netherlands SMEs: measuring the financial ability and responsibility of SMEs in the Caribbean Netherlands to borrow and repay micro loans #\n"
   ]
  },
  {
   "cell_type": "markdown",
   "id": "focused-connectivity",
   "metadata": {},
   "source": [
    "### Introduction ###"
   ]
  },
  {
   "cell_type": "markdown",
   "id": "interracial-insulin",
   "metadata": {},
   "source": [
    "With this data science project, I would like to explore the idea of developing a credit risk model that is robust enough to measure and score the financial ability and responsibility of SMEs in the Caribbean Netherlands. I run and own an cloud based accounting and financial advisory firm called TACT. As an accountant and an aspiring data scientist living through the current COVID19 pandemic this topic is of high interest to me!  If successfully developed, this model can potentially be used to increase trust and lending between SME's and banks in Caribbean Netherlands region. This could play a role in providing SMEs with the financing needed meet liquidity challenges caused by the current COVID19 pandemic inaddition to making needed investments for the future. \n",
    "\n",
    "The economic damage caused by the COVID19 pandemic is still unravalling. A [2020 report](https://www.oecd.org/coronavirus/policy-responses/coronavirus-covid-19-sme-policy-responses-04440101/) from the Organanization for Economic Cooperation and Development (i.e. OECD) highlights the impact of the COVID19 pandemic on SMEs. This is important to consider as according to the report \"SMEs account for the vast majority of companies, value added and employment\" in most OECD countries. This means that the impact of COVID19 on SMEs affects the lifes of many individuals including business owners, employees, families and local communities. According to the OECD report, SMEs worldwide have seen a sharp decline in their revenue due to lower consumer spending caused by lower employment and uncertainty. In many cases SMEs have been forced to lay off staff, deal with severe liquidity challanges and are at risk of closure; not to mention all the SMEs that have been forced to close permanently. These are the results of social distancing rules being implemented by governments worldwide to limit the spread of the COVID19 virus. \n",
    "\n",
    "Within the Caribbean Netherlands, SME's operating on the islands of Bonaire, St. Eustatius and Saba (i.e. BES Islands) have also been impacted negatively  by the COVID19 pandemic. Due to the small scale of the islands, their trade deficit and their tourism dependent economies the problems caused by COVID19 have been exacerbated. Due to the islands having direct ties with the Netherlands, SME's on the BES Islands have received COVID19 financial support from the Dutch Central Government; similar to support offered by governments worldwide. This support has helped restaurants, hotels and other businesses keep their staff employed, cover their fixed costs and maintain a positive cashflow. However many SMEs on the BES Islands have difficulty in accessing bridge financing and loans from banks and lending institutions. Based on my experience working as an accountant on the BES Islands, I believe that this is a threefold problem. Firstly local banks see SMEs in the BES Islands as high risk. Secondly local banks lack a data driven approach to assess the credit worthiness of SMEs. Thirdly, SME's lack the expertise in presenting themselves as financially responsible borrowers. "
   ]
  },
  {
   "cell_type": "markdown",
   "id": "radio-princeton",
   "metadata": {},
   "source": [
    "**Python Libraries**"
   ]
  },
  {
   "cell_type": "markdown",
   "id": "intermediate-alabama",
   "metadata": {},
   "source": [
    "Python along with the following libraries will be used to obtain, clean, transform and explore data needed for this project. Online documentation for the various libraries were accessed throughout the formulation of this project proposal. "
   ]
  },
  {
   "cell_type": "code",
   "execution_count": 2,
   "id": "final-technique",
   "metadata": {},
   "outputs": [],
   "source": [
    "import numpy as np\n",
    "import pandas as pd\n",
    "import pysftp as sftp\n",
    "import matplotlib.pyplot as plt\n",
    "import seaborn as sns\n",
    "from inforcehub import Anonymize\n",
    "from scipy import stats\n",
    "from sklearn.cluster import KMeans\n",
    "\n",
    "%matplotlib inline"
   ]
  },
  {
   "cell_type": "markdown",
   "id": "thick-preservation",
   "metadata": {},
   "source": [
    "### DataSet Acquisition ###"
   ]
  },
  {
   "cell_type": "markdown",
   "id": "endangered-waters",
   "metadata": {},
   "source": [
    "**Choice of DataSet**"
   ]
  },
  {
   "cell_type": "markdown",
   "id": "listed-field",
   "metadata": {},
   "source": [
    "Two key questions in undertaking this project was in deciding firstly which data to use and how to obtain this data. For the first question, my thinking is that the transactions of an SMEs bank account(s) would be the best choice. I also considered the monthly financial statements of a business. However, many small and micro businesses within the BES Islands do not prepare monthly financial reports as a standard practise. For those that do, it would be timely and costly to ascertain the accuracy of the information provided in the form of an audit. \n",
    "\n",
    "By analyzing the bank transaction of a business, its actual cashflow patterns can be identified to indicate it's ability to make loan repayments. E.g. A business that deposits or credits on average $10,000 a month on it's account but only spends or credits USD7,000 has USD3,000 in free cashflow to make investements or potentially use to make loan repayments. Additionally analysis could be used to identified a business that consistently pay its employees, vendors and tax obligations on time. Such as business can be said to be both financially able and responsible.\n"
   ]
  },
  {
   "cell_type": "markdown",
   "id": "ranging-schedule",
   "metadata": {},
   "source": [
    "**Limitations of Dataset**"
   ]
  },
  {
   "cell_type": "markdown",
   "id": "arctic-teacher",
   "metadata": {},
   "source": [
    "I realize that there are limitations in only utilizing the bank transactions of a business to determine it's creditworthiness. Allot of additional context is missing such as the level of existing debt the business is carrying. It would also be important to know additional contextual information such as what industry the business operates in and its years of operations. Some of this information can be deduced by analyzing text data contained within the dataset such as transaction descriptions. However for this stage of the project, I chose to prioritize the annonymization of confidential text data contained within the dataset limiting it's usefulness for analysis. Part of the limitation is my current skills as a data scientist. As I progress with this project and grow as a data scientist, I hope to be able to better analyze the categorical text data of banking transactions while maintaining the privacy of confidential information. For this stage of the project, the analysis will focus primarily on numerical data. "
   ]
  },
  {
   "cell_type": "markdown",
   "id": "competitive-physiology",
   "metadata": {},
   "source": [
    "**Obtaining the DataSet - Method1**"
   ]
  },
  {
   "cell_type": "markdown",
   "id": "controversial-owner",
   "metadata": {},
   "source": [
    "To explore the feasbility of using bank transaction for the above analysis, I decided to use the bank transactions of my company TACT from 2019 (pre COVID19 pandemic) and 2020 (during COVID19 pandemic). The dataset was downloaded from TACT's online banking account with the Windward Island Bank as a csv file. Further description of the dataset is provided below."
   ]
  },
  {
   "cell_type": "code",
   "execution_count": 3,
   "id": "married-atmosphere",
   "metadata": {},
   "outputs": [],
   "source": [
    "trans = pd.read_csv('data/annon_bank_trans.csv')"
   ]
  },
  {
   "cell_type": "markdown",
   "id": "boolean-leave",
   "metadata": {},
   "source": [
    "**Obtaining the DataSet - Method2**"
   ]
  },
  {
   "cell_type": "markdown",
   "id": "indian-frank",
   "metadata": {},
   "source": [
    "An alternative method to obtain the data required is via WIB's digital statement service. With this service, WIB provides clients with access to their bank transactions stored within csv files on their sftp server. Once a business or individual signs up for this service, they receive login credentials needed to access the sftp server. The code below has been commented out and is purely for demonstrative purposes. For security reasons, TACT's actual server login credentials have been ommited. "
   ]
  },
  {
   "cell_type": "code",
   "execution_count": 10,
   "id": "sitting-beast",
   "metadata": {},
   "outputs": [],
   "source": [
    "# conn = sftp.Connection(host='sftp1.mcb-bank.com',username='username',password='password') #connect to SFTP server\n",
    "# conn.chdir('DOWNLOADED') #navigate to the downloaded folder\n",
    "# conn.get_d('DOWNLOADED', 'data') #download csv files within Downloaded server folder to local Data folder\n",
    "# conn.close() #close connection to sftp server"
   ]
  },
  {
   "cell_type": "markdown",
   "id": "incredible-middle",
   "metadata": {},
   "source": [
    "**Obtaining the DataSet - Evaluation**"
   ]
  },
  {
   "cell_type": "markdown",
   "id": "blank-simpson",
   "metadata": {},
   "source": [
    "I decided to make use of method 1 because more transactional data for TACT could be obtained. One key drawback with method 2 is that WIB only makes bank transactions available via it's SFTP server from the date customers sign up for it's WIB Digital Statements service. TACT signed up for this service in May 2020, so transactions prior to this period are not stored on WIB's SFTP server and can only be accessed via WIB's online banking system (i.e. method 1). "
   ]
  },
  {
   "cell_type": "markdown",
   "id": "enabling-terrace",
   "metadata": {},
   "source": [
    "### DataSet Overview ##"
   ]
  },
  {
   "cell_type": "markdown",
   "id": "prospective-alarm",
   "metadata": {},
   "source": [
    "**Shape of DataSet**"
   ]
  },
  {
   "cell_type": "markdown",
   "id": "consecutive-habitat",
   "metadata": {},
   "source": [
    "The original data set of contains 297 rows and 7 columns. "
   ]
  },
  {
   "cell_type": "code",
   "execution_count": 11,
   "id": "million-detail",
   "metadata": {},
   "outputs": [
    {
     "name": "stdout",
     "output_type": "stream",
     "text": [
      "(297, 8)\n"
     ]
    }
   ],
   "source": [
    "print(trans.shape)"
   ]
  },
  {
   "cell_type": "markdown",
   "id": "dynamic-chicken",
   "metadata": {},
   "source": [
    "**Features of Dataset**"
   ]
  },
  {
   "cell_type": "markdown",
   "id": "governing-breach",
   "metadata": {},
   "source": [
    "Each row represents a single bank transaction and columns provides details or features about each transaction. Features include the date the transaction was posted, it's description, its transaction number and whether it was a payment received (i.e. credit) or payment made (i.e. debit) from the bank account. Here we are dealing with multiple data types include date, categorical and numeric."
   ]
  },
  {
   "cell_type": "code",
   "execution_count": 12,
   "id": "incorporated-texture",
   "metadata": {
    "scrolled": true
   },
   "outputs": [
    {
     "data": {
      "text/html": [
       "<div>\n",
       "<style scoped>\n",
       "    .dataframe tbody tr th:only-of-type {\n",
       "        vertical-align: middle;\n",
       "    }\n",
       "\n",
       "    .dataframe tbody tr th {\n",
       "        vertical-align: top;\n",
       "    }\n",
       "\n",
       "    .dataframe thead th {\n",
       "        text-align: right;\n",
       "    }\n",
       "</style>\n",
       "<table border=\"1\" class=\"dataframe\">\n",
       "  <thead>\n",
       "    <tr style=\"text-align: right;\">\n",
       "      <th></th>\n",
       "      <th>Unnamed: 0</th>\n",
       "      <th>Posted Date</th>\n",
       "      <th>Effective Date</th>\n",
       "      <th>Transaction Description</th>\n",
       "      <th>Transaction Code Description</th>\n",
       "      <th>Check Number</th>\n",
       "      <th>Debit Amount</th>\n",
       "      <th>Credit Amount</th>\n",
       "    </tr>\n",
       "  </thead>\n",
       "  <tbody>\n",
       "    <tr>\n",
       "      <th>0</th>\n",
       "      <td>0</td>\n",
       "      <td>31 Dec 2020</td>\n",
       "      <td>31 Dec 2020</td>\n",
       "      <td>SYSTEM GENERATED ADMIN. CHARGE</td>\n",
       "      <td>b8721910556ff4edcb0e4edb6706d172</td>\n",
       "      <td></td>\n",
       "      <td>9.00</td>\n",
       "      <td>0.0</td>\n",
       "    </tr>\n",
       "    <tr>\n",
       "      <th>1</th>\n",
       "      <td>1</td>\n",
       "      <td>31 Dec 2020</td>\n",
       "      <td>31 Dec 2020</td>\n",
       "      <td>CREDIT NOTE</td>\n",
       "      <td>df94b7a048930cb39f61b885b3b4f9cf</td>\n",
       "      <td>605041</td>\n",
       "      <td>0.00</td>\n",
       "      <td>530.0</td>\n",
       "    </tr>\n",
       "    <tr>\n",
       "      <th>2</th>\n",
       "      <td>2</td>\n",
       "      <td>30 Dec 2020</td>\n",
       "      <td>30 Dec 2020</td>\n",
       "      <td>C/A ATM/TB BILL PAYMENT DT</td>\n",
       "      <td>f1f009c83b019abbb3ea72ab1b728bd7</td>\n",
       "      <td>8576112</td>\n",
       "      <td>0.59</td>\n",
       "      <td>0.0</td>\n",
       "    </tr>\n",
       "    <tr>\n",
       "      <th>3</th>\n",
       "      <td>3</td>\n",
       "      <td>28 Dec 2020</td>\n",
       "      <td>28 Dec 2020</td>\n",
       "      <td>C/A ATM/TB TRANSFER CR</td>\n",
       "      <td>cc1f36f8edd8d54cd683e9eacb5a16e0</td>\n",
       "      <td>241151</td>\n",
       "      <td>0.00</td>\n",
       "      <td>300.0</td>\n",
       "    </tr>\n",
       "    <tr>\n",
       "      <th>4</th>\n",
       "      <td>4</td>\n",
       "      <td>28 Dec 2020</td>\n",
       "      <td>28 Dec 2020</td>\n",
       "      <td>C/A ATM/TB TRANSFER CR</td>\n",
       "      <td>ca3bccdf6f0f665d1fd71ff190c570a3</td>\n",
       "      <td>240928</td>\n",
       "      <td>0.00</td>\n",
       "      <td>985.0</td>\n",
       "    </tr>\n",
       "  </tbody>\n",
       "</table>\n",
       "</div>"
      ],
      "text/plain": [
       "   Unnamed: 0  Posted Date Effective Date         Transaction Description  \\\n",
       "0           0  31 Dec 2020    31 Dec 2020  SYSTEM GENERATED ADMIN. CHARGE   \n",
       "1           1  31 Dec 2020    31 Dec 2020                     CREDIT NOTE   \n",
       "2           2  30 Dec 2020    30 Dec 2020      C/A ATM/TB BILL PAYMENT DT   \n",
       "3           3  28 Dec 2020    28 Dec 2020          C/A ATM/TB TRANSFER CR   \n",
       "4           4  28 Dec 2020    28 Dec 2020          C/A ATM/TB TRANSFER CR   \n",
       "\n",
       "       Transaction Code Description Check Number  Debit Amount  Credit Amount  \n",
       "0  b8721910556ff4edcb0e4edb6706d172                       9.00            0.0  \n",
       "1  df94b7a048930cb39f61b885b3b4f9cf       605041          0.00          530.0  \n",
       "2  f1f009c83b019abbb3ea72ab1b728bd7      8576112          0.59            0.0  \n",
       "3  cc1f36f8edd8d54cd683e9eacb5a16e0       241151          0.00          300.0  \n",
       "4  ca3bccdf6f0f665d1fd71ff190c570a3       240928          0.00          985.0  "
      ]
     },
     "execution_count": 12,
     "metadata": {},
     "output_type": "execute_result"
    }
   ],
   "source": [
    "trans.head()"
   ]
  },
  {
   "cell_type": "markdown",
   "id": "blond-bearing",
   "metadata": {},
   "source": [
    "**Data Types within Dataset**"
   ]
  },
  {
   "cell_type": "markdown",
   "id": "english-store",
   "metadata": {},
   "source": [
    "In-order to effectively explore and work with the dataset, we must ensure that feature values consist of the corect data type. The posted date and effective date features should should consist of datetime values but currently contains string values. Similary, the check number column should consist of integer values but contains string values. These issues will be resolved in the data preparation stage."
   ]
  },
  {
   "cell_type": "code",
   "execution_count": 13,
   "id": "chicken-venue",
   "metadata": {},
   "outputs": [
    {
     "data": {
      "text/plain": [
       "Unnamed: 0                        int64\n",
       "Posted Date                      object\n",
       "Effective Date                   object\n",
       "Transaction Description          object\n",
       "Transaction Code Description     object\n",
       "Check Number                     object\n",
       "Debit Amount                    float64\n",
       "Credit Amount                   float64\n",
       "dtype: object"
      ]
     },
     "execution_count": 13,
     "metadata": {},
     "output_type": "execute_result"
    }
   ],
   "source": [
    "trans.dtypes"
   ]
  },
  {
   "cell_type": "markdown",
   "id": "instructional-customs",
   "metadata": {},
   "source": [
    "### Dataset Cleaning ###"
   ]
  },
  {
   "cell_type": "markdown",
   "id": "suburban-citizen",
   "metadata": {},
   "source": [
    "**Annonymize the Dataset**"
   ]
  },
  {
   "cell_type": "markdown",
   "id": "manufactured-palmer",
   "metadata": {},
   "source": [
    "It is extremely important to consider the privacy needs of TACT and any third parties whose personal indentifiable information (PII) is contained within the dataset. In particular the Transaction Code Description column contains the names of shareholders, employees, vendors and other third parties conducting business with TacT. In-order to maintain the privacy of these parties, the following steps have ALREADY been taken to annonymize the data;"
   ]
  },
  {
   "cell_type": "code",
   "execution_count": 14,
   "id": "colored-gardening",
   "metadata": {},
   "outputs": [],
   "source": [
    "#anon = Anonymize() #Initialize object\n",
    "#anon.transform(trans, ['Transaction Code Description'])\n",
    "#trans.to_csv('data/tact-bank-trans.csv')"
   ]
  },
  {
   "cell_type": "markdown",
   "id": "pleasant-insured",
   "metadata": {},
   "source": [
    "**Make Copy of Dataset**"
   ]
  },
  {
   "cell_type": "markdown",
   "id": "rising-distinction",
   "metadata": {},
   "source": [
    "In the following steps, various checks and changes will be made to the dataset. Prior to doing this, a copy of the original dataset will be made. This may come in handy for future reference."
   ]
  },
  {
   "cell_type": "code",
   "execution_count": 15,
   "id": "specific-rebate",
   "metadata": {},
   "outputs": [],
   "source": [
    "origtrans = trans.copy()"
   ]
  },
  {
   "cell_type": "markdown",
   "id": "frank-boating",
   "metadata": {},
   "source": [
    "**!Checking for Missing Values**"
   ]
  },
  {
   "cell_type": "markdown",
   "id": "distinguished-september",
   "metadata": {},
   "source": [
    "It is expected that the dataset will not contain any missing values. This is due to the fact that the dataset was downloaded from the Windward Island's Bank business banking platform. However to confirm, the following test is carried out."
   ]
  },
  {
   "cell_type": "code",
   "execution_count": 16,
   "id": "august-supplier",
   "metadata": {},
   "outputs": [],
   "source": [
    "# Function to check for missing values in columns\n",
    "def check_missing_values(df, columns):\n",
    "    pd.options.mode.use_inf_as_na = True\n",
    "    results = {}\n",
    "    try:\n",
    "        for column in columns:\n",
    "            booleans = list(df[column].isnull())\n",
    "            if True in booleans:\n",
    "                results[column] = ['missing values', len(df[column][booleans])]\n",
    "            else:\n",
    "                results[column] = 'no missing values'\n",
    "        return results\n",
    "    except ValueError as ve:\n",
    "        print('Please ensure columns values contain appropriate data type')"
   ]
  },
  {
   "cell_type": "code",
   "execution_count": 17,
   "id": "vulnerable-syracuse",
   "metadata": {},
   "outputs": [
    {
     "name": "stdout",
     "output_type": "stream",
     "text": [
      "{'Unnamed: 0': 'no missing values', 'Posted Date': 'no missing values', 'Effective Date': 'no missing values', 'Transaction Description': 'no missing values', 'Transaction Code Description': 'no missing values', 'Check Number': 'no missing values', 'Debit Amount': 'no missing values', 'Credit Amount': 'no missing values'}\n"
     ]
    }
   ],
   "source": [
    "print(check_missing_values(trans,trans.columns))"
   ]
  },
  {
   "cell_type": "markdown",
   "id": "attractive-woman",
   "metadata": {},
   "source": [
    "**Dealing with Zero Values**"
   ]
  },
  {
   "cell_type": "markdown",
   "id": "appreciated-knife",
   "metadata": {},
   "source": [
    "In the above step, a function was ran to ensure that the dataset did not contain missing values. However, inorder to properly calculate statistics (i.e. mean, standard deviation) for the Debit Amount and Credit Amount columns, it is import that zero values are change to NaN (i.e. not a number) values. "
   ]
  },
  {
   "cell_type": "code",
   "execution_count": 18,
   "id": "coordinate-tomato",
   "metadata": {},
   "outputs": [],
   "source": [
    "columns = ['Debit Amount', 'Credit Amount']\n",
    "trans[columns] = trans[columns].replace({0:np.nan})"
   ]
  },
  {
   "cell_type": "markdown",
   "id": "piano-illustration",
   "metadata": {},
   "source": [
    "The debit and credit columns now contains 125 and 172 missing values respectively."
   ]
  },
  {
   "cell_type": "code",
   "execution_count": 19,
   "id": "nuclear-distributor",
   "metadata": {},
   "outputs": [
    {
     "name": "stdout",
     "output_type": "stream",
     "text": [
      "{'Unnamed: 0': 'no missing values', 'Posted Date': 'no missing values', 'Effective Date': 'no missing values', 'Transaction Description': 'no missing values', 'Transaction Code Description': 'no missing values', 'Check Number': 'no missing values', 'Debit Amount': ['missing values', 125], 'Credit Amount': ['missing values', 172]}\n"
     ]
    }
   ],
   "source": [
    "print(check_missing_values(trans, trans.columns))"
   ]
  },
  {
   "cell_type": "markdown",
   "id": "local-hardwood",
   "metadata": {},
   "source": [
    "**!Checking For Empty Strings**"
   ]
  },
  {
   "cell_type": "markdown",
   "id": "arbitrary-playback",
   "metadata": {},
   "source": [
    "Although none of the columns has missing values, it is possible that they contain empty strings (e.g. \" \"). This is especially important for the 5 columns of the dataset that current contains string values."
   ]
  },
  {
   "cell_type": "code",
   "execution_count": 20,
   "id": "fancy-copper",
   "metadata": {},
   "outputs": [],
   "source": [
    "# Function to check for empty strings in columns\n",
    "def check_empty_strings(df, columns):\n",
    "    results = {}\n",
    "    try:\n",
    "        for column in columns:\n",
    "            values = list(df[column])\n",
    "            if ' ' in values:\n",
    "                results[column] = ['contains empty strings', len(df[df[column] == ' '])]\n",
    "            else:\n",
    "                results[column] = 'no empty strings'\n",
    "        return results\n",
    "    except ValueError as ve:\n",
    "        print('Column values passed to check_empty_strings function should contain only one element')"
   ]
  },
  {
   "cell_type": "markdown",
   "id": "democratic-penny",
   "metadata": {},
   "source": [
    "The check number feature contains 32 values that consist of empty strings."
   ]
  },
  {
   "cell_type": "code",
   "execution_count": 21,
   "id": "entitled-spell",
   "metadata": {},
   "outputs": [
    {
     "name": "stdout",
     "output_type": "stream",
     "text": [
      "{'Unnamed: 0': 'no empty strings', 'Posted Date': 'no empty strings', 'Effective Date': 'no empty strings', 'Transaction Description': 'no empty strings', 'Transaction Code Description': 'no empty strings', 'Check Number': ['contains empty strings', 32], 'Debit Amount': 'no empty strings', 'Credit Amount': 'no empty strings'}\n"
     ]
    }
   ],
   "source": [
    "print(check_empty_strings(trans, trans.columns))"
   ]
  },
  {
   "cell_type": "markdown",
   "id": "permanent-birthday",
   "metadata": {},
   "source": [
    "**Dealing with Empty Strings**"
   ]
  },
  {
   "cell_type": "code",
   "execution_count": 22,
   "id": "collected-insertion",
   "metadata": {},
   "outputs": [],
   "source": [
    "column = ['Check Number']\n",
    "trans[column] = trans[column].replace({' ':0})"
   ]
  },
  {
   "cell_type": "markdown",
   "id": "ideal-times",
   "metadata": {},
   "source": [
    "The check number column now has no empty strings."
   ]
  },
  {
   "cell_type": "code",
   "execution_count": 23,
   "id": "proprietary-input",
   "metadata": {},
   "outputs": [
    {
     "name": "stdout",
     "output_type": "stream",
     "text": [
      "{'Unnamed: 0': 'no empty strings', 'Posted Date': 'no empty strings', 'Effective Date': 'no empty strings', 'Transaction Description': 'no empty strings', 'Transaction Code Description': 'no empty strings', 'Check Number': 'no empty strings', 'Debit Amount': 'no empty strings', 'Credit Amount': 'no empty strings'}\n"
     ]
    }
   ],
   "source": [
    "print(check_empty_strings(trans, trans.columns))"
   ]
  },
  {
   "cell_type": "markdown",
   "id": "exterior-ivory",
   "metadata": {},
   "source": [
    "**Checking for Duplicate Values**"
   ]
  },
  {
   "cell_type": "markdown",
   "id": "aging-highlight",
   "metadata": {},
   "source": [
    "We would expect that each transaction within the dataset is unique and that there aren't any duplicates. A simple check is completed below to confirm this."
   ]
  },
  {
   "cell_type": "code",
   "execution_count": 24,
   "id": "unauthorized-savage",
   "metadata": {},
   "outputs": [
    {
     "name": "stdout",
     "output_type": "stream",
     "text": [
      "There are duplicate values in the dataset:  False\n"
     ]
    }
   ],
   "source": [
    "duplicateBooleans = list(origtrans.duplicated())\n",
    "print('There are duplicate values in the dataset: ', True in duplicateBooleans)"
   ]
  },
  {
   "cell_type": "markdown",
   "id": "reported-solid",
   "metadata": {},
   "source": [
    "**Converting Columns to Approriate Data Types**"
   ]
  },
  {
   "cell_type": "markdown",
   "id": "induced-justice",
   "metadata": {},
   "source": [
    "Below we convert the effective date and posted date columns to datetime values. This will make it possible to do timeseries analysis on the dataset."
   ]
  },
  {
   "cell_type": "code",
   "execution_count": 25,
   "id": "headed-humanitarian",
   "metadata": {},
   "outputs": [],
   "source": [
    "trans['Effective Date'] = pd.to_datetime(trans['Effective Date'], format='%d %b %Y')\n",
    "trans['Posted Date'] = pd.to_datetime(trans['Posted Date'], format='%d %b %Y')"
   ]
  },
  {
   "cell_type": "markdown",
   "id": "bridal-expression",
   "metadata": {},
   "source": [
    "We then convert the check number column to numeric values."
   ]
  },
  {
   "cell_type": "code",
   "execution_count": 26,
   "id": "stuffed-seminar",
   "metadata": {},
   "outputs": [],
   "source": [
    "trans['Check Number'] = trans['Check Number'].astype(int)"
   ]
  },
  {
   "cell_type": "markdown",
   "id": "pediatric-duncan",
   "metadata": {},
   "source": [
    "Below we see that columns are now in the appropriate data type."
   ]
  },
  {
   "cell_type": "code",
   "execution_count": 27,
   "id": "contemporary-clinic",
   "metadata": {
    "scrolled": true
   },
   "outputs": [
    {
     "data": {
      "text/plain": [
       "Unnamed: 0                               int64\n",
       "Posted Date                     datetime64[ns]\n",
       "Effective Date                  datetime64[ns]\n",
       "Transaction Description                 object\n",
       "Transaction Code Description            object\n",
       "Check Number                             int64\n",
       "Debit Amount                           float64\n",
       "Credit Amount                          float64\n",
       "dtype: object"
      ]
     },
     "execution_count": 27,
     "metadata": {},
     "output_type": "execute_result"
    }
   ],
   "source": [
    "trans.dtypes"
   ]
  },
  {
   "cell_type": "markdown",
   "id": "floating-courage",
   "metadata": {},
   "source": [
    "**Drop Unwanted Columns**"
   ]
  },
  {
   "cell_type": "markdown",
   "id": "sudden-dialogue",
   "metadata": {},
   "source": [
    "The Unnamed:0 column is a duplicate of the dataframe's rows index numbers. As such it will be dropped."
   ]
  },
  {
   "cell_type": "code",
   "execution_count": 28,
   "id": "silver-warehouse",
   "metadata": {},
   "outputs": [],
   "source": [
    "trans.drop(columns=['Unnamed: 0'], inplace=True)"
   ]
  },
  {
   "cell_type": "markdown",
   "id": "sophisticated-celebration",
   "metadata": {},
   "source": [
    "**Rename Columns for Easier Use**"
   ]
  },
  {
   "cell_type": "markdown",
   "id": "mighty-storage",
   "metadata": {},
   "source": [
    "Now that the columns data types have been set, I would like to rename the columns for better clarity and use."
   ]
  },
  {
   "cell_type": "code",
   "execution_count": 29,
   "id": "latter-validity",
   "metadata": {
    "scrolled": false
   },
   "outputs": [],
   "source": [
    "columnsDict = {'Posted Date': 'postdate', 'Effective Date': 'effectivedate', \n",
    "               'Transaction Description': 'type', 'Transaction Code Description': 'description',\n",
    "               'Check Number': 'number', 'Debit Amount': 'debitvalue', 'Credit Amount': 'creditvalue'}\n",
    "\n",
    "trans.rename(columns=columnsDict, inplace=True)\n"
   ]
  },
  {
   "cell_type": "markdown",
   "id": "married-marsh",
   "metadata": {},
   "source": [
    "### DataSet Transformation ###"
   ]
  },
  {
   "cell_type": "markdown",
   "id": "equipped-throat",
   "metadata": {},
   "source": [
    "In-order to obtain data that is more useful for exploratory analysis, I would like to create a new dataset from the existing one. This new dataset will summarize transactions per day. For each unique date **(i.e. postdate)**, I would like to identify the unique transaction types **(i.e. uniquetype)**, the number of unique transaction types **(i.e. numuniquetype)**, the number of debits **(i.e. numdebits)**, the number of credits **(i.e. numcredits)**, the total value of debits **(i.e. sumdebits)** and the total value of credits **(i.e. sumcredits)**. The difference between the total value of debits and credits per day will be calculated **(i.e. sumdiff)**. A check will then made to determine if a loan repayment is possible **(i.e. repayposs)** for each day. 1 indicates that repayment is possible (i.e. diffsum value is positive) and 0 indicates that repayment is not possible (i.e. diffsum value is positive). "
   ]
  },
  {
   "cell_type": "markdown",
   "id": "third-motor",
   "metadata": {},
   "source": [
    "**Copy Cleaned Dataset**"
   ]
  },
  {
   "cell_type": "markdown",
   "id": "qualified-evolution",
   "metadata": {},
   "source": [
    "Before the new dataset is created a copy of the existing cleaned dataset will be retained for future reference and analysis."
   ]
  },
  {
   "cell_type": "code",
   "execution_count": 30,
   "id": "incident-anatomy",
   "metadata": {},
   "outputs": [],
   "source": [
    "cleantrans = trans.copy()"
   ]
  },
  {
   "cell_type": "markdown",
   "id": "manufactured-vienna",
   "metadata": {},
   "source": [
    "**Generate New Dataset Values**"
   ]
  },
  {
   "cell_type": "code",
   "execution_count": 31,
   "id": "excessive-harassment",
   "metadata": {},
   "outputs": [],
   "source": [
    "postdate = trans['postdate'].unique()\n",
    "uniquetypes = trans.groupby('postdate')['type'].unique()\n",
    "numuniquetypes = uniquetypes.apply(len)\n",
    "numdebits = trans.groupby('postdate')['debitvalue'].count()\n",
    "numcredits = trans.groupby('postdate')['creditvalue'].count()\n",
    "sumdebits = trans.groupby('postdate')['debitvalue'].sum() \n",
    "sumcredits = trans.groupby('postdate')['creditvalue'].sum() \n",
    "sumdiff = sumcredits - sumdebits\n",
    "repayposs = (sumcredits > sumdebits).replace({False:0, True:1}) #Convert from boolean to numerical data type"
   ]
  },
  {
   "cell_type": "markdown",
   "id": "public-selling",
   "metadata": {},
   "source": [
    "**Introduce Scoring Value**"
   ]
  },
  {
   "cell_type": "markdown",
   "id": "premier-piano",
   "metadata": {},
   "source": [
    "I would also like to introduce a repayment scoring value to the dataset. This will be calculated using values in the sumdiff column and the following function;"
   ]
  },
  {
   "cell_type": "code",
   "execution_count": 32,
   "id": "funny-nickname",
   "metadata": {},
   "outputs": [],
   "source": [
    "def repayscore(sumdiff):\n",
    "    score = 0\n",
    "    if sumdiff <= 0:\n",
    "        return score\n",
    "    elif sumdiff > 0 and sumdiff <= 100:\n",
    "        score = 1\n",
    "        return score\n",
    "    elif sumdiff > 100 and sumdiff <= 500:\n",
    "        score = 2\n",
    "        return score\n",
    "    elif sumdiff > 500 and sumdiff <= 750:\n",
    "        score = 3\n",
    "        return score\n",
    "    elif sumdiff > 750 and sumdiff <= 1000:\n",
    "        score = 4\n",
    "        return score\n",
    "    else:\n",
    "        score = 5\n",
    "        return score"
   ]
  },
  {
   "cell_type": "markdown",
   "id": "exceptional-magazine",
   "metadata": {},
   "source": [
    "**Create Summarized DataSet**"
   ]
  },
  {
   "cell_type": "markdown",
   "id": "innovative-questionnaire",
   "metadata": {},
   "source": [
    "The columns to be included in the summarized datset include;\n",
    "<br>*postdate, uniquetype, numuniquetype, numdebits, numcredits, sumdebits, sumcredits, sumdiff, repayposs*"
   ]
  },
  {
   "cell_type": "code",
   "execution_count": 33,
   "id": "contemporary-brave",
   "metadata": {},
   "outputs": [],
   "source": [
    "sumdict = { 'uniquetypes' : uniquetypes,'numuniquetypes' : numuniquetypes,\n",
    "            'numdebits' : numdebits, 'numcredits' : numcredits, 'sumdebits' : sumdebits,\n",
    "            'sumcredits' : sumcredits, 'sumdiff' : sumdiff, 'repayposs' : repayposs}"
   ]
  },
  {
   "cell_type": "code",
   "execution_count": 34,
   "id": "pregnant-comparison",
   "metadata": {},
   "outputs": [],
   "source": [
    "sumtrans = pd.DataFrame(data=sumdict)"
   ]
  },
  {
   "cell_type": "code",
   "execution_count": 35,
   "id": "activated-parent",
   "metadata": {},
   "outputs": [],
   "source": [
    "sumtrans['repayscore'] = sumtrans['sumdiff'].apply(repayscore)"
   ]
  },
  {
   "cell_type": "markdown",
   "id": "dutch-murder",
   "metadata": {},
   "source": [
    "**Handle Zero Values in Sum Columns**"
   ]
  },
  {
   "cell_type": "markdown",
   "id": "sexual-battery",
   "metadata": {},
   "source": [
    "Inorder to remove the effect of zero values in calculating statistics (e.g. mean) for all numerical columns except numuniquetypes, repayposs and repayscore."
   ]
  },
  {
   "cell_type": "code",
   "execution_count": 36,
   "id": "occupational-puppy",
   "metadata": {},
   "outputs": [],
   "source": [
    "columns = ['numdebits','numcredits','sumdebits', 'sumcredits', 'sumdiff']\n",
    "sumtrans[columns] = sumtrans[columns].replace({0:np.nan})"
   ]
  },
  {
   "cell_type": "markdown",
   "id": "capital-scoop",
   "metadata": {},
   "source": [
    "**Check for Missing Values**"
   ]
  },
  {
   "cell_type": "markdown",
   "id": "existing-taylor",
   "metadata": {},
   "source": [
    "As expected the numdebits, numcredits, sumdebits, sumcredits and summdiff columns contain NaN values."
   ]
  },
  {
   "cell_type": "code",
   "execution_count": 37,
   "id": "fossil-challenge",
   "metadata": {
    "scrolled": true
   },
   "outputs": [
    {
     "name": "stdout",
     "output_type": "stream",
     "text": [
      "{'uniquetypes': 'no missing values', 'numuniquetypes': 'no missing values', 'numdebits': ['missing values', 45], 'numcredits': ['missing values', 50], 'sumdebits': ['missing values', 45], 'sumcredits': ['missing values', 50], 'sumdiff': ['missing values', 2], 'repayposs': 'no missing values', 'repayscore': 'no missing values'}\n"
     ]
    }
   ],
   "source": [
    "print(check_missing_values(sumtrans, sumtrans.columns))"
   ]
  },
  {
   "cell_type": "markdown",
   "id": "massive-officer",
   "metadata": {},
   "source": [
    "### DataSet Exploration ###"
   ]
  },
  {
   "cell_type": "markdown",
   "id": "lucky-mandate",
   "metadata": {},
   "source": [
    "Now that our data has been cleaned and transformed, it is ready for exploratory analysis. Even though the transformed dataset has fewer rows of data, it has richer features that can potentially help us draw useful insights. Beyond this, I would like to determine whether a larger dataset with the same features can be combined with machine learning techniques to build a model that can be used to determine the ability of SMEs to responsibly take on loans and meet repayment obligations. "
   ]
  },
  {
   "cell_type": "markdown",
   "id": "recent-chinese",
   "metadata": {},
   "source": [
    "**Key Descriptive Statistics**"
   ]
  },
  {
   "cell_type": "markdown",
   "id": "identical-printer",
   "metadata": {},
   "source": [
    "Let's begin by generating some key measures of location statistics. The below summary table shows that TACT had transactions on 134 days during 2020. This is just over one third (i.e. 37%) out of a possible 365 transaction days in a year. From the 134 days, on 89 days there were debits transactions and on 84 days there were credit transactions. The average of summed debit and credit transactions are US1,560 and US2,082. The standard deviations for both summed debit and credit transactions are quite large and warrant further analysis. In terms of repayment possibilities and scores TACT's performance looks promising. Based on the quartile percentages, on only 25% or 34 days out of the 134 days, TACT would not be able to make loan repayments as its outgoing payments (debits) exceeded it's incoming payments (credits). On 50% or 68 days out of the 134 days, TACT would be able to make a payment of US75 or less. "
   ]
  },
  {
   "cell_type": "code",
   "execution_count": 38,
   "id": "upset-myrtle",
   "metadata": {},
   "outputs": [
    {
     "data": {
      "text/html": [
       "<div>\n",
       "<style scoped>\n",
       "    .dataframe tbody tr th:only-of-type {\n",
       "        vertical-align: middle;\n",
       "    }\n",
       "\n",
       "    .dataframe tbody tr th {\n",
       "        vertical-align: top;\n",
       "    }\n",
       "\n",
       "    .dataframe thead th {\n",
       "        text-align: right;\n",
       "    }\n",
       "</style>\n",
       "<table border=\"1\" class=\"dataframe\">\n",
       "  <thead>\n",
       "    <tr style=\"text-align: right;\">\n",
       "      <th></th>\n",
       "      <th>numuniquetypes</th>\n",
       "      <th>numdebits</th>\n",
       "      <th>numcredits</th>\n",
       "      <th>sumdebits</th>\n",
       "      <th>sumcredits</th>\n",
       "      <th>sumdiff</th>\n",
       "      <th>repayposs</th>\n",
       "      <th>repayscore</th>\n",
       "    </tr>\n",
       "  </thead>\n",
       "  <tbody>\n",
       "    <tr>\n",
       "      <th>count</th>\n",
       "      <td>134.000000</td>\n",
       "      <td>89.000000</td>\n",
       "      <td>84.000000</td>\n",
       "      <td>89.000000</td>\n",
       "      <td>84.000000</td>\n",
       "      <td>132.000000</td>\n",
       "      <td>134.000000</td>\n",
       "      <td>134.000000</td>\n",
       "    </tr>\n",
       "    <tr>\n",
       "      <th>mean</th>\n",
       "      <td>1.544776</td>\n",
       "      <td>1.932584</td>\n",
       "      <td>1.488095</td>\n",
       "      <td>1560.905955</td>\n",
       "      <td>2082.410476</td>\n",
       "      <td>272.741288</td>\n",
       "      <td>0.529851</td>\n",
       "      <td>2.000000</td>\n",
       "    </tr>\n",
       "    <tr>\n",
       "      <th>std</th>\n",
       "      <td>0.800523</td>\n",
       "      <td>1.194664</td>\n",
       "      <td>0.768256</td>\n",
       "      <td>2386.506810</td>\n",
       "      <td>2320.425620</td>\n",
       "      <td>2684.883294</td>\n",
       "      <td>0.500981</td>\n",
       "      <td>2.190204</td>\n",
       "    </tr>\n",
       "    <tr>\n",
       "      <th>min</th>\n",
       "      <td>1.000000</td>\n",
       "      <td>1.000000</td>\n",
       "      <td>1.000000</td>\n",
       "      <td>0.590000</td>\n",
       "      <td>50.000000</td>\n",
       "      <td>-10780.370000</td>\n",
       "      <td>0.000000</td>\n",
       "      <td>0.000000</td>\n",
       "    </tr>\n",
       "    <tr>\n",
       "      <th>25%</th>\n",
       "      <td>1.000000</td>\n",
       "      <td>1.000000</td>\n",
       "      <td>1.000000</td>\n",
       "      <td>30.000000</td>\n",
       "      <td>506.250000</td>\n",
       "      <td>-433.890000</td>\n",
       "      <td>0.000000</td>\n",
       "      <td>0.000000</td>\n",
       "    </tr>\n",
       "    <tr>\n",
       "      <th>50%</th>\n",
       "      <td>1.000000</td>\n",
       "      <td>2.000000</td>\n",
       "      <td>1.000000</td>\n",
       "      <td>573.600000</td>\n",
       "      <td>1454.000000</td>\n",
       "      <td>75.500000</td>\n",
       "      <td>1.000000</td>\n",
       "      <td>1.000000</td>\n",
       "    </tr>\n",
       "    <tr>\n",
       "      <th>75%</th>\n",
       "      <td>2.000000</td>\n",
       "      <td>2.000000</td>\n",
       "      <td>2.000000</td>\n",
       "      <td>1918.000000</td>\n",
       "      <td>2565.687500</td>\n",
       "      <td>1449.597500</td>\n",
       "      <td>1.000000</td>\n",
       "      <td>5.000000</td>\n",
       "    </tr>\n",
       "    <tr>\n",
       "      <th>max</th>\n",
       "      <td>5.000000</td>\n",
       "      <td>7.000000</td>\n",
       "      <td>4.000000</td>\n",
       "      <td>10780.370000</td>\n",
       "      <td>13510.000000</td>\n",
       "      <td>11810.000000</td>\n",
       "      <td>1.000000</td>\n",
       "      <td>5.000000</td>\n",
       "    </tr>\n",
       "  </tbody>\n",
       "</table>\n",
       "</div>"
      ],
      "text/plain": [
       "       numuniquetypes  numdebits  numcredits     sumdebits    sumcredits  \\\n",
       "count      134.000000  89.000000   84.000000     89.000000     84.000000   \n",
       "mean         1.544776   1.932584    1.488095   1560.905955   2082.410476   \n",
       "std          0.800523   1.194664    0.768256   2386.506810   2320.425620   \n",
       "min          1.000000   1.000000    1.000000      0.590000     50.000000   \n",
       "25%          1.000000   1.000000    1.000000     30.000000    506.250000   \n",
       "50%          1.000000   2.000000    1.000000    573.600000   1454.000000   \n",
       "75%          2.000000   2.000000    2.000000   1918.000000   2565.687500   \n",
       "max          5.000000   7.000000    4.000000  10780.370000  13510.000000   \n",
       "\n",
       "            sumdiff   repayposs  repayscore  \n",
       "count    132.000000  134.000000  134.000000  \n",
       "mean     272.741288    0.529851    2.000000  \n",
       "std     2684.883294    0.500981    2.190204  \n",
       "min   -10780.370000    0.000000    0.000000  \n",
       "25%     -433.890000    0.000000    0.000000  \n",
       "50%       75.500000    1.000000    1.000000  \n",
       "75%     1449.597500    1.000000    5.000000  \n",
       "max    11810.000000    1.000000    5.000000  "
      ]
     },
     "execution_count": 38,
     "metadata": {},
     "output_type": "execute_result"
    }
   ],
   "source": [
    "sumtrans.describe()"
   ]
  },
  {
   "cell_type": "markdown",
   "id": "passive-vehicle",
   "metadata": {},
   "source": [
    "**Plot Distribution Function**"
   ]
  },
  {
   "cell_type": "markdown",
   "id": "abandoned-arabic",
   "metadata": {},
   "source": [
    "A function is defined below to show the distribution of a range of values."
   ]
  },
  {
   "cell_type": "code",
   "execution_count": 39,
   "id": "minor-march",
   "metadata": {},
   "outputs": [],
   "source": [
    "def plot_distribution(x):\n",
    "    plt.hist(x)\n",
    "    plt.axvline(np.nanmean(x), color='k', linestyle='dashed', label = 'Mean',linewidth=1)\n",
    "    plt.axvline(np.nanmedian(x), color='r', linestyle='dashed', label = 'Median',linewidth=1)\n",
    "    std_dev = np.nanstd(x)\n",
    "    plt.axvline(np.nanmean(x)+std_dev, color='b', linestyle='dashed', label = 'Mean +/- STD',linewidth=1)\n",
    "    plt.axvline(np.nanmean(x)-std_dev, color='b', linestyle='dashed', linewidth=1)\n",
    "    plt.ylabel('Counts')\n",
    "    plt.xlabel(x.name)\n",
    "    plt.legend(loc='best')\n",
    "    return plt.show()\n"
   ]
  },
  {
   "cell_type": "markdown",
   "id": "honey-frequency",
   "metadata": {},
   "source": [
    "**Distribution of Summed Debits & Credits**"
   ]
  },
  {
   "cell_type": "markdown",
   "id": "extensive-petersburg",
   "metadata": {},
   "source": [
    "Below we can see that the summed debits does not follow a normal distribution. Instead the distribution is skewed with a long right tail. This means that even though 50% of summed debits are US573 or less, the average is being increased due to larger values. Similarly summed credits values also display a skewed right tailed distribution. However, the average of the summed credit values is closer to it's middle or median value compared to the summed debit values. It is important to remember that the data currently being analyzed is for 1 single company. In the second stage of this project transactions from other companies will also be included and analyzed. "
   ]
  },
  {
   "cell_type": "code",
   "execution_count": 40,
   "id": "strong-willow",
   "metadata": {},
   "outputs": [
    {
     "data": {
      "image/png": "[encoded data removed]",
      "text/plain": [
       "<Figure size 432x288 with 1 Axes>"
      ]
     },
     "metadata": {
      "needs_background": "light"
     },
     "output_type": "display_data"
    },
    {
     "data": {
      "image/png": "[encoded data removed]",
      "text/plain": [
       "<Figure size 432x288 with 1 Axes>"
      ]
     },
     "metadata": {
      "needs_background": "light"
     },
     "output_type": "display_data"
    }
   ],
   "source": [
    "plot_distribution(sumtrans['sumdebits'])\n",
    "plot_distribution(sumtrans['sumcredits'])"
   ]
  },
  {
   "cell_type": "markdown",
   "id": "opened-insight",
   "metadata": {},
   "source": [
    "**Distribution of Number of Debits and Credits**"
   ]
  },
  {
   "cell_type": "markdown",
   "id": "collectible-nightlife",
   "metadata": {},
   "source": [
    "The histrograms below show that both the number of debits per day and number of credits per day values approximate a skewed distribution with a long right tail. For the number of debits values, the mean and the median are almost the same. For the number of credit values, there is a larger difference between the mean and the median."
   ]
  },
  {
   "cell_type": "code",
   "execution_count": 41,
   "id": "chronic-emphasis",
   "metadata": {},
   "outputs": [
    {
     "data": {
      "image/png": "[encoded data removed]",
      "text/plain": [
       "<Figure size 432x288 with 1 Axes>"
      ]
     },
     "metadata": {
      "needs_background": "light"
     },
     "output_type": "display_data"
    },
    {
     "data": {
      "image/png": "[encoded data removed]",
      "text/plain": [
       "<Figure size 432x288 with 1 Axes>"
      ]
     },
     "metadata": {
      "needs_background": "light"
     },
     "output_type": "display_data"
    }
   ],
   "source": [
    "plot_distribution(sumtrans['numdebits'])\n",
    "plot_distribution(sumtrans['numcredits'])"
   ]
  },
  {
   "cell_type": "markdown",
   "id": "reduced-assistant",
   "metadata": {},
   "source": [
    "**Distribution of Summed Differences**"
   ]
  },
  {
   "cell_type": "markdown",
   "id": "sound-tunnel",
   "metadata": {},
   "source": [
    "As expected, the summed difference values approximate the shape of a normal distribution. "
   ]
  },
  {
   "cell_type": "code",
   "execution_count": 42,
   "id": "secure-weekend",
   "metadata": {},
   "outputs": [
    {
     "data": {
      "image/png": "[encoded data removed]",
      "text/plain": [
       "<Figure size 432x288 with 1 Axes>"
      ]
     },
     "metadata": {
      "needs_background": "light"
     },
     "output_type": "display_data"
    }
   ],
   "source": [
    "plot_distribution(sumtrans['sumdiff'])"
   ]
  },
  {
   "cell_type": "markdown",
   "id": "focal-roads",
   "metadata": {},
   "source": [
    "**Calculation of Trimmed Mean**"
   ]
  },
  {
   "cell_type": "markdown",
   "id": "russian-trainer",
   "metadata": {},
   "source": [
    "Earlier we saw that the averages or means of the summed debits and credit transactions were being increased due to large outlier values. This is confirmed below by calculating the trimmed means for both sets of values."
   ]
  },
  {
   "cell_type": "code",
   "execution_count": 43,
   "id": "adolescent-bracket",
   "metadata": {},
   "outputs": [
    {
     "name": "stdout",
     "output_type": "stream",
     "text": [
      "The mean of summed debits is 1560.90595505618\n",
      "The trimmed mean of summed debits is 1066.5623287671233\n",
      "\n",
      "\n",
      "The mean of summed credits is 2082.410476190476\n",
      "The trimmed mean of summed credits is 1683.6100000000001\n"
     ]
    }
   ],
   "source": [
    "sumdebitnumbers = [x for x in sumtrans['sumdebits'].replace({np.nan:0}) if x != 0]\n",
    "sumcreditnumbers = [x for x in sumtrans['sumcredits'].replace({np.nan:0}) if x != 0]\n",
    "\n",
    "print('The mean of summed debits is', np.nanmean(sumtrans['sumdebits']))\n",
    "print('The trimmed mean of summed debits is',stats.trim_mean(sumdebitnumbers, 0.1))\n",
    "print('\\n')\n",
    "print('The mean of summed credits is', np.nanmean(sumtrans['sumcredits']))\n",
    "print('The trimmed mean of summed credits is',stats.trim_mean(sumcreditnumbers, 0.1))"
   ]
  },
  {
   "cell_type": "markdown",
   "id": "moderate-infrastructure",
   "metadata": {},
   "source": [
    "**Identifying Correlation Between Values**"
   ]
  },
  {
   "cell_type": "markdown",
   "id": "approved-sweet",
   "metadata": {},
   "source": [
    "In addition to understanding the distribution of values contained within the dataset, I would also like to check if there is any correlation between these values. Looking forward to the next step in this project, I'm interested in whether the numuniquetypes, numdebits, numcredits and repayposs columns (i.e. predictors variables) can be used to predict values in the repayscore column (i.e. outcome variables). Clearly correlation does not equal causation, however a good degree of correlation between the key variable might indicate application of a linear regression machine learning modeling could be feasible. "
   ]
  },
  {
   "cell_type": "code",
   "execution_count": 44,
   "id": "strategic-devon",
   "metadata": {},
   "outputs": [
    {
     "data": {
      "text/html": [
       "<div>\n",
       "<style scoped>\n",
       "    .dataframe tbody tr th:only-of-type {\n",
       "        vertical-align: middle;\n",
       "    }\n",
       "\n",
       "    .dataframe tbody tr th {\n",
       "        vertical-align: top;\n",
       "    }\n",
       "\n",
       "    .dataframe thead th {\n",
       "        text-align: right;\n",
       "    }\n",
       "</style>\n",
       "<table border=\"1\" class=\"dataframe\">\n",
       "  <thead>\n",
       "    <tr style=\"text-align: right;\">\n",
       "      <th></th>\n",
       "      <th>numuniquetypes</th>\n",
       "      <th>numdebits</th>\n",
       "      <th>numcredits</th>\n",
       "      <th>sumdebits</th>\n",
       "      <th>sumcredits</th>\n",
       "      <th>sumdiff</th>\n",
       "      <th>repayposs</th>\n",
       "      <th>repayscore</th>\n",
       "    </tr>\n",
       "  </thead>\n",
       "  <tbody>\n",
       "    <tr>\n",
       "      <th>numuniquetypes</th>\n",
       "      <td>1.000000</td>\n",
       "      <td>0.163358</td>\n",
       "      <td>0.617100</td>\n",
       "      <td>0.247482</td>\n",
       "      <td>0.351529</td>\n",
       "      <td>0.126803</td>\n",
       "      <td>0.174747</td>\n",
       "      <td>0.222994</td>\n",
       "    </tr>\n",
       "    <tr>\n",
       "      <th>numdebits</th>\n",
       "      <td>0.163358</td>\n",
       "      <td>1.000000</td>\n",
       "      <td>0.016555</td>\n",
       "      <td>0.633110</td>\n",
       "      <td>0.125810</td>\n",
       "      <td>-0.466109</td>\n",
       "      <td>-0.150737</td>\n",
       "      <td>-0.119482</td>\n",
       "    </tr>\n",
       "    <tr>\n",
       "      <th>numcredits</th>\n",
       "      <td>0.617100</td>\n",
       "      <td>0.016555</td>\n",
       "      <td>1.000000</td>\n",
       "      <td>0.074280</td>\n",
       "      <td>0.461777</td>\n",
       "      <td>0.310107</td>\n",
       "      <td>0.057982</td>\n",
       "      <td>0.257525</td>\n",
       "    </tr>\n",
       "    <tr>\n",
       "      <th>sumdebits</th>\n",
       "      <td>0.247482</td>\n",
       "      <td>0.633110</td>\n",
       "      <td>0.074280</td>\n",
       "      <td>1.000000</td>\n",
       "      <td>0.394179</td>\n",
       "      <td>-0.627368</td>\n",
       "      <td>-0.148147</td>\n",
       "      <td>-0.107756</td>\n",
       "    </tr>\n",
       "    <tr>\n",
       "      <th>sumcredits</th>\n",
       "      <td>0.351529</td>\n",
       "      <td>0.125810</td>\n",
       "      <td>0.461777</td>\n",
       "      <td>0.394179</td>\n",
       "      <td>1.000000</td>\n",
       "      <td>0.659764</td>\n",
       "      <td>0.086936</td>\n",
       "      <td>0.448111</td>\n",
       "    </tr>\n",
       "    <tr>\n",
       "      <th>sumdiff</th>\n",
       "      <td>0.126803</td>\n",
       "      <td>-0.466109</td>\n",
       "      <td>0.310107</td>\n",
       "      <td>-0.627368</td>\n",
       "      <td>0.659764</td>\n",
       "      <td>1.000000</td>\n",
       "      <td>0.614828</td>\n",
       "      <td>0.700306</td>\n",
       "    </tr>\n",
       "    <tr>\n",
       "      <th>repayposs</th>\n",
       "      <td>0.174747</td>\n",
       "      <td>-0.150737</td>\n",
       "      <td>0.057982</td>\n",
       "      <td>-0.148147</td>\n",
       "      <td>0.086936</td>\n",
       "      <td>0.614828</td>\n",
       "      <td>1.000000</td>\n",
       "      <td>0.863402</td>\n",
       "    </tr>\n",
       "    <tr>\n",
       "      <th>repayscore</th>\n",
       "      <td>0.222994</td>\n",
       "      <td>-0.119482</td>\n",
       "      <td>0.257525</td>\n",
       "      <td>-0.107756</td>\n",
       "      <td>0.448111</td>\n",
       "      <td>0.700306</td>\n",
       "      <td>0.863402</td>\n",
       "      <td>1.000000</td>\n",
       "    </tr>\n",
       "  </tbody>\n",
       "</table>\n",
       "</div>"
      ],
      "text/plain": [
       "                numuniquetypes  numdebits  numcredits  sumdebits  sumcredits  \\\n",
       "numuniquetypes        1.000000   0.163358    0.617100   0.247482    0.351529   \n",
       "numdebits             0.163358   1.000000    0.016555   0.633110    0.125810   \n",
       "numcredits            0.617100   0.016555    1.000000   0.074280    0.461777   \n",
       "sumdebits             0.247482   0.633110    0.074280   1.000000    0.394179   \n",
       "sumcredits            0.351529   0.125810    0.461777   0.394179    1.000000   \n",
       "sumdiff               0.126803  -0.466109    0.310107  -0.627368    0.659764   \n",
       "repayposs             0.174747  -0.150737    0.057982  -0.148147    0.086936   \n",
       "repayscore            0.222994  -0.119482    0.257525  -0.107756    0.448111   \n",
       "\n",
       "                 sumdiff  repayposs  repayscore  \n",
       "numuniquetypes  0.126803   0.174747    0.222994  \n",
       "numdebits      -0.466109  -0.150737   -0.119482  \n",
       "numcredits      0.310107   0.057982    0.257525  \n",
       "sumdebits      -0.627368  -0.148147   -0.107756  \n",
       "sumcredits      0.659764   0.086936    0.448111  \n",
       "sumdiff         1.000000   0.614828    0.700306  \n",
       "repayposs       0.614828   1.000000    0.863402  \n",
       "repayscore      0.700306   0.863402    1.000000  "
      ]
     },
     "execution_count": 44,
     "metadata": {},
     "output_type": "execute_result"
    }
   ],
   "source": [
    "sumtrans.corr()"
   ]
  },
  {
   "cell_type": "markdown",
   "id": "assured-reach",
   "metadata": {},
   "source": [
    "The below correlation matrix shows that there is a strong positive correlation (i.e. 0.86) between repayment possibility and repayment score values. However aside from that, there is actually weak positive correlation between the repayment possibility score values and the previously identified predictor values. This is making me question my thinking on how to create a machine learning model in the next stage of this project. Perhaphs a better approach might be to classify the summed difference values into clusters using a k-means algorithm and determine their repayscore depending on which cluster they are closest to. We can then analyze the common features of summed transactions in each cluster. This is essentially the opposite of my current approach of arbitrarily imposing my own scoring value on the dataset. With that said it may be still worth while to perform multi regression analysis using the previously identified predictor values to determine the repayment ability score value."
   ]
  },
  {
   "cell_type": "code",
   "execution_count": 45,
   "id": "terminal-carbon",
   "metadata": {},
   "outputs": [
    {
     "data": {
      "image/png": "[encoded data removed]",
      "text/plain": [
       "<Figure size 648x648 with 2 Axes>"
      ]
     },
     "metadata": {
      "needs_background": "light"
     },
     "output_type": "display_data"
    }
   ],
   "source": [
    "plt.figure(figsize=(9,9))\n",
    "sns.heatmap(np.abs(sumtrans.corr()), annot=True, cmap=\"viridis\", fmt=\"0.2f\");"
   ]
  },
  {
   "cell_type": "markdown",
   "id": "honey-silence",
   "metadata": {},
   "source": [
    "**Standardize Dataset Values**\n"
   ]
  },
  {
   "cell_type": "markdown",
   "id": "posted-transcript",
   "metadata": {},
   "source": [
    "In the next stage of this project, my aim is to apply machine learning algorithms (e.g. K-means clustering, multiple linear regression) to a larger dataset in-order to build a repayment score categorization model. In anticipation of this, I would need to standardize the values contained with the dataset. This is particulary important for dealing with and comparing data variables that use difference measurements of scale. "
   ]
  },
  {
   "cell_type": "code",
   "execution_count": 46,
   "id": "reasonable-anatomy",
   "metadata": {},
   "outputs": [],
   "source": [
    "def standardize(values):\n",
    "    \"\"\"Returns a copy of array with standardized values\"\"\"\n",
    "    try:\n",
    "        mean = np.nanmean(values)\n",
    "        std = np.nanstd(values)\n",
    "        centreValues = values.apply(lambda v: (v-mean)/std)\n",
    "        return centreValues\n",
    "    except ValueError as ve:\n",
    "        print('Column values passed to standardize function should contain only one element')"
   ]
  },
  {
   "cell_type": "code",
   "execution_count": 47,
   "id": "broad-ferry",
   "metadata": {},
   "outputs": [],
   "source": [
    "standtrans = sumtrans.copy()"
   ]
  },
  {
   "cell_type": "code",
   "execution_count": 48,
   "id": "sophisticated-plane",
   "metadata": {},
   "outputs": [],
   "source": [
    "for col in standtrans.columns[1:]:\n",
    "    standtrans[col] = standardize(standtrans[col])"
   ]
  },
  {
   "cell_type": "code",
   "execution_count": 49,
   "id": "literary-worker",
   "metadata": {},
   "outputs": [
    {
     "data": {
      "text/html": [
       "<div>\n",
       "<style scoped>\n",
       "    .dataframe tbody tr th:only-of-type {\n",
       "        vertical-align: middle;\n",
       "    }\n",
       "\n",
       "    .dataframe tbody tr th {\n",
       "        vertical-align: top;\n",
       "    }\n",
       "\n",
       "    .dataframe thead th {\n",
       "        text-align: right;\n",
       "    }\n",
       "</style>\n",
       "<table border=\"1\" class=\"dataframe\">\n",
       "  <thead>\n",
       "    <tr style=\"text-align: right;\">\n",
       "      <th></th>\n",
       "      <th>uniquetypes</th>\n",
       "      <th>numuniquetypes</th>\n",
       "      <th>numdebits</th>\n",
       "      <th>numcredits</th>\n",
       "      <th>sumdebits</th>\n",
       "      <th>sumcredits</th>\n",
       "      <th>sumdiff</th>\n",
       "      <th>repayposs</th>\n",
       "      <th>repayscore</th>\n",
       "    </tr>\n",
       "    <tr>\n",
       "      <th>postdate</th>\n",
       "      <th></th>\n",
       "      <th></th>\n",
       "      <th></th>\n",
       "      <th></th>\n",
       "      <th></th>\n",
       "      <th></th>\n",
       "      <th></th>\n",
       "      <th></th>\n",
       "      <th></th>\n",
       "    </tr>\n",
       "  </thead>\n",
       "  <tbody>\n",
       "    <tr>\n",
       "      <th>2020-01-02</th>\n",
       "      <td>[DEBIT NOTE]</td>\n",
       "      <td>-0.683079</td>\n",
       "      <td>0.056750</td>\n",
       "      <td>NaN</td>\n",
       "      <td>-0.416047</td>\n",
       "      <td>NaN</td>\n",
       "      <td>-0.316425</td>\n",
       "      <td>-1.061595</td>\n",
       "      <td>-0.916584</td>\n",
       "    </tr>\n",
       "    <tr>\n",
       "      <th>2020-01-03</th>\n",
       "      <td>[DEBIT NOTE, C/A ATM/TB TRANSFER CR]</td>\n",
       "      <td>0.570792</td>\n",
       "      <td>0.898549</td>\n",
       "      <td>-0.639144</td>\n",
       "      <td>-0.558058</td>\n",
       "      <td>-0.657864</td>\n",
       "      <td>0.020809</td>\n",
       "      <td>0.941979</td>\n",
       "      <td>0.000000</td>\n",
       "    </tr>\n",
       "    <tr>\n",
       "      <th>2020-01-06</th>\n",
       "      <td>[CUSTOMER DEPOSIT]</td>\n",
       "      <td>-0.683079</td>\n",
       "      <td>NaN</td>\n",
       "      <td>-0.639144</td>\n",
       "      <td>NaN</td>\n",
       "      <td>0.089999</td>\n",
       "      <td>0.754202</td>\n",
       "      <td>0.941979</td>\n",
       "      <td>1.374875</td>\n",
       "    </tr>\n",
       "    <tr>\n",
       "      <th>2020-01-07</th>\n",
       "      <td>[CREDIT NOTE, CUSTOMER DEPOSIT]</td>\n",
       "      <td>0.570792</td>\n",
       "      <td>NaN</td>\n",
       "      <td>0.670322</td>\n",
       "      <td>NaN</td>\n",
       "      <td>0.198385</td>\n",
       "      <td>0.847670</td>\n",
       "      <td>0.941979</td>\n",
       "      <td>1.374875</td>\n",
       "    </tr>\n",
       "    <tr>\n",
       "      <th>2020-01-09</th>\n",
       "      <td>[C/A ATM/TB BILL PAYMENT DT]</td>\n",
       "      <td>-0.683079</td>\n",
       "      <td>-0.785048</td>\n",
       "      <td>NaN</td>\n",
       "      <td>-0.236364</td>\n",
       "      <td>NaN</td>\n",
       "      <td>-0.475846</td>\n",
       "      <td>-1.061595</td>\n",
       "      <td>-0.916584</td>\n",
       "    </tr>\n",
       "  </tbody>\n",
       "</table>\n",
       "</div>"
      ],
      "text/plain": [
       "                                     uniquetypes  numuniquetypes  numdebits  \\\n",
       "postdate                                                                      \n",
       "2020-01-02                          [DEBIT NOTE]       -0.683079   0.056750   \n",
       "2020-01-03  [DEBIT NOTE, C/A ATM/TB TRANSFER CR]        0.570792   0.898549   \n",
       "2020-01-06                    [CUSTOMER DEPOSIT]       -0.683079        NaN   \n",
       "2020-01-07       [CREDIT NOTE, CUSTOMER DEPOSIT]        0.570792        NaN   \n",
       "2020-01-09          [C/A ATM/TB BILL PAYMENT DT]       -0.683079  -0.785048   \n",
       "\n",
       "            numcredits  sumdebits  sumcredits   sumdiff  repayposs  repayscore  \n",
       "postdate                                                                        \n",
       "2020-01-02         NaN  -0.416047         NaN -0.316425  -1.061595   -0.916584  \n",
       "2020-01-03   -0.639144  -0.558058   -0.657864  0.020809   0.941979    0.000000  \n",
       "2020-01-06   -0.639144        NaN    0.089999  0.754202   0.941979    1.374875  \n",
       "2020-01-07    0.670322        NaN    0.198385  0.847670   0.941979    1.374875  \n",
       "2020-01-09         NaN  -0.236364         NaN -0.475846  -1.061595   -0.916584  "
      ]
     },
     "execution_count": 49,
     "metadata": {},
     "output_type": "execute_result"
    }
   ],
   "source": [
    "standtrans.head()"
   ]
  },
  {
   "cell_type": "markdown",
   "id": "suburban-gregory",
   "metadata": {},
   "source": [
    "### Conclusion and Further Work ###"
   ]
  },
  {
   "cell_type": "markdown",
   "id": "encouraging-switch",
   "metadata": {},
   "source": [
    "**Summary**\n",
    "<br>With this project proposal, I began to explore the idea of developing a credit risk model that is robust enough to measure and score the financial ability and responsibility of SMEs in the Caribbean Netherlands. If successfully developed, this model could potentially be used to make it easier for SMEs in the Caribbean Netherlands to obtain business loans and financing. For this project proposal, I used bank transactions data from my own business TacT. The data was annonymized, cleaned and transformed before performing exploratory analysis. The initial analysis of the dataset perhaphs raised more questions than it answered for me. Below I highlight some the future work and research needed as this project continues;\n",
    "\n",
    "**Further Research Required**\n",
    "<br>1. During the data transformation step, I created an abitrary repayment ability score from 1 - 5. The greater the difference of cash remaining from transactions on a particular day (i.e. summed credits minus debits), the higher the score given. However, further data and research is needed to identify what constitues \"good\" vs \"bad\"  repayment ability and what scoring scale would be most appropriate to use for SMEs in the Caribbean Netherlands. Further research might involve finding out what criteria banks and lending institutions in the Caribbean Netherlands currently use the determine the creditworthiness of SMEs.\n",
    "<br>\n",
    "<br>2. In the next stage of this project I would like to attempt building a machine learning model that can best identify and score the repayment ability of SMEs. Two machine learning techniques that I think would be appropriate are K-means clustering and multiple linear regression analysis. Further research is needed to identify the suitability of these two algorithms for the task at hand.\n",
    "<br>\n",
    "<br>3. Finally, I would also like to research external data sources that can be accessed and used to provide more contextual information about a SME and its financial transactions. This will be driven primarily by the above two research questions. This may also allow for a more fairer view of a SME's financial performance. I'm particularly thinking about businesses that perform many of their financial transactions using cash.\n",
    "\n",
    "**Further Work Required**\n",
    "<br>1. One key area of improvement is to obtain a larger dataset with transactions from several companies. I will need to carefully consider how to legally acquire and handle this data in accordance with privacy laws and ethical best practises. A larger dataset would allow for building a better credit scoring model that encompasses a wider range of SME's financial transactions. This will ensure that the data I work with and any subsequent model built is not biased. \n",
    "<br>\n",
    "<br>2. Looking forward, I would also like to make use of the text and datetime data values within the dataset. For example categorical text values in the uniquetypes column could be converted into numerical values. This will make it easier to use this data as an independent input variable using multiple linear regression analysis for example.\n",
    "<br>\n"
   ]
  },
  {
   "cell_type": "markdown",
   "id": "connected-joshua",
   "metadata": {},
   "source": [
    "### Resources ###"
   ]
  },
  {
   "cell_type": "markdown",
   "id": "neutral-theory",
   "metadata": {},
   "source": [
    "The following resources were accessed during the preparation of this project proposal;\n",
    "<br>\n",
    "<br>Brock, T (2021, 8 April), Credit Scoring. Available at: https://www.investopedia.com/terms/c/credit_scoring.asp Accessed 13th June 2021\n",
    "<br>\n",
    "<br>Bruce, Bruce and Gedeck (2020). Practical Statistics for Data Scientists 2nd edition. Boston: O'Reilly\n",
    "<br>\n",
    "<br>Summerfield, M (2010). Programming in Python 3: A Complete Introduction to the Python Language 2nd edition. Addison-Welsey\n",
    "<br>\n",
    "<br>McKinney, W. (2017). Python for Data Analysis 2nd edition. Boston: O'Reilly\n",
    "<br>\n",
    "<br>OECD, (2020, 15th July), Coronavirus (COVID-19): SME policy responses. Available at: https://www.oecd.org/coronavirus/policy-responses/coronavirus-covid-19-sme-policy-responses-04440101/ Accessed 3rd June 2021\n",
    "<br>\n",
    "<br>Sweet, K, (2017, 22 April), Major Changes Coming To How Your Credit Score Is Calculated. Available at: https://www.usatoday.com/story/money/personalfinance/2017/04/22/major-changes-coming-how-your-credit-score-calculated/100653342/ Accessed 5th June 2021\n"
   ]
  }
 ],
 "metadata": {
  "kernelspec": {
   "display_name": "Python 3 (ipykernel)",
   "language": "python",
   "name": "python3"
  },
  "language_info": {
   "codemirror_mode": {
    "name": "ipython",
    "version": 3
   },
   "file_extension": ".py",
   "mimetype": "text/x-python",
   "name": "python",
   "nbconvert_exporter": "python",
   "pygments_lexer": "ipython3",
   "version": "3.9.7"
  }
 },
 "nbformat": 4,
 "nbformat_minor": 5
}
