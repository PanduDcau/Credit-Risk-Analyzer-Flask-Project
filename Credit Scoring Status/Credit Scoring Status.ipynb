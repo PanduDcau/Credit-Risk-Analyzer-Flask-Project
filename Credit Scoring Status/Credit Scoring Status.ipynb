{
 "cells": [
  {
   "cell_type": "markdown",
   "metadata": {
    "pycharm": {
     "name": "#%% md\n"
    }
   },
   "source": [
    "# Exploratory Data Analysis - Preparing for one of the top performing models\n",
    "\n",
    "In this notebook, an exploratory data analysis is performed on Give Me Some Credit's training set and preprocessing steps will be listed. These preprocessing steps will be the preparatory work for training a XGBoost model on the dataset, which is able to attain private and public scores of **0.86756** and **0.86104** respectively. The private and public scores are ranked top 100 and top 130 respectively (at the point of time of submitting this notebook).\n",
    "\n",
    "More comprehensive README and Python scripts can be found at \n",
    "\n",
    "https://github.com/nicholaslaw/kaggle-credit-scoring\n",
    "\n",
    "## Table of Contents\n",
    "\n",
    "1. [Import Packages](#1)\n",
    "2. [Import Data](#2)\n",
    "3. [EDA](#3)\n",
    "4. [Preprocessing Suggestions](#4)\n",
    "5. [References](#5)"
   ]
  },
  {
   "cell_type": "markdown",
   "metadata": {
    "pycharm": {
     "name": "#%% md\n"
    }
   },
   "source": [
    "## Import Packages <a class=\"anchor\" id=\"1\"></a>"
   ]
  },
  {
   "cell_type": "code",
   "execution_count": null,
   "metadata": {
    "_cell_guid": "b1076dfc-b9ad-4769-8c92-a6c4dae69d19",
    "_uuid": "8f2839f25d086af736a60e9eeb907d3b93b6e0e5",
    "pycharm": {
     "name": "#%%\n",
     "is_executing": true
    }
   },
   "outputs": [],
   "source": [
    "import numpy as np \n",
    "import pandas as pd \n",
    "import matplotlib.pyplot as plt\n",
    "import seaborn as sns\n",
    "%matplotlib inline\n",
    "import os\n",
    "# for dirname, _, filenames in os.walk('/input'):\n",
    "#     for filename in filenames:\n",
    "#         print(os.path.join(dirname, filename))"
   ]
  },
  {
   "cell_type": "markdown",
   "metadata": {
    "pycharm": {
     "name": "#%% md\n"
    }
   },
   "source": [
    "## Import Data <a class=\"anchor\" id=\"2\"></a>"
   ]
  },
  {
   "cell_type": "code",
   "execution_count": 2,
   "metadata": {
    "_cell_guid": "79c7e3d0-c299-4dcb-8224-4455121ee9b0",
    "_uuid": "d629ff2d2480ee46fbb7e2d37f6b5fab8052498a",
    "pycharm": {
     "name": "#%%\n"
    }
   },
   "outputs": [
    {
     "data": {
      "text/html": [
       "<div>\n",
       "<style scoped>\n",
       "    .dataframe tbody tr th:only-of-type {\n",
       "        vertical-align: middle;\n",
       "    }\n",
       "\n",
       "    .dataframe tbody tr th {\n",
       "        vertical-align: top;\n",
       "    }\n",
       "\n",
       "    .dataframe thead th {\n",
       "        text-align: right;\n",
       "    }\n",
       "</style>\n",
       "<table border=\"1\" class=\"dataframe\">\n",
       "  <thead>\n",
       "    <tr style=\"text-align: right;\">\n",
       "      <th></th>\n",
       "      <th>Unnamed: 0</th>\n",
       "      <th>SeriousDlqin2yrs</th>\n",
       "      <th>RevolvingUtilizationOfUnsecuredLines</th>\n",
       "      <th>age</th>\n",
       "      <th>NumberOfTime30-59DaysPastDueNotWorse</th>\n",
       "      <th>DebtRatio</th>\n",
       "      <th>MonthlyIncome</th>\n",
       "      <th>NumberOfOpenCreditLinesAndLoans</th>\n",
       "      <th>NumberOfTimes90DaysLate</th>\n",
       "      <th>NumberRealEstateLoansOrLines</th>\n",
       "      <th>NumberOfTime60-89DaysPastDueNotWorse</th>\n",
       "      <th>NumberOfDependents</th>\n",
       "    </tr>\n",
       "  </thead>\n",
       "  <tbody>\n",
       "    <tr>\n",
       "      <th>0</th>\n",
       "      <td>1</td>\n",
       "      <td>1</td>\n",
       "      <td>0.766127</td>\n",
       "      <td>45</td>\n",
       "      <td>2</td>\n",
       "      <td>0.802982</td>\n",
       "      <td>9120.0</td>\n",
       "      <td>13</td>\n",
       "      <td>0</td>\n",
       "      <td>6</td>\n",
       "      <td>0</td>\n",
       "      <td>2.0</td>\n",
       "    </tr>\n",
       "    <tr>\n",
       "      <th>1</th>\n",
       "      <td>2</td>\n",
       "      <td>0</td>\n",
       "      <td>0.957151</td>\n",
       "      <td>40</td>\n",
       "      <td>0</td>\n",
       "      <td>0.121876</td>\n",
       "      <td>2600.0</td>\n",
       "      <td>4</td>\n",
       "      <td>0</td>\n",
       "      <td>0</td>\n",
       "      <td>0</td>\n",
       "      <td>1.0</td>\n",
       "    </tr>\n",
       "    <tr>\n",
       "      <th>2</th>\n",
       "      <td>3</td>\n",
       "      <td>0</td>\n",
       "      <td>0.658180</td>\n",
       "      <td>38</td>\n",
       "      <td>1</td>\n",
       "      <td>0.085113</td>\n",
       "      <td>3042.0</td>\n",
       "      <td>2</td>\n",
       "      <td>1</td>\n",
       "      <td>0</td>\n",
       "      <td>0</td>\n",
       "      <td>0.0</td>\n",
       "    </tr>\n",
       "    <tr>\n",
       "      <th>3</th>\n",
       "      <td>4</td>\n",
       "      <td>0</td>\n",
       "      <td>0.233810</td>\n",
       "      <td>30</td>\n",
       "      <td>0</td>\n",
       "      <td>0.036050</td>\n",
       "      <td>3300.0</td>\n",
       "      <td>5</td>\n",
       "      <td>0</td>\n",
       "      <td>0</td>\n",
       "      <td>0</td>\n",
       "      <td>0.0</td>\n",
       "    </tr>\n",
       "    <tr>\n",
       "      <th>4</th>\n",
       "      <td>5</td>\n",
       "      <td>0</td>\n",
       "      <td>0.907239</td>\n",
       "      <td>49</td>\n",
       "      <td>1</td>\n",
       "      <td>0.024926</td>\n",
       "      <td>63588.0</td>\n",
       "      <td>7</td>\n",
       "      <td>0</td>\n",
       "      <td>1</td>\n",
       "      <td>0</td>\n",
       "      <td>0.0</td>\n",
       "    </tr>\n",
       "  </tbody>\n",
       "</table>\n",
       "</div>"
      ],
      "text/plain": [
       "   Unnamed: 0  SeriousDlqin2yrs  RevolvingUtilizationOfUnsecuredLines  age  \\\n",
       "0           1                 1                              0.766127   45   \n",
       "1           2                 0                              0.957151   40   \n",
       "2           3                 0                              0.658180   38   \n",
       "3           4                 0                              0.233810   30   \n",
       "4           5                 0                              0.907239   49   \n",
       "\n",
       "   NumberOfTime30-59DaysPastDueNotWorse  DebtRatio  MonthlyIncome  \\\n",
       "0                                     2   0.802982         9120.0   \n",
       "1                                     0   0.121876         2600.0   \n",
       "2                                     1   0.085113         3042.0   \n",
       "3                                     0   0.036050         3300.0   \n",
       "4                                     1   0.024926        63588.0   \n",
       "\n",
       "   NumberOfOpenCreditLinesAndLoans  NumberOfTimes90DaysLate  \\\n",
       "0                               13                        0   \n",
       "1                                4                        0   \n",
       "2                                2                        1   \n",
       "3                                5                        0   \n",
       "4                                7                        0   \n",
       "\n",
       "   NumberRealEstateLoansOrLines  NumberOfTime60-89DaysPastDueNotWorse  \\\n",
       "0                             6                                     0   \n",
       "1                             0                                     0   \n",
       "2                             0                                     0   \n",
       "3                             0                                     0   \n",
       "4                             1                                     0   \n",
       "\n",
       "   NumberOfDependents  \n",
       "0                 2.0  \n",
       "1                 1.0  \n",
       "2                 0.0  \n",
       "3                 0.0  \n",
       "4                 0.0  "
      ]
     },
     "execution_count": 2,
     "metadata": {},
     "output_type": "execute_result"
    }
   ],
   "source": [
    "df = pd.read_csv(\"GiveMeSomeCredit/cs-training.csv\")\n",
    "df.head()"
   ]
  },
  {
   "cell_type": "markdown",
   "metadata": {
    "pycharm": {
     "name": "#%% md\n"
    }
   },
   "source": [
    "## EDA <a class=\"anchor\" id=\"3\"></a>\n",
    "\n",
    "- Around 6% of samples defaulted\n",
    "- MonthlyIncome and NumberOfDependents have 29731 (19.82%) and 3924 (2.61%) null values respectively\n",
    "- We also notice that when NumberOfTimes90DaysLate has values above 17, there are 267 instances where the three columns NumberOfTimes90DaysLate, NumberOfTime60-89DaysPastDueNotWorse, NumberOfTime30-59DaysPastDueNotWorse share the same values, specifically 96 and 98.\n",
    "    - We can see that sharing the same values of 96 and 98 respectively is not logical since trivial calculations can reveal that being 30 days past due for 96 times for a single person within a timespan of 2 years is not possible.\n",
    "- RevolvingUtilizationOfUnsecuredLines\n",
    "    - Defined as ratio of the total amount of money owed to total credit limit\n",
    "    - distribution of values is right-skewed, consider removing outliers\n",
    "    - It is expected that as this value increases, the proportion of people defaulting should increase as well\n",
    "    - However, we can see that as the minimum value of this column is set to 13, the proportion of defaulters is smaller than that belonging to the pool of clients with total amount of money owed not exceeding total credit limit.\n",
    "    - Thus we should remove those samples with RevolvingUtilizationOfUnsecuredLines's value more than equal to 13\n",
    "- age\n",
    "    - There seems to be more younger people defaulting and the distribution seems fine on the whole\n",
    "- NumberOfTimes90DaysLate\n",
    "    - It is interesting to note that there are no one who is 90 or more days past due between 17 and 96 times.\n",
    "- NumberOfTime60-89DaysPastDueNotWorse\n",
    "    - It is interesting to note that there are no one who is 60-89 days past due between 11 and 96 times.\n",
    "- NumberOfTime30-59DaysPastDueNotWorse\n",
    "    - It is interesting to note that there are no one who is 30-59 days past due between 13 and 96 times.\n",
    "- DebtRatio\n",
    "    - 2.5% of clients owe around 3490 or more times what they own\n",
    "    - For the people who have monthly income in this 2.5%, only 185 people have values for their monthly incomes and the values are either 0 or 1.\n",
    "    - There are 164 out of these 185 people who are of two different types, first with no monthly income and does not default and second with monthly income and does default.\n",
    "- MonthlyIncome\n",
    "    - Distribution of values is skewed, we can consider imputation with median.\n",
    "    - We can also consider imputing with normally distributed values with its mean and standard deviation.\n",
    "- Numberof Dependents\n",
    "    - We can consider imputing with its mode, which is zero."
   ]
  },
  {
   "cell_type": "markdown",
   "metadata": {
    "pycharm": {
     "name": "#%% md\n"
    }
   },
   "source": [
    "### Derive Balance of Classes"
   ]
  },
  {
   "cell_type": "code",
   "execution_count": 3,
   "metadata": {
    "pycharm": {
     "name": "#%%\n"
    }
   },
   "outputs": [
    {
     "name": "stdout",
     "output_type": "stream",
     "text": [
      "Proportion of People Who Defaulted: 0.06684\n"
     ]
    },
    {
     "data": {
      "image/png": "[encoded data removed]",
      "text/plain": [
       "<Figure size 432x288 with 1 Axes>"
      ]
     },
     "metadata": {
      "needs_background": "light"
     },
     "output_type": "display_data"
    }
   ],
   "source": [
    "sns.countplot(x=\"SeriousDlqin2yrs\", data=df)\n",
    "print(\"Proportion of People Who Defaulted: {}\".format(df[\"SeriousDlqin2yrs\"].sum() / len(df)))"
   ]
  },
  {
   "cell_type": "markdown",
   "metadata": {
    "pycharm": {
     "name": "#%% md\n"
    }
   },
   "source": [
    "### Null Values and Proportions"
   ]
  },
  {
   "cell_type": "code",
   "execution_count": 4,
   "metadata": {
    "pycharm": {
     "name": "#%%\n"
    }
   },
   "outputs": [
    {
     "data": {
      "text/html": [
       "<div>\n",
       "<style scoped>\n",
       "    .dataframe tbody tr th:only-of-type {\n",
       "        vertical-align: middle;\n",
       "    }\n",
       "\n",
       "    .dataframe tbody tr th {\n",
       "        vertical-align: top;\n",
       "    }\n",
       "\n",
       "    .dataframe thead th {\n",
       "        text-align: right;\n",
       "    }\n",
       "</style>\n",
       "<table border=\"1\" class=\"dataframe\">\n",
       "  <thead>\n",
       "    <tr style=\"text-align: right;\">\n",
       "      <th></th>\n",
       "      <th>Column</th>\n",
       "      <th>Number of Null Values</th>\n",
       "      <th>Proportion</th>\n",
       "    </tr>\n",
       "  </thead>\n",
       "  <tbody>\n",
       "    <tr>\n",
       "      <th>0</th>\n",
       "      <td>Unnamed: 0</td>\n",
       "      <td>0</td>\n",
       "      <td>0.000000</td>\n",
       "    </tr>\n",
       "    <tr>\n",
       "      <th>1</th>\n",
       "      <td>SeriousDlqin2yrs</td>\n",
       "      <td>0</td>\n",
       "      <td>0.000000</td>\n",
       "    </tr>\n",
       "    <tr>\n",
       "      <th>2</th>\n",
       "      <td>RevolvingUtilizationOfUnsecuredLines</td>\n",
       "      <td>0</td>\n",
       "      <td>0.000000</td>\n",
       "    </tr>\n",
       "    <tr>\n",
       "      <th>3</th>\n",
       "      <td>age</td>\n",
       "      <td>0</td>\n",
       "      <td>0.000000</td>\n",
       "    </tr>\n",
       "    <tr>\n",
       "      <th>4</th>\n",
       "      <td>NumberOfTime30-59DaysPastDueNotWorse</td>\n",
       "      <td>0</td>\n",
       "      <td>0.000000</td>\n",
       "    </tr>\n",
       "    <tr>\n",
       "      <th>5</th>\n",
       "      <td>DebtRatio</td>\n",
       "      <td>0</td>\n",
       "      <td>0.000000</td>\n",
       "    </tr>\n",
       "    <tr>\n",
       "      <th>6</th>\n",
       "      <td>MonthlyIncome</td>\n",
       "      <td>29731</td>\n",
       "      <td>0.198207</td>\n",
       "    </tr>\n",
       "    <tr>\n",
       "      <th>7</th>\n",
       "      <td>NumberOfOpenCreditLinesAndLoans</td>\n",
       "      <td>0</td>\n",
       "      <td>0.000000</td>\n",
       "    </tr>\n",
       "    <tr>\n",
       "      <th>8</th>\n",
       "      <td>NumberOfTimes90DaysLate</td>\n",
       "      <td>0</td>\n",
       "      <td>0.000000</td>\n",
       "    </tr>\n",
       "    <tr>\n",
       "      <th>9</th>\n",
       "      <td>NumberRealEstateLoansOrLines</td>\n",
       "      <td>0</td>\n",
       "      <td>0.000000</td>\n",
       "    </tr>\n",
       "    <tr>\n",
       "      <th>10</th>\n",
       "      <td>NumberOfTime60-89DaysPastDueNotWorse</td>\n",
       "      <td>0</td>\n",
       "      <td>0.000000</td>\n",
       "    </tr>\n",
       "    <tr>\n",
       "      <th>11</th>\n",
       "      <td>NumberOfDependents</td>\n",
       "      <td>3924</td>\n",
       "      <td>0.026160</td>\n",
       "    </tr>\n",
       "  </tbody>\n",
       "</table>\n",
       "</div>"
      ],
      "text/plain": [
       "                                  Column  Number of Null Values  Proportion\n",
       "0                             Unnamed: 0                      0    0.000000\n",
       "1                       SeriousDlqin2yrs                      0    0.000000\n",
       "2   RevolvingUtilizationOfUnsecuredLines                      0    0.000000\n",
       "3                                    age                      0    0.000000\n",
       "4   NumberOfTime30-59DaysPastDueNotWorse                      0    0.000000\n",
       "5                              DebtRatio                      0    0.000000\n",
       "6                          MonthlyIncome                  29731    0.198207\n",
       "7        NumberOfOpenCreditLinesAndLoans                      0    0.000000\n",
       "8                NumberOfTimes90DaysLate                      0    0.000000\n",
       "9           NumberRealEstateLoansOrLines                      0    0.000000\n",
       "10  NumberOfTime60-89DaysPastDueNotWorse                      0    0.000000\n",
       "11                    NumberOfDependents                   3924    0.026160"
      ]
     },
     "execution_count": 4,
     "metadata": {},
     "output_type": "execute_result"
    }
   ],
   "source": [
    "null_val_sums = df.isnull().sum()\n",
    "pd.DataFrame({\"Column\": null_val_sums.index, \"Number of Null Values\": null_val_sums.values,\n",
    "             \"Proportion\": null_val_sums.values / len(df) })"
   ]
  },
  {
   "cell_type": "markdown",
   "metadata": {
    "pycharm": {
     "name": "#%% md\n"
    }
   },
   "source": [
    "### RevolvingUtilizationOfUnsecuredLines"
   ]
  },
  {
   "cell_type": "code",
   "execution_count": 5,
   "metadata": {
    "pycharm": {
     "name": "#%%\n"
    }
   },
   "outputs": [
    {
     "data": {
      "text/plain": [
       "count    150000.000000\n",
       "mean          6.048438\n",
       "std         249.755371\n",
       "min           0.000000\n",
       "25%           0.029867\n",
       "50%           0.154181\n",
       "75%           0.559046\n",
       "max       50708.000000\n",
       "Name: RevolvingUtilizationOfUnsecuredLines, dtype: float64"
      ]
     },
     "execution_count": 5,
     "metadata": {},
     "output_type": "execute_result"
    }
   ],
   "source": [
    "df[\"RevolvingUtilizationOfUnsecuredLines\"].describe()"
   ]
  },
  {
   "cell_type": "code",
   "execution_count": 6,
   "metadata": {
    "pycharm": {
     "name": "#%%\n"
    }
   },
   "outputs": [
    {
     "data": {
      "text/plain": [
       "<matplotlib.axes._subplots.AxesSubplot at 0x7f73f7edbb00>"
      ]
     },
     "execution_count": 6,
     "metadata": {},
     "output_type": "execute_result"
    },
    {
     "data": {
      "image/png": "[encoded data removed]",
      "text/plain": [
       "<Figure size 432x288 with 1 Axes>"
      ]
     },
     "metadata": {
      "needs_background": "light"
     },
     "output_type": "display_data"
    }
   ],
   "source": [
    "sns.distplot(df[\"RevolvingUtilizationOfUnsecuredLines\"])"
   ]
  },
  {
   "cell_type": "code",
   "execution_count": 7,
   "metadata": {
    "pycharm": {
     "name": "#%%\n"
    }
   },
   "outputs": [
    {
     "data": {
      "text/plain": [
       "[[0, 0.06684],\n",
       " [1, 0.37177950868783705],\n",
       " [2, 0.14555256064690028],\n",
       " [3, 0.09931506849315068],\n",
       " [4, 0.08679245283018867],\n",
       " [5, 0.07874015748031496],\n",
       " [6, 0.07692307692307693],\n",
       " [7, 0.0778688524590164],\n",
       " [8, 0.07407407407407407],\n",
       " [9, 0.07053941908713693],\n",
       " [10, 0.07053941908713693],\n",
       " [11, 0.07053941908713693],\n",
       " [12, 0.06666666666666667],\n",
       " [13, 0.058823529411764705],\n",
       " [14, 0.058823529411764705],\n",
       " [15, 0.05531914893617021],\n",
       " [16, 0.05531914893617021],\n",
       " [17, 0.05531914893617021],\n",
       " [18, 0.05531914893617021],\n",
       " [19, 0.05555555555555555],\n",
       " [20, 0.05555555555555555],\n",
       " [21, 0.05555555555555555],\n",
       " [22, 0.05555555555555555],\n",
       " [23, 0.05555555555555555],\n",
       " [24, 0.05555555555555555],\n",
       " [25, 0.05555555555555555],\n",
       " [26, 0.05555555555555555],\n",
       " [27, 0.05555555555555555],\n",
       " [28, 0.05555555555555555],\n",
       " [29, 0.05555555555555555],\n",
       " [30, 0.05150214592274678],\n",
       " [31, 0.05150214592274678],\n",
       " [32, 0.05150214592274678],\n",
       " [33, 0.05150214592274678],\n",
       " [34, 0.05150214592274678],\n",
       " [35, 0.05150214592274678],\n",
       " [36, 0.05150214592274678],\n",
       " [37, 0.05150214592274678],\n",
       " [38, 0.05150214592274678],\n",
       " [39, 0.05150214592274678],\n",
       " [40, 0.05150214592274678],\n",
       " [41, 0.05150214592274678],\n",
       " [42, 0.05150214592274678],\n",
       " [43, 0.05172413793103448],\n",
       " [44, 0.05172413793103448],\n",
       " [45, 0.05172413793103448],\n",
       " [46, 0.05172413793103448],\n",
       " [47, 0.05172413793103448],\n",
       " [48, 0.05172413793103448],\n",
       " [49, 0.05172413793103448],\n",
       " [50, 0.05172413793103448],\n",
       " [51, 0.05217391304347826],\n",
       " [52, 0.05217391304347826],\n",
       " [53, 0.05217391304347826],\n",
       " [54, 0.05217391304347826],\n",
       " [55, 0.05217391304347826],\n",
       " [56, 0.05240174672489083],\n",
       " [57, 0.05240174672489083],\n",
       " [58, 0.05240174672489083],\n",
       " [59, 0.05240174672489083],\n",
       " [60, 0.05240174672489083],\n",
       " [61, 0.05240174672489083],\n",
       " [62, 0.05263157894736842],\n",
       " [63, 0.05263157894736842],\n",
       " [64, 0.05263157894736842],\n",
       " [65, 0.05263157894736842],\n",
       " [66, 0.05263157894736842],\n",
       " [67, 0.05263157894736842],\n",
       " [68, 0.05263157894736842],\n",
       " [69, 0.05263157894736842],\n",
       " [70, 0.05263157894736842],\n",
       " [71, 0.05263157894736842],\n",
       " [72, 0.05263157894736842],\n",
       " [73, 0.05263157894736842],\n",
       " [74, 0.048458149779735685],\n",
       " [75, 0.048458149779735685],\n",
       " [76, 0.048458149779735685],\n",
       " [77, 0.048458149779735685],\n",
       " [78, 0.048458149779735685],\n",
       " [79, 0.048458149779735685],\n",
       " [80, 0.048672566371681415],\n",
       " [81, 0.048672566371681415],\n",
       " [82, 0.048672566371681415],\n",
       " [83, 0.048672566371681415],\n",
       " [84, 0.048672566371681415],\n",
       " [85, 0.048672566371681415],\n",
       " [86, 0.04888888888888889],\n",
       " [87, 0.04888888888888889],\n",
       " [88, 0.04888888888888889],\n",
       " [89, 0.049107142857142856],\n",
       " [90, 0.049107142857142856],\n",
       " [91, 0.049107142857142856],\n",
       " [92, 0.049107142857142856],\n",
       " [93, 0.049107142857142856],\n",
       " [94, 0.049107142857142856],\n",
       " [95, 0.049107142857142856],\n",
       " [96, 0.04932735426008968],\n",
       " [97, 0.04932735426008968],\n",
       " [98, 0.04932735426008968],\n",
       " [99, 0.04932735426008968],\n",
       " [100, 0.04932735426008968],\n",
       " [101, 0.04932735426008968],\n",
       " [102, 0.04932735426008968],\n",
       " [103, 0.04932735426008968],\n",
       " [104, 0.04932735426008968],\n",
       " [105, 0.04932735426008968],\n",
       " [106, 0.04932735426008968],\n",
       " [107, 0.04932735426008968],\n",
       " [108, 0.04932735426008968],\n",
       " [109, 0.04932735426008968],\n",
       " [110, 0.04932735426008968],\n",
       " [111, 0.04932735426008968],\n",
       " [112, 0.04932735426008968],\n",
       " [113, 0.04954954954954955],\n",
       " [114, 0.04954954954954955],\n",
       " [115, 0.049773755656108594],\n",
       " [116, 0.049773755656108594],\n",
       " [117, 0.049773755656108594],\n",
       " [118, 0.049773755656108594],\n",
       " [119, 0.049773755656108594],\n",
       " [120, 0.049773755656108594],\n",
       " [121, 0.049773755656108594],\n",
       " [122, 0.049773755656108594],\n",
       " [123, 0.049773755656108594],\n",
       " [124, 0.049773755656108594],\n",
       " [125, 0.049773755656108594],\n",
       " [126, 0.049773755656108594],\n",
       " [127, 0.049773755656108594],\n",
       " [128, 0.049773755656108594],\n",
       " [129, 0.049773755656108594],\n",
       " [130, 0.049773755656108594],\n",
       " [131, 0.049773755656108594],\n",
       " [132, 0.049773755656108594],\n",
       " [133, 0.049773755656108594],\n",
       " [134, 0.049773755656108594],\n",
       " [135, 0.049773755656108594],\n",
       " [136, 0.05],\n",
       " [137, 0.05],\n",
       " [138, 0.05],\n",
       " [139, 0.05],\n",
       " [140, 0.05],\n",
       " [141, 0.05],\n",
       " [142, 0.05],\n",
       " [143, 0.05],\n",
       " [144, 0.0502283105022831],\n",
       " [145, 0.0502283105022831],\n",
       " [146, 0.0502283105022831],\n",
       " [147, 0.0502283105022831],\n",
       " [148, 0.0502283105022831],\n",
       " [149, 0.0502283105022831],\n",
       " [150, 0.0502283105022831],\n",
       " [151, 0.0502283105022831],\n",
       " [152, 0.0502283105022831],\n",
       " [153, 0.0502283105022831],\n",
       " [154, 0.0502283105022831],\n",
       " [155, 0.0502283105022831],\n",
       " [156, 0.0502283105022831],\n",
       " [157, 0.0502283105022831],\n",
       " [158, 0.0502283105022831],\n",
       " [159, 0.0502283105022831],\n",
       " [160, 0.0502283105022831],\n",
       " [161, 0.0502283105022831],\n",
       " [162, 0.0502283105022831],\n",
       " [163, 0.0502283105022831],\n",
       " [164, 0.0502283105022831],\n",
       " [165, 0.0502283105022831],\n",
       " [166, 0.0502283105022831],\n",
       " [167, 0.0502283105022831],\n",
       " [168, 0.0502283105022831],\n",
       " [169, 0.0502283105022831],\n",
       " [170, 0.0502283105022831],\n",
       " [171, 0.0502283105022831],\n",
       " [172, 0.0502283105022831],\n",
       " [173, 0.0502283105022831],\n",
       " [174, 0.0502283105022831],\n",
       " [175, 0.0502283105022831],\n",
       " [176, 0.0502283105022831],\n",
       " [177, 0.0502283105022831],\n",
       " [178, 0.0502283105022831],\n",
       " [179, 0.0502283105022831],\n",
       " [180, 0.0502283105022831],\n",
       " [181, 0.0502283105022831],\n",
       " [182, 0.0502283105022831],\n",
       " [183, 0.0502283105022831],\n",
       " [184, 0.0502283105022831],\n",
       " [185, 0.0502283105022831],\n",
       " [186, 0.0502283105022831],\n",
       " [187, 0.0502283105022831],\n",
       " [188, 0.0502283105022831],\n",
       " [189, 0.0502283105022831],\n",
       " [190, 0.0502283105022831],\n",
       " [191, 0.0502283105022831],\n",
       " [192, 0.0502283105022831],\n",
       " [193, 0.0502283105022831],\n",
       " [194, 0.0502283105022831],\n",
       " [195, 0.0502283105022831],\n",
       " [196, 0.0502283105022831],\n",
       " [197, 0.0502283105022831],\n",
       " [198, 0.0502283105022831],\n",
       " [199, 0.0502283105022831],\n",
       " [200, 0.0502283105022831],\n",
       " [201, 0.0502283105022831],\n",
       " [202, 0.0502283105022831],\n",
       " [203, 0.0502283105022831],\n",
       " [204, 0.0502283105022831],\n",
       " [205, 0.0502283105022831],\n",
       " [206, 0.0502283105022831],\n",
       " [207, 0.05045871559633028],\n",
       " [208, 0.05045871559633028],\n",
       " [209, 0.05045871559633028],\n",
       " [210, 0.05045871559633028],\n",
       " [211, 0.05045871559633028],\n",
       " [212, 0.05045871559633028],\n",
       " [213, 0.05045871559633028],\n",
       " [214, 0.05045871559633028],\n",
       " [215, 0.05045871559633028],\n",
       " [216, 0.05045871559633028],\n",
       " [217, 0.05045871559633028],\n",
       " [218, 0.05045871559633028],\n",
       " [219, 0.05045871559633028],\n",
       " [220, 0.05069124423963134],\n",
       " [221, 0.05069124423963134],\n",
       " [222, 0.05069124423963134],\n",
       " [223, 0.05069124423963134],\n",
       " [224, 0.05069124423963134],\n",
       " [225, 0.05069124423963134],\n",
       " [226, 0.05069124423963134],\n",
       " [227, 0.05069124423963134],\n",
       " [228, 0.05092592592592592],\n",
       " [229, 0.05092592592592592],\n",
       " [230, 0.05092592592592592],\n",
       " [231, 0.05092592592592592],\n",
       " [232, 0.05092592592592592],\n",
       " [233, 0.05092592592592592],\n",
       " [234, 0.05092592592592592],\n",
       " [235, 0.05092592592592592],\n",
       " [236, 0.05092592592592592],\n",
       " [237, 0.05092592592592592],\n",
       " [238, 0.05092592592592592],\n",
       " [239, 0.05092592592592592],\n",
       " [240, 0.05092592592592592],\n",
       " [241, 0.05092592592592592],\n",
       " [242, 0.05092592592592592],\n",
       " [243, 0.05092592592592592],\n",
       " [244, 0.05092592592592592],\n",
       " [245, 0.05092592592592592],\n",
       " [246, 0.05092592592592592],\n",
       " [247, 0.05092592592592592],\n",
       " [248, 0.05092592592592592],\n",
       " [249, 0.05092592592592592],\n",
       " [250, 0.05092592592592592],\n",
       " [251, 0.046511627906976744],\n",
       " [252, 0.046511627906976744],\n",
       " [253, 0.046511627906976744],\n",
       " [254, 0.046511627906976744],\n",
       " [255, 0.046511627906976744],\n",
       " [256, 0.046511627906976744],\n",
       " [257, 0.046511627906976744],\n",
       " [258, 0.046511627906976744],\n",
       " [259, 0.046511627906976744],\n",
       " [260, 0.046511627906976744],\n",
       " [261, 0.046511627906976744],\n",
       " [262, 0.046511627906976744],\n",
       " [263, 0.046511627906976744],\n",
       " [264, 0.046511627906976744],\n",
       " [265, 0.046511627906976744],\n",
       " [266, 0.046511627906976744],\n",
       " [267, 0.046511627906976744],\n",
       " [268, 0.046511627906976744],\n",
       " [269, 0.046511627906976744],\n",
       " [270, 0.046511627906976744],\n",
       " [271, 0.046511627906976744],\n",
       " [272, 0.046511627906976744],\n",
       " [273, 0.046511627906976744],\n",
       " [274, 0.046511627906976744],\n",
       " [275, 0.046511627906976744],\n",
       " [276, 0.04672897196261682],\n",
       " [277, 0.04672897196261682],\n",
       " [278, 0.04672897196261682],\n",
       " [279, 0.04672897196261682],\n",
       " [280, 0.04672897196261682],\n",
       " [281, 0.04672897196261682],\n",
       " [282, 0.04672897196261682],\n",
       " [283, 0.04672897196261682],\n",
       " [284, 0.04672897196261682],\n",
       " [285, 0.04672897196261682],\n",
       " [286, 0.04672897196261682],\n",
       " [287, 0.04672897196261682],\n",
       " [288, 0.04672897196261682],\n",
       " [289, 0.04672897196261682],\n",
       " [290, 0.04672897196261682],\n",
       " [291, 0.04672897196261682],\n",
       " [292, 0.04672897196261682],\n",
       " [293, 0.04672897196261682],\n",
       " [294, 0.04672897196261682],\n",
       " [295, 0.04672897196261682],\n",
       " [296, 0.04672897196261682],\n",
       " [297, 0.04672897196261682],\n",
       " [298, 0.04672897196261682],\n",
       " [299, 0.04672897196261682],\n",
       " [300, 0.04672897196261682],\n",
       " [301, 0.04672897196261682],\n",
       " [302, 0.04672897196261682],\n",
       " [303, 0.04672897196261682],\n",
       " [304, 0.04672897196261682],\n",
       " [305, 0.04672897196261682],\n",
       " [306, 0.04672897196261682],\n",
       " [307, 0.04672897196261682],\n",
       " [308, 0.046948356807511735],\n",
       " [309, 0.046948356807511735],\n",
       " [310, 0.046948356807511735],\n",
       " [311, 0.046948356807511735],\n",
       " [312, 0.046948356807511735],\n",
       " [313, 0.04716981132075472],\n",
       " [314, 0.04716981132075472],\n",
       " [315, 0.04716981132075472],\n",
       " [316, 0.04716981132075472],\n",
       " [317, 0.04716981132075472],\n",
       " [318, 0.04716981132075472],\n",
       " [319, 0.04716981132075472],\n",
       " [320, 0.04716981132075472],\n",
       " [321, 0.04716981132075472],\n",
       " [322, 0.04716981132075472],\n",
       " [323, 0.04739336492890995],\n",
       " [324, 0.04739336492890995],\n",
       " [325, 0.04739336492890995],\n",
       " [326, 0.04739336492890995],\n",
       " [327, 0.04739336492890995],\n",
       " [328, 0.04739336492890995],\n",
       " [329, 0.04739336492890995],\n",
       " [330, 0.04739336492890995],\n",
       " [331, 0.04739336492890995],\n",
       " [332, 0.04739336492890995],\n",
       " [333, 0.04739336492890995],\n",
       " [334, 0.04739336492890995],\n",
       " [335, 0.04739336492890995],\n",
       " [336, 0.04739336492890995],\n",
       " [337, 0.04739336492890995],\n",
       " [338, 0.04739336492890995],\n",
       " [339, 0.04739336492890995],\n",
       " [340, 0.04739336492890995],\n",
       " [341, 0.04739336492890995],\n",
       " [342, 0.04739336492890995],\n",
       " [343, 0.04739336492890995],\n",
       " [344, 0.04739336492890995],\n",
       " [345, 0.04739336492890995],\n",
       " [346, 0.04739336492890995],\n",
       " [347, 0.04739336492890995],\n",
       " [348, 0.04739336492890995],\n",
       " [349, 0.04739336492890995],\n",
       " [350, 0.04739336492890995],\n",
       " [351, 0.04739336492890995],\n",
       " [352, 0.04739336492890995],\n",
       " [353, 0.04739336492890995],\n",
       " [354, 0.04739336492890995],\n",
       " [355, 0.04739336492890995],\n",
       " [356, 0.04739336492890995],\n",
       " [357, 0.047619047619047616],\n",
       " [358, 0.047619047619047616],\n",
       " [359, 0.047619047619047616],\n",
       " [360, 0.047619047619047616],\n",
       " [361, 0.047619047619047616],\n",
       " [362, 0.04784688995215311],\n",
       " [363, 0.04784688995215311],\n",
       " [364, 0.04784688995215311],\n",
       " [365, 0.04784688995215311],\n",
       " [366, 0.04784688995215311],\n",
       " [367, 0.04784688995215311],\n",
       " [368, 0.04784688995215311],\n",
       " [369, 0.04784688995215311],\n",
       " [370, 0.04784688995215311],\n",
       " [371, 0.04784688995215311],\n",
       " [372, 0.04784688995215311],\n",
       " [373, 0.04784688995215311],\n",
       " [374, 0.04784688995215311],\n",
       " [375, 0.04784688995215311],\n",
       " [376, 0.04784688995215311],\n",
       " [377, 0.04784688995215311],\n",
       " [378, 0.04784688995215311],\n",
       " [379, 0.04784688995215311],\n",
       " [380, 0.04784688995215311],\n",
       " [381, 0.04784688995215311],\n",
       " [382, 0.04807692307692308],\n",
       " [383, 0.04807692307692308],\n",
       " [384, 0.04807692307692308],\n",
       " [385, 0.04807692307692308],\n",
       " [386, 0.04807692307692308],\n",
       " [387, 0.04807692307692308],\n",
       " [388, 0.04807692307692308],\n",
       " [389, 0.04807692307692308],\n",
       " [390, 0.04807692307692308],\n",
       " [391, 0.04807692307692308],\n",
       " [392, 0.04807692307692308],\n",
       " [393, 0.04807692307692308],\n",
       " [394, 0.04807692307692308],\n",
       " [395, 0.04807692307692308],\n",
       " [396, 0.04807692307692308],\n",
       " [397, 0.04807692307692308],\n",
       " [398, 0.04807692307692308],\n",
       " [399, 0.04807692307692308],\n",
       " [400, 0.04807692307692308],\n",
       " [401, 0.04807692307692308],\n",
       " [402, 0.04807692307692308],\n",
       " [403, 0.04807692307692308],\n",
       " [404, 0.04807692307692308],\n",
       " [405, 0.04807692307692308],\n",
       " [406, 0.04807692307692308],\n",
       " [407, 0.04807692307692308],\n",
       " [408, 0.04807692307692308],\n",
       " [409, 0.04807692307692308],\n",
       " [410, 0.04807692307692308],\n",
       " [411, 0.04807692307692308],\n",
       " [412, 0.04807692307692308],\n",
       " [413, 0.04807692307692308],\n",
       " [414, 0.04807692307692308],\n",
       " [415, 0.04807692307692308],\n",
       " [416, 0.04807692307692308],\n",
       " [417, 0.04807692307692308],\n",
       " [418, 0.04807692307692308],\n",
       " [419, 0.04807692307692308],\n",
       " [420, 0.04807692307692308],\n",
       " [421, 0.04807692307692308],\n",
       " [422, 0.04807692307692308],\n",
       " [423, 0.04807692307692308],\n",
       " [424, 0.04807692307692308],\n",
       " [425, 0.04807692307692308],\n",
       " [426, 0.04807692307692308],\n",
       " [427, 0.04807692307692308],\n",
       " [428, 0.04807692307692308],\n",
       " [429, 0.04807692307692308],\n",
       " [430, 0.04830917874396135],\n",
       " [431, 0.04830917874396135],\n",
       " [432, 0.04830917874396135],\n",
       " [433, 0.04830917874396135],\n",
       " [434, 0.04830917874396135],\n",
       " [435, 0.04830917874396135],\n",
       " [436, 0.04830917874396135],\n",
       " [437, 0.04830917874396135],\n",
       " [438, 0.04830917874396135],\n",
       " [439, 0.04830917874396135],\n",
       " [440, 0.04830917874396135],\n",
       " [441, 0.04830917874396135],\n",
       " [442, 0.04830917874396135],\n",
       " [443, 0.04830917874396135],\n",
       " [444, 0.04830917874396135],\n",
       " [445, 0.04830917874396135],\n",
       " [446, 0.04830917874396135],\n",
       " [447, 0.04830917874396135],\n",
       " [448, 0.04830917874396135],\n",
       " [449, 0.04830917874396135],\n",
       " [450, 0.04830917874396135],\n",
       " [451, 0.04830917874396135],\n",
       " [452, 0.04830917874396135],\n",
       " [453, 0.04854368932038835],\n",
       " [454, 0.04854368932038835],\n",
       " [455, 0.04854368932038835],\n",
       " [456, 0.04854368932038835],\n",
       " [457, 0.04878048780487805],\n",
       " [458, 0.04878048780487805],\n",
       " [459, 0.04878048780487805],\n",
       " [460, 0.04878048780487805],\n",
       " [461, 0.04878048780487805],\n",
       " [462, 0.04878048780487805],\n",
       " [463, 0.04878048780487805],\n",
       " [464, 0.04878048780487805],\n",
       " [465, 0.04878048780487805],\n",
       " [466, 0.04878048780487805],\n",
       " [467, 0.04878048780487805],\n",
       " [468, 0.04878048780487805],\n",
       " [469, 0.04878048780487805],\n",
       " [470, 0.04878048780487805],\n",
       " [471, 0.049019607843137254],\n",
       " [472, 0.049019607843137254],\n",
       " [473, 0.049019607843137254],\n",
       " [474, 0.049019607843137254],\n",
       " [475, 0.049019607843137254],\n",
       " [476, 0.049019607843137254],\n",
       " [477, 0.049019607843137254],\n",
       " [478, 0.049019607843137254],\n",
       " [479, 0.049019607843137254],\n",
       " [480, 0.049019607843137254],\n",
       " [481, 0.049019607843137254],\n",
       " [482, 0.049019607843137254],\n",
       " [483, 0.049019607843137254],\n",
       " [484, 0.049019607843137254],\n",
       " [485, 0.049019607843137254],\n",
       " [486, 0.049019607843137254],\n",
       " [487, 0.049019607843137254],\n",
       " [488, 0.049019607843137254],\n",
       " [489, 0.049019607843137254],\n",
       " [490, 0.049019607843137254],\n",
       " [491, 0.049019607843137254],\n",
       " [492, 0.049019607843137254],\n",
       " [493, 0.049019607843137254],\n",
       " [494, 0.049019607843137254],\n",
       " [495, 0.049019607843137254],\n",
       " [496, 0.049019607843137254],\n",
       " [497, 0.049019607843137254],\n",
       " [498, 0.049019607843137254],\n",
       " [499, 0.049019607843137254],\n",
       " [500, 0.049019607843137254],\n",
       " [501, 0.049019607843137254],\n",
       " [502, 0.049019607843137254],\n",
       " [503, 0.04926108374384237],\n",
       " [504, 0.04926108374384237],\n",
       " [505, 0.04926108374384237],\n",
       " [506, 0.04926108374384237],\n",
       " [507, 0.04926108374384237],\n",
       " [508, 0.04926108374384237],\n",
       " [509, 0.04926108374384237],\n",
       " [510, 0.04926108374384237],\n",
       " [511, 0.04926108374384237],\n",
       " [512, 0.04926108374384237],\n",
       " [513, 0.04926108374384237],\n",
       " [514, 0.04926108374384237],\n",
       " [515, 0.04926108374384237],\n",
       " [516, 0.04926108374384237],\n",
       " [517, 0.04926108374384237],\n",
       " [518, 0.04926108374384237],\n",
       " [519, 0.04926108374384237],\n",
       " [520, 0.04926108374384237],\n",
       " [521, 0.04926108374384237],\n",
       " [522, 0.04926108374384237],\n",
       " [523, 0.04926108374384237],\n",
       " [524, 0.04926108374384237],\n",
       " [525, 0.04926108374384237],\n",
       " [526, 0.04926108374384237],\n",
       " [527, 0.04926108374384237],\n",
       " [528, 0.04926108374384237],\n",
       " [529, 0.04926108374384237],\n",
       " [530, 0.04926108374384237],\n",
       " [531, 0.04926108374384237],\n",
       " [532, 0.04926108374384237],\n",
       " [533, 0.04950495049504951],\n",
       " [534, 0.04950495049504951],\n",
       " [535, 0.04950495049504951],\n",
       " [536, 0.04950495049504951],\n",
       " [537, 0.04950495049504951],\n",
       " [538, 0.04950495049504951],\n",
       " [539, 0.04950495049504951],\n",
       " [540, 0.04950495049504951],\n",
       " [541, 0.04950495049504951],\n",
       " [542, 0.04950495049504951],\n",
       " [543, 0.04950495049504951],\n",
       " [544, 0.04950495049504951],\n",
       " [545, 0.04950495049504951],\n",
       " [546, 0.04950495049504951],\n",
       " [547, 0.04950495049504951],\n",
       " [548, 0.04950495049504951],\n",
       " [549, 0.04950495049504951],\n",
       " [550, 0.04950495049504951],\n",
       " [551, 0.04950495049504951],\n",
       " [552, 0.04950495049504951],\n",
       " [553, 0.04950495049504951],\n",
       " [554, 0.04950495049504951],\n",
       " [555, 0.04950495049504951],\n",
       " [556, 0.04950495049504951],\n",
       " [557, 0.04950495049504951],\n",
       " [558, 0.04950495049504951],\n",
       " [559, 0.04950495049504951],\n",
       " [560, 0.04950495049504951],\n",
       " [561, 0.04950495049504951],\n",
       " [562, 0.04950495049504951],\n",
       " [563, 0.04950495049504951],\n",
       " [564, 0.04950495049504951],\n",
       " [565, 0.04950495049504951],\n",
       " [566, 0.04950495049504951],\n",
       " [567, 0.04950495049504951],\n",
       " [568, 0.04950495049504951],\n",
       " [569, 0.04950495049504951],\n",
       " [570, 0.04950495049504951],\n",
       " [571, 0.04950495049504951],\n",
       " [572, 0.04950495049504951],\n",
       " [573, 0.04950495049504951],\n",
       " [574, 0.04950495049504951],\n",
       " [575, 0.04950495049504951],\n",
       " [576, 0.04950495049504951],\n",
       " [577, 0.04950495049504951],\n",
       " [578, 0.04950495049504951],\n",
       " [579, 0.04950495049504951],\n",
       " [580, 0.04950495049504951],\n",
       " [581, 0.04950495049504951],\n",
       " [582, 0.04950495049504951],\n",
       " [583, 0.04950495049504951],\n",
       " [584, 0.04950495049504951],\n",
       " [585, 0.04950495049504951],\n",
       " [586, 0.04950495049504951],\n",
       " [587, 0.04950495049504951],\n",
       " [588, 0.04950495049504951],\n",
       " [589, 0.04950495049504951],\n",
       " [590, 0.04950495049504951],\n",
       " [591, 0.04950495049504951],\n",
       " [592, 0.04950495049504951],\n",
       " [593, 0.04950495049504951],\n",
       " [594, 0.04950495049504951],\n",
       " [595, 0.04975124378109453],\n",
       " [596, 0.04975124378109453],\n",
       " [597, 0.04975124378109453],\n",
       " [598, 0.04975124378109453],\n",
       " [599, 0.04975124378109453],\n",
       " [600, 0.04975124378109453],\n",
       " [601, 0.04975124378109453],\n",
       " [602, 0.05],\n",
       " [603, 0.05],\n",
       " [604, 0.05],\n",
       " [605, 0.05],\n",
       " [606, 0.05],\n",
       " [607, 0.05],\n",
       " [608, 0.05],\n",
       " [609, 0.05],\n",
       " [610, 0.05],\n",
       " [611, 0.05],\n",
       " [612, 0.05],\n",
       " [613, 0.05],\n",
       " [614, 0.05],\n",
       " [615, 0.05],\n",
       " [616, 0.05],\n",
       " [617, 0.05025125628140704],\n",
       " [618, 0.05025125628140704],\n",
       " [619, 0.05025125628140704],\n",
       " [620, 0.05025125628140704],\n",
       " [621, 0.05025125628140704],\n",
       " [622, 0.05025125628140704],\n",
       " [623, 0.05025125628140704],\n",
       " [624, 0.05025125628140704],\n",
       " [625, 0.05025125628140704],\n",
       " [626, 0.05025125628140704],\n",
       " [627, 0.05025125628140704],\n",
       " [628, 0.05025125628140704],\n",
       " [629, 0.05025125628140704],\n",
       " [630, 0.05025125628140704],\n",
       " [631, 0.05025125628140704],\n",
       " [632, 0.05025125628140704],\n",
       " [633, 0.05025125628140704],\n",
       " [634, 0.05025125628140704],\n",
       " [635, 0.05025125628140704],\n",
       " [636, 0.05025125628140704],\n",
       " [637, 0.05025125628140704],\n",
       " [638, 0.05025125628140704],\n",
       " [639, 0.050761421319796954],\n",
       " [640, 0.050761421319796954],\n",
       " [641, 0.050761421319796954],\n",
       " [642, 0.050761421319796954],\n",
       " [643, 0.050761421319796954],\n",
       " [644, 0.050761421319796954],\n",
       " [645, 0.050761421319796954],\n",
       " [646, 0.050761421319796954],\n",
       " [647, 0.050761421319796954],\n",
       " [648, 0.050761421319796954],\n",
       " [649, 0.050761421319796954],\n",
       " [650, 0.050761421319796954],\n",
       " [651, 0.050761421319796954],\n",
       " [652, 0.050761421319796954],\n",
       " [653, 0.050761421319796954],\n",
       " [654, 0.050761421319796954],\n",
       " [655, 0.050761421319796954],\n",
       " [656, 0.050761421319796954],\n",
       " [657, 0.050761421319796954],\n",
       " [658, 0.050761421319796954],\n",
       " [659, 0.05102040816326531],\n",
       " [660, 0.05102040816326531],\n",
       " [661, 0.05102040816326531],\n",
       " [662, 0.05102040816326531],\n",
       " [663, 0.05102040816326531],\n",
       " [664, 0.05102040816326531],\n",
       " [665, 0.05102040816326531],\n",
       " [666, 0.05102040816326531],\n",
       " [667, 0.05102040816326531],\n",
       " [668, 0.05102040816326531],\n",
       " [669, 0.05102040816326531],\n",
       " [670, 0.05102040816326531],\n",
       " [671, 0.05102040816326531],\n",
       " [672, 0.05102040816326531],\n",
       " [673, 0.05102040816326531],\n",
       " [674, 0.05102040816326531],\n",
       " [675, 0.05102040816326531],\n",
       " [676, 0.05102040816326531],\n",
       " [677, 0.05102040816326531],\n",
       " [678, 0.05102040816326531],\n",
       " [679, 0.05102040816326531],\n",
       " [680, 0.05102040816326531],\n",
       " [681, 0.05102040816326531],\n",
       " [682, 0.05102040816326531],\n",
       " [683, 0.05102040816326531],\n",
       " [684, 0.05102040816326531],\n",
       " [685, 0.05102040816326531],\n",
       " [686, 0.05102040816326531],\n",
       " [687, 0.05102040816326531],\n",
       " [688, 0.05102040816326531],\n",
       " [689, 0.05102040816326531],\n",
       " [690, 0.05128205128205128],\n",
       " [691, 0.05128205128205128],\n",
       " [692, 0.05128205128205128],\n",
       " [693, 0.05128205128205128],\n",
       " [694, 0.05128205128205128],\n",
       " [695, 0.05128205128205128],\n",
       " [696, 0.05128205128205128],\n",
       " [697, 0.05128205128205128],\n",
       " [698, 0.05128205128205128],\n",
       " [699, 0.05128205128205128],\n",
       " [700, 0.05128205128205128],\n",
       " [701, 0.05128205128205128],\n",
       " [702, 0.05128205128205128],\n",
       " [703, 0.05128205128205128],\n",
       " [704, 0.05128205128205128],\n",
       " [705, 0.05128205128205128],\n",
       " [706, 0.05128205128205128],\n",
       " [707, 0.05128205128205128],\n",
       " [708, 0.05128205128205128],\n",
       " [709, 0.05128205128205128],\n",
       " [710, 0.05128205128205128],\n",
       " [711, 0.05128205128205128],\n",
       " [712, 0.05128205128205128],\n",
       " [713, 0.05128205128205128],\n",
       " [714, 0.05128205128205128],\n",
       " [715, 0.05128205128205128],\n",
       " [716, 0.05128205128205128],\n",
       " [717, 0.05128205128205128],\n",
       " [718, 0.05154639175257732],\n",
       " [719, 0.05154639175257732],\n",
       " [720, 0.05154639175257732],\n",
       " [721, 0.05154639175257732],\n",
       " [722, 0.05154639175257732],\n",
       " [723, 0.05154639175257732],\n",
       " [724, 0.05154639175257732],\n",
       " [725, 0.05154639175257732],\n",
       " [726, 0.05154639175257732],\n",
       " [727, 0.05154639175257732],\n",
       " [728, 0.05154639175257732],\n",
       " [729, 0.05154639175257732],\n",
       " [730, 0.05154639175257732],\n",
       " [731, 0.05154639175257732],\n",
       " [732, 0.05154639175257732],\n",
       " [733, 0.05154639175257732],\n",
       " [734, 0.05154639175257732],\n",
       " [735, 0.05154639175257732],\n",
       " [736, 0.05154639175257732],\n",
       " [737, 0.05154639175257732],\n",
       " [738, 0.05154639175257732],\n",
       " [739, 0.05181347150259067],\n",
       " [740, 0.05181347150259067],\n",
       " [741, 0.05181347150259067],\n",
       " [742, 0.05181347150259067],\n",
       " [743, 0.052083333333333336],\n",
       " [744, 0.052083333333333336],\n",
       " [745, 0.052083333333333336],\n",
       " [746, 0.052083333333333336],\n",
       " [747, 0.052083333333333336],\n",
       " [748, 0.05235602094240838],\n",
       " [749, 0.05235602094240838],\n",
       " [750, 0.05235602094240838],\n",
       " [751, 0.05235602094240838],\n",
       " [752, 0.05235602094240838],\n",
       " [753, 0.05235602094240838],\n",
       " [754, 0.05235602094240838],\n",
       " [755, 0.05235602094240838],\n",
       " [756, 0.05235602094240838],\n",
       " [757, 0.05235602094240838],\n",
       " [758, 0.05235602094240838],\n",
       " [759, 0.05235602094240838],\n",
       " [760, 0.05235602094240838],\n",
       " [761, 0.05263157894736842],\n",
       " [762, 0.05263157894736842],\n",
       " [763, 0.05291005291005291],\n",
       " [764, 0.05291005291005291],\n",
       " [765, 0.05291005291005291],\n",
       " [766, 0.05319148936170213],\n",
       " [767, 0.05319148936170213],\n",
       " [768, 0.05319148936170213],\n",
       " [769, 0.05319148936170213],\n",
       " [770, 0.05319148936170213],\n",
       " [771, 0.05319148936170213],\n",
       " [772, 0.053475935828877004],\n",
       " [773, 0.053475935828877004],\n",
       " [774, 0.053475935828877004],\n",
       " [775, 0.053475935828877004],\n",
       " [776, 0.053475935828877004],\n",
       " [777, 0.053475935828877004],\n",
       " [778, 0.053475935828877004],\n",
       " [779, 0.053475935828877004],\n",
       " [780, 0.053475935828877004],\n",
       " [781, 0.053475935828877004],\n",
       " [782, 0.053475935828877004],\n",
       " [783, 0.053475935828877004],\n",
       " [784, 0.053475935828877004],\n",
       " [785, 0.053475935828877004],\n",
       " [786, 0.053475935828877004],\n",
       " [787, 0.053475935828877004],\n",
       " [788, 0.053475935828877004],\n",
       " [789, 0.053475935828877004],\n",
       " [790, 0.053475935828877004],\n",
       " [791, 0.053475935828877004],\n",
       " [792, 0.053475935828877004],\n",
       " [793, 0.053475935828877004],\n",
       " [794, 0.053475935828877004],\n",
       " [795, 0.053475935828877004],\n",
       " [796, 0.053475935828877004],\n",
       " [797, 0.053475935828877004],\n",
       " [798, 0.053475935828877004],\n",
       " [799, 0.053763440860215055],\n",
       " [800, 0.053763440860215055],\n",
       " [801, 0.053763440860215055],\n",
       " [802, 0.053763440860215055],\n",
       " [803, 0.053763440860215055],\n",
       " [804, 0.053763440860215055],\n",
       " [805, 0.053763440860215055],\n",
       " [806, 0.053763440860215055],\n",
       " [807, 0.053763440860215055],\n",
       " [808, 0.053763440860215055],\n",
       " [809, 0.053763440860215055],\n",
       " [810, 0.053763440860215055],\n",
       " [811, 0.053763440860215055],\n",
       " [812, 0.053763440860215055],\n",
       " [813, 0.053763440860215055],\n",
       " [814, 0.053763440860215055],\n",
       " [815, 0.053763440860215055],\n",
       " [816, 0.05405405405405406],\n",
       " [817, 0.05405405405405406],\n",
       " [818, 0.05434782608695652],\n",
       " [819, 0.05434782608695652],\n",
       " [820, 0.05434782608695652],\n",
       " [821, 0.05434782608695652],\n",
       " [822, 0.05434782608695652],\n",
       " [823, 0.05434782608695652],\n",
       " [824, 0.05434782608695652],\n",
       " [825, 0.05434782608695652],\n",
       " [826, 0.0546448087431694],\n",
       " [827, 0.0546448087431694],\n",
       " [828, 0.0546448087431694],\n",
       " [829, 0.0546448087431694],\n",
       " [830, 0.0546448087431694],\n",
       " [831, 0.0546448087431694],\n",
       " [832, 0.0546448087431694],\n",
       " [833, 0.0546448087431694],\n",
       " [834, 0.0546448087431694],\n",
       " [835, 0.0546448087431694],\n",
       " [836, 0.0546448087431694],\n",
       " [837, 0.0546448087431694],\n",
       " [838, 0.0546448087431694],\n",
       " [839, 0.0546448087431694],\n",
       " [840, 0.0546448087431694],\n",
       " [841, 0.0546448087431694],\n",
       " [842, 0.0546448087431694],\n",
       " [843, 0.0546448087431694],\n",
       " [844, 0.0546448087431694],\n",
       " [845, 0.0546448087431694],\n",
       " [846, 0.0546448087431694],\n",
       " [847, 0.0546448087431694],\n",
       " [848, 0.0546448087431694],\n",
       " [849, 0.0546448087431694],\n",
       " [850, 0.0546448087431694],\n",
       " [851, 0.0546448087431694],\n",
       " [852, 0.0546448087431694],\n",
       " [853, 0.054945054945054944],\n",
       " [854, 0.054945054945054944],\n",
       " [855, 0.054945054945054944],\n",
       " [856, 0.054945054945054944],\n",
       " [857, 0.054945054945054944],\n",
       " [858, 0.054945054945054944],\n",
       " [859, 0.054945054945054944],\n",
       " [860, 0.054945054945054944],\n",
       " [861, 0.054945054945054944],\n",
       " [862, 0.054945054945054944],\n",
       " [863, 0.054945054945054944],\n",
       " [864, 0.054945054945054944],\n",
       " [865, 0.054945054945054944],\n",
       " [866, 0.054945054945054944],\n",
       " [867, 0.054945054945054944],\n",
       " [868, 0.054945054945054944],\n",
       " [869, 0.054945054945054944],\n",
       " [870, 0.054945054945054944],\n",
       " [871, 0.054945054945054944],\n",
       " [872, 0.054945054945054944],\n",
       " [873, 0.054945054945054944],\n",
       " [874, 0.054945054945054944],\n",
       " [875, 0.054945054945054944],\n",
       " [876, 0.054945054945054944],\n",
       " [877, 0.054945054945054944],\n",
       " [878, 0.054945054945054944],\n",
       " [879, 0.054945054945054944],\n",
       " [880, 0.054945054945054944],\n",
       " [881, 0.054945054945054944],\n",
       " [882, 0.054945054945054944],\n",
       " [883, 0.054945054945054944],\n",
       " [884, 0.054945054945054944],\n",
       " [885, 0.054945054945054944],\n",
       " [886, 0.054945054945054944],\n",
       " [887, 0.054945054945054944],\n",
       " [888, 0.054945054945054944],\n",
       " [889, 0.054945054945054944],\n",
       " [890, 0.054945054945054944],\n",
       " [891, 0.054945054945054944],\n",
       " [892, 0.054945054945054944],\n",
       " [893, 0.054945054945054944],\n",
       " [894, 0.054945054945054944],\n",
       " [895, 0.054945054945054944],\n",
       " [896, 0.054945054945054944],\n",
       " [897, 0.054945054945054944],\n",
       " [898, 0.054945054945054944],\n",
       " [899, 0.054945054945054944],\n",
       " [900, 0.054945054945054944],\n",
       " [901, 0.054945054945054944],\n",
       " [902, 0.054945054945054944],\n",
       " [903, 0.054945054945054944],\n",
       " [904, 0.054945054945054944],\n",
       " [905, 0.055248618784530384],\n",
       " [906, 0.055248618784530384],\n",
       " [907, 0.055248618784530384],\n",
       " [908, 0.055248618784530384],\n",
       " [909, 0.055248618784530384],\n",
       " [910, 0.055248618784530384],\n",
       " [911, 0.055248618784530384],\n",
       " [912, 0.055248618784530384],\n",
       " [913, 0.055248618784530384],\n",
       " [914, 0.055248618784530384],\n",
       " [915, 0.055248618784530384],\n",
       " [916, 0.055248618784530384],\n",
       " [917, 0.055248618784530384],\n",
       " [918, 0.055248618784530384],\n",
       " [919, 0.055248618784530384],\n",
       " [920, 0.055248618784530384],\n",
       " [921, 0.055248618784530384],\n",
       " [922, 0.055248618784530384],\n",
       " [923, 0.055248618784530384],\n",
       " [924, 0.055248618784530384],\n",
       " [925, 0.055248618784530384],\n",
       " [926, 0.055248618784530384],\n",
       " [927, 0.055248618784530384],\n",
       " [928, 0.055248618784530384],\n",
       " [929, 0.055248618784530384],\n",
       " [930, 0.055248618784530384],\n",
       " [931, 0.055248618784530384],\n",
       " [932, 0.055248618784530384],\n",
       " [933, 0.055248618784530384],\n",
       " [934, 0.055248618784530384],\n",
       " [935, 0.055248618784530384],\n",
       " [936, 0.055248618784530384],\n",
       " [937, 0.055248618784530384],\n",
       " [938, 0.055248618784530384],\n",
       " [939, 0.055248618784530384],\n",
       " [940, 0.055248618784530384],\n",
       " [941, 0.055248618784530384],\n",
       " [942, 0.05555555555555555],\n",
       " [943, 0.05555555555555555],\n",
       " [944, 0.05555555555555555],\n",
       " [945, 0.05555555555555555],\n",
       " [946, 0.05555555555555555],\n",
       " [947, 0.055865921787709494],\n",
       " [948, 0.055865921787709494],\n",
       " [949, 0.055865921787709494],\n",
       " [950, 0.056179775280898875],\n",
       " [951, 0.056179775280898875],\n",
       " [952, 0.056179775280898875],\n",
       " [953, 0.056179775280898875],\n",
       " [954, 0.056179775280898875],\n",
       " [955, 0.056179775280898875],\n",
       " [956, 0.056179775280898875],\n",
       " [957, 0.056179775280898875],\n",
       " [958, 0.05649717514124294],\n",
       " [959, 0.056818181818181816],\n",
       " [960, 0.05714285714285714],\n",
       " [961, 0.05714285714285714],\n",
       " [962, 0.05714285714285714],\n",
       " [963, 0.05714285714285714],\n",
       " [964, 0.05714285714285714],\n",
       " [965, 0.05714285714285714],\n",
       " [966, 0.05714285714285714],\n",
       " [967, 0.05714285714285714],\n",
       " [968, 0.05714285714285714],\n",
       " [969, 0.05714285714285714],\n",
       " [970, 0.05714285714285714],\n",
       " [971, 0.05714285714285714],\n",
       " [972, 0.05714285714285714],\n",
       " [973, 0.05714285714285714],\n",
       " [974, 0.05714285714285714],\n",
       " [975, 0.05714285714285714],\n",
       " [976, 0.05714285714285714],\n",
       " [977, 0.05714285714285714],\n",
       " [978, 0.05714285714285714],\n",
       " [979, 0.05747126436781609],\n",
       " [980, 0.057803468208092484],\n",
       " [981, 0.057803468208092484],\n",
       " [982, 0.057803468208092484],\n",
       " [983, 0.057803468208092484],\n",
       " [984, 0.057803468208092484],\n",
       " [985, 0.057803468208092484],\n",
       " [986, 0.057803468208092484],\n",
       " [987, 0.057803468208092484],\n",
       " [988, 0.057803468208092484],\n",
       " [989, 0.057803468208092484],\n",
       " [990, 0.057803468208092484],\n",
       " [991, 0.057803468208092484],\n",
       " [992, 0.057803468208092484],\n",
       " [993, 0.057803468208092484],\n",
       " [994, 0.057803468208092484],\n",
       " [995, 0.057803468208092484],\n",
       " [996, 0.057803468208092484],\n",
       " [997, 0.057803468208092484],\n",
       " [998, 0.057803468208092484],\n",
       " [999, 0.057803468208092484],\n",
       " ...]"
      ]
     },
     "execution_count": 7,
     "metadata": {},
     "output_type": "execute_result"
    }
   ],
   "source": [
    "default_prop = []\n",
    "for i in range(int(df[\"RevolvingUtilizationOfUnsecuredLines\"].max())):\n",
    "    temp_ = df.loc[df[\"RevolvingUtilizationOfUnsecuredLines\"] >= i]\n",
    "    default_prop.append([i, temp_[\"SeriousDlqin2yrs\"].mean()])\n",
    "default_prop"
   ]
  },
  {
   "cell_type": "code",
   "execution_count": 8,
   "metadata": {
    "pycharm": {
     "name": "#%%\n"
    }
   },
   "outputs": [
    {
     "data": {
      "text/plain": [
       "Text(0.5, 1.0, 'Proportion of Defaulters As Minimum RUUL Increases')"
      ]
     },
     "execution_count": 8,
     "metadata": {},
     "output_type": "execute_result"
    },
    {
     "data": {
      "image/png": "[encoded data removed]",
      "text/plain": [
       "<Figure size 432x288 with 1 Axes>"
      ]
     },
     "metadata": {
      "needs_background": "light"
     },
     "output_type": "display_data"
    }
   ],
   "source": [
    "sns.lineplot(x=[i[0] for i in default_prop], y=[i[1] for i in default_prop])\n",
    "plt.title(\"Proportion of Defaulters As Minimum RUUL Increases\")"
   ]
  },
  {
   "cell_type": "code",
   "execution_count": 9,
   "metadata": {
    "pycharm": {
     "name": "#%%\n"
    }
   },
   "outputs": [
    {
     "name": "stdout",
     "output_type": "stream",
     "text": [
      "Proportion of Defaulters with Total Amount of Money Owed Not Exceeding Total Credit Limit: 0.05991996127598361\n"
     ]
    }
   ],
   "source": [
    "print(\"Proportion of Defaulters with Total Amount of Money Owed Not Exceeding Total Credit Limit: {}\"\\\n",
    "     .format(df.loc[(df[\"RevolvingUtilizationOfUnsecuredLines\"] >= 0) & (df[\"RevolvingUtilizationOfUnsecuredLines\"] <= 1)][\"SeriousDlqin2yrs\"].mean()))"
   ]
  },
  {
   "cell_type": "code",
   "execution_count": 10,
   "metadata": {
    "pycharm": {
     "name": "#%%\n"
    }
   },
   "outputs": [
    {
     "name": "stdout",
     "output_type": "stream",
     "text": [
      "Proportion of Defaulters with Total Amount of Money Owed Not Exceeding or Equal to 13 times of Total Credit Limit:\n",
      "0.06685273968029273\n"
     ]
    }
   ],
   "source": [
    "print(\"Proportion of Defaulters with Total Amount of Money Owed Not Exceeding or Equal to 13 times of Total Credit Limit:\\n{}\"\\\n",
    "     .format(df.loc[(df[\"RevolvingUtilizationOfUnsecuredLines\"] >= 0) & (df[\"RevolvingUtilizationOfUnsecuredLines\"] < 13)][\"SeriousDlqin2yrs\"].mean()))"
   ]
  },
  {
   "cell_type": "markdown",
   "metadata": {
    "pycharm": {
     "name": "#%% md\n"
    }
   },
   "source": [
    "### age"
   ]
  },
  {
   "cell_type": "code",
   "execution_count": 11,
   "metadata": {
    "pycharm": {
     "name": "#%%\n"
    }
   },
   "outputs": [
    {
     "data": {
      "text/plain": [
       "count    150000.000000\n",
       "mean         52.295207\n",
       "std          14.771866\n",
       "min           0.000000\n",
       "25%          41.000000\n",
       "50%          52.000000\n",
       "75%          63.000000\n",
       "max         109.000000\n",
       "Name: age, dtype: float64"
      ]
     },
     "execution_count": 11,
     "metadata": {},
     "output_type": "execute_result"
    }
   ],
   "source": [
    "df[\"age\"].describe()"
   ]
  },
  {
   "cell_type": "code",
   "execution_count": 12,
   "metadata": {
    "pycharm": {
     "name": "#%%\n"
    }
   },
   "outputs": [
    {
     "data": {
      "text/plain": [
       "<matplotlib.axes._subplots.AxesSubplot at 0x7f73f7d8db00>"
      ]
     },
     "execution_count": 12,
     "metadata": {},
     "output_type": "execute_result"
    },
    {
     "data": {
      "image/png": "[encoded data removed]",
      "text/plain": [
       "<Figure size 432x288 with 1 Axes>"
      ]
     },
     "metadata": {
      "needs_background": "light"
     },
     "output_type": "display_data"
    }
   ],
   "source": [
    "sns.distplot(df[\"age\"])"
   ]
  },
  {
   "cell_type": "code",
   "execution_count": 13,
   "metadata": {
    "pycharm": {
     "name": "#%%\n"
    }
   },
   "outputs": [
    {
     "data": {
      "text/plain": [
       "<matplotlib.axes._subplots.AxesSubplot at 0x7f73f4cc8a58>"
      ]
     },
     "execution_count": 13,
     "metadata": {},
     "output_type": "execute_result"
    },
    {
     "data": {
      "image/png": "[encoded data removed]",
      "text/plain": [
       "<Figure size 432x288 with 1 Axes>"
      ]
     },
     "metadata": {
      "needs_background": "light"
     },
     "output_type": "display_data"
    }
   ],
   "source": [
    "sns.distplot(df.loc[df[\"SeriousDlqin2yrs\"] == 0][\"age\"])"
   ]
  },
  {
   "cell_type": "code",
   "execution_count": 14,
   "metadata": {
    "pycharm": {
     "name": "#%%\n"
    }
   },
   "outputs": [
    {
     "data": {
      "text/plain": [
       "<matplotlib.axes._subplots.AxesSubplot at 0x7f73f4bd9550>"
      ]
     },
     "execution_count": 14,
     "metadata": {},
     "output_type": "execute_result"
    },
    {
     "data": {
      "image/png": "[encoded data removed]",
      "text/plain": [
       "<Figure size 432x288 with 1 Axes>"
      ]
     },
     "metadata": {
      "needs_background": "light"
     },
     "output_type": "display_data"
    }
   ],
   "source": [
    "sns.distplot(df.loc[df[\"SeriousDlqin2yrs\"] == 1][\"age\"])"
   ]
  },
  {
   "cell_type": "markdown",
   "metadata": {
    "pycharm": {
     "name": "#%% md\n"
    }
   },
   "source": [
    "### Late Payment Columns\n",
    "\n",
    "- NumberOfTimes90DaysLate\n",
    "- NumberOfTime60-89DaysPastDueNotWorse\n",
    "- NumberOfTime30-59DaysPastDueNotWorse"
   ]
  },
  {
   "cell_type": "code",
   "execution_count": 15,
   "metadata": {
    "pycharm": {
     "name": "#%%\n"
    }
   },
   "outputs": [
    {
     "data": {
      "text/plain": [
       "0     141662\n",
       "1       5243\n",
       "2       1555\n",
       "3        667\n",
       "4        291\n",
       "5        131\n",
       "6         80\n",
       "7         38\n",
       "8         21\n",
       "9         19\n",
       "10         8\n",
       "11         5\n",
       "12         2\n",
       "13         4\n",
       "14         2\n",
       "15         2\n",
       "17         1\n",
       "96         5\n",
       "98       264\n",
       "Name: NumberOfTimes90DaysLate, dtype: int64"
      ]
     },
     "execution_count": 15,
     "metadata": {},
     "output_type": "execute_result"
    }
   ],
   "source": [
    "late_pay_cols = [\"NumberOfTimes90DaysLate\", \"NumberOfTime60-89DaysPastDueNotWorse\",\n",
    "                \"NumberOfTime30-59DaysPastDueNotWorse\"]\n",
    "df[\"NumberOfTimes90DaysLate\"].value_counts().sort_index()"
   ]
  },
  {
   "cell_type": "code",
   "execution_count": 16,
   "metadata": {
    "pycharm": {
     "name": "#%%\n"
    }
   },
   "outputs": [
    {
     "data": {
      "text/plain": [
       "0     142396\n",
       "1       5731\n",
       "2       1118\n",
       "3        318\n",
       "4        105\n",
       "5         34\n",
       "6         16\n",
       "7          9\n",
       "8          2\n",
       "9          1\n",
       "11         1\n",
       "96         5\n",
       "98       264\n",
       "Name: NumberOfTime60-89DaysPastDueNotWorse, dtype: int64"
      ]
     },
     "execution_count": 16,
     "metadata": {},
     "output_type": "execute_result"
    }
   ],
   "source": [
    "df[\"NumberOfTime60-89DaysPastDueNotWorse\"].value_counts().sort_index()"
   ]
  },
  {
   "cell_type": "code",
   "execution_count": 17,
   "metadata": {
    "pycharm": {
     "name": "#%%\n"
    }
   },
   "outputs": [
    {
     "data": {
      "text/plain": [
       "0     126018\n",
       "1      16033\n",
       "2       4598\n",
       "3       1754\n",
       "4        747\n",
       "5        342\n",
       "6        140\n",
       "7         54\n",
       "8         25\n",
       "9         12\n",
       "10         4\n",
       "11         1\n",
       "12         2\n",
       "13         1\n",
       "96         5\n",
       "98       264\n",
       "Name: NumberOfTime30-59DaysPastDueNotWorse, dtype: int64"
      ]
     },
     "execution_count": 17,
     "metadata": {},
     "output_type": "execute_result"
    }
   ],
   "source": [
    "df[\"NumberOfTime30-59DaysPastDueNotWorse\"].value_counts().sort_index()"
   ]
  },
  {
   "cell_type": "code",
   "execution_count": 18,
   "metadata": {
    "pycharm": {
     "name": "#%%\n"
    }
   },
   "outputs": [
    {
     "data": {
      "text/html": [
       "<div>\n",
       "<style scoped>\n",
       "    .dataframe tbody tr th:only-of-type {\n",
       "        vertical-align: middle;\n",
       "    }\n",
       "\n",
       "    .dataframe tbody tr th {\n",
       "        vertical-align: top;\n",
       "    }\n",
       "\n",
       "    .dataframe thead th {\n",
       "        text-align: right;\n",
       "    }\n",
       "</style>\n",
       "<table border=\"1\" class=\"dataframe\">\n",
       "  <thead>\n",
       "    <tr style=\"text-align: right;\">\n",
       "      <th></th>\n",
       "      <th>NumberOfTimes90DaysLate</th>\n",
       "      <th>NumberOfTime60-89DaysPastDueNotWorse</th>\n",
       "      <th>NumberOfTime30-59DaysPastDueNotWorse</th>\n",
       "    </tr>\n",
       "  </thead>\n",
       "  <tbody>\n",
       "    <tr>\n",
       "      <th>count</th>\n",
       "      <td>269.000000</td>\n",
       "      <td>269.000000</td>\n",
       "      <td>269.000000</td>\n",
       "    </tr>\n",
       "    <tr>\n",
       "      <th>mean</th>\n",
       "      <td>97.962825</td>\n",
       "      <td>97.962825</td>\n",
       "      <td>97.962825</td>\n",
       "    </tr>\n",
       "    <tr>\n",
       "      <th>std</th>\n",
       "      <td>0.270628</td>\n",
       "      <td>0.270628</td>\n",
       "      <td>0.270628</td>\n",
       "    </tr>\n",
       "    <tr>\n",
       "      <th>min</th>\n",
       "      <td>96.000000</td>\n",
       "      <td>96.000000</td>\n",
       "      <td>96.000000</td>\n",
       "    </tr>\n",
       "    <tr>\n",
       "      <th>25%</th>\n",
       "      <td>98.000000</td>\n",
       "      <td>98.000000</td>\n",
       "      <td>98.000000</td>\n",
       "    </tr>\n",
       "    <tr>\n",
       "      <th>50%</th>\n",
       "      <td>98.000000</td>\n",
       "      <td>98.000000</td>\n",
       "      <td>98.000000</td>\n",
       "    </tr>\n",
       "    <tr>\n",
       "      <th>75%</th>\n",
       "      <td>98.000000</td>\n",
       "      <td>98.000000</td>\n",
       "      <td>98.000000</td>\n",
       "    </tr>\n",
       "    <tr>\n",
       "      <th>max</th>\n",
       "      <td>98.000000</td>\n",
       "      <td>98.000000</td>\n",
       "      <td>98.000000</td>\n",
       "    </tr>\n",
       "  </tbody>\n",
       "</table>\n",
       "</div>"
      ],
      "text/plain": [
       "       NumberOfTimes90DaysLate  NumberOfTime60-89DaysPastDueNotWorse  \\\n",
       "count               269.000000                            269.000000   \n",
       "mean                 97.962825                             97.962825   \n",
       "std                   0.270628                              0.270628   \n",
       "min                  96.000000                             96.000000   \n",
       "25%                  98.000000                             98.000000   \n",
       "50%                  98.000000                             98.000000   \n",
       "75%                  98.000000                             98.000000   \n",
       "max                  98.000000                             98.000000   \n",
       "\n",
       "       NumberOfTime30-59DaysPastDueNotWorse  \n",
       "count                            269.000000  \n",
       "mean                              97.962825  \n",
       "std                                0.270628  \n",
       "min                               96.000000  \n",
       "25%                               98.000000  \n",
       "50%                               98.000000  \n",
       "75%                               98.000000  \n",
       "max                               98.000000  "
      ]
     },
     "execution_count": 18,
     "metadata": {},
     "output_type": "execute_result"
    }
   ],
   "source": [
    "df.loc[df[\"NumberOfTimes90DaysLate\"] > 17][late_pay_cols].describe()"
   ]
  },
  {
   "cell_type": "code",
   "execution_count": 19,
   "metadata": {
    "pycharm": {
     "name": "#%%\n"
    }
   },
   "outputs": [
    {
     "data": {
      "text/plain": [
       "{'98,98,98': 263, '96,96,96': 4}"
      ]
     },
     "execution_count": 19,
     "metadata": {},
     "output_type": "execute_result"
    }
   ],
   "source": [
    "distinct_triples_counts = dict()\n",
    "for arr in df.loc[df[\"NumberOfTimes90DaysLate\"] > 17][late_pay_cols].values:\n",
    "    triple = \",\".join(list(map(str, arr)))\n",
    "    if triple not in distinct_triples_counts:\n",
    "        distinct_triples_counts[triple] = 0\n",
    "    else:\n",
    "        distinct_triples_counts[triple] += 1\n",
    "distinct_triples_counts"
   ]
  },
  {
   "cell_type": "markdown",
   "metadata": {
    "pycharm": {
     "name": "#%% md\n"
    }
   },
   "source": [
    "### DebtRatio"
   ]
  },
  {
   "cell_type": "code",
   "execution_count": 20,
   "metadata": {
    "pycharm": {
     "name": "#%%\n"
    }
   },
   "outputs": [
    {
     "data": {
      "text/plain": [
       "count    150000.000000\n",
       "mean        353.005076\n",
       "std        2037.818523\n",
       "min           0.000000\n",
       "25%           0.175074\n",
       "50%           0.366508\n",
       "75%           0.868254\n",
       "max      329664.000000\n",
       "Name: DebtRatio, dtype: float64"
      ]
     },
     "execution_count": 20,
     "metadata": {},
     "output_type": "execute_result"
    }
   ],
   "source": [
    "df[\"DebtRatio\"].describe()"
   ]
  },
  {
   "cell_type": "code",
   "execution_count": 21,
   "metadata": {
    "pycharm": {
     "name": "#%%\n"
    }
   },
   "outputs": [
    {
     "data": {
      "text/plain": [
       "2449.0"
      ]
     },
     "execution_count": 21,
     "metadata": {},
     "output_type": "execute_result"
    }
   ],
   "source": [
    "df[\"DebtRatio\"].quantile(0.95)"
   ]
  },
  {
   "cell_type": "code",
   "execution_count": 22,
   "metadata": {
    "pycharm": {
     "name": "#%%\n"
    }
   },
   "outputs": [
    {
     "data": {
      "text/html": [
       "<div>\n",
       "<style scoped>\n",
       "    .dataframe tbody tr th:only-of-type {\n",
       "        vertical-align: middle;\n",
       "    }\n",
       "\n",
       "    .dataframe tbody tr th {\n",
       "        vertical-align: top;\n",
       "    }\n",
       "\n",
       "    .dataframe thead th {\n",
       "        text-align: right;\n",
       "    }\n",
       "</style>\n",
       "<table border=\"1\" class=\"dataframe\">\n",
       "  <thead>\n",
       "    <tr style=\"text-align: right;\">\n",
       "      <th></th>\n",
       "      <th>DebtRatio</th>\n",
       "      <th>MonthlyIncome</th>\n",
       "      <th>SeriousDlqin2yrs</th>\n",
       "    </tr>\n",
       "  </thead>\n",
       "  <tbody>\n",
       "    <tr>\n",
       "      <th>count</th>\n",
       "      <td>7494.000000</td>\n",
       "      <td>379.000000</td>\n",
       "      <td>7494.000000</td>\n",
       "    </tr>\n",
       "    <tr>\n",
       "      <th>mean</th>\n",
       "      <td>4417.958367</td>\n",
       "      <td>0.084433</td>\n",
       "      <td>0.055111</td>\n",
       "    </tr>\n",
       "    <tr>\n",
       "      <th>std</th>\n",
       "      <td>7875.314649</td>\n",
       "      <td>0.278403</td>\n",
       "      <td>0.228212</td>\n",
       "    </tr>\n",
       "    <tr>\n",
       "      <th>min</th>\n",
       "      <td>2450.000000</td>\n",
       "      <td>0.000000</td>\n",
       "      <td>0.000000</td>\n",
       "    </tr>\n",
       "    <tr>\n",
       "      <th>25%</th>\n",
       "      <td>2893.250000</td>\n",
       "      <td>0.000000</td>\n",
       "      <td>0.000000</td>\n",
       "    </tr>\n",
       "    <tr>\n",
       "      <th>50%</th>\n",
       "      <td>3491.000000</td>\n",
       "      <td>0.000000</td>\n",
       "      <td>0.000000</td>\n",
       "    </tr>\n",
       "    <tr>\n",
       "      <th>75%</th>\n",
       "      <td>4620.000000</td>\n",
       "      <td>0.000000</td>\n",
       "      <td>0.000000</td>\n",
       "    </tr>\n",
       "    <tr>\n",
       "      <th>max</th>\n",
       "      <td>329664.000000</td>\n",
       "      <td>1.000000</td>\n",
       "      <td>1.000000</td>\n",
       "    </tr>\n",
       "  </tbody>\n",
       "</table>\n",
       "</div>"
      ],
      "text/plain": [
       "           DebtRatio  MonthlyIncome  SeriousDlqin2yrs\n",
       "count    7494.000000     379.000000       7494.000000\n",
       "mean     4417.958367       0.084433          0.055111\n",
       "std      7875.314649       0.278403          0.228212\n",
       "min      2450.000000       0.000000          0.000000\n",
       "25%      2893.250000       0.000000          0.000000\n",
       "50%      3491.000000       0.000000          0.000000\n",
       "75%      4620.000000       0.000000          0.000000\n",
       "max    329664.000000       1.000000          1.000000"
      ]
     },
     "execution_count": 22,
     "metadata": {},
     "output_type": "execute_result"
    }
   ],
   "source": [
    "df.loc[df[\"DebtRatio\"] > df[\"DebtRatio\"].quantile(0.95)][[\"DebtRatio\", \"MonthlyIncome\", \"SeriousDlqin2yrs\"]].describe()"
   ]
  },
  {
   "cell_type": "code",
   "execution_count": 23,
   "metadata": {
    "pycharm": {
     "name": "#%%\n"
    }
   },
   "outputs": [
    {
     "data": {
      "text/plain": [
       "331"
      ]
     },
     "execution_count": 23,
     "metadata": {},
     "output_type": "execute_result"
    }
   ],
   "source": [
    "len(df[(df[\"DebtRatio\"] > df[\"DebtRatio\"].quantile(0.95)) & (df['SeriousDlqin2yrs'] == df['MonthlyIncome'])])"
   ]
  },
  {
   "cell_type": "code",
   "execution_count": 24,
   "metadata": {
    "pycharm": {
     "name": "#%%\n"
    }
   },
   "outputs": [
    {
     "data": {
      "text/plain": [
       "0.0    347\n",
       "1.0     32\n",
       "Name: MonthlyIncome, dtype: int64"
      ]
     },
     "execution_count": 24,
     "metadata": {},
     "output_type": "execute_result"
    }
   ],
   "source": [
    "df.loc[df[\"DebtRatio\"] > df[\"DebtRatio\"].quantile(0.95)][\"MonthlyIncome\"].value_counts()"
   ]
  },
  {
   "cell_type": "code",
   "execution_count": 25,
   "metadata": {
    "pycharm": {
     "name": "#%%\n"
    }
   },
   "outputs": [
    {
     "name": "stdout",
     "output_type": "stream",
     "text": [
      "Number of people who owe around 2449 or more times what they own and have same values for MonthlyIncome and SeriousDlqin2yrs: 331\n"
     ]
    }
   ],
   "source": [
    "print(\"Number of people who owe around 2449 or more times what they own and have same values for MonthlyIncome and SeriousDlqin2yrs: {}\"\\\n",
    "     .format(len(df.loc[(df[\"DebtRatio\"] > df[\"DebtRatio\"].quantile(0.95)) & (df[\"MonthlyIncome\"] == df[\"SeriousDlqin2yrs\"])])))"
   ]
  },
  {
   "cell_type": "code",
   "execution_count": 26,
   "metadata": {
    "pycharm": {
     "name": "#%%\n"
    }
   },
   "outputs": [
    {
     "data": {
      "text/plain": [
       "3489.024999999994"
      ]
     },
     "execution_count": 26,
     "metadata": {},
     "output_type": "execute_result"
    }
   ],
   "source": [
    "df[\"DebtRatio\"].quantile(0.975)"
   ]
  },
  {
   "cell_type": "code",
   "execution_count": 27,
   "metadata": {
    "pycharm": {
     "name": "#%%\n"
    }
   },
   "outputs": [
    {
     "data": {
      "text/html": [
       "<div>\n",
       "<style scoped>\n",
       "    .dataframe tbody tr th:only-of-type {\n",
       "        vertical-align: middle;\n",
       "    }\n",
       "\n",
       "    .dataframe tbody tr th {\n",
       "        vertical-align: top;\n",
       "    }\n",
       "\n",
       "    .dataframe thead th {\n",
       "        text-align: right;\n",
       "    }\n",
       "</style>\n",
       "<table border=\"1\" class=\"dataframe\">\n",
       "  <thead>\n",
       "    <tr style=\"text-align: right;\">\n",
       "      <th></th>\n",
       "      <th>DebtRatio</th>\n",
       "      <th>MonthlyIncome</th>\n",
       "      <th>SeriousDlqin2yrs</th>\n",
       "    </tr>\n",
       "  </thead>\n",
       "  <tbody>\n",
       "    <tr>\n",
       "      <th>count</th>\n",
       "      <td>3750.000000</td>\n",
       "      <td>185.000000</td>\n",
       "      <td>3750.000000</td>\n",
       "    </tr>\n",
       "    <tr>\n",
       "      <th>mean</th>\n",
       "      <td>5917.488000</td>\n",
       "      <td>0.064865</td>\n",
       "      <td>0.064267</td>\n",
       "    </tr>\n",
       "    <tr>\n",
       "      <th>std</th>\n",
       "      <td>10925.524011</td>\n",
       "      <td>0.246956</td>\n",
       "      <td>0.245260</td>\n",
       "    </tr>\n",
       "    <tr>\n",
       "      <th>min</th>\n",
       "      <td>3490.000000</td>\n",
       "      <td>0.000000</td>\n",
       "      <td>0.000000</td>\n",
       "    </tr>\n",
       "    <tr>\n",
       "      <th>25%</th>\n",
       "      <td>3957.250000</td>\n",
       "      <td>0.000000</td>\n",
       "      <td>0.000000</td>\n",
       "    </tr>\n",
       "    <tr>\n",
       "      <th>50%</th>\n",
       "      <td>4619.000000</td>\n",
       "      <td>0.000000</td>\n",
       "      <td>0.000000</td>\n",
       "    </tr>\n",
       "    <tr>\n",
       "      <th>75%</th>\n",
       "      <td>5789.500000</td>\n",
       "      <td>0.000000</td>\n",
       "      <td>0.000000</td>\n",
       "    </tr>\n",
       "    <tr>\n",
       "      <th>max</th>\n",
       "      <td>329664.000000</td>\n",
       "      <td>1.000000</td>\n",
       "      <td>1.000000</td>\n",
       "    </tr>\n",
       "  </tbody>\n",
       "</table>\n",
       "</div>"
      ],
      "text/plain": [
       "           DebtRatio  MonthlyIncome  SeriousDlqin2yrs\n",
       "count    3750.000000     185.000000       3750.000000\n",
       "mean     5917.488000       0.064865          0.064267\n",
       "std     10925.524011       0.246956          0.245260\n",
       "min      3490.000000       0.000000          0.000000\n",
       "25%      3957.250000       0.000000          0.000000\n",
       "50%      4619.000000       0.000000          0.000000\n",
       "75%      5789.500000       0.000000          0.000000\n",
       "max    329664.000000       1.000000          1.000000"
      ]
     },
     "execution_count": 27,
     "metadata": {},
     "output_type": "execute_result"
    }
   ],
   "source": [
    "df.loc[df[\"DebtRatio\"] > df[\"DebtRatio\"].quantile(0.975)][[\"DebtRatio\", \"MonthlyIncome\", \"SeriousDlqin2yrs\"]].describe()"
   ]
  },
  {
   "cell_type": "code",
   "execution_count": 28,
   "metadata": {
    "pycharm": {
     "name": "#%%\n"
    }
   },
   "outputs": [
    {
     "data": {
      "text/plain": [
       "164"
      ]
     },
     "execution_count": 28,
     "metadata": {},
     "output_type": "execute_result"
    }
   ],
   "source": [
    "len(df[(df[\"DebtRatio\"] > df[\"DebtRatio\"].quantile(0.975)) & (df['SeriousDlqin2yrs'] == df['MonthlyIncome'])])"
   ]
  },
  {
   "cell_type": "code",
   "execution_count": 29,
   "metadata": {
    "pycharm": {
     "name": "#%%\n"
    }
   },
   "outputs": [
    {
     "data": {
      "text/plain": [
       "0.0    173\n",
       "1.0     12\n",
       "Name: MonthlyIncome, dtype: int64"
      ]
     },
     "execution_count": 29,
     "metadata": {},
     "output_type": "execute_result"
    }
   ],
   "source": [
    "df.loc[df[\"DebtRatio\"] > df[\"DebtRatio\"].quantile(0.975)][\"MonthlyIncome\"].value_counts()"
   ]
  },
  {
   "cell_type": "code",
   "execution_count": 30,
   "metadata": {
    "pycharm": {
     "name": "#%%\n"
    }
   },
   "outputs": [
    {
     "name": "stdout",
     "output_type": "stream",
     "text": [
      "Number of people who owe around 3490 or more times what they own and have same values for MonthlyIncome and SeriousDlqin2yrs: 164\n"
     ]
    }
   ],
   "source": [
    "print(\"Number of people who owe around 3490 or more times what they own and have same values for MonthlyIncome and SeriousDlqin2yrs: {}\"\\\n",
    "     .format(len(df.loc[(df[\"DebtRatio\"] > df[\"DebtRatio\"].quantile(0.975)) & (df[\"MonthlyIncome\"] == df[\"SeriousDlqin2yrs\"])])))"
   ]
  },
  {
   "cell_type": "markdown",
   "metadata": {
    "pycharm": {
     "name": "#%% md\n"
    }
   },
   "source": [
    "### MonthlyIncome"
   ]
  },
  {
   "cell_type": "code",
   "execution_count": 31,
   "metadata": {
    "pycharm": {
     "name": "#%%\n"
    }
   },
   "outputs": [
    {
     "data": {
      "text/plain": [
       "<matplotlib.axes._subplots.AxesSubplot at 0x7f73f4b35ac8>"
      ]
     },
     "execution_count": 31,
     "metadata": {},
     "output_type": "execute_result"
    },
    {
     "data": {
      "image/png": "[encoded data removed]",
      "text/plain": [
       "<Figure size 432x288 with 1 Axes>"
      ]
     },
     "metadata": {
      "needs_background": "light"
     },
     "output_type": "display_data"
    }
   ],
   "source": [
    "sns.distplot(df[\"MonthlyIncome\"].dropna())"
   ]
  },
  {
   "cell_type": "code",
   "execution_count": 32,
   "metadata": {
    "pycharm": {
     "name": "#%%\n"
    }
   },
   "outputs": [
    {
     "data": {
      "text/plain": [
       "count    1.202690e+05\n",
       "mean     6.670221e+03\n",
       "std      1.438467e+04\n",
       "min      0.000000e+00\n",
       "25%      3.400000e+03\n",
       "50%      5.400000e+03\n",
       "75%      8.249000e+03\n",
       "max      3.008750e+06\n",
       "Name: MonthlyIncome, dtype: float64"
      ]
     },
     "execution_count": 32,
     "metadata": {},
     "output_type": "execute_result"
    }
   ],
   "source": [
    "df[\"MonthlyIncome\"].describe()"
   ]
  },
  {
   "cell_type": "code",
   "execution_count": 33,
   "metadata": {
    "pycharm": {
     "name": "#%%\n"
    }
   },
   "outputs": [
    {
     "data": {
      "text/plain": [
       "<matplotlib.axes._subplots.AxesSubplot at 0x7f73f49c1d30>"
      ]
     },
     "execution_count": 33,
     "metadata": {},
     "output_type": "execute_result"
    },
    {
     "data": {
      "image/png": "[encoded data removed]",
      "text/plain": [
       "<Figure size 432x288 with 1 Axes>"
      ]
     },
     "metadata": {
      "needs_background": "light"
     },
     "output_type": "display_data"
    }
   ],
   "source": [
    "sns.distplot(df.loc[df[\"DebtRatio\"] <= df[\"DebtRatio\"].quantile(0.975)][\"MonthlyIncome\"].dropna())"
   ]
  },
  {
   "cell_type": "markdown",
   "metadata": {
    "pycharm": {
     "name": "#%% md\n"
    }
   },
   "source": [
    "### NumberOfOpenCreditLinesAndLoans"
   ]
  },
  {
   "cell_type": "code",
   "execution_count": 34,
   "metadata": {
    "pycharm": {
     "name": "#%%\n"
    }
   },
   "outputs": [
    {
     "data": {
      "text/plain": [
       "count    150000.000000\n",
       "mean          8.452760\n",
       "std           5.145951\n",
       "min           0.000000\n",
       "25%           5.000000\n",
       "50%           8.000000\n",
       "75%          11.000000\n",
       "max          58.000000\n",
       "Name: NumberOfOpenCreditLinesAndLoans, dtype: float64"
      ]
     },
     "execution_count": 34,
     "metadata": {},
     "output_type": "execute_result"
    }
   ],
   "source": [
    "df[\"NumberOfOpenCreditLinesAndLoans\"].describe()"
   ]
  },
  {
   "cell_type": "code",
   "execution_count": 35,
   "metadata": {
    "pycharm": {
     "name": "#%%\n"
    }
   },
   "outputs": [
    {
     "data": {
      "text/plain": [
       "6     13614\n",
       "7     13245\n",
       "5     12931\n",
       "8     12562\n",
       "4     11609\n",
       "9     11355\n",
       "10     9624\n",
       "3      9058\n",
       "11     8321\n",
       "12     7005\n",
       "2      6666\n",
       "13     5667\n",
       "14     4546\n",
       "1      4438\n",
       "15     3645\n",
       "16     3000\n",
       "17     2370\n",
       "0      1888\n",
       "18     1874\n",
       "19     1433\n",
       "20     1169\n",
       "21      864\n",
       "22      685\n",
       "23      533\n",
       "24      422\n",
       "25      337\n",
       "26      239\n",
       "27      194\n",
       "28      150\n",
       "29      114\n",
       "30       88\n",
       "31       74\n",
       "32       52\n",
       "33       47\n",
       "34       35\n",
       "35       27\n",
       "36       18\n",
       "38       13\n",
       "40       10\n",
       "39        9\n",
       "45        8\n",
       "43        8\n",
       "42        8\n",
       "37        7\n",
       "48        6\n",
       "41        4\n",
       "54        4\n",
       "49        4\n",
       "46        3\n",
       "52        3\n",
       "51        2\n",
       "56        2\n",
       "57        2\n",
       "50        2\n",
       "47        2\n",
       "44        2\n",
       "53        1\n",
       "58        1\n",
       "Name: NumberOfOpenCreditLinesAndLoans, dtype: int64"
      ]
     },
     "execution_count": 35,
     "metadata": {},
     "output_type": "execute_result"
    }
   ],
   "source": [
    "df[\"NumberOfOpenCreditLinesAndLoans\"].value_counts()"
   ]
  },
  {
   "cell_type": "code",
   "execution_count": 36,
   "metadata": {
    "pycharm": {
     "name": "#%%\n"
    }
   },
   "outputs": [
    {
     "data": {
      "text/plain": [
       "<matplotlib.axes._subplots.AxesSubplot at 0x7f73f498a9b0>"
      ]
     },
     "execution_count": 36,
     "metadata": {},
     "output_type": "execute_result"
    },
    {
     "data": {
      "image/png": "[encoded data removed]",
      "text/plain": [
       "<Figure size 432x288 with 1 Axes>"
      ]
     },
     "metadata": {
      "needs_background": "light"
     },
     "output_type": "display_data"
    }
   ],
   "source": [
    "sns.distplot(df[\"NumberOfOpenCreditLinesAndLoans\"])"
   ]
  },
  {
   "cell_type": "markdown",
   "metadata": {
    "pycharm": {
     "name": "#%% md\n"
    }
   },
   "source": [
    "### NumberRealEstateLoansOrLines"
   ]
  },
  {
   "cell_type": "code",
   "execution_count": 37,
   "metadata": {
    "pycharm": {
     "name": "#%%\n"
    }
   },
   "outputs": [
    {
     "data": {
      "text/plain": [
       "count    150000.000000\n",
       "mean          1.018240\n",
       "std           1.129771\n",
       "min           0.000000\n",
       "25%           0.000000\n",
       "50%           1.000000\n",
       "75%           2.000000\n",
       "max          54.000000\n",
       "Name: NumberRealEstateLoansOrLines, dtype: float64"
      ]
     },
     "execution_count": 37,
     "metadata": {},
     "output_type": "execute_result"
    }
   ],
   "source": [
    "df[\"NumberRealEstateLoansOrLines\"].describe()"
   ]
  },
  {
   "cell_type": "code",
   "execution_count": 38,
   "metadata": {
    "pycharm": {
     "name": "#%%\n"
    }
   },
   "outputs": [
    {
     "data": {
      "text/plain": [
       "0     56188\n",
       "1     52338\n",
       "2     31522\n",
       "3      6300\n",
       "4      2170\n",
       "5       689\n",
       "6       320\n",
       "7       171\n",
       "8        93\n",
       "9        78\n",
       "10       37\n",
       "11       23\n",
       "12       18\n",
       "13       15\n",
       "14        7\n",
       "15        7\n",
       "16        4\n",
       "17        4\n",
       "25        3\n",
       "18        2\n",
       "19        2\n",
       "20        2\n",
       "23        2\n",
       "32        1\n",
       "21        1\n",
       "26        1\n",
       "29        1\n",
       "54        1\n",
       "Name: NumberRealEstateLoansOrLines, dtype: int64"
      ]
     },
     "execution_count": 38,
     "metadata": {},
     "output_type": "execute_result"
    }
   ],
   "source": [
    "df[\"NumberRealEstateLoansOrLines\"].value_counts()"
   ]
  },
  {
   "cell_type": "code",
   "execution_count": 39,
   "metadata": {
    "pycharm": {
     "name": "#%%\n"
    }
   },
   "outputs": [
    {
     "data": {
      "text/plain": [
       "<matplotlib.axes._subplots.AxesSubplot at 0x7f73f49d8390>"
      ]
     },
     "execution_count": 39,
     "metadata": {},
     "output_type": "execute_result"
    },
    {
     "data": {
      "image/png": "[encoded data removed]",
      "text/plain": [
       "<Figure size 432x288 with 1 Axes>"
      ]
     },
     "metadata": {
      "needs_background": "light"
     },
     "output_type": "display_data"
    }
   ],
   "source": [
    "sns.countplot(x=\"NumberRealEstateLoansOrLines\", data=df.loc[df[\"NumberRealEstateLoansOrLines\"] <= 10])"
   ]
  },
  {
   "cell_type": "code",
   "execution_count": 40,
   "metadata": {
    "pycharm": {
     "name": "#%%\n"
    }
   },
   "outputs": [
    {
     "data": {
      "text/plain": [
       "count    38.000000\n",
       "mean      0.210526\n",
       "std       0.413155\n",
       "min       0.000000\n",
       "25%       0.000000\n",
       "50%       0.000000\n",
       "75%       0.000000\n",
       "max       1.000000\n",
       "Name: SeriousDlqin2yrs, dtype: float64"
      ]
     },
     "execution_count": 40,
     "metadata": {},
     "output_type": "execute_result"
    }
   ],
   "source": [
    "df.loc[df[\"NumberRealEstateLoansOrLines\"] > 13][\"SeriousDlqin2yrs\"].describe()"
   ]
  },
  {
   "cell_type": "markdown",
   "metadata": {
    "pycharm": {
     "name": "#%% md\n"
    }
   },
   "source": [
    "### NumberOfDependents"
   ]
  },
  {
   "cell_type": "code",
   "execution_count": 41,
   "metadata": {
    "pycharm": {
     "name": "#%%\n"
    }
   },
   "outputs": [
    {
     "data": {
      "text/plain": [
       "count    146076.000000\n",
       "mean          0.757222\n",
       "std           1.115086\n",
       "min           0.000000\n",
       "25%           0.000000\n",
       "50%           0.000000\n",
       "75%           1.000000\n",
       "max          20.000000\n",
       "Name: NumberOfDependents, dtype: float64"
      ]
     },
     "execution_count": 41,
     "metadata": {},
     "output_type": "execute_result"
    }
   ],
   "source": [
    "df[\"NumberOfDependents\"].describe()"
   ]
  },
  {
   "cell_type": "code",
   "execution_count": 42,
   "metadata": {
    "pycharm": {
     "name": "#%%\n"
    }
   },
   "outputs": [
    {
     "data": {
      "text/plain": [
       "0.0     86902\n",
       "1.0     26316\n",
       "2.0     19522\n",
       "3.0      9483\n",
       "4.0      2862\n",
       "5.0       746\n",
       "6.0       158\n",
       "7.0        51\n",
       "8.0        24\n",
       "9.0         5\n",
       "10.0        5\n",
       "13.0        1\n",
       "20.0        1\n",
       "Name: NumberOfDependents, dtype: int64"
      ]
     },
     "execution_count": 42,
     "metadata": {},
     "output_type": "execute_result"
    }
   ],
   "source": [
    "df[\"NumberOfDependents\"].value_counts()"
   ]
  },
  {
   "cell_type": "code",
   "execution_count": 43,
   "metadata": {
    "pycharm": {
     "name": "#%%\n"
    }
   },
   "outputs": [
    {
     "data": {
      "text/plain": [
       "count    146074.000000\n",
       "mean          0.067411\n",
       "std           0.250733\n",
       "min           0.000000\n",
       "25%           0.000000\n",
       "50%           0.000000\n",
       "75%           0.000000\n",
       "max           1.000000\n",
       "Name: SeriousDlqin2yrs, dtype: float64"
      ]
     },
     "execution_count": 43,
     "metadata": {},
     "output_type": "execute_result"
    }
   ],
   "source": [
    "df.loc[df[\"NumberOfDependents\"] <= 10][\"SeriousDlqin2yrs\"].describe()"
   ]
  },
  {
   "cell_type": "code",
   "execution_count": 44,
   "metadata": {
    "pycharm": {
     "name": "#%%\n"
    }
   },
   "outputs": [
    {
     "data": {
      "text/plain": [
       "<matplotlib.axes._subplots.AxesSubplot at 0x7f73f478dbe0>"
      ]
     },
     "execution_count": 44,
     "metadata": {},
     "output_type": "execute_result"
    },
    {
     "data": {
      "image/png": "[encoded data removed]",
      "text/plain": [
       "<Figure size 432x288 with 1 Axes>"
      ]
     },
     "metadata": {
      "needs_background": "light"
     },
     "output_type": "display_data"
    }
   ],
   "source": [
    "sns.countplot(x=\"NumberOfDependents\", data=df.loc[df[\"NumberOfDependents\"] <= 10])"
   ]
  },
  {
   "cell_type": "markdown",
   "metadata": {
    "pycharm": {
     "name": "#%% md\n"
    }
   },
   "source": [
    "## Preprocessing Suggestions <a class=\"anchor\" id=\"4\"></a>\n",
    "\n",
    "- Remove samples with values of DebtRatio above its 97.5 percentile\n",
    "- Set 0 <= RevolvingUtilizationOfUnsecuredLines < 13\n",
    "- Set NumberOfTimes90DaysLate <= 17\n",
    "- Impute MonthlyIncome with its median, or with a normally distributed variable with MonthlyIncome's mean and standard deviation\n",
    "- Impute NumberOfDependents with its mode"
   ]
  },
  {
   "cell_type": "markdown",
   "metadata": {
    "pycharm": {
     "name": "#%% md\n"
    }
   },
   "source": [
    "## References <a class=\"anchor\" id=\"5\"></a>"
   ]
  },
  {
   "cell_type": "code",
   "execution_count": null,
   "outputs": [],
   "source": [],
   "metadata": {
    "collapsed": false,
    "pycharm": {
     "name": "#%%\n"
    }
   }
  }
 ],
 "metadata": {
  "kernelspec": {
   "display_name": "Python 3",
   "language": "python",
   "name": "python3"
  },
  "language_info": {
   "codemirror_mode": {
    "name": "ipython",
    "version": 3
   },
   "file_extension": ".py",
   "mimetype": "text/x-python",
   "name": "python",
   "nbconvert_exporter": "python",
   "pygments_lexer": "ipython3",
   "version": "3.6.6"
  }
 },
 "nbformat": 4,
 "nbformat_minor": 4
}