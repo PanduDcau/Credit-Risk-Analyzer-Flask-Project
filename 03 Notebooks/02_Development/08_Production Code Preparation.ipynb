{
 "cells": [
  {
   "cell_type": "markdown",
   "id": "b2592801",
   "metadata": {},
   "source": [
    "The aim of this phase of the project is to compile and synthesise the final processes to be applied to both the initial dataset structure and to each of the features in it by packaging them into functions and pipes.\n",
    "\n",
    "Note: All processes have already been discussed in the corresponding stages of the project."
   ]
  },
  {
   "cell_type": "markdown",
   "id": "797ae63f",
   "metadata": {},
   "source": [
    "## IMPORTING PACKAGES"
   ]
  },
  {
   "cell_type": "code",
   "execution_count": 112,
   "id": "ffe7be80",
   "metadata": {},
   "outputs": [],
   "source": [
    "import numpy as np\n",
    "import pandas as pd\n",
    "import pickle\n",
    "\n",
    "import matplotlib.pyplot as plt\n",
    "%matplotlib inline\n",
    "\n",
    "#To increase autocomplete response speed\n",
    "%config IPCompleter.greedy=True\n",
    "\n",
    "from janitor import clean_names\n",
    "\n",
    "from sklearn.preprocessing import OneHotEncoder\n",
    "from sklearn.preprocessing import OrdinalEncoder\n",
    "from category_encoders import TargetEncoder\n",
    "from sklearn.preprocessing import Binarizer\n",
    "from sklearn.preprocessing import QuantileTransformer\n",
    "from sklearn.preprocessing import MinMaxScaler\n",
    "\n",
    "from sklearn.linear_model import LogisticRegression\n",
    "from sklearn.ensemble import HistGradientBoostingRegressor\n",
    "\n",
    "from sklearn.pipeline import Pipeline\n",
    "from sklearn.preprocessing import FunctionTransformer\n",
    "from sklearn.compose import make_column_transformer\n",
    "from sklearn.pipeline import make_pipeline\n",
    "\n",
    "#Disabling warnings\n",
    "import warnings\n",
    "warnings.filterwarnings(\"ignore\")"
   ]
  },
  {
   "cell_type": "markdown",
   "id": "5e12241c",
   "metadata": {},
   "source": [
    "## DATA IMPORTATION"
   ]
  },
  {
   "cell_type": "markdown",
   "id": "807b37d3",
   "metadata": {},
   "source": [
    "### Project path"
   ]
  },
  {
   "cell_type": "code",
   "execution_count": 113,
   "id": "5a6711f7",
   "metadata": {},
   "outputs": [],
   "source": [
    "project_path = '../..'"
   ]
  },
  {
   "cell_type": "markdown",
   "id": "89fe9a43",
   "metadata": {},
   "source": [
    "### Names of data files"
   ]
  },
  {
   "cell_type": "code",
   "execution_count": 114,
   "id": "25b345d7",
   "metadata": {},
   "outputs": [],
   "source": [
    "data_file_name = 'Loans.csv'"
   ]
  },
  {
   "cell_type": "markdown",
   "id": "765f82e1",
   "metadata": {},
   "source": [
    "### Data importation"
   ]
  },
  {
   "cell_type": "code",
   "execution_count": 115,
   "id": "480494ff",
   "metadata": {},
   "outputs": [],
   "source": [
    "full_path = project_path + '/02_Data/01_Originals/' + data_file_name\n",
    "\n",
    "df = pd.read_csv(full_path,sep=',')"
   ]
  },
  {
   "cell_type": "markdown",
   "id": "454738c9",
   "metadata": {},
   "source": [
    "### Selecting only final features"
   ]
  },
  {
   "cell_type": "code",
   "execution_count": 5,
   "id": "da477021",
   "metadata": {},
   "outputs": [],
   "source": [
    "final_features = ['term',\n",
    "                  'home_ownership',\n",
    "                  'purpose',\n",
    "                  'n_derogations',\n",
    "                  'employment_length',\n",
    "                  'scoring',                  \n",
    "                  'annual_income',                  \n",
    "                  'dti',   \n",
    "                  'installment',  \n",
    "                  'interest_rate',     \n",
    "                  'loan_amount',\n",
    "                  'n_credit_lines',\n",
    "                  'n_mortages',\n",
    "                  'revolving_utilization',\n",
    "                  'employment_title',\n",
    "                  'income_verification',\n",
    "                  'p_credit_cards_exceeding_75p',\n",
    "                  'status',\n",
    "                  'amortised_amount',\n",
    "                  'recovered_amount']"
   ]
  },
  {
   "cell_type": "markdown",
   "id": "f81f09bf",
   "metadata": {},
   "source": [
    "#### Created the process-feature matrix"
   ]
  },
  {
   "cell_type": "markdown",
   "id": "9e6576b6",
   "metadata": {},
   "source": [
    "In order to compile and synthesise the final processes to be applied both to the initial dataset structure and to each of the features in it, an excel named 'Production stage_Processes Design' has been designed and can be found in the folder '01_Documents'."
   ]
  },
  {
   "cell_type": "markdown",
   "id": "ee3f31a6",
   "metadata": {},
   "source": [
    "#### Update imported packages"
   ]
  },
  {
   "cell_type": "markdown",
   "id": "80c12eea",
   "metadata": {},
   "source": [
    "Go to the top (importing packages section) and update the packages with the ones will finally be used."
   ]
  },
  {
   "cell_type": "markdown",
   "id": "fe5a706b",
   "metadata": {},
   "source": [
    "## DATASET WRANGLING"
   ]
  },
  {
   "cell_type": "markdown",
   "id": "32cd09e5",
   "metadata": {},
   "source": [
    "### Formatting feature names"
   ]
  },
  {
   "cell_type": "code",
   "execution_count": 6,
   "id": "f08e56d8",
   "metadata": {},
   "outputs": [],
   "source": [
    "df = clean_names(df).set_index('client_id')\n",
    "df.columns = df.columns.str.replace('%','p').str.replace('nº','n')"
   ]
  },
  {
   "cell_type": "markdown",
   "id": "a9cd9497",
   "metadata": {},
   "source": [
    "### Deleting records"
   ]
  },
  {
   "cell_type": "markdown",
   "id": "4af7dbab",
   "metadata": {},
   "source": [
    "#### By duplicated"
   ]
  },
  {
   "cell_type": "code",
   "execution_count": 7,
   "id": "361fd5f0",
   "metadata": {},
   "outputs": [],
   "source": [
    "df.drop_duplicates(inplace = True)"
   ]
  },
  {
   "cell_type": "markdown",
   "id": "f5c95cad",
   "metadata": {},
   "source": [
    "#### By EDA"
   ]
  },
  {
   "cell_type": "code",
   "execution_count": 8,
   "id": "de566c35",
   "metadata": {},
   "outputs": [],
   "source": [
    "df = df[~df.index.isin(df.loc[df.annual_income>350000].index.values)]"
   ]
  },
  {
   "cell_type": "markdown",
   "id": "397f24ca",
   "metadata": {},
   "source": [
    "### Keeping only final features"
   ]
  },
  {
   "cell_type": "code",
   "execution_count": 9,
   "id": "8f0a7242",
   "metadata": {},
   "outputs": [],
   "source": [
    "df = df[final_features]"
   ]
  },
  {
   "cell_type": "code",
   "execution_count": 12,
   "id": "4ab1cb41",
   "metadata": {},
   "outputs": [
    {
     "data": {
      "text/plain": [
       "count    199130.000000\n",
       "mean      15004.478356\n",
       "std        9153.812380\n",
       "min         500.000000\n",
       "25%        8000.000000\n",
       "50%       12800.000000\n",
       "75%       20000.000000\n",
       "max       40000.000000\n",
       "Name: loan_amount, dtype: float64"
      ]
     },
     "execution_count": 12,
     "metadata": {},
     "output_type": "execute_result"
    }
   ],
   "source": [
    "df.loan_amount.describe()"
   ]
  },
  {
   "cell_type": "markdown",
   "id": "99bb2255",
   "metadata": {},
   "source": [
    "## CREATING FUNCTIONS AND PIPELINES"
   ]
  },
  {
   "cell_type": "markdown",
   "id": "6d6e8fca",
   "metadata": {},
   "source": [
    "### Instantiating Data Quality"
   ]
  },
  {
   "cell_type": "markdown",
   "id": "06178080",
   "metadata": {},
   "source": [
    "#### Creating the function"
   ]
  },
  {
   "cell_type": "code",
   "execution_count": 10,
   "id": "98177b43",
   "metadata": {},
   "outputs": [],
   "source": [
    "def data_quality(df):\n",
    "    temp = df.copy()\n",
    "    # Nulls \n",
    "        # Imputation by value\n",
    "    temp[['employment_title','employment_length']] = temp[['employment_title','employment_length']].fillna('Unknown')    \n",
    "    \n",
    "    var_impute_zero = ['p_credit_cards_exceeding_75p','n_mortages','n_derogations']\n",
    "    temp[var_impute_zero] = temp[var_impute_zero].fillna(0)\n",
    "    \n",
    "        # Imputation by median\n",
    "    def impute_median(feature):\n",
    "        if pd.api.types.is_integer_dtype(feature):\n",
    "            return(feature.fillna(int(feature.median())))\n",
    "        else:\n",
    "            return(feature.fillna(feature.median()))\n",
    "    \n",
    "    var_impute_median = ['revolving_utilization','dti','n_credit_lines']\n",
    "    temp[var_impute_median] = temp[var_impute_median].apply(impute_median)\n",
    "     \n",
    "    # Outliers\n",
    "        # Groupping atypical categories\n",
    "    temp['home_ownership'] = temp.home_ownership.replace(['ANY','OTHER','NONE'],'MORTGAGE')\n",
    "    temp['purpose'] = temp.purpose.replace(['wedding','renewable_energy','educational'],'other')\n",
    "        # Ad hoc winsorisation\n",
    "    temp[['revolving_utilization','dti']] = temp[['revolving_utilization','dti']].clip(0,100) \n",
    "    \n",
    "    # Discretisation\n",
    "    temp['p_credit_cards_exceeding_75p_disc'] = pd.cut(temp['p_credit_cards_exceeding_75p'], \n",
    "                                                     [-float(\"inf\"), 20, 80, float(\"inf\")], \n",
    "                                                     labels = ['00_Under_20p','01_20p_80p','02_Over_80p'])\n",
    "    temp.drop(columns='p_credit_cards_exceeding_75p',inplace=True)\n",
    "    \n",
    "    return(temp)"
   ]
  },
  {
   "cell_type": "markdown",
   "id": "64254857",
   "metadata": {},
   "source": [
    "### Instantiating Target creation"
   ]
  },
  {
   "cell_type": "markdown",
   "id": "7483c3a1",
   "metadata": {},
   "source": [
    "#### Creating the functions"
   ]
  },
  {
   "cell_type": "code",
   "execution_count": 11,
   "id": "5869aa9c",
   "metadata": {},
   "outputs": [],
   "source": [
    "def create_target_pd(df):\n",
    "    temp = df.copy()\n",
    "    \n",
    "    # Creating target\n",
    "    temp['target_pd'] = np.where(temp.status.isin(['Default',\n",
    "                                                   'Charged Off',\n",
    "                                                   'Does not meet the credit policy. Status:Charged Off']),1,0)\n",
    "    # Deleting features\n",
    "    temp.drop(columns=['status','amortised_amount','recovered_amount', 'installment', 'interest_rate'],inplace=True)\n",
    "    \n",
    "    # Features and target\n",
    "    temp_x = temp.iloc[:,:-1]\n",
    "    temp_y = temp.iloc[:,-1]\n",
    "    \n",
    "    return(temp_x,temp_y)"
   ]
  },
  {
   "cell_type": "code",
   "execution_count": 12,
   "id": "4c1021a8",
   "metadata": {},
   "outputs": [],
   "source": [
    "def create_target_ead(df):\n",
    "    temp = df.copy()\n",
    "    \n",
    "    # Creating target\n",
    "    temp['target_ead'] = (temp.loan_amount - temp.amortised_amount)/temp.loan_amount\n",
    "    temp.target_ead.clip(0,1,inplace=True)\n",
    "    \n",
    "    # Deleting features\n",
    "    temp.drop(columns=['status','amortised_amount','recovered_amount'],inplace=True)\n",
    "    \n",
    "    # Features and target\n",
    "    temp_x = temp.iloc[:,:-1]\n",
    "    temp_y = temp.iloc[:,-1]\n",
    "    \n",
    "    return(temp_x,temp_y)"
   ]
  },
  {
   "cell_type": "code",
   "execution_count": 13,
   "id": "a5028845",
   "metadata": {},
   "outputs": [],
   "source": [
    "def create_target_lgd(df):\n",
    "    temp = df.copy()\n",
    "\n",
    "    # Creating target\n",
    "    temp['target_lgd'] = 1 - temp.recovered_amount/(temp.loan_amount - temp.amortised_amount)\n",
    "    temp.target_lgd.fillna(0,inplace=True)\n",
    "    temp.target_lgd.clip(0,1,inplace=True)\n",
    "    \n",
    "    # Deleting features\n",
    "    temp.drop(columns=['status','amortised_amount','recovered_amount'],inplace=True)\n",
    "    \n",
    "    # Features and target\n",
    "    temp_x = temp.iloc[:,:-1]\n",
    "    temp_y = temp.iloc[:,-1]\n",
    "\n",
    "    return(temp_x,temp_y)"
   ]
  },
  {
   "cell_type": "markdown",
   "id": "e7c7cdef",
   "metadata": {},
   "source": [
    "### Creating X, y for each model"
   ]
  },
  {
   "cell_type": "code",
   "execution_count": 15,
   "id": "6358eff7",
   "metadata": {},
   "outputs": [],
   "source": [
    "x_pd, y_pd = create_target_pd(data_quality(df))\n",
    "x_ead, y_ead = create_target_ead(data_quality(df))\n",
    "x_lgd, y_lgd = create_target_lgd(data_quality(df))"
   ]
  },
  {
   "cell_type": "markdown",
   "id": "88e57147",
   "metadata": {},
   "source": [
    "### Instantiating Feature Transformation"
   ]
  },
  {
   "cell_type": "code",
   "execution_count": 16,
   "id": "ee711664",
   "metadata": {},
   "outputs": [],
   "source": [
    "# One Hot Encoding\n",
    "var_ohe = ['term', 'home_ownership', 'purpose']\n",
    "ohe = OneHotEncoder(handle_unknown='ignore')\n",
    "\n",
    "# Ordinal Encoding\n",
    "var_oe = ['employment_length','scoring']\n",
    "order_employment_length = ['Unknown','< 1 year','1 year','2 years','3 years','4 years','5 years','6 years','7 years',\n",
    "                           '8 years','9 years','10+ years']\n",
    "order_scoring = ['A', 'B', 'C', 'D', 'E', 'F', 'G']\n",
    "oe = OrdinalEncoder(categories = [order_employment_length,order_scoring],\n",
    "                    handle_unknown = 'use_encoded_value',\n",
    "                    unknown_value = 12)\n",
    "# Target Encoding\n",
    "var_te = ['employment_title', 'income_verification', 'p_credit_cards_exceeding_75p_disc']\n",
    "te = TargetEncoder(min_samples_leaf=100, return_df = False)\n",
    "\n",
    "# Binarisation\n",
    "var_bin = ['n_derogations']\n",
    "binarizer = Binarizer(threshold=0)\n",
    "\n",
    "# Normalisation (Gauss)\n",
    "var_qt_pd = ['annual_income', 'dti', 'loan_amount', 'n_credit_lines', 'n_mortages', 'revolving_utilization']\n",
    "var_qt_ead_lgd = ['annual_income', 'dti', 'installment', 'interest_rate', 'loan_amount', 'n_credit_lines', \n",
    "                  'n_mortages', 'revolving_utilization']\n",
    "qt = QuantileTransformer(output_distribution='normal')\n",
    "\n",
    "# Min-max scaling\n",
    "var_mms_pd = slice(x_pd[var_ohe].apply(lambda x: x.nunique()).sum() + len(var_bin),\n",
    "                   x_pd[var_ohe].apply(lambda x: x.nunique()).sum() + len(var_bin) + len(var_oe+var_te+var_qt_ead_lgd))\n",
    "var_mms_ead_lgd = slice(x_ead[var_ohe].apply(lambda x: x.nunique()).sum() + len(var_bin),\n",
    "                        x_ead[var_ohe].apply(lambda x: x.nunique()).sum() + len(var_bin) + len(var_oe+var_te+var_qt_ead_lgd))\n",
    "mms = MinMaxScaler()"
   ]
  },
  {
   "cell_type": "markdown",
   "id": "eaf3f141",
   "metadata": {},
   "source": [
    "### Creating the preprocessing pipe"
   ]
  },
  {
   "cell_type": "markdown",
   "id": "8d7b7821",
   "metadata": {},
   "source": [
    "#### Creating column transformers"
   ]
  },
  {
   "cell_type": "markdown",
   "id": "6a5c5514",
   "metadata": {},
   "source": [
    "##### PD model"
   ]
  },
  {
   "cell_type": "code",
   "execution_count": 17,
   "id": "4c2dd526",
   "metadata": {},
   "outputs": [],
   "source": [
    "# ohe + oe + te + bin + qt:\n",
    "ct1_pd = make_column_transformer((ohe, var_ohe),\n",
    "                                 (binarizer, var_bin),\n",
    "                                 (oe, var_oe),\n",
    "                                 (te, var_te),\n",
    "                                 (qt, var_qt_pd),\n",
    "                                 remainder='drop',\n",
    "                                 n_jobs=-1)\n",
    "\n",
    "# mms:\n",
    "ct2_pd = make_column_transformer((mms, var_mms_pd), remainder='passthrough', n_jobs=-1)"
   ]
  },
  {
   "cell_type": "markdown",
   "id": "763c7c0d",
   "metadata": {},
   "source": [
    "###### EAD model / LGD model"
   ]
  },
  {
   "cell_type": "code",
   "execution_count": 18,
   "id": "68435e19",
   "metadata": {},
   "outputs": [],
   "source": [
    "# ohe + oe + te + bin + qt:\n",
    "ct1_ead_lgd = make_column_transformer((ohe, var_ohe),\n",
    "                                      (binarizer, var_bin),\n",
    "                                      (oe, var_oe),\n",
    "                                      (te, var_te),\n",
    "                                      (qt, var_qt_ead_lgd),\n",
    "                                      remainder='drop',\n",
    "                                      n_jobs=-1)\n",
    "\n",
    "# mms:\n",
    "ct2_ead_lgd = make_column_transformer((mms, var_mms_ead_lgd), remainder='passthrough', n_jobs=-1)"
   ]
  },
  {
   "cell_type": "markdown",
   "id": "5de30e37",
   "metadata": {},
   "source": [
    "#### Creating pre-processing pipelines"
   ]
  },
  {
   "cell_type": "code",
   "execution_count": 19,
   "id": "54e1300d",
   "metadata": {},
   "outputs": [],
   "source": [
    "pipe_prepro_pd = make_pipeline(ct1_pd, ct2_pd)\n",
    "\n",
    "pipe_prepro_ead_lgd = make_pipeline(ct1_ead_lgd, ct2_ead_lgd)"
   ]
  },
  {
   "cell_type": "markdown",
   "id": "1130e4f4",
   "metadata": {},
   "source": [
    "### Creating training pipes"
   ]
  },
  {
   "cell_type": "markdown",
   "id": "d4b08601",
   "metadata": {},
   "source": [
    "#### Instantiating the algorithms"
   ]
  },
  {
   "cell_type": "code",
   "execution_count": 20,
   "id": "8b2e752d",
   "metadata": {},
   "outputs": [],
   "source": [
    "model_pd = LogisticRegression(n_jobs=-1, \n",
    "                              C=0.4, \n",
    "                              penalty='l1', \n",
    "                              solver='saga')\n",
    "\n",
    "model_ead = HistGradientBoostingRegressor(learning_rate = 0.1,\n",
    "                                          max_iter = 200,\n",
    "                                          max_depth = 10,\n",
    "                                          min_samples_leaf = 100,\n",
    "                                          scoring = 'neg_mean_absolute_error',\n",
    "                                          l2_regularization = 0.25)\n",
    "\n",
    "model_lgd = HistGradientBoostingRegressor(learning_rate = 0.1,\n",
    "                                          max_iter = 200,\n",
    "                                          max_depth = 20,\n",
    "                                          min_samples_leaf = 100,\n",
    "                                          scoring = 'neg_mean_absolute_error',\n",
    "                                          l2_regularization = 0.75)"
   ]
  },
  {
   "cell_type": "markdown",
   "id": "80f8e2f3",
   "metadata": {},
   "source": [
    "#### Creating final training pipes"
   ]
  },
  {
   "cell_type": "code",
   "execution_count": 21,
   "id": "0efb038b",
   "metadata": {},
   "outputs": [],
   "source": [
    "pipe_training_pd = make_pipeline(pipe_prepro_pd, model_pd)\n",
    "pipe_training_ead = make_pipeline(pipe_prepro_ead_lgd, model_ead)\n",
    "pipe_training_lgd = make_pipeline(pipe_prepro_ead_lgd, model_lgd)"
   ]
  },
  {
   "cell_type": "markdown",
   "id": "cb0700d8",
   "metadata": {},
   "source": [
    "#### Saving final training pipes"
   ]
  },
  {
   "cell_type": "code",
   "execution_count": 22,
   "id": "71715e9c",
   "metadata": {},
   "outputs": [],
   "source": [
    "# PD\n",
    "name_pipe_training_pd = 'pipe_training_pd.pickle'\n",
    "path_pipe_training_pd = project_path + '/04_Models/' + name_pipe_training_pd\n",
    "\n",
    "with open(path_pipe_training_pd, mode='wb') as file:\n",
    "   pickle.dump(pipe_training_pd, file)\n",
    "\n",
    "# EAD\n",
    "name_pipe_training_ead = 'pipe_training_ead.pickle'\n",
    "path_pipe_training_ead = project_path + '/04_Models/' + name_pipe_training_ead\n",
    "\n",
    "with open(path_pipe_training_ead, mode='wb') as file:\n",
    "   pickle.dump(pipe_training_ead, file)\n",
    "\n",
    "# LGD\n",
    "name_pipe_training_lgd = 'pipe_training_lgd.pickle'\n",
    "path_pipe_training_lgd = project_path + '/04_Models/' + name_pipe_training_lgd\n",
    "\n",
    "with open(path_pipe_training_lgd, mode='wb') as file:\n",
    "   pickle.dump(pipe_training_lgd, file)"
   ]
  },
  {
   "cell_type": "markdown",
   "id": "c42ecf37",
   "metadata": {},
   "source": [
    "### Creating execution pipes"
   ]
  },
  {
   "cell_type": "markdown",
   "id": "2c7e5ed1",
   "metadata": {},
   "source": [
    "#### Training final execution pipes"
   ]
  },
  {
   "cell_type": "code",
   "execution_count": 23,
   "id": "13ca2db6",
   "metadata": {},
   "outputs": [],
   "source": [
    "pipe_execution_pd = pipe_training_pd.fit(x_pd,y_pd)\n",
    "pipe_execution_ead = pipe_training_ead.fit(x_ead,y_ead)\n",
    "pipe_execution_lgd = pipe_training_lgd.fit(x_lgd,y_lgd)"
   ]
  },
  {
   "cell_type": "markdown",
   "id": "52e506db",
   "metadata": {},
   "source": [
    "#### Saving final execution pipes"
   ]
  },
  {
   "cell_type": "code",
   "execution_count": 24,
   "id": "442be55c",
   "metadata": {},
   "outputs": [],
   "source": [
    "# PD\n",
    "name_pipe_execution_pd = 'pipe_execution_pd.pickle'\n",
    "path_pipe_ejecucion_pd = project_path + '/04_Models/' + name_pipe_execution_pd\n",
    "\n",
    "with open(path_pipe_ejecucion_pd, mode='wb') as file:\n",
    "   pickle.dump(pipe_execution_pd, file)\n",
    "\n",
    "# EAD\n",
    "name_pipe_execution_ead = 'pipe_execution_ead.pickle'\n",
    "path_pipe_ejecucion_ead = project_path + '/04_Models/' + name_pipe_execution_ead\n",
    "\n",
    "with open(path_pipe_ejecucion_ead, mode='wb') as file:\n",
    "   pickle.dump(pipe_execution_ead, file)\n",
    "\n",
    "# LGD\n",
    "name_pipe_execution_lgd = 'pipe_execution_lgd.pickle'\n",
    "path_pipe_ejecucion_lgd = project_path + '/04_Models/' + name_pipe_execution_lgd\n",
    "\n",
    "with open(path_pipe_ejecucion_lgd, mode='wb') as file:\n",
    "   pickle.dump(pipe_execution_lgd, file)"
   ]
  },
  {
   "cell_type": "markdown",
   "id": "bd5da0bf",
   "metadata": {},
   "source": [
    "## UNSEEN DATA - MODELS PERFORMANCE"
   ]
  },
  {
   "cell_type": "markdown",
   "id": "e68f1521",
   "metadata": {},
   "source": [
    "Testing the performance of the model with previously unseen data using the validation dataset reserved in the set up phase at the beginning of the project, and checking that all transformations and calculations work on new raw data to ensure proper functioning once the model is put into production."
   ]
  },
  {
   "cell_type": "code",
   "execution_count": 25,
   "id": "0c633cf7",
   "metadata": {},
   "outputs": [],
   "source": [
    "# Loading validation data\n",
    "val_data_file_name = 'validation.csv'\n",
    "val_full_path = project_path + '/02_Data/02_Validation/' + val_data_file_name\n",
    "df_test = pd.read_csv(val_full_path,sep=',')\n",
    "\n",
    "# Adapting validation data structure\n",
    "df_test = clean_names(df_test).set_index('client_id')\n",
    "df_test.columns = df_test.columns.str.replace('%','p').str.replace('nº','n')\n",
    "df_test = df_test.drop_duplicates() \\\n",
    "          [~df_test.index.isin(df_test.loc[df_test.annual_income>350000].index.values)][final_features]\n",
    "\n",
    "# x and y      \n",
    "x_test_pd, y_test_pd = create_target_pd(data_quality(df_test))\n",
    "x_test_ead, y_test_ead = create_target_ead(data_quality(df_test))\n",
    "x_test_lgd, y_test_lgd = create_target_lgd(data_quality(df_test))\n",
    "\n",
    "# Making predictions\n",
    "pred_test_pd = pipe_execution_pd.predict_proba(x_test_pd)[:,1]\n",
    "pred_test_ead = np.clip(pipe_execution_ead.predict(x_test_ead),0,1)\n",
    "pred_test_lgd = np.clip(pipe_execution_lgd.predict(x_test_lgd),0,1)"
   ]
  },
  {
   "cell_type": "markdown",
   "id": "a85f4199",
   "metadata": {},
   "source": [
    "Checking validation metrics:"
   ]
  },
  {
   "cell_type": "code",
   "execution_count": 26,
   "id": "f550ce81",
   "metadata": {},
   "outputs": [
    {
     "name": "stdout",
     "output_type": "stream",
     "text": [
      "PD model - ROC_AUC_score (unseen data): 0.7\n",
      "EAD model - MAE (unseen data): 0.23\n",
      "LGD model - MAE (unseen data): 0.36\n"
     ]
    }
   ],
   "source": [
    "from sklearn.metrics import roc_auc_score\n",
    "from sklearn.metrics import mean_absolute_error\n",
    "\n",
    "print('PD model -','ROC_AUC_score (unseen data):', np.round(roc_auc_score(y_test_pd, pred_test_pd),2))\n",
    "print('EAD model -','MAE (unseen data):', np.round(mean_absolute_error(y_test_ead, pred_test_ead),2))\n",
    "print('LGD model -','MAE (unseen data):', np.round(mean_absolute_error(y_test_lgd, pred_test_lgd),2))"
   ]
  },
  {
   "cell_type": "markdown",
   "id": "4924fcb3",
   "metadata": {},
   "source": [
    "Checking pred-y_true correlations:"
   ]
  },
  {
   "cell_type": "code",
   "execution_count": 27,
   "id": "b29e8e0d",
   "metadata": {},
   "outputs": [
    {
     "name": "stdout",
     "output_type": "stream",
     "text": [
      "EAD model pred-true corr. \n",
      " ------------------------------\n",
      "           ead_true  ead_pred\n",
      "ead_true  1.000000  0.631897\n",
      "ead_pred  0.631897  1.000000 \n",
      "\n",
      "\n",
      "\n",
      "LGD model pred-true corr. \n",
      " ------------------------------\n",
      "           lgd_true  lgd_pred\n",
      "lgd_true  1.000000  0.553992\n",
      "lgd_pred  0.553992  1.000000\n"
     ]
    }
   ],
   "source": [
    "print('EAD model pred-true corr. \\n', 30*'-'+'\\n', pd.DataFrame({'ead_true':y_test_ead, 'ead_pred':pred_test_ead}).corr(),'\\n\\n\\n')\n",
    "print('LGD model pred-true corr. \\n', 30*'-'+'\\n', pd.DataFrame({'lgd_true':y_test_lgd, 'lgd_pred':pred_test_lgd}).corr())"
   ]
  },
  {
   "cell_type": "markdown",
   "id": "d9499b1a",
   "metadata": {},
   "source": [
    "Plotting:"
   ]
  },
  {
   "cell_type": "code",
   "execution_count": 28,
   "id": "eaccee68",
   "metadata": {},
   "outputs": [
    {
     "data": {
      "image/png": "[encoded data removed]",
      "text/plain": [
       "<Figure size 1152x360 with 3 Axes>"
      ]
     },
     "metadata": {
      "needs_background": "light"
     },
     "output_type": "display_data"
    }
   ],
   "source": [
    "import scikitplot as skplt\n",
    "\n",
    "f,ax = plt.subplots(1,3,figsize=(16,5))\n",
    "skplt.metrics.plot_roc(y_test_pd, pipe_execution_pd.predict_proba(x_test_pd), plot_micro=False,plot_macro=False,classes_to_plot=1, ax=ax[0])\n",
    "ax[0].get_lines()[0].set_color(\"C0\")\n",
    "ax[0].legend(labels = ['PD Model - ROC curve of class 1','Random'])\n",
    "ax[0].set_title('PD model (ROC curve)')\n",
    "pd.DataFrame({'ead_true':y_test_ead, 'ead_pred':pred_test_ead}).plot.density(title='EAD model (density)', ax=ax[1]);\n",
    "pd.DataFrame({'lgd_true':y_test_lgd, 'lgd_pred':pred_test_lgd}).plot.density(title='LGD model (density)', ax=ax[2]);"
   ]
  },
  {
   "cell_type": "markdown",
   "id": "7ea8e6b8",
   "metadata": {},
   "source": [
    "- It is verified that there are no errors when introducing new data to the developed models.\n",
    "\n",
    "- It is verified that the performance of the models with new data remains stable and similar to that obtained with the training data."
   ]
  }
 ],
 "metadata": {
  "kernelspec": {
   "display_name": "Python 3 (ipykernel)",
   "language": "python",
   "name": "python3"
  },
  "language_info": {
   "codemirror_mode": {
    "name": "ipython",
    "version": 3
   },
   "file_extension": ".py",
   "mimetype": "text/x-python",
   "name": "python",
   "nbconvert_exporter": "python",
   "pygments_lexer": "ipython3",
   "version": "3.9.12"
  },
  "latex_envs": {
   "LaTeX_envs_menu_present": true,
   "autoclose": false,
   "autocomplete": true,
   "bibliofile": "biblio.bib",
   "cite_by": "apalike",
   "current_citInitial": 1,
   "eqLabelWithNumbers": true,
   "eqNumInitial": 1,
   "hotkeys": {
    "equation": "Ctrl-E",
    "itemize": "Ctrl-I"
   },
   "labels_anchors": false,
   "latex_user_defs": false,
   "report_style_numbering": false,
   "user_envs_cfg": false
  },
  "toc": {
   "base_numbering": 1,
   "nav_menu": {},
   "number_sections": true,
   "sideBar": true,
   "skip_h1_title": false,
   "title_cell": "Table of Contents",
   "title_sidebar": "Contents",
   "toc_cell": false,
   "toc_position": {
    "height": "calc(100% - 180px)",
    "left": "10px",
    "top": "150px",
    "width": "383.367px"
   },
   "toc_section_display": true,
   "toc_window_display": true
  },
  "varInspector": {
   "cols": {
    "lenName": 16,
    "lenType": 16,
    "lenVar": 40
   },
   "kernels_config": {
    "python": {
     "delete_cmd_postfix": "",
     "delete_cmd_prefix": "del ",
     "library": "var_list.py",
     "varRefreshCmd": "print(var_dic_list())"
    },
    "r": {
     "delete_cmd_postfix": ") ",
     "delete_cmd_prefix": "rm(",
     "library": "var_list.r",
     "varRefreshCmd": "cat(var_dic_list()) "
    }
   },
   "types_to_exclude": [
    "module",
    "function",
    "builtin_function_or_method",
    "instance",
    "_Feature"
   ],
   "window_display": false
  }
 },
 "nbformat": 4,
 "nbformat_minor": 5
}
