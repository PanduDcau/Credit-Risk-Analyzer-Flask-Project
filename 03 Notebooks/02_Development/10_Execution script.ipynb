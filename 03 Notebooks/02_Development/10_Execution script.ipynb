{
 "cells": [
  {
   "cell_type": "markdown",
   "id": "c7f65e25",
   "metadata": {},
   "source": [
    "# EXECUTION SCRIPT"
   ]
  },
  {
   "cell_type": "markdown",
   "id": "73a0f588",
   "metadata": {},
   "source": [
    "NOTE: This training code must be run using exactly the same environment in which it was created.\n",
    "\n",
    "The environment can be created using `pf_riskcoring.yml` file which was created during the set up phase of the project. It can be found in the folder '01_Documents'.\n",
    "\n",
    "Copy `pf_riskcoring.yml` file to the directory and using the terminal or anaconda prompt execute:\n",
    "\n",
    "```\n",
    "conda env create --file pf_riskcoring.yml --name project_name\n",
    "```"
   ]
  },
  {
   "cell_type": "code",
   "execution_count": 1,
   "id": "ffe7be80",
   "metadata": {},
   "outputs": [],
   "source": [
    "import numpy as np\n",
    "import pandas as pd\n",
    "import pickle\n",
    "from janitor import clean_names\n",
    "import warnings\n",
    "warnings.filterwarnings(\"ignore\")\n",
    "\n",
    "# Functions\n",
    "def data_quality(df):\n",
    "    temp = df.copy()\n",
    "    # Nulls \n",
    "        # Imputation by value\n",
    "    temp[['employment_title','employment_length']] = temp[['employment_title','employment_length']].fillna('Unknown')      \n",
    "    var_impute_zero = ['p_credit_cards_exceeding_75p','n_mortages','n_derogations']\n",
    "    temp[var_impute_zero] = temp[var_impute_zero].fillna(0)\n",
    "        # Imputation by median\n",
    "    def impute_median(feature):\n",
    "        if pd.api.types.is_integer_dtype(feature):\n",
    "            return(feature.fillna(int(feature.median())))\n",
    "        else:\n",
    "            return(feature.fillna(feature.median()))\n",
    "    var_impute_median = ['revolving_utilization','dti','n_credit_lines']\n",
    "    temp[var_impute_median] = temp[var_impute_median].apply(impute_median)\n",
    "    # Outliers\n",
    "        # Groupping atypical categories\n",
    "    temp['home_ownership'] = temp.home_ownership.replace(['ANY','OTHER','NONE'],'MORTGAGE')\n",
    "    temp['purpose'] = temp.purpose.replace(['wedding','renewable_energy','educational'],'other')\n",
    "        # Ad hoc winsorisation\n",
    "    temp[['revolving_utilization','dti']] = temp[['revolving_utilization','dti']].clip(0,100) \n",
    "    # Discretisation\n",
    "    temp['p_credit_cards_exceeding_75p_disc'] = pd.cut(temp['p_credit_cards_exceeding_75p'], \n",
    "                                                     [-float(\"inf\"), 20, 80, float(\"inf\")], \n",
    "                                                     labels = ['00_Under_20p','01_20p_80p','02_Over_80p'])\n",
    "    temp.drop(columns='p_credit_cards_exceeding_75p',inplace=True)\n",
    "    return(temp)\n",
    "\n",
    "def create_x_pd(df):\n",
    "    temp = df.copy()\n",
    "    # Deleting features\n",
    "    temp.drop(columns=['installment', 'interest_rate'],inplace=True)\n",
    "    return(temp)\n",
    "\n",
    "\n",
    "# Final features\n",
    "final_features = ['term','home_ownership','purpose','n_derogations','employment_length','scoring','annual_income','dti',   \n",
    "                  'installment','interest_rate','loan_amount','n_credit_lines','n_mortages','revolving_utilization',\n",
    "                  'employment_title','income_verification','p_credit_cards_exceeding_75p']\n",
    "\n",
    "\n",
    "# Data importation\n",
    "project_path = '../..'\n",
    "data_file_name = 'validation.csv'\n",
    "full_path = project_path + '/02_Data/02_Validation/' + data_file_name\n",
    "df = pd.read_csv(full_path,sep=',')\n",
    "\n",
    "\n",
    "# Data wrangling\n",
    "df = clean_names(df).set_index('client_id')\n",
    "df.columns = df.columns.str.replace('%','p').str.replace('nº','n')\n",
    "df.drop_duplicates(inplace = True)\n",
    "df = df[~df.index.isin(df.loc[df.annual_income>350000].index.values)]\n",
    "df = df[final_features]\n",
    "\n",
    "\n",
    "# Data quality + X,y creation\n",
    "x_pd = create_x_pd(data_quality(df))\n",
    "x_ead_lgd = data_quality(df)\n",
    "\n",
    "\n",
    "# Loading execution pipes\n",
    "name_pipe_execution_pd = 'pipe_execution_pd.pickle'\n",
    "name_pipe_execution_ead = 'pipe_execution_ead.pickle'\n",
    "name_pipe_execution_lgd = 'pipe_execution_lgd.pickle'\n",
    "path_pipe_ejecucion_pd = project_path + '/04_Models/' + name_pipe_execution_pd\n",
    "path_pipe_ejecucion_ead = project_path + '/04_Models/' + name_pipe_execution_ead\n",
    "path_pipe_ejecucion_lgd = project_path + '/04_Models/' + name_pipe_execution_lgd\n",
    "\n",
    "with open(path_pipe_ejecucion_pd, mode='rb') as file:\n",
    "   pipe_execution_pd = pickle.load(file)\n",
    "\n",
    "with open(path_pipe_ejecucion_ead, mode='rb') as file:\n",
    "   pipe_execution_ead = pickle.load(file)\n",
    "\n",
    "with open(path_pipe_ejecucion_lgd, mode='rb') as file:\n",
    "   pipe_execution_lgd = pickle.load(file)\n",
    "\n",
    "\n",
    "# Execution\n",
    "pred_pd = pipe_execution_pd.predict_proba(x_pd)[:,1]\n",
    "pred_ead = np.clip(pipe_execution_ead.predict(x_ead_lgd),0,1)\n",
    "pred_lgd = np.clip(pipe_execution_lgd.predict(x_ead_lgd),0,1)\n",
    "\n",
    "# Results - Expected Loss (EL)\n",
    "EL = pd.DataFrame({'principal':x_pd.loan_amount,\n",
    "                   'probability_of_default':pred_pd,\n",
    "                   'exposure_at_default':pred_ead,\n",
    "                   'loss_given_default':pred_lgd})\n",
    "\n",
    "EL['expected_loss'] = round(EL.probability_of_default * EL.principal * EL.exposure_at_default * EL.loss_given_default,2)"
   ]
  }
 ],
 "metadata": {
  "kernelspec": {
   "display_name": "Python 3 (ipykernel)",
   "language": "python",
   "name": "python3"
  },
  "language_info": {
   "codemirror_mode": {
    "name": "ipython",
    "version": 3
   },
   "file_extension": ".py",
   "mimetype": "text/x-python",
   "name": "python",
   "nbconvert_exporter": "python",
   "pygments_lexer": "ipython3",
   "version": "3.9.12"
  },
  "latex_envs": {
   "LaTeX_envs_menu_present": true,
   "autoclose": false,
   "autocomplete": true,
   "bibliofile": "biblio.bib",
   "cite_by": "apalike",
   "current_citInitial": 1,
   "eqLabelWithNumbers": true,
   "eqNumInitial": 1,
   "hotkeys": {
    "equation": "Ctrl-E",
    "itemize": "Ctrl-I"
   },
   "labels_anchors": false,
   "latex_user_defs": false,
   "report_style_numbering": false,
   "user_envs_cfg": false
  },
  "toc": {
   "base_numbering": 1,
   "nav_menu": {},
   "number_sections": true,
   "sideBar": true,
   "skip_h1_title": false,
   "title_cell": "Table of Contents",
   "title_sidebar": "Contents",
   "toc_cell": false,
   "toc_position": {},
   "toc_section_display": true,
   "toc_window_display": true
  },
  "varInspector": {
   "cols": {
    "lenName": 16,
    "lenType": 16,
    "lenVar": 40
   },
   "kernels_config": {
    "python": {
     "delete_cmd_postfix": "",
     "delete_cmd_prefix": "del ",
     "library": "var_list.py",
     "varRefreshCmd": "print(var_dic_list())"
    },
    "r": {
     "delete_cmd_postfix": ") ",
     "delete_cmd_prefix": "rm(",
     "library": "var_list.r",
     "varRefreshCmd": "cat(var_dic_list()) "
    }
   },
   "position": {
    "height": "388.85px",
    "left": "1070px",
    "right": "20px",
    "top": "120px",
    "width": "350px"
   },
   "types_to_exclude": [
    "module",
    "function",
    "builtin_function_or_method",
    "instance",
    "_Feature"
   ],
   "window_display": false
  }
 },
 "nbformat": 4,
 "nbformat_minor": 5
}
