{
 "cells": [
  {
   "cell_type": "markdown",
   "id": "d31dea65",
   "metadata": {},
   "source": [
    "# DATA QUALITY"
   ]
  },
  {
   "cell_type": "markdown",
   "id": "swiss-fault",
   "metadata": {},
   "source": [
    "## IMPORTING PACKAGES"
   ]
  },
  {
   "cell_type": "code",
   "execution_count": 8,
   "id": "adjacent-toddler",
   "metadata": {},
   "outputs": [],
   "source": [
    "import numpy as np\n",
    "import pandas as pd\n",
    "from janitor import clean_names\n",
    "import matplotlib.pyplot as plt\n",
    "%matplotlib inline\n",
    "\n",
    "# pd.options.display.max_rows=75\n",
    "# pd.options.display.float_format = '{:.2f}'.format\n",
    "\n",
    "#To increase autocomplete response speed\n",
    "%config IPCompleter.greedy=True"
   ]
  },
  {
   "cell_type": "markdown",
   "id": "graduate-compensation",
   "metadata": {},
   "source": [
    "## DATA IMPORTATION"
   ]
  },
  {
   "cell_type": "markdown",
   "id": "abb56854",
   "metadata": {},
   "source": [
    "Project path."
   ]
  },
  {
   "cell_type": "code",
   "execution_count": 9,
   "id": "28c63848",
   "metadata": {},
   "outputs": [],
   "source": [
    "project_path = '../..'"
   ]
  },
  {
   "cell_type": "markdown",
   "id": "f8bf0120",
   "metadata": {},
   "source": [
    "Data file name."
   ]
  },
  {
   "cell_type": "code",
   "execution_count": 10,
   "id": "5f6db833",
   "metadata": {},
   "outputs": [],
   "source": [
    "data_file_name = 'work.csv'"
   ]
  },
  {
   "cell_type": "markdown",
   "id": "cd4c4211",
   "metadata": {},
   "source": [
    "Data importation."
   ]
  },
  {
   "cell_type": "code",
   "execution_count": 11,
   "id": "4db8834b",
   "metadata": {},
   "outputs": [
    {
     "data": {
      "text/html": [
       "<div>\n",
       "<style scoped>\n",
       "    .dataframe tbody tr th:only-of-type {\n",
       "        vertical-align: middle;\n",
       "    }\n",
       "\n",
       "    .dataframe tbody tr th {\n",
       "        vertical-align: top;\n",
       "    }\n",
       "\n",
       "    .dataframe thead th {\n",
       "        text-align: right;\n",
       "    }\n",
       "</style>\n",
       "<table border=\"1\" class=\"dataframe\">\n",
       "  <thead>\n",
       "    <tr style=\"text-align: right;\">\n",
       "      <th></th>\n",
       "      <th>Client Id</th>\n",
       "      <th>Employment Title</th>\n",
       "      <th>Employment Length</th>\n",
       "      <th>Annual Income</th>\n",
       "      <th>Income Verification</th>\n",
       "      <th>Scoring</th>\n",
       "      <th>DTI</th>\n",
       "      <th>Home Ownership</th>\n",
       "      <th>Nº Mortages</th>\n",
       "      <th>Nº Credit Lines</th>\n",
       "      <th>...</th>\n",
       "      <th>Loan Id</th>\n",
       "      <th>Description</th>\n",
       "      <th>Purpose</th>\n",
       "      <th>Loan Amount</th>\n",
       "      <th>Interest Rate</th>\n",
       "      <th>Term</th>\n",
       "      <th>Installment</th>\n",
       "      <th>Amortised Amount</th>\n",
       "      <th>Status</th>\n",
       "      <th>Recovered Amount</th>\n",
       "    </tr>\n",
       "  </thead>\n",
       "  <tbody>\n",
       "    <tr>\n",
       "      <th>0</th>\n",
       "      <td>137387967</td>\n",
       "      <td>Hvac technician</td>\n",
       "      <td>3 years</td>\n",
       "      <td>54000.0</td>\n",
       "      <td>Source Verified</td>\n",
       "      <td>A</td>\n",
       "      <td>19.31</td>\n",
       "      <td>MORTGAGE</td>\n",
       "      <td>2.0</td>\n",
       "      <td>10.0</td>\n",
       "      <td>...</td>\n",
       "      <td>NaN</td>\n",
       "      <td>NaN</td>\n",
       "      <td>debt_consolidation</td>\n",
       "      <td>15000.0</td>\n",
       "      <td>7.21</td>\n",
       "      <td>36 months</td>\n",
       "      <td>464.60</td>\n",
       "      <td>2669.06</td>\n",
       "      <td>Current</td>\n",
       "      <td>0.0</td>\n",
       "    </tr>\n",
       "    <tr>\n",
       "      <th>1</th>\n",
       "      <td>4798121</td>\n",
       "      <td>Target Promotions and Marketing,Inc</td>\n",
       "      <td>10+ years</td>\n",
       "      <td>65000.0</td>\n",
       "      <td>Not Verified</td>\n",
       "      <td>D</td>\n",
       "      <td>25.40</td>\n",
       "      <td>RENT</td>\n",
       "      <td>1.0</td>\n",
       "      <td>15.0</td>\n",
       "      <td>...</td>\n",
       "      <td>NaN</td>\n",
       "      <td>NaN</td>\n",
       "      <td>debt_consolidation</td>\n",
       "      <td>10000.0</td>\n",
       "      <td>17.77</td>\n",
       "      <td>36 months</td>\n",
       "      <td>360.38</td>\n",
       "      <td>6362.96</td>\n",
       "      <td>Charged Off</td>\n",
       "      <td>0.0</td>\n",
       "    </tr>\n",
       "    <tr>\n",
       "      <th>2</th>\n",
       "      <td>46641215</td>\n",
       "      <td>Banker</td>\n",
       "      <td>5 years</td>\n",
       "      <td>135000.0</td>\n",
       "      <td>Verified</td>\n",
       "      <td>A</td>\n",
       "      <td>14.68</td>\n",
       "      <td>RENT</td>\n",
       "      <td>0.0</td>\n",
       "      <td>19.0</td>\n",
       "      <td>...</td>\n",
       "      <td>NaN</td>\n",
       "      <td>NaN</td>\n",
       "      <td>debt_consolidation</td>\n",
       "      <td>24000.0</td>\n",
       "      <td>6.39</td>\n",
       "      <td>36 months</td>\n",
       "      <td>734.38</td>\n",
       "      <td>24000.00</td>\n",
       "      <td>Fully Paid</td>\n",
       "      <td>0.0</td>\n",
       "    </tr>\n",
       "    <tr>\n",
       "      <th>3</th>\n",
       "      <td>87998444</td>\n",
       "      <td>executive director</td>\n",
       "      <td>9 years</td>\n",
       "      <td>188000.0</td>\n",
       "      <td>Source Verified</td>\n",
       "      <td>B</td>\n",
       "      <td>11.69</td>\n",
       "      <td>MORTGAGE</td>\n",
       "      <td>3.0</td>\n",
       "      <td>15.0</td>\n",
       "      <td>...</td>\n",
       "      <td>NaN</td>\n",
       "      <td>NaN</td>\n",
       "      <td>credit_card</td>\n",
       "      <td>27000.0</td>\n",
       "      <td>8.99</td>\n",
       "      <td>60 months</td>\n",
       "      <td>560.35</td>\n",
       "      <td>12443.00</td>\n",
       "      <td>Current</td>\n",
       "      <td>0.0</td>\n",
       "    </tr>\n",
       "    <tr>\n",
       "      <th>4</th>\n",
       "      <td>132883631</td>\n",
       "      <td>Subsea Technician</td>\n",
       "      <td>7 years</td>\n",
       "      <td>125000.0</td>\n",
       "      <td>Source Verified</td>\n",
       "      <td>B</td>\n",
       "      <td>9.00</td>\n",
       "      <td>MORTGAGE</td>\n",
       "      <td>1.0</td>\n",
       "      <td>6.0</td>\n",
       "      <td>...</td>\n",
       "      <td>NaN</td>\n",
       "      <td>NaN</td>\n",
       "      <td>debt_consolidation</td>\n",
       "      <td>22000.0</td>\n",
       "      <td>10.90</td>\n",
       "      <td>36 months</td>\n",
       "      <td>719.22</td>\n",
       "      <td>22000.00</td>\n",
       "      <td>Fully Paid</td>\n",
       "      <td>0.0</td>\n",
       "    </tr>\n",
       "    <tr>\n",
       "      <th>...</th>\n",
       "      <td>...</td>\n",
       "      <td>...</td>\n",
       "      <td>...</td>\n",
       "      <td>...</td>\n",
       "      <td>...</td>\n",
       "      <td>...</td>\n",
       "      <td>...</td>\n",
       "      <td>...</td>\n",
       "      <td>...</td>\n",
       "      <td>...</td>\n",
       "      <td>...</td>\n",
       "      <td>...</td>\n",
       "      <td>...</td>\n",
       "      <td>...</td>\n",
       "      <td>...</td>\n",
       "      <td>...</td>\n",
       "      <td>...</td>\n",
       "      <td>...</td>\n",
       "      <td>...</td>\n",
       "      <td>...</td>\n",
       "      <td>...</td>\n",
       "    </tr>\n",
       "    <tr>\n",
       "      <th>139995</th>\n",
       "      <td>144538772</td>\n",
       "      <td>Immigration Senior Paralegal</td>\n",
       "      <td>7 years</td>\n",
       "      <td>200000.0</td>\n",
       "      <td>Not Verified</td>\n",
       "      <td>B</td>\n",
       "      <td>5.57</td>\n",
       "      <td>MORTGAGE</td>\n",
       "      <td>2.0</td>\n",
       "      <td>11.0</td>\n",
       "      <td>...</td>\n",
       "      <td>NaN</td>\n",
       "      <td>NaN</td>\n",
       "      <td>credit_card</td>\n",
       "      <td>25000.0</td>\n",
       "      <td>11.80</td>\n",
       "      <td>36 months</td>\n",
       "      <td>827.98</td>\n",
       "      <td>1763.67</td>\n",
       "      <td>Current</td>\n",
       "      <td>0.0</td>\n",
       "    </tr>\n",
       "    <tr>\n",
       "      <th>139996</th>\n",
       "      <td>999338</td>\n",
       "      <td>T. Rowe Price</td>\n",
       "      <td>4 years</td>\n",
       "      <td>55000.0</td>\n",
       "      <td>Verified</td>\n",
       "      <td>B</td>\n",
       "      <td>29.26</td>\n",
       "      <td>RENT</td>\n",
       "      <td>NaN</td>\n",
       "      <td>7.0</td>\n",
       "      <td>...</td>\n",
       "      <td>NaN</td>\n",
       "      <td>Borrower added on 11/01/11 &gt; Looking to use ...</td>\n",
       "      <td>debt_consolidation</td>\n",
       "      <td>20000.0</td>\n",
       "      <td>12.69</td>\n",
       "      <td>60 months</td>\n",
       "      <td>451.90</td>\n",
       "      <td>20000.00</td>\n",
       "      <td>Fully Paid</td>\n",
       "      <td>0.0</td>\n",
       "    </tr>\n",
       "    <tr>\n",
       "      <th>139997</th>\n",
       "      <td>73222117</td>\n",
       "      <td>Executive Assistant</td>\n",
       "      <td>10+ years</td>\n",
       "      <td>85000.0</td>\n",
       "      <td>Verified</td>\n",
       "      <td>B</td>\n",
       "      <td>33.05</td>\n",
       "      <td>RENT</td>\n",
       "      <td>1.0</td>\n",
       "      <td>25.0</td>\n",
       "      <td>...</td>\n",
       "      <td>NaN</td>\n",
       "      <td>NaN</td>\n",
       "      <td>debt_consolidation</td>\n",
       "      <td>3000.0</td>\n",
       "      <td>9.75</td>\n",
       "      <td>36 months</td>\n",
       "      <td>96.45</td>\n",
       "      <td>3000.00</td>\n",
       "      <td>Fully Paid</td>\n",
       "      <td>0.0</td>\n",
       "    </tr>\n",
       "    <tr>\n",
       "      <th>139998</th>\n",
       "      <td>119242742</td>\n",
       "      <td>NaN</td>\n",
       "      <td>NaN</td>\n",
       "      <td>20000.0</td>\n",
       "      <td>Source Verified</td>\n",
       "      <td>C</td>\n",
       "      <td>8.02</td>\n",
       "      <td>RENT</td>\n",
       "      <td>0.0</td>\n",
       "      <td>5.0</td>\n",
       "      <td>...</td>\n",
       "      <td>NaN</td>\n",
       "      <td>NaN</td>\n",
       "      <td>debt_consolidation</td>\n",
       "      <td>2500.0</td>\n",
       "      <td>12.62</td>\n",
       "      <td>36 months</td>\n",
       "      <td>83.78</td>\n",
       "      <td>996.06</td>\n",
       "      <td>Late (31-120 days)</td>\n",
       "      <td>0.0</td>\n",
       "    </tr>\n",
       "    <tr>\n",
       "      <th>139999</th>\n",
       "      <td>121031962</td>\n",
       "      <td>Owner &amp; President</td>\n",
       "      <td>6 years</td>\n",
       "      <td>111697.0</td>\n",
       "      <td>Verified</td>\n",
       "      <td>B</td>\n",
       "      <td>16.63</td>\n",
       "      <td>MORTGAGE</td>\n",
       "      <td>2.0</td>\n",
       "      <td>10.0</td>\n",
       "      <td>...</td>\n",
       "      <td>NaN</td>\n",
       "      <td>NaN</td>\n",
       "      <td>other</td>\n",
       "      <td>10000.0</td>\n",
       "      <td>9.44</td>\n",
       "      <td>36 months</td>\n",
       "      <td>320.05</td>\n",
       "      <td>4388.51</td>\n",
       "      <td>Current</td>\n",
       "      <td>0.0</td>\n",
       "    </tr>\n",
       "  </tbody>\n",
       "</table>\n",
       "<p>140000 rows × 25 columns</p>\n",
       "</div>"
      ],
      "text/plain": [
       "        Client Id                     Employment Title Employment Length  \\\n",
       "0       137387967                     Hvac technician            3 years   \n",
       "1         4798121  Target Promotions and Marketing,Inc         10+ years   \n",
       "2        46641215                               Banker           5 years   \n",
       "3        87998444                   executive director           9 years   \n",
       "4       132883631                    Subsea Technician           7 years   \n",
       "...           ...                                  ...               ...   \n",
       "139995  144538772         Immigration Senior Paralegal           7 years   \n",
       "139996     999338                        T. Rowe Price           4 years   \n",
       "139997   73222117                  Executive Assistant         10+ years   \n",
       "139998  119242742                                  NaN               NaN   \n",
       "139999  121031962                    Owner & President           6 years   \n",
       "\n",
       "        Annual Income Income Verification Scoring    DTI Home Ownership  \\\n",
       "0             54000.0     Source Verified       A  19.31       MORTGAGE   \n",
       "1             65000.0        Not Verified       D  25.40           RENT   \n",
       "2            135000.0            Verified       A  14.68           RENT   \n",
       "3            188000.0     Source Verified       B  11.69       MORTGAGE   \n",
       "4            125000.0     Source Verified       B   9.00       MORTGAGE   \n",
       "...               ...                 ...     ...    ...            ...   \n",
       "139995       200000.0        Not Verified       B   5.57       MORTGAGE   \n",
       "139996        55000.0            Verified       B  29.26           RENT   \n",
       "139997        85000.0            Verified       B  33.05           RENT   \n",
       "139998        20000.0     Source Verified       C   8.02           RENT   \n",
       "139999       111697.0            Verified       B  16.63       MORTGAGE   \n",
       "\n",
       "        Nº Mortages  Nº Credit Lines  ...  Loan Id  \\\n",
       "0               2.0             10.0  ...      NaN   \n",
       "1               1.0             15.0  ...      NaN   \n",
       "2               0.0             19.0  ...      NaN   \n",
       "3               3.0             15.0  ...      NaN   \n",
       "4               1.0              6.0  ...      NaN   \n",
       "...             ...              ...  ...      ...   \n",
       "139995          2.0             11.0  ...      NaN   \n",
       "139996          NaN              7.0  ...      NaN   \n",
       "139997          1.0             25.0  ...      NaN   \n",
       "139998          0.0              5.0  ...      NaN   \n",
       "139999          2.0             10.0  ...      NaN   \n",
       "\n",
       "                                              Description             Purpose  \\\n",
       "0                                                     NaN  debt_consolidation   \n",
       "1                                                     NaN  debt_consolidation   \n",
       "2                                                     NaN  debt_consolidation   \n",
       "3                                                     NaN         credit_card   \n",
       "4                                                     NaN  debt_consolidation   \n",
       "...                                                   ...                 ...   \n",
       "139995                                                NaN         credit_card   \n",
       "139996    Borrower added on 11/01/11 > Looking to use ...  debt_consolidation   \n",
       "139997                                                NaN  debt_consolidation   \n",
       "139998                                                NaN  debt_consolidation   \n",
       "139999                                                NaN               other   \n",
       "\n",
       "        Loan Amount  Interest Rate        Term Installment Amortised Amount  \\\n",
       "0           15000.0           7.21   36 months      464.60          2669.06   \n",
       "1           10000.0          17.77   36 months      360.38          6362.96   \n",
       "2           24000.0           6.39   36 months      734.38         24000.00   \n",
       "3           27000.0           8.99   60 months      560.35         12443.00   \n",
       "4           22000.0          10.90   36 months      719.22         22000.00   \n",
       "...             ...            ...         ...         ...              ...   \n",
       "139995      25000.0          11.80   36 months      827.98          1763.67   \n",
       "139996      20000.0          12.69   60 months      451.90         20000.00   \n",
       "139997       3000.0           9.75   36 months       96.45          3000.00   \n",
       "139998       2500.0          12.62   36 months       83.78           996.06   \n",
       "139999      10000.0           9.44   36 months      320.05          4388.51   \n",
       "\n",
       "                    Status  Recovered Amount  \n",
       "0                  Current               0.0  \n",
       "1              Charged Off               0.0  \n",
       "2               Fully Paid               0.0  \n",
       "3                  Current               0.0  \n",
       "4               Fully Paid               0.0  \n",
       "...                    ...               ...  \n",
       "139995             Current               0.0  \n",
       "139996          Fully Paid               0.0  \n",
       "139997          Fully Paid               0.0  \n",
       "139998  Late (31-120 days)               0.0  \n",
       "139999             Current               0.0  \n",
       "\n",
       "[140000 rows x 25 columns]"
      ]
     },
     "execution_count": 11,
     "metadata": {},
     "output_type": "execute_result"
    }
   ],
   "source": [
    "full_path = project_path + '/02_Data/03_Work/' + data_file_name\n",
    "\n",
    "df = pd.read_csv(full_path)\n",
    "df"
   ]
  },
  {
   "cell_type": "markdown",
   "id": "b06d0a61",
   "metadata": {},
   "source": [
    "## FORMATTING FEATURE NAMES"
   ]
  },
  {
   "cell_type": "markdown",
   "id": "d0b8f64a",
   "metadata": {},
   "source": [
    "### Automatic correction"
   ]
  },
  {
   "cell_type": "code",
   "execution_count": 12,
   "id": "e827f559",
   "metadata": {},
   "outputs": [
    {
     "data": {
      "text/html": [
       "<div>\n",
       "<style scoped>\n",
       "    .dataframe tbody tr th:only-of-type {\n",
       "        vertical-align: middle;\n",
       "    }\n",
       "\n",
       "    .dataframe tbody tr th {\n",
       "        vertical-align: top;\n",
       "    }\n",
       "\n",
       "    .dataframe thead th {\n",
       "        text-align: right;\n",
       "    }\n",
       "</style>\n",
       "<table border=\"1\" class=\"dataframe\">\n",
       "  <thead>\n",
       "    <tr style=\"text-align: right;\">\n",
       "      <th></th>\n",
       "      <th>employment_title</th>\n",
       "      <th>employment_length</th>\n",
       "      <th>annual_income</th>\n",
       "      <th>income_verification</th>\n",
       "      <th>scoring</th>\n",
       "      <th>dti</th>\n",
       "      <th>home_ownership</th>\n",
       "      <th>nº_mortages</th>\n",
       "      <th>nº_credit_lines</th>\n",
       "      <th>%_credit_cards_exceeding_75%</th>\n",
       "      <th>...</th>\n",
       "      <th>loan_id</th>\n",
       "      <th>description</th>\n",
       "      <th>purpose</th>\n",
       "      <th>loan_amount</th>\n",
       "      <th>interest_rate</th>\n",
       "      <th>term</th>\n",
       "      <th>installment</th>\n",
       "      <th>amortised_amount</th>\n",
       "      <th>status</th>\n",
       "      <th>recovered_amount</th>\n",
       "    </tr>\n",
       "    <tr>\n",
       "      <th>client_id</th>\n",
       "      <th></th>\n",
       "      <th></th>\n",
       "      <th></th>\n",
       "      <th></th>\n",
       "      <th></th>\n",
       "      <th></th>\n",
       "      <th></th>\n",
       "      <th></th>\n",
       "      <th></th>\n",
       "      <th></th>\n",
       "      <th></th>\n",
       "      <th></th>\n",
       "      <th></th>\n",
       "      <th></th>\n",
       "      <th></th>\n",
       "      <th></th>\n",
       "      <th></th>\n",
       "      <th></th>\n",
       "      <th></th>\n",
       "      <th></th>\n",
       "      <th></th>\n",
       "    </tr>\n",
       "  </thead>\n",
       "  <tbody>\n",
       "    <tr>\n",
       "      <th>137387967</th>\n",
       "      <td>Hvac technician</td>\n",
       "      <td>3 years</td>\n",
       "      <td>54000.0</td>\n",
       "      <td>Source Verified</td>\n",
       "      <td>A</td>\n",
       "      <td>19.31</td>\n",
       "      <td>MORTGAGE</td>\n",
       "      <td>2.0</td>\n",
       "      <td>10.0</td>\n",
       "      <td>33.3</td>\n",
       "      <td>...</td>\n",
       "      <td>NaN</td>\n",
       "      <td>NaN</td>\n",
       "      <td>debt_consolidation</td>\n",
       "      <td>15000.0</td>\n",
       "      <td>7.21</td>\n",
       "      <td>36 months</td>\n",
       "      <td>464.60</td>\n",
       "      <td>2669.06</td>\n",
       "      <td>Current</td>\n",
       "      <td>0.0</td>\n",
       "    </tr>\n",
       "    <tr>\n",
       "      <th>4798121</th>\n",
       "      <td>Target Promotions and Marketing,Inc</td>\n",
       "      <td>10+ years</td>\n",
       "      <td>65000.0</td>\n",
       "      <td>Not Verified</td>\n",
       "      <td>D</td>\n",
       "      <td>25.40</td>\n",
       "      <td>RENT</td>\n",
       "      <td>1.0</td>\n",
       "      <td>15.0</td>\n",
       "      <td>85.7</td>\n",
       "      <td>...</td>\n",
       "      <td>NaN</td>\n",
       "      <td>NaN</td>\n",
       "      <td>debt_consolidation</td>\n",
       "      <td>10000.0</td>\n",
       "      <td>17.77</td>\n",
       "      <td>36 months</td>\n",
       "      <td>360.38</td>\n",
       "      <td>6362.96</td>\n",
       "      <td>Charged Off</td>\n",
       "      <td>0.0</td>\n",
       "    </tr>\n",
       "    <tr>\n",
       "      <th>46641215</th>\n",
       "      <td>Banker</td>\n",
       "      <td>5 years</td>\n",
       "      <td>135000.0</td>\n",
       "      <td>Verified</td>\n",
       "      <td>A</td>\n",
       "      <td>14.68</td>\n",
       "      <td>RENT</td>\n",
       "      <td>0.0</td>\n",
       "      <td>19.0</td>\n",
       "      <td>0.0</td>\n",
       "      <td>...</td>\n",
       "      <td>NaN</td>\n",
       "      <td>NaN</td>\n",
       "      <td>debt_consolidation</td>\n",
       "      <td>24000.0</td>\n",
       "      <td>6.39</td>\n",
       "      <td>36 months</td>\n",
       "      <td>734.38</td>\n",
       "      <td>24000.00</td>\n",
       "      <td>Fully Paid</td>\n",
       "      <td>0.0</td>\n",
       "    </tr>\n",
       "    <tr>\n",
       "      <th>87998444</th>\n",
       "      <td>executive director</td>\n",
       "      <td>9 years</td>\n",
       "      <td>188000.0</td>\n",
       "      <td>Source Verified</td>\n",
       "      <td>B</td>\n",
       "      <td>11.69</td>\n",
       "      <td>MORTGAGE</td>\n",
       "      <td>3.0</td>\n",
       "      <td>15.0</td>\n",
       "      <td>0.0</td>\n",
       "      <td>...</td>\n",
       "      <td>NaN</td>\n",
       "      <td>NaN</td>\n",
       "      <td>credit_card</td>\n",
       "      <td>27000.0</td>\n",
       "      <td>8.99</td>\n",
       "      <td>60 months</td>\n",
       "      <td>560.35</td>\n",
       "      <td>12443.00</td>\n",
       "      <td>Current</td>\n",
       "      <td>0.0</td>\n",
       "    </tr>\n",
       "    <tr>\n",
       "      <th>132883631</th>\n",
       "      <td>Subsea Technician</td>\n",
       "      <td>7 years</td>\n",
       "      <td>125000.0</td>\n",
       "      <td>Source Verified</td>\n",
       "      <td>B</td>\n",
       "      <td>9.00</td>\n",
       "      <td>MORTGAGE</td>\n",
       "      <td>1.0</td>\n",
       "      <td>6.0</td>\n",
       "      <td>33.3</td>\n",
       "      <td>...</td>\n",
       "      <td>NaN</td>\n",
       "      <td>NaN</td>\n",
       "      <td>debt_consolidation</td>\n",
       "      <td>22000.0</td>\n",
       "      <td>10.90</td>\n",
       "      <td>36 months</td>\n",
       "      <td>719.22</td>\n",
       "      <td>22000.00</td>\n",
       "      <td>Fully Paid</td>\n",
       "      <td>0.0</td>\n",
       "    </tr>\n",
       "    <tr>\n",
       "      <th>...</th>\n",
       "      <td>...</td>\n",
       "      <td>...</td>\n",
       "      <td>...</td>\n",
       "      <td>...</td>\n",
       "      <td>...</td>\n",
       "      <td>...</td>\n",
       "      <td>...</td>\n",
       "      <td>...</td>\n",
       "      <td>...</td>\n",
       "      <td>...</td>\n",
       "      <td>...</td>\n",
       "      <td>...</td>\n",
       "      <td>...</td>\n",
       "      <td>...</td>\n",
       "      <td>...</td>\n",
       "      <td>...</td>\n",
       "      <td>...</td>\n",
       "      <td>...</td>\n",
       "      <td>...</td>\n",
       "      <td>...</td>\n",
       "      <td>...</td>\n",
       "    </tr>\n",
       "    <tr>\n",
       "      <th>144538772</th>\n",
       "      <td>Immigration Senior Paralegal</td>\n",
       "      <td>7 years</td>\n",
       "      <td>200000.0</td>\n",
       "      <td>Not Verified</td>\n",
       "      <td>B</td>\n",
       "      <td>5.57</td>\n",
       "      <td>MORTGAGE</td>\n",
       "      <td>2.0</td>\n",
       "      <td>11.0</td>\n",
       "      <td>75.0</td>\n",
       "      <td>...</td>\n",
       "      <td>NaN</td>\n",
       "      <td>NaN</td>\n",
       "      <td>credit_card</td>\n",
       "      <td>25000.0</td>\n",
       "      <td>11.80</td>\n",
       "      <td>36 months</td>\n",
       "      <td>827.98</td>\n",
       "      <td>1763.67</td>\n",
       "      <td>Current</td>\n",
       "      <td>0.0</td>\n",
       "    </tr>\n",
       "    <tr>\n",
       "      <th>999338</th>\n",
       "      <td>T. Rowe Price</td>\n",
       "      <td>4 years</td>\n",
       "      <td>55000.0</td>\n",
       "      <td>Verified</td>\n",
       "      <td>B</td>\n",
       "      <td>29.26</td>\n",
       "      <td>RENT</td>\n",
       "      <td>NaN</td>\n",
       "      <td>7.0</td>\n",
       "      <td>NaN</td>\n",
       "      <td>...</td>\n",
       "      <td>NaN</td>\n",
       "      <td>Borrower added on 11/01/11 &gt; Looking to use ...</td>\n",
       "      <td>debt_consolidation</td>\n",
       "      <td>20000.0</td>\n",
       "      <td>12.69</td>\n",
       "      <td>60 months</td>\n",
       "      <td>451.90</td>\n",
       "      <td>20000.00</td>\n",
       "      <td>Fully Paid</td>\n",
       "      <td>0.0</td>\n",
       "    </tr>\n",
       "    <tr>\n",
       "      <th>73222117</th>\n",
       "      <td>Executive Assistant</td>\n",
       "      <td>10+ years</td>\n",
       "      <td>85000.0</td>\n",
       "      <td>Verified</td>\n",
       "      <td>B</td>\n",
       "      <td>33.05</td>\n",
       "      <td>RENT</td>\n",
       "      <td>1.0</td>\n",
       "      <td>25.0</td>\n",
       "      <td>90.0</td>\n",
       "      <td>...</td>\n",
       "      <td>NaN</td>\n",
       "      <td>NaN</td>\n",
       "      <td>debt_consolidation</td>\n",
       "      <td>3000.0</td>\n",
       "      <td>9.75</td>\n",
       "      <td>36 months</td>\n",
       "      <td>96.45</td>\n",
       "      <td>3000.00</td>\n",
       "      <td>Fully Paid</td>\n",
       "      <td>0.0</td>\n",
       "    </tr>\n",
       "    <tr>\n",
       "      <th>119242742</th>\n",
       "      <td>NaN</td>\n",
       "      <td>NaN</td>\n",
       "      <td>20000.0</td>\n",
       "      <td>Source Verified</td>\n",
       "      <td>C</td>\n",
       "      <td>8.02</td>\n",
       "      <td>RENT</td>\n",
       "      <td>0.0</td>\n",
       "      <td>5.0</td>\n",
       "      <td>66.7</td>\n",
       "      <td>...</td>\n",
       "      <td>NaN</td>\n",
       "      <td>NaN</td>\n",
       "      <td>debt_consolidation</td>\n",
       "      <td>2500.0</td>\n",
       "      <td>12.62</td>\n",
       "      <td>36 months</td>\n",
       "      <td>83.78</td>\n",
       "      <td>996.06</td>\n",
       "      <td>Late (31-120 days)</td>\n",
       "      <td>0.0</td>\n",
       "    </tr>\n",
       "    <tr>\n",
       "      <th>121031962</th>\n",
       "      <td>Owner &amp; President</td>\n",
       "      <td>6 years</td>\n",
       "      <td>111697.0</td>\n",
       "      <td>Verified</td>\n",
       "      <td>B</td>\n",
       "      <td>16.63</td>\n",
       "      <td>MORTGAGE</td>\n",
       "      <td>2.0</td>\n",
       "      <td>10.0</td>\n",
       "      <td>50.0</td>\n",
       "      <td>...</td>\n",
       "      <td>NaN</td>\n",
       "      <td>NaN</td>\n",
       "      <td>other</td>\n",
       "      <td>10000.0</td>\n",
       "      <td>9.44</td>\n",
       "      <td>36 months</td>\n",
       "      <td>320.05</td>\n",
       "      <td>4388.51</td>\n",
       "      <td>Current</td>\n",
       "      <td>0.0</td>\n",
       "    </tr>\n",
       "  </tbody>\n",
       "</table>\n",
       "<p>140000 rows × 24 columns</p>\n",
       "</div>"
      ],
      "text/plain": [
       "                              employment_title employment_length  \\\n",
       "client_id                                                          \n",
       "137387967                     Hvac technician            3 years   \n",
       "4798121    Target Promotions and Marketing,Inc         10+ years   \n",
       "46641215                                Banker           5 years   \n",
       "87998444                    executive director           9 years   \n",
       "132883631                    Subsea Technician           7 years   \n",
       "...                                        ...               ...   \n",
       "144538772         Immigration Senior Paralegal           7 years   \n",
       "999338                           T. Rowe Price           4 years   \n",
       "73222117                   Executive Assistant         10+ years   \n",
       "119242742                                  NaN               NaN   \n",
       "121031962                    Owner & President           6 years   \n",
       "\n",
       "           annual_income income_verification scoring    dti home_ownership  \\\n",
       "client_id                                                                    \n",
       "137387967        54000.0     Source Verified       A  19.31       MORTGAGE   \n",
       "4798121          65000.0        Not Verified       D  25.40           RENT   \n",
       "46641215        135000.0            Verified       A  14.68           RENT   \n",
       "87998444        188000.0     Source Verified       B  11.69       MORTGAGE   \n",
       "132883631       125000.0     Source Verified       B   9.00       MORTGAGE   \n",
       "...                  ...                 ...     ...    ...            ...   \n",
       "144538772       200000.0        Not Verified       B   5.57       MORTGAGE   \n",
       "999338           55000.0            Verified       B  29.26           RENT   \n",
       "73222117         85000.0            Verified       B  33.05           RENT   \n",
       "119242742        20000.0     Source Verified       C   8.02           RENT   \n",
       "121031962       111697.0            Verified       B  16.63       MORTGAGE   \n",
       "\n",
       "           nº_mortages  nº_credit_lines  %_credit_cards_exceeding_75%  ...  \\\n",
       "client_id                                                              ...   \n",
       "137387967          2.0             10.0                          33.3  ...   \n",
       "4798121            1.0             15.0                          85.7  ...   \n",
       "46641215           0.0             19.0                           0.0  ...   \n",
       "87998444           3.0             15.0                           0.0  ...   \n",
       "132883631          1.0              6.0                          33.3  ...   \n",
       "...                ...              ...                           ...  ...   \n",
       "144538772          2.0             11.0                          75.0  ...   \n",
       "999338             NaN              7.0                           NaN  ...   \n",
       "73222117           1.0             25.0                          90.0  ...   \n",
       "119242742          0.0              5.0                          66.7  ...   \n",
       "121031962          2.0             10.0                          50.0  ...   \n",
       "\n",
       "           loan_id                                        description  \\\n",
       "client_id                                                               \n",
       "137387967      NaN                                                NaN   \n",
       "4798121        NaN                                                NaN   \n",
       "46641215       NaN                                                NaN   \n",
       "87998444       NaN                                                NaN   \n",
       "132883631      NaN                                                NaN   \n",
       "...            ...                                                ...   \n",
       "144538772      NaN                                                NaN   \n",
       "999338         NaN    Borrower added on 11/01/11 > Looking to use ...   \n",
       "73222117       NaN                                                NaN   \n",
       "119242742      NaN                                                NaN   \n",
       "121031962      NaN                                                NaN   \n",
       "\n",
       "                      purpose  loan_amount  interest_rate        term  \\\n",
       "client_id                                                               \n",
       "137387967  debt_consolidation      15000.0           7.21   36 months   \n",
       "4798121    debt_consolidation      10000.0          17.77   36 months   \n",
       "46641215   debt_consolidation      24000.0           6.39   36 months   \n",
       "87998444          credit_card      27000.0           8.99   60 months   \n",
       "132883631  debt_consolidation      22000.0          10.90   36 months   \n",
       "...                       ...          ...            ...         ...   \n",
       "144538772         credit_card      25000.0          11.80   36 months   \n",
       "999338     debt_consolidation      20000.0          12.69   60 months   \n",
       "73222117   debt_consolidation       3000.0           9.75   36 months   \n",
       "119242742  debt_consolidation       2500.0          12.62   36 months   \n",
       "121031962               other      10000.0           9.44   36 months   \n",
       "\n",
       "          installment  amortised_amount              status recovered_amount  \n",
       "client_id                                                                     \n",
       "137387967      464.60           2669.06             Current              0.0  \n",
       "4798121        360.38           6362.96         Charged Off              0.0  \n",
       "46641215       734.38          24000.00          Fully Paid              0.0  \n",
       "87998444       560.35          12443.00             Current              0.0  \n",
       "132883631      719.22          22000.00          Fully Paid              0.0  \n",
       "...               ...               ...                 ...              ...  \n",
       "144538772      827.98           1763.67             Current              0.0  \n",
       "999338         451.90          20000.00          Fully Paid              0.0  \n",
       "73222117        96.45           3000.00          Fully Paid              0.0  \n",
       "119242742       83.78            996.06  Late (31-120 days)              0.0  \n",
       "121031962      320.05           4388.51             Current              0.0  \n",
       "\n",
       "[140000 rows x 24 columns]"
      ]
     },
     "execution_count": 12,
     "metadata": {},
     "output_type": "execute_result"
    }
   ],
   "source": [
    "df = clean_names(df)\n",
    "df.set_index('client_id',inplace=True)\n",
    "df"
   ]
  },
  {
   "cell_type": "markdown",
   "id": "a63b315f",
   "metadata": {},
   "source": [
    "### Ad hoc correction"
   ]
  },
  {
   "cell_type": "code",
   "execution_count": 13,
   "id": "e9bcaef7",
   "metadata": {},
   "outputs": [],
   "source": [
    "df.columns = df.columns.str.replace('%','p').str.replace('nº','n')"
   ]
  },
  {
   "cell_type": "markdown",
   "id": "c64a467c",
   "metadata": {},
   "source": [
    "## OVERVIEW"
   ]
  },
  {
   "cell_type": "code",
   "execution_count": 14,
   "id": "7f8c1b6e",
   "metadata": {},
   "outputs": [
    {
     "name": "stdout",
     "output_type": "stream",
     "text": [
      "<class 'pandas.core.frame.DataFrame'>\n",
      "Int64Index: 140000 entries, 137387967 to 121031962\n",
      "Data columns (total 24 columns):\n",
      " #   Column                        Non-Null Count   Dtype  \n",
      "---  ------                        --------------   -----  \n",
      " 0   employment_title              129713 non-null  object \n",
      " 1   employment_length             130959 non-null  object \n",
      " 2   annual_income                 140000 non-null  float64\n",
      " 3   income_verification           140000 non-null  object \n",
      " 4   scoring                       140000 non-null  object \n",
      " 5   dti                           139899 non-null  float64\n",
      " 6   home_ownership                140000 non-null  object \n",
      " 7   n_mortages                    136908 non-null  float64\n",
      " 8   n_credit_lines                139999 non-null  float64\n",
      " 9   p_credit_cards_exceeding_75p  135344 non-null  float64\n",
      " 10  revolving_utilization         139894 non-null  float64\n",
      " 11  n_cancellations_12_months     139993 non-null  float64\n",
      " 12  n_derogations                 139999 non-null  float64\n",
      " 13  n_months_since_last_derrog    68023 non-null   float64\n",
      " 14  loan_id                       0 non-null       float64\n",
      " 15  description                   7819 non-null    object \n",
      " 16  purpose                       140000 non-null  object \n",
      " 17  loan_amount                   140000 non-null  float64\n",
      " 18  interest_rate                 140000 non-null  float64\n",
      " 19  term                          140000 non-null  object \n",
      " 20  installment                   140000 non-null  float64\n",
      " 21  amortised_amount              140000 non-null  float64\n",
      " 22  status                        140000 non-null  object \n",
      " 23  recovered_amount              140000 non-null  float64\n",
      "dtypes: float64(15), object(9)\n",
      "memory usage: 26.7+ MB\n"
     ]
    }
   ],
   "source": [
    "df.info()"
   ]
  },
  {
   "cell_type": "markdown",
   "id": "158ee1d7",
   "metadata": {},
   "source": [
    "## DATA TYPES"
   ]
  },
  {
   "cell_type": "markdown",
   "id": "88162727",
   "metadata": {},
   "source": [
    "### Identification"
   ]
  },
  {
   "cell_type": "code",
   "execution_count": 15,
   "id": "197a99c2",
   "metadata": {},
   "outputs": [
    {
     "data": {
      "text/plain": [
       "employment_title                 object\n",
       "employment_length                object\n",
       "annual_income                   float64\n",
       "income_verification              object\n",
       "scoring                          object\n",
       "dti                             float64\n",
       "home_ownership                   object\n",
       "n_mortages                      float64\n",
       "n_credit_lines                  float64\n",
       "p_credit_cards_exceeding_75p    float64\n",
       "revolving_utilization           float64\n",
       "n_cancellations_12_months       float64\n",
       "n_derogations                   float64\n",
       "n_months_since_last_derrog      float64\n",
       "loan_id                         float64\n",
       "description                      object\n",
       "purpose                          object\n",
       "loan_amount                     float64\n",
       "interest_rate                   float64\n",
       "term                             object\n",
       "installment                     float64\n",
       "amortised_amount                float64\n",
       "status                           object\n",
       "recovered_amount                float64\n",
       "dtype: object"
      ]
     },
     "execution_count": 15,
     "metadata": {},
     "output_type": "execute_result"
    }
   ],
   "source": [
    "df.dtypes"
   ]
  },
  {
   "cell_type": "markdown",
   "id": "cc8d4a22",
   "metadata": {},
   "source": [
    "## UNIQUE VALUES"
   ]
  },
  {
   "cell_type": "markdown",
   "id": "f21f0e36",
   "metadata": {},
   "source": [
    "### Identification"
   ]
  },
  {
   "cell_type": "code",
   "execution_count": 16,
   "id": "6e53e444",
   "metadata": {},
   "outputs": [
    {
     "data": {
      "text/plain": [
       "loan_id                             0\n",
       "term                                2\n",
       "income_verification                 3\n",
       "home_ownership                      6\n",
       "n_cancellations_12_months           7\n",
       "scoring                             7\n",
       "status                              9\n",
       "employment_length                  11\n",
       "purpose                            14\n",
       "n_derogations                      17\n",
       "n_mortages                         25\n",
       "n_credit_lines                     61\n",
       "n_months_since_last_derrog        132\n",
       "p_credit_cards_exceeding_75p      169\n",
       "interest_rate                     584\n",
       "revolving_utilization            1103\n",
       "loan_amount                      1466\n",
       "dti                              5310\n",
       "description                      7796\n",
       "recovered_amount                10609\n",
       "annual_income                   11649\n",
       "installment                     33608\n",
       "employment_title                54545\n",
       "amortised_amount                57853\n",
       "dtype: int64"
      ]
     },
     "execution_count": 16,
     "metadata": {},
     "output_type": "execute_result"
    }
   ],
   "source": [
    "df.nunique().sort_values()"
   ]
  },
  {
   "cell_type": "markdown",
   "id": "b1d1a668",
   "metadata": {},
   "source": [
    "### Correction"
   ]
  },
  {
   "cell_type": "markdown",
   "id": "60c69c2e",
   "metadata": {},
   "source": [
    "`loan_id` feature is found to have only null values, therefore it does not provide any information and should be deleted."
   ]
  },
  {
   "cell_type": "code",
   "execution_count": 17,
   "id": "62f7d14e",
   "metadata": {},
   "outputs": [],
   "source": [
    "df.drop(columns = 'loan_id', inplace = True)"
   ]
  },
  {
   "cell_type": "markdown",
   "id": "e25cfc89",
   "metadata": {},
   "source": [
    "## DUPLICATES"
   ]
  },
  {
   "cell_type": "markdown",
   "id": "8a079ed3",
   "metadata": {},
   "source": [
    "### Identification"
   ]
  },
  {
   "cell_type": "markdown",
   "id": "3c170650",
   "metadata": {},
   "source": [
    "It is verified that there are no duplicate records in the dataset."
   ]
  },
  {
   "cell_type": "code",
   "execution_count": 18,
   "id": "f5b23bfc",
   "metadata": {
    "scrolled": true
   },
   "outputs": [
    {
     "data": {
      "text/plain": [
       "0"
      ]
     },
     "execution_count": 18,
     "metadata": {},
     "output_type": "execute_result"
    }
   ],
   "source": [
    "df.duplicated().sum()"
   ]
  },
  {
   "cell_type": "markdown",
   "id": "632ec2cd",
   "metadata": {},
   "source": [
    "## SPLITTING THE DATASET INTO NUMERICAL AND CATEGORICAL DATASETS"
   ]
  },
  {
   "cell_type": "markdown",
   "id": "2d1597f7",
   "metadata": {},
   "source": [
    "The original dataset will be split into two subsets of data, categorical and numerical, to facilitate further analysis."
   ]
  },
  {
   "cell_type": "markdown",
   "id": "573a61ac",
   "metadata": {},
   "source": [
    "### Categorical"
   ]
  },
  {
   "cell_type": "code",
   "execution_count": 19,
   "id": "47a7eece",
   "metadata": {},
   "outputs": [],
   "source": [
    "cat = df.select_dtypes(exclude = 'number').copy()"
   ]
  },
  {
   "cell_type": "markdown",
   "id": "41756893",
   "metadata": {},
   "source": [
    "### Numerical"
   ]
  },
  {
   "cell_type": "code",
   "execution_count": 20,
   "id": "59140e9a",
   "metadata": {},
   "outputs": [],
   "source": [
    "num = df.select_dtypes(include='number').copy()"
   ]
  },
  {
   "cell_type": "markdown",
   "id": "5e7d8e7e",
   "metadata": {},
   "source": [
    "## CATEGORICAL - MANAGEMENT"
   ]
  },
  {
   "cell_type": "markdown",
   "id": "5b5808b7",
   "metadata": {},
   "source": [
    "### Nulls"
   ]
  },
  {
   "cell_type": "markdown",
   "id": "5c08ca55",
   "metadata": {},
   "source": [
    "#### Identification"
   ]
  },
  {
   "cell_type": "code",
   "execution_count": 21,
   "id": "da49ae63",
   "metadata": {},
   "outputs": [
    {
     "data": {
      "text/html": [
       "<div>\n",
       "<style scoped>\n",
       "    .dataframe tbody tr th:only-of-type {\n",
       "        vertical-align: middle;\n",
       "    }\n",
       "\n",
       "    .dataframe tbody tr th {\n",
       "        vertical-align: top;\n",
       "    }\n",
       "\n",
       "    .dataframe thead th {\n",
       "        text-align: right;\n",
       "    }\n",
       "</style>\n",
       "<table border=\"1\" class=\"dataframe\">\n",
       "  <thead>\n",
       "    <tr style=\"text-align: right;\">\n",
       "      <th></th>\n",
       "      <th>Nulls</th>\n",
       "      <th>% Nulls</th>\n",
       "    </tr>\n",
       "  </thead>\n",
       "  <tbody>\n",
       "    <tr>\n",
       "      <th>description</th>\n",
       "      <td>132181</td>\n",
       "      <td>94.415000</td>\n",
       "    </tr>\n",
       "    <tr>\n",
       "      <th>employment_title</th>\n",
       "      <td>10287</td>\n",
       "      <td>7.347857</td>\n",
       "    </tr>\n",
       "    <tr>\n",
       "      <th>employment_length</th>\n",
       "      <td>9041</td>\n",
       "      <td>6.457857</td>\n",
       "    </tr>\n",
       "    <tr>\n",
       "      <th>income_verification</th>\n",
       "      <td>0</td>\n",
       "      <td>0.000000</td>\n",
       "    </tr>\n",
       "    <tr>\n",
       "      <th>scoring</th>\n",
       "      <td>0</td>\n",
       "      <td>0.000000</td>\n",
       "    </tr>\n",
       "    <tr>\n",
       "      <th>home_ownership</th>\n",
       "      <td>0</td>\n",
       "      <td>0.000000</td>\n",
       "    </tr>\n",
       "    <tr>\n",
       "      <th>purpose</th>\n",
       "      <td>0</td>\n",
       "      <td>0.000000</td>\n",
       "    </tr>\n",
       "    <tr>\n",
       "      <th>term</th>\n",
       "      <td>0</td>\n",
       "      <td>0.000000</td>\n",
       "    </tr>\n",
       "    <tr>\n",
       "      <th>status</th>\n",
       "      <td>0</td>\n",
       "      <td>0.000000</td>\n",
       "    </tr>\n",
       "  </tbody>\n",
       "</table>\n",
       "</div>"
      ],
      "text/plain": [
       "                      Nulls    % Nulls\n",
       "description          132181  94.415000\n",
       "employment_title      10287   7.347857\n",
       "employment_length      9041   6.457857\n",
       "income_verification       0   0.000000\n",
       "scoring                   0   0.000000\n",
       "home_ownership            0   0.000000\n",
       "purpose                   0   0.000000\n",
       "term                      0   0.000000\n",
       "status                    0   0.000000"
      ]
     },
     "execution_count": 21,
     "metadata": {},
     "output_type": "execute_result"
    }
   ],
   "source": [
    "cat_nulls = pd.concat([cat.isna().sum().sort_values(ascending = False),cat.apply(lambda x: x.isna().sum()/x.shape*100).\\\n",
    "                                                               melt(value_name='% Nulls').set_index('variable').\\\n",
    "                                                               sort_values(by='% Nulls',ascending=False)],axis=1).\\\n",
    "       rename(columns = {0:'Nulls'})\n",
    "cat_nulls"
   ]
  },
  {
   "cell_type": "markdown",
   "id": "2cf35112",
   "metadata": {},
   "source": [
    "The values of the categorical features with nulls are analysed below."
   ]
  },
  {
   "cell_type": "code",
   "execution_count": 22,
   "id": "06086aa8",
   "metadata": {
    "scrolled": false
   },
   "outputs": [
    {
     "name": "stdout",
     "output_type": "stream",
     "text": [
      "description\n",
      "--------------------------------------------------\n",
      " NaN                                                                                                                                                                                                                                                                                                                                                                                                                                                                                     132181\n",
      "                                                                                                                                                                                                                                                                                                                                                                                                                                                                                            17\n",
      "  Borrower added on 07/26/13 > Debt Consolidation<br>                                                                                                                                                                                                                                                                                                                                                                                                                                        2\n",
      "Personal loan                                                                                                                                                                                                                                                                                                                                                                                                                                                                                2\n",
      "  Borrower added on 02/25/14 > Debt Consolidation<br>                                                                                                                                                                                                                                                                                                                                                                                                                                        2\n",
      "                                                                                                                                                                                                                                                                                                                                                                                                                                                                                         ...  \n",
      "  Borrower added on 06/07/13 > Refinancing credit cards<br>                                                                                                                                                                                                                                                                                                                                                                                                                                  1\n",
      "  Borrower added on 05/22/13 > Debt consolidation paying off credit cards and my car. I want to have all under one note.<br>                                                                                                                                                                                                                                                                                                                                                                 1\n",
      "  Borrower added on 07/18/13 > Pay off debts.<br>Buy new furnitures.<br>Vacation.<br>                                                                                                                                                                                                                                                                                                                                                                                                        1\n",
      "  Borrower added on 11/14/13 > Consolidate higher interest rate loans to a lower rate.<br>                                                                                                                                                                                                                                                                                                                                                                                                   1\n",
      "  Borrower added on 11/01/11 > Looking to use this loan to repay my large credit card debits.  I have always paid all of my debt payments on time, and am trying to get out from underneath all of this credit card debt now.  I have an extremely safe job as I work for a very conservative international mutual fund company, which I have been employed by for 5 years now.  Please let me know if you would like any further information about this loan.<br/><br/>Thanks!<br/>         1\n",
      "Name: description, Length: 7797, dtype: int64 \n",
      "\n",
      "\n",
      "employment_title\n",
      "--------------------------------------------------\n",
      " NaN                                   10287\n",
      "Teacher                                2497\n",
      "Manager                                2144\n",
      "Owner                                  1383\n",
      "Registered Nurse                       1006\n",
      "                                      ...  \n",
      "Bell BCI                                  1\n",
      "OfficeMax                                 1\n",
      "State of Minnesota/Judicial Branch        1\n",
      "General services                          1\n",
      "Owner & President                         1\n",
      "Name: employment_title, Length: 54546, dtype: int64 \n",
      "\n",
      "\n",
      "employment_length\n",
      "--------------------------------------------------\n",
      " 10+ years    46019\n",
      "2 years      12595\n",
      "< 1 year     11804\n",
      "3 years      11335\n",
      "1 year        9167\n",
      "NaN           9041\n",
      "5 years       8787\n",
      "4 years       8540\n",
      "6 years       6303\n",
      "7 years       5758\n",
      "8 years       5741\n",
      "9 years       4910\n",
      "Name: employment_length, dtype: int64 \n",
      "\n",
      "\n"
     ]
    }
   ],
   "source": [
    "[print(x +'\\n'+ 50*'-'+'\\n', df[x].value_counts(dropna=False), '\\n\\n') for x in cat_nulls[cat_nulls.Nulls>0].index];"
   ]
  },
  {
   "cell_type": "markdown",
   "id": "eed757e3",
   "metadata": {},
   "source": [
    "`description`: This feature provides a loan description writed by the borrower. Most of its values are null, and it will probably be eliminated. However, this feature will not be eliminated at this stage of the project in order to see if any valuable information can be extracted at future stages by using NLP techniques. Missing values will be imputed by 'Not provided' value.\n",
    "\n",
    "`employment_title`: This feature provides the job title supplied by the borrower when applying for the loan. It contains a relatively low percentage of nulls, and these missing values could be due to different causes, i.e. the borrower was unemployed, or that this information was not requested to him/her, or that he/she was not authorised to give it, among others. Missing values will be imputed by a new category called 'unknown'.\n",
    "\n",
    "`employment_length`: This feature provides the employment length in years. Again, these nulls can be due to different causes: information not provided, unemployed borrower, ... Given its low null percentage, the strategy will be to impute these missing values as 'unknown'."
   ]
  },
  {
   "cell_type": "markdown",
   "id": "6802d575",
   "metadata": {},
   "source": [
    "#### Correction"
   ]
  },
  {
   "cell_type": "markdown",
   "id": "ebeb52a6",
   "metadata": {},
   "source": [
    "##### Imputing by a value"
   ]
  },
  {
   "cell_type": "code",
   "execution_count": 23,
   "id": "1138f4c4",
   "metadata": {},
   "outputs": [],
   "source": [
    "cat['description'] = cat['description'].fillna('Not provided')\n",
    "\n",
    "cat[['employment_title','employment_length']] = cat[['employment_title','employment_length']].fillna('Unknown')"
   ]
  },
  {
   "cell_type": "markdown",
   "id": "db3a72a6",
   "metadata": {},
   "source": [
    "## NUMERICAL - MANAGEMENT"
   ]
  },
  {
   "cell_type": "markdown",
   "id": "d65bd06a",
   "metadata": {},
   "source": [
    "### Nulls"
   ]
  },
  {
   "cell_type": "markdown",
   "id": "e5ee8416",
   "metadata": {},
   "source": [
    "#### Identification"
   ]
  },
  {
   "cell_type": "code",
   "execution_count": 24,
   "id": "c9f054a3",
   "metadata": {
    "scrolled": false
   },
   "outputs": [
    {
     "data": {
      "text/html": [
       "<div>\n",
       "<style scoped>\n",
       "    .dataframe tbody tr th:only-of-type {\n",
       "        vertical-align: middle;\n",
       "    }\n",
       "\n",
       "    .dataframe tbody tr th {\n",
       "        vertical-align: top;\n",
       "    }\n",
       "\n",
       "    .dataframe thead th {\n",
       "        text-align: right;\n",
       "    }\n",
       "</style>\n",
       "<table border=\"1\" class=\"dataframe\">\n",
       "  <thead>\n",
       "    <tr style=\"text-align: right;\">\n",
       "      <th></th>\n",
       "      <th>Nulls</th>\n",
       "      <th>% Nulls</th>\n",
       "    </tr>\n",
       "  </thead>\n",
       "  <tbody>\n",
       "    <tr>\n",
       "      <th>n_months_since_last_derrog</th>\n",
       "      <td>71977</td>\n",
       "      <td>51.412143</td>\n",
       "    </tr>\n",
       "    <tr>\n",
       "      <th>p_credit_cards_exceeding_75p</th>\n",
       "      <td>4656</td>\n",
       "      <td>3.325714</td>\n",
       "    </tr>\n",
       "    <tr>\n",
       "      <th>n_mortages</th>\n",
       "      <td>3092</td>\n",
       "      <td>2.208571</td>\n",
       "    </tr>\n",
       "    <tr>\n",
       "      <th>revolving_utilization</th>\n",
       "      <td>106</td>\n",
       "      <td>0.075714</td>\n",
       "    </tr>\n",
       "    <tr>\n",
       "      <th>dti</th>\n",
       "      <td>101</td>\n",
       "      <td>0.072143</td>\n",
       "    </tr>\n",
       "    <tr>\n",
       "      <th>n_cancellations_12_months</th>\n",
       "      <td>7</td>\n",
       "      <td>0.005000</td>\n",
       "    </tr>\n",
       "    <tr>\n",
       "      <th>n_credit_lines</th>\n",
       "      <td>1</td>\n",
       "      <td>0.000714</td>\n",
       "    </tr>\n",
       "    <tr>\n",
       "      <th>n_derogations</th>\n",
       "      <td>1</td>\n",
       "      <td>0.000714</td>\n",
       "    </tr>\n",
       "    <tr>\n",
       "      <th>annual_income</th>\n",
       "      <td>0</td>\n",
       "      <td>0.000000</td>\n",
       "    </tr>\n",
       "    <tr>\n",
       "      <th>loan_amount</th>\n",
       "      <td>0</td>\n",
       "      <td>0.000000</td>\n",
       "    </tr>\n",
       "    <tr>\n",
       "      <th>interest_rate</th>\n",
       "      <td>0</td>\n",
       "      <td>0.000000</td>\n",
       "    </tr>\n",
       "    <tr>\n",
       "      <th>installment</th>\n",
       "      <td>0</td>\n",
       "      <td>0.000000</td>\n",
       "    </tr>\n",
       "    <tr>\n",
       "      <th>amortised_amount</th>\n",
       "      <td>0</td>\n",
       "      <td>0.000000</td>\n",
       "    </tr>\n",
       "    <tr>\n",
       "      <th>recovered_amount</th>\n",
       "      <td>0</td>\n",
       "      <td>0.000000</td>\n",
       "    </tr>\n",
       "  </tbody>\n",
       "</table>\n",
       "</div>"
      ],
      "text/plain": [
       "                              Nulls    % Nulls\n",
       "n_months_since_last_derrog    71977  51.412143\n",
       "p_credit_cards_exceeding_75p   4656   3.325714\n",
       "n_mortages                     3092   2.208571\n",
       "revolving_utilization           106   0.075714\n",
       "dti                             101   0.072143\n",
       "n_cancellations_12_months         7   0.005000\n",
       "n_credit_lines                    1   0.000714\n",
       "n_derogations                     1   0.000714\n",
       "annual_income                     0   0.000000\n",
       "loan_amount                       0   0.000000\n",
       "interest_rate                     0   0.000000\n",
       "installment                       0   0.000000\n",
       "amortised_amount                  0   0.000000\n",
       "recovered_amount                  0   0.000000"
      ]
     },
     "execution_count": 24,
     "metadata": {},
     "output_type": "execute_result"
    }
   ],
   "source": [
    "num_nulls = pd.concat([num.isna().sum().sort_values(ascending = False),num.apply(lambda x: x.isna().sum()/x.shape*100).\\\n",
    "                                                               melt(value_name='% Nulls').set_index('variable').\\\n",
    "                                                               sort_values(by='% Nulls',ascending=False)],axis=1).\\\n",
    "       rename(columns = {0:'Nulls'})\n",
    "num_nulls"
   ]
  },
  {
   "cell_type": "markdown",
   "id": "57c7d51c",
   "metadata": {},
   "source": [
    "Features with the highest percentage of nulls are examined first:"
   ]
  },
  {
   "cell_type": "markdown",
   "id": "06c5cd1a",
   "metadata": {},
   "source": [
    "`n_months_since_last_derrog`: Null values in this variable correspond to those borrowers who have not defaulted. On the other hand, it could be understood that a value of 0 in this variable would imply that the default has occurred in the current month. However, in banking a default is usually considered after a period of days from its occurrence and not instantaneously. Therefore, missing values will be imputed by the value 0.\n",
    "\n",
    "`p_credit_cards_exceeding_75p`, `n_mortages`: The majority value for these variables is 0. Missing values will also be imputed by the value 0."
   ]
  },
  {
   "cell_type": "code",
   "execution_count": 25,
   "id": "ad7921aa",
   "metadata": {
    "scrolled": false
   },
   "outputs": [
    {
     "data": {
      "image/png": "[encoded data removed]",
      "text/plain": [
       "<Figure size 1152x288 with 1 Axes>"
      ]
     },
     "metadata": {
      "needs_background": "light"
     },
     "output_type": "display_data"
    },
    {
     "data": {
      "image/png": "[encoded data removed]",
      "text/plain": [
       "<Figure size 1152x288 with 1 Axes>"
      ]
     },
     "metadata": {
      "needs_background": "light"
     },
     "output_type": "display_data"
    },
    {
     "data": {
      "image/png": "[encoded data removed]",
      "text/plain": [
       "<Figure size 1152x288 with 1 Axes>"
      ]
     },
     "metadata": {
      "needs_background": "light"
     },
     "output_type": "display_data"
    }
   ],
   "source": [
    "for f in num_nulls[num_nulls['% Nulls']>1].index:\n",
    "    num[f].value_counts().sort_index().plot.bar(figsize=(16,4),title=f)\n",
    "    plt.show()"
   ]
  },
  {
   "cell_type": "markdown",
   "id": "229cc15f",
   "metadata": {},
   "source": [
    "`n_cancellations_12_months`,`n_derogations`: The majority value for these variables is 0. Missing values will also be imputed by the value 0.\n",
    "\n",
    "`revolving_utilization`, `dti`, `n_credit_lines`: Missing values will be imputed by the median value."
   ]
  },
  {
   "cell_type": "code",
   "execution_count": 26,
   "id": "fe56f9d2",
   "metadata": {},
   "outputs": [
    {
     "data": {
      "image/png": "[encoded data removed]",
      "text/plain": [
       "<Figure size 1152x720 with 6 Axes>"
      ]
     },
     "metadata": {
      "needs_background": "light"
     },
     "output_type": "display_data"
    }
   ],
   "source": [
    "num[num_nulls[(num_nulls['% Nulls']>0)&(num_nulls['% Nulls']<1)].index].plot(kind='kde',subplots=True,\n",
    "                                                                             sharex=False,layout=(3,2),figsize=(16,10));"
   ]
  },
  {
   "cell_type": "markdown",
   "id": "1b7cb2c4",
   "metadata": {},
   "source": [
    "#### Correction"
   ]
  },
  {
   "cell_type": "markdown",
   "id": "ffdf20d3",
   "metadata": {},
   "source": [
    "##### Imputing by 0"
   ]
  },
  {
   "cell_type": "markdown",
   "id": "bb6f0592",
   "metadata": {},
   "source": [
    "###### Features to be imputed"
   ]
  },
  {
   "cell_type": "code",
   "execution_count": 27,
   "id": "0457c4e5",
   "metadata": {},
   "outputs": [],
   "source": [
    "var_impute_zero = ['p_credit_cards_exceeding_75p','n_mortages','n_months_since_last_derrog',\n",
    "                   'n_cancellations_12_months','n_derogations']"
   ]
  },
  {
   "cell_type": "code",
   "execution_count": 28,
   "id": "be4a7190",
   "metadata": {},
   "outputs": [],
   "source": [
    "num[var_impute_zero] = num[var_impute_zero].fillna(0)"
   ]
  },
  {
   "cell_type": "markdown",
   "id": "649c19f3",
   "metadata": {},
   "source": [
    "##### Imputing by median"
   ]
  },
  {
   "cell_type": "markdown",
   "id": "d22ea297",
   "metadata": {},
   "source": [
    "###### Features to be imputed"
   ]
  },
  {
   "cell_type": "code",
   "execution_count": 29,
   "id": "37e4d7f6",
   "metadata": {},
   "outputs": [],
   "source": [
    "var_impute_median = ['revolving_utilization', 'dti', 'n_credit_lines']"
   ]
  },
  {
   "cell_type": "markdown",
   "id": "432c371c",
   "metadata": {},
   "source": [
    "###### Function to impute by median"
   ]
  },
  {
   "cell_type": "code",
   "execution_count": 30,
   "id": "66679233",
   "metadata": {},
   "outputs": [],
   "source": [
    "def impute_median(feature):\n",
    "    if pd.api.types.is_integer_dtype(feature):\n",
    "        return(feature.fillna(int(feature.median())))\n",
    "    else:\n",
    "        return(feature.fillna(feature.median()))"
   ]
  },
  {
   "cell_type": "markdown",
   "id": "70d7a1c5",
   "metadata": {},
   "source": [
    "###### Imputing by median"
   ]
  },
  {
   "cell_type": "code",
   "execution_count": 31,
   "id": "887a4106",
   "metadata": {},
   "outputs": [],
   "source": [
    "num[var_impute_median] = num[var_impute_median].apply(impute_median)"
   ]
  },
  {
   "cell_type": "markdown",
   "id": "82cb56e8",
   "metadata": {},
   "source": [
    "### Outliers"
   ]
  },
  {
   "cell_type": "markdown",
   "id": "8ceda3d3",
   "metadata": {},
   "source": [
    "####  Identification (by standard deviation)"
   ]
  },
  {
   "cell_type": "markdown",
   "id": "fc732a58",
   "metadata": {},
   "source": [
    "The adopted criterion is to identify those values that are more than four standard deviations away from the mean value."
   ]
  },
  {
   "cell_type": "code",
   "execution_count": 32,
   "id": "2b7419cb",
   "metadata": {},
   "outputs": [],
   "source": [
    "num_std = 4"
   ]
  },
  {
   "cell_type": "markdown",
   "id": "942da237",
   "metadata": {},
   "source": [
    "###### Function that returns the indexes of the outliers"
   ]
  },
  {
   "cell_type": "code",
   "execution_count": 33,
   "id": "8a81f494",
   "metadata": {},
   "outputs": [],
   "source": [
    "def find_outliers_index_std(var,n_std=4):\n",
    "    var = var.dropna()\n",
    "    treshold = np.std(var)*n_std\n",
    "    upper_limit = np.mean(var) + treshold\n",
    "    lower_limit = np.mean(var) - treshold\n",
    "    ind = [ind for ind,value in var.items() if value<lower_limit or value>upper_limit]\n",
    "    return(ind)"
   ]
  },
  {
   "cell_type": "markdown",
   "id": "768e7398",
   "metadata": {},
   "source": [
    "###### Function that counts the number of outliers"
   ]
  },
  {
   "cell_type": "code",
   "execution_count": 34,
   "id": "5c8f4462",
   "metadata": {},
   "outputs": [],
   "source": [
    "def count_outliers(df, feature, num_std = 4):\n",
    "    outliers = find_outliers_index_std(df[feature], num_std)\n",
    "    return(df.loc[outliers,feature].value_counts())"
   ]
  },
  {
   "cell_type": "markdown",
   "id": "5cd1e425",
   "metadata": {},
   "source": [
    "###### Features to check"
   ]
  },
  {
   "cell_type": "markdown",
   "id": "681c5097",
   "metadata": {},
   "source": [
    "Main features to be checked:"
   ]
  },
  {
   "cell_type": "code",
   "execution_count": 35,
   "id": "cfbb3d88",
   "metadata": {},
   "outputs": [],
   "source": [
    "var_outliers_std = ['annual_income','loan_amount', 'dti', 'revolving_utilization', 'installment','recovered_amount']"
   ]
  },
  {
   "cell_type": "markdown",
   "id": "25f96aaa",
   "metadata": {},
   "source": [
    "Identified values:"
   ]
  },
  {
   "cell_type": "code",
   "execution_count": 36,
   "id": "e34e6381",
   "metadata": {
    "scrolled": false
   },
   "outputs": [
    {
     "name": "stdout",
     "output_type": "stream",
     "text": [
      "\n",
      "annual_income\n",
      "--------------------------------------------------\n",
      "400000.0     94\n",
      "500000.0     44\n",
      "450000.0     43\n",
      "600000.0     18\n",
      "750000.0     12\n",
      "             ..\n",
      "505000.0      1\n",
      "564000.0      1\n",
      "3437892.0     1\n",
      "495000.0      1\n",
      "445000.0      1\n",
      "Name: annual_income, Length: 144, dtype: int64\n",
      "\n",
      "loan_amount\n",
      "--------------------------------------------------\n",
      "Series([], Name: loan_amount, dtype: int64)\n",
      "\n",
      "dti\n",
      "--------------------------------------------------\n",
      "999.00    11\n",
      "83.86      2\n",
      "120.43     2\n",
      "102.45     2\n",
      "80.40      2\n",
      "          ..\n",
      "255.57     1\n",
      "396.20     1\n",
      "81.87      1\n",
      "79.79      1\n",
      "580.20     1\n",
      "Name: dti, Length: 261, dtype: int64\n",
      "\n",
      "revolving_utilization\n",
      "--------------------------------------------------\n",
      "155.3    1\n",
      "366.6    1\n",
      "158.7    1\n",
      "184.6    1\n",
      "Name: revolving_utilization, dtype: int64\n",
      "\n",
      "installment\n",
      "--------------------------------------------------\n",
      "1566.80    2\n",
      "1607.80    1\n",
      "1535.71    1\n",
      "1714.54    1\n",
      "Name: installment, dtype: int64\n",
      "\n",
      "recovered_amount\n",
      "--------------------------------------------------\n",
      "4000.00     7\n",
      "3600.00     5\n",
      "3500.00     5\n",
      "6000.00     4\n",
      "11000.00    3\n",
      "           ..\n",
      "3631.12     1\n",
      "4548.00     1\n",
      "3457.34     1\n",
      "4636.08     1\n",
      "3500.75     1\n",
      "Name: recovered_amount, Length: 1597, dtype: int64\n"
     ]
    }
   ],
   "source": [
    "for feature in var_outliers_std:\n",
    "    print('\\n' + feature + '\\n' + 50*'-')\n",
    "    print(count_outliers(num,feature,num_std))"
   ]
  },
  {
   "cell_type": "markdown",
   "id": "8ff9d394",
   "metadata": {},
   "source": [
    "`revolving_utilization`: As this feature represents the amount of credit the borrower is using relative to all available revolving credit, outliers exceeding 100 shall be set to 100."
   ]
  },
  {
   "cell_type": "markdown",
   "id": "db1a7e00",
   "metadata": {},
   "source": [
    "`dti`: This feature is a ratio calculated using the borrower's total monthly debt payments on the total debt obligations  divided by the borrower's self-reported monthly income. A dti value exceeding 100% implies that the client's debt obligations are higher than the declared monthly income. It would be necessary to clarify with bank staff under which situations such clients are accepted. Given that the percentage of customers with dti above 100 is practically null, the dti rate of these borrowers will be limited to 100, as the error committed doing that is negligible."
   ]
  },
  {
   "cell_type": "code",
   "execution_count": 37,
   "id": "4ba355aa",
   "metadata": {},
   "outputs": [
    {
     "name": "stdout",
     "output_type": "stream",
     "text": [
      "% of borroers whose dti exceeds 100%: 0.11 %\n"
     ]
    }
   ],
   "source": [
    "print('% of borroers whose dti exceeds 100%:', round(num[num.dti>100].shape[0]/num.shape[0]*100,2), '%')"
   ]
  },
  {
   "cell_type": "markdown",
   "id": "8631f837",
   "metadata": {},
   "source": [
    "Regarding `annual_income` feature, outliers values are found. Maximum value of this feature is above 9 million dollars. Since customers with large annual incomes will have a quite different profile, they should be managed by dedicated teams, so the decision is taken to limit the scope of the project to those customers with annual incomes below $350,000."
   ]
  },
  {
   "cell_type": "code",
   "execution_count": 38,
   "id": "0bfcec7d",
   "metadata": {},
   "outputs": [
    {
     "data": {
      "text/plain": [
       "count    1.400000e+05\n",
       "mean     7.814332e+04\n",
       "std      7.964285e+04\n",
       "min      0.000000e+00\n",
       "25%      4.600000e+04\n",
       "50%      6.500000e+04\n",
       "75%      9.350000e+04\n",
       "max      9.573072e+06\n",
       "Name: annual_income, dtype: float64"
      ]
     },
     "execution_count": 38,
     "metadata": {},
     "output_type": "execute_result"
    }
   ],
   "source": [
    "num.annual_income.describe()"
   ]
  },
  {
   "cell_type": "code",
   "execution_count": 32,
   "id": "eb79e3e4",
   "metadata": {},
   "outputs": [],
   "source": [
    "to_del = num.loc[num.annual_income > 350000].index.values"
   ]
  },
  {
   "cell_type": "markdown",
   "id": "bdba8702",
   "metadata": {},
   "source": [
    "#### Outlier correction:"
   ]
  },
  {
   "cell_type": "code",
   "execution_count": 33,
   "id": "c4b74e98",
   "metadata": {},
   "outputs": [],
   "source": [
    "cat = cat[~cat.index.isin(to_del)]\n",
    "num = num[~num.index.isin(to_del)]\n",
    "\n",
    "num[['revolving_utilization','dti']] = num[['revolving_utilization','dti']].clip(0,100)"
   ]
  },
  {
   "cell_type": "markdown",
   "id": "0f6b1e4a",
   "metadata": {},
   "source": [
    "## SAVING DATASETS AFTER DATA QUALITY PROCESSING"
   ]
  },
  {
   "cell_type": "markdown",
   "id": "1e211b09",
   "metadata": {},
   "source": [
    "Dataframes df, cat and num will be saved once data quality procedures have been applied.\n",
    "\n",
    "In pickle format so as not to lose metadata modifications."
   ]
  },
  {
   "cell_type": "markdown",
   "id": "abb12eef",
   "metadata": {},
   "source": [
    "### Defining dataset names"
   ]
  },
  {
   "cell_type": "code",
   "execution_count": 34,
   "id": "f83c6f26",
   "metadata": {},
   "outputs": [],
   "source": [
    "path_work = project_path + '/02_Data/03_Work/' + 'work_result_quality.pickle'\n",
    "path_cat = project_path + '/02_Data/03_Work/' + 'cat_result_quality.pickle'\n",
    "path_num = project_path + '/02_Data/03_Work/' + 'num_result_quality.pickle'"
   ]
  },
  {
   "cell_type": "markdown",
   "id": "1699f284",
   "metadata": {},
   "source": [
    "### Saving datasets"
   ]
  },
  {
   "cell_type": "code",
   "execution_count": 35,
   "id": "6731887a",
   "metadata": {},
   "outputs": [],
   "source": [
    "df.to_pickle(path_work)\n",
    "cat.to_pickle(path_cat)\n",
    "num.to_pickle(path_num)"
   ]
  }
 ],
 "metadata": {
  "kernelspec": {
   "display_name": "Python 3 (ipykernel)",
   "language": "python",
   "name": "python3"
  },
  "language_info": {
   "codemirror_mode": {
    "name": "ipython",
    "version": 3
   },
   "file_extension": ".py",
   "mimetype": "text/x-python",
   "name": "python",
   "nbconvert_exporter": "python",
   "pygments_lexer": "ipython3",
   "version": "3.9.5"
  },
  "latex_envs": {
   "LaTeX_envs_menu_present": true,
   "autoclose": false,
   "autocomplete": true,
   "bibliofile": "biblio.bib",
   "cite_by": "apalike",
   "current_citInitial": 1,
   "eqLabelWithNumbers": true,
   "eqNumInitial": 1,
   "hotkeys": {
    "equation": "Ctrl-E",
    "itemize": "Ctrl-I"
   },
   "labels_anchors": false,
   "latex_user_defs": false,
   "report_style_numbering": false,
   "user_envs_cfg": false
  },
  "toc": {
   "base_numbering": 1,
   "nav_menu": {},
   "number_sections": true,
   "sideBar": true,
   "skip_h1_title": false,
   "title_cell": "Table of Contents",
   "title_sidebar": "Contents",
   "toc_cell": false,
   "toc_position": {
    "height": "calc(100% - 180px)",
    "left": "10px",
    "top": "150px",
    "width": "288.538px"
   },
   "toc_section_display": true,
   "toc_window_display": true
  },
  "varInspector": {
   "cols": {
    "lenName": 16,
    "lenType": 16,
    "lenVar": 40
   },
   "kernels_config": {
    "python": {
     "delete_cmd_postfix": "",
     "delete_cmd_prefix": "del ",
     "library": "var_list.py",
     "varRefreshCmd": "print(var_dic_list())"
    },
    "r": {
     "delete_cmd_postfix": ") ",
     "delete_cmd_prefix": "rm(",
     "library": "var_list.r",
     "varRefreshCmd": "cat(var_dic_list()) "
    }
   },
   "position": {
    "height": "546.85px",
    "left": "680.75px",
    "right": "20px",
    "top": "118px",
    "width": "350px"
   },
   "types_to_exclude": [
    "module",
    "function",
    "builtin_function_or_method",
    "instance",
    "_Feature"
   ],
   "window_display": false
  }
 },
 "nbformat": 4,
 "nbformat_minor": 5
}
