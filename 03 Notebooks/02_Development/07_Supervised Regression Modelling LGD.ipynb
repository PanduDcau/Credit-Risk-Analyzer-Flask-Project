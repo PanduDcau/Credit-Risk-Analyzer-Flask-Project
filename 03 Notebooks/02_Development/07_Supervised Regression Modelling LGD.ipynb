{
 "cells": [
  {
   "cell_type": "markdown",
   "id": "d31dea65",
   "metadata": {},
   "source": [
    "# SUPERVISED REGRESSION MODELLING: LOSS GIVEN DEFAULT"
   ]
  },
  {
   "cell_type": "markdown",
   "id": "4c4a7a25",
   "metadata": {},
   "source": [
    "The objective of this model is to predict the percentage of the principal that will not be possible to recover from a loan that has been defaulted on.\n",
    "\n",
    "\\begin{equation*}\n",
    "\\text{target}_{\\text{lgd}} = \n",
    "    \\begin{cases}\n",
    "      \\dfrac{\\text{Recovered amount}}{\\text{Amount to be paid}} & if \\, \\text{Amount to be paid} > 1  \\\\\n",
    "      0 & if \\, \\text{Amount to be paid} = 0\n",
    "    \\end{cases} \n",
    "\\end{equation*}"
   ]
  },
  {
   "cell_type": "markdown",
   "id": "swiss-fault",
   "metadata": {},
   "source": [
    "## IMPORTING PACKAGES"
   ]
  },
  {
   "cell_type": "code",
   "execution_count": 1,
   "id": "adjacent-toddler",
   "metadata": {},
   "outputs": [],
   "source": [
    "import numpy as np\n",
    "import pandas as pd\n",
    "import matplotlib.pyplot as plt\n",
    "%matplotlib inline\n",
    "\n",
    "from sklearn.model_selection import train_test_split\n",
    "\n",
    "from sklearn.linear_model import Ridge\n",
    "from sklearn.linear_model import Lasso\n",
    "from sklearn.ensemble import HistGradientBoostingRegressor\n",
    "\n",
    "from sklearn.pipeline import Pipeline\n",
    "\n",
    "from sklearn.model_selection import GridSearchCV\n",
    "\n",
    "from sklearn.metrics import mean_absolute_error\n",
    "\n",
    "#Autocompletar rápido\n",
    "%config IPCompleter.greedy=True\n",
    "\n",
    "#Desactivar los warnings\n",
    "import warnings\n",
    "warnings.filterwarnings(\"ignore\")"
   ]
  },
  {
   "cell_type": "markdown",
   "id": "graduate-compensation",
   "metadata": {},
   "source": [
    "## DATA IMPORTATION"
   ]
  },
  {
   "cell_type": "markdown",
   "id": "3a5b94ef",
   "metadata": {},
   "source": [
    "Replace project path."
   ]
  },
  {
   "cell_type": "code",
   "execution_count": 2,
   "id": "f9d2de58",
   "metadata": {},
   "outputs": [],
   "source": [
    "project_path = '../..'"
   ]
  },
  {
   "cell_type": "markdown",
   "id": "c3363765",
   "metadata": {},
   "source": [
    "Names of data files."
   ]
  },
  {
   "cell_type": "code",
   "execution_count": 3,
   "id": "a9e2e04a",
   "metadata": {},
   "outputs": [],
   "source": [
    "df_name = 'df_input_lgd.pickle'"
   ]
  },
  {
   "cell_type": "markdown",
   "id": "b9825018",
   "metadata": {},
   "source": [
    "Data importation."
   ]
  },
  {
   "cell_type": "code",
   "execution_count": 4,
   "id": "cab6ebcd",
   "metadata": {},
   "outputs": [],
   "source": [
    "df = pd.read_pickle(project_path + '/02_Data/03_Work/' + df_name)"
   ]
  },
  {
   "cell_type": "markdown",
   "id": "9790d322",
   "metadata": {},
   "source": [
    "## MODELLING"
   ]
  },
  {
   "cell_type": "markdown",
   "id": "ac0293e7",
   "metadata": {},
   "source": [
    "In this section different combinations of algorithms/hyperparameters will be tested to find those with the best performance."
   ]
  },
  {
   "cell_type": "markdown",
   "id": "930f685f",
   "metadata": {},
   "source": [
    "### Reserving validation dataset"
   ]
  },
  {
   "cell_type": "code",
   "execution_count": 6,
   "id": "69905b8c",
   "metadata": {},
   "outputs": [],
   "source": [
    "x = df.drop(columns='target_lgd')\n",
    "y = df.target_lgd.copy()"
   ]
  },
  {
   "cell_type": "code",
   "execution_count": 7,
   "id": "84b6fd41",
   "metadata": {},
   "outputs": [],
   "source": [
    "train_x,val_x,train_y,val_y = train_test_split(x,y,test_size=0.3)"
   ]
  },
  {
   "cell_type": "markdown",
   "id": "53bd4ad6",
   "metadata": {},
   "source": [
    "### Creating the pipe and the dictionary of algorithms, parameters and values to be tested"
   ]
  },
  {
   "cell_type": "code",
   "execution_count": 8,
   "id": "3efa5c98",
   "metadata": {},
   "outputs": [],
   "source": [
    "pipe = Pipeline([('algoritmo',Ridge())])\n",
    "\n",
    "grid = [      \n",
    "        {'algoritmo': [Ridge()],\n",
    "         'algoritmo__alpha': np.arange(0.1,1.1,0.1)},\n",
    "        \n",
    "        {'algoritmo': [Lasso()],\n",
    "         'algoritmo__alpha': np.arange(0.1,1.1,0.1)},\n",
    "    \n",
    "        {'algoritmo': [HistGradientBoostingRegressor(min_samples_leaf = 100, scoring = 'neg_mean_absolute_error')],\n",
    "         'algoritmo__learning_rate': [0.01,0.025,0.05,0.1],\n",
    "         'algoritmo__max_iter': [50,100,200],\n",
    "         'algoritmo__max_depth': [5,10,20],\n",
    "         'algoritmo__l2_regularization': np.arange(0,1.25,0.25)}\n",
    "       ]"
   ]
  },
  {
   "cell_type": "markdown",
   "id": "1f836ca9",
   "metadata": {},
   "source": [
    "### Hyperparameter optimization"
   ]
  },
  {
   "cell_type": "markdown",
   "id": "3d73daa9",
   "metadata": {},
   "source": [
    "#### Using grid search"
   ]
  },
  {
   "cell_type": "code",
   "execution_count": 9,
   "id": "4be08386",
   "metadata": {},
   "outputs": [
    {
     "name": "stdout",
     "output_type": "stream",
     "text": [
      "Fitting 3 folds for each of 200 candidates, totalling 600 fits\n"
     ]
    }
   ],
   "source": [
    "grid_search = GridSearchCV(estimator= pipe, \n",
    "                           param_grid = grid, \n",
    "                           cv = 3, \n",
    "                           scoring = 'neg_mean_absolute_error',\n",
    "                           verbose = 3,\n",
    "                           n_jobs = -1)\n",
    "\n",
    "model = grid_search.fit(train_x.values,train_y)"
   ]
  },
  {
   "cell_type": "code",
   "execution_count": 10,
   "id": "b8c05bcc",
   "metadata": {
    "scrolled": false
   },
   "outputs": [
    {
     "data": {
      "text/html": [
       "<div>\n",
       "<style scoped>\n",
       "    .dataframe tbody tr th:only-of-type {\n",
       "        vertical-align: middle;\n",
       "    }\n",
       "\n",
       "    .dataframe tbody tr th {\n",
       "        vertical-align: top;\n",
       "    }\n",
       "\n",
       "    .dataframe thead th {\n",
       "        text-align: right;\n",
       "    }\n",
       "</style>\n",
       "<table border=\"1\" class=\"dataframe\">\n",
       "  <thead>\n",
       "    <tr style=\"text-align: right;\">\n",
       "      <th></th>\n",
       "      <th>mean_fit_time</th>\n",
       "      <th>std_fit_time</th>\n",
       "      <th>mean_score_time</th>\n",
       "      <th>std_score_time</th>\n",
       "      <th>param_algoritmo</th>\n",
       "      <th>param_algoritmo__alpha</th>\n",
       "      <th>param_algoritmo__l2_regularization</th>\n",
       "      <th>param_algoritmo__learning_rate</th>\n",
       "      <th>param_algoritmo__max_depth</th>\n",
       "      <th>param_algoritmo__max_iter</th>\n",
       "      <th>params</th>\n",
       "      <th>split0_test_score</th>\n",
       "      <th>split1_test_score</th>\n",
       "      <th>split2_test_score</th>\n",
       "      <th>mean_test_score</th>\n",
       "      <th>std_test_score</th>\n",
       "      <th>rank_test_score</th>\n",
       "    </tr>\n",
       "  </thead>\n",
       "  <tbody>\n",
       "    <tr>\n",
       "      <th>163</th>\n",
       "      <td>63.829949</td>\n",
       "      <td>1.101277</td>\n",
       "      <td>1.481704</td>\n",
       "      <td>0.026938</td>\n",
       "      <td>HistGradientBoostingRegressor(l2_regularizatio...</td>\n",
       "      <td>NaN</td>\n",
       "      <td>0.75</td>\n",
       "      <td>0.1</td>\n",
       "      <td>20</td>\n",
       "      <td>200</td>\n",
       "      <td>{'algoritmo': HistGradientBoostingRegressor(l2...</td>\n",
       "      <td>-0.373411</td>\n",
       "      <td>-0.371118</td>\n",
       "      <td>-0.371036</td>\n",
       "      <td>-0.371855</td>\n",
       "      <td>0.001101</td>\n",
       "      <td>1</td>\n",
       "    </tr>\n",
       "    <tr>\n",
       "      <th>196</th>\n",
       "      <td>57.862159</td>\n",
       "      <td>1.315491</td>\n",
       "      <td>1.100615</td>\n",
       "      <td>0.063222</td>\n",
       "      <td>HistGradientBoostingRegressor(l2_regularizatio...</td>\n",
       "      <td>NaN</td>\n",
       "      <td>1.0</td>\n",
       "      <td>0.1</td>\n",
       "      <td>10</td>\n",
       "      <td>200</td>\n",
       "      <td>{'algoritmo': HistGradientBoostingRegressor(l2...</td>\n",
       "      <td>-0.376144</td>\n",
       "      <td>-0.369564</td>\n",
       "      <td>-0.371894</td>\n",
       "      <td>-0.372534</td>\n",
       "      <td>0.002724</td>\n",
       "      <td>2</td>\n",
       "    </tr>\n",
       "    <tr>\n",
       "      <th>199</th>\n",
       "      <td>51.401252</td>\n",
       "      <td>2.501788</td>\n",
       "      <td>0.805526</td>\n",
       "      <td>0.066369</td>\n",
       "      <td>HistGradientBoostingRegressor(l2_regularizatio...</td>\n",
       "      <td>NaN</td>\n",
       "      <td>1.0</td>\n",
       "      <td>0.1</td>\n",
       "      <td>20</td>\n",
       "      <td>200</td>\n",
       "      <td>{'algoritmo': HistGradientBoostingRegressor(l2...</td>\n",
       "      <td>-0.372932</td>\n",
       "      <td>-0.373181</td>\n",
       "      <td>-0.371888</td>\n",
       "      <td>-0.372667</td>\n",
       "      <td>0.000560</td>\n",
       "      <td>3</td>\n",
       "    </tr>\n",
       "    <tr>\n",
       "      <th>127</th>\n",
       "      <td>64.187327</td>\n",
       "      <td>1.537409</td>\n",
       "      <td>1.425189</td>\n",
       "      <td>0.024953</td>\n",
       "      <td>HistGradientBoostingRegressor(l2_regularizatio...</td>\n",
       "      <td>NaN</td>\n",
       "      <td>0.5</td>\n",
       "      <td>0.1</td>\n",
       "      <td>20</td>\n",
       "      <td>200</td>\n",
       "      <td>{'algoritmo': HistGradientBoostingRegressor(l2...</td>\n",
       "      <td>-0.375658</td>\n",
       "      <td>-0.371237</td>\n",
       "      <td>-0.371641</td>\n",
       "      <td>-0.372846</td>\n",
       "      <td>0.001996</td>\n",
       "      <td>4</td>\n",
       "    </tr>\n",
       "    <tr>\n",
       "      <th>88</th>\n",
       "      <td>69.000121</td>\n",
       "      <td>1.837778</td>\n",
       "      <td>1.539881</td>\n",
       "      <td>0.014859</td>\n",
       "      <td>HistGradientBoostingRegressor(l2_regularizatio...</td>\n",
       "      <td>NaN</td>\n",
       "      <td>0.25</td>\n",
       "      <td>0.1</td>\n",
       "      <td>10</td>\n",
       "      <td>200</td>\n",
       "      <td>{'algoritmo': HistGradientBoostingRegressor(l2...</td>\n",
       "      <td>-0.372739</td>\n",
       "      <td>-0.371429</td>\n",
       "      <td>-0.374573</td>\n",
       "      <td>-0.372914</td>\n",
       "      <td>0.001290</td>\n",
       "      <td>5</td>\n",
       "    </tr>\n",
       "    <tr>\n",
       "      <th>...</th>\n",
       "      <td>...</td>\n",
       "      <td>...</td>\n",
       "      <td>...</td>\n",
       "      <td>...</td>\n",
       "      <td>...</td>\n",
       "      <td>...</td>\n",
       "      <td>...</td>\n",
       "      <td>...</td>\n",
       "      <td>...</td>\n",
       "      <td>...</td>\n",
       "      <td>...</td>\n",
       "      <td>...</td>\n",
       "      <td>...</td>\n",
       "      <td>...</td>\n",
       "      <td>...</td>\n",
       "      <td>...</td>\n",
       "      <td>...</td>\n",
       "    </tr>\n",
       "    <tr>\n",
       "      <th>17</th>\n",
       "      <td>0.277171</td>\n",
       "      <td>0.069896</td>\n",
       "      <td>0.014546</td>\n",
       "      <td>0.004524</td>\n",
       "      <td>Lasso()</td>\n",
       "      <td>0.8</td>\n",
       "      <td>NaN</td>\n",
       "      <td>NaN</td>\n",
       "      <td>NaN</td>\n",
       "      <td>NaN</td>\n",
       "      <td>{'algoritmo': Lasso(), 'algoritmo__alpha': 0.8}</td>\n",
       "      <td>-0.487014</td>\n",
       "      <td>-0.487891</td>\n",
       "      <td>-0.487185</td>\n",
       "      <td>-0.487363</td>\n",
       "      <td>0.000380</td>\n",
       "      <td>191</td>\n",
       "    </tr>\n",
       "    <tr>\n",
       "      <th>18</th>\n",
       "      <td>0.395350</td>\n",
       "      <td>0.053199</td>\n",
       "      <td>0.010412</td>\n",
       "      <td>0.007362</td>\n",
       "      <td>Lasso()</td>\n",
       "      <td>0.9</td>\n",
       "      <td>NaN</td>\n",
       "      <td>NaN</td>\n",
       "      <td>NaN</td>\n",
       "      <td>NaN</td>\n",
       "      <td>{'algoritmo': Lasso(), 'algoritmo__alpha': 0.9}</td>\n",
       "      <td>-0.487014</td>\n",
       "      <td>-0.487891</td>\n",
       "      <td>-0.487185</td>\n",
       "      <td>-0.487363</td>\n",
       "      <td>0.000380</td>\n",
       "      <td>191</td>\n",
       "    </tr>\n",
       "    <tr>\n",
       "      <th>19</th>\n",
       "      <td>0.357533</td>\n",
       "      <td>0.029615</td>\n",
       "      <td>0.005364</td>\n",
       "      <td>0.007255</td>\n",
       "      <td>Lasso()</td>\n",
       "      <td>1.0</td>\n",
       "      <td>NaN</td>\n",
       "      <td>NaN</td>\n",
       "      <td>NaN</td>\n",
       "      <td>NaN</td>\n",
       "      <td>{'algoritmo': Lasso(), 'algoritmo__alpha': 1.0}</td>\n",
       "      <td>-0.487014</td>\n",
       "      <td>-0.487891</td>\n",
       "      <td>-0.487185</td>\n",
       "      <td>-0.487363</td>\n",
       "      <td>0.000380</td>\n",
       "      <td>191</td>\n",
       "    </tr>\n",
       "    <tr>\n",
       "      <th>11</th>\n",
       "      <td>0.239526</td>\n",
       "      <td>0.019484</td>\n",
       "      <td>0.000000</td>\n",
       "      <td>0.000000</td>\n",
       "      <td>Lasso()</td>\n",
       "      <td>0.2</td>\n",
       "      <td>NaN</td>\n",
       "      <td>NaN</td>\n",
       "      <td>NaN</td>\n",
       "      <td>NaN</td>\n",
       "      <td>{'algoritmo': Lasso(), 'algoritmo__alpha': 0.2}</td>\n",
       "      <td>-0.487014</td>\n",
       "      <td>-0.487891</td>\n",
       "      <td>-0.487185</td>\n",
       "      <td>-0.487363</td>\n",
       "      <td>0.000380</td>\n",
       "      <td>191</td>\n",
       "    </tr>\n",
       "    <tr>\n",
       "      <th>10</th>\n",
       "      <td>0.229113</td>\n",
       "      <td>0.019483</td>\n",
       "      <td>0.015621</td>\n",
       "      <td>0.012755</td>\n",
       "      <td>Lasso()</td>\n",
       "      <td>0.1</td>\n",
       "      <td>NaN</td>\n",
       "      <td>NaN</td>\n",
       "      <td>NaN</td>\n",
       "      <td>NaN</td>\n",
       "      <td>{'algoritmo': Lasso(), 'algoritmo__alpha': 0.1}</td>\n",
       "      <td>-0.487014</td>\n",
       "      <td>-0.487891</td>\n",
       "      <td>-0.487185</td>\n",
       "      <td>-0.487363</td>\n",
       "      <td>0.000380</td>\n",
       "      <td>191</td>\n",
       "    </tr>\n",
       "  </tbody>\n",
       "</table>\n",
       "<p>200 rows × 17 columns</p>\n",
       "</div>"
      ],
      "text/plain": [
       "     mean_fit_time  std_fit_time  mean_score_time  std_score_time  \\\n",
       "163      63.829949      1.101277         1.481704        0.026938   \n",
       "196      57.862159      1.315491         1.100615        0.063222   \n",
       "199      51.401252      2.501788         0.805526        0.066369   \n",
       "127      64.187327      1.537409         1.425189        0.024953   \n",
       "88       69.000121      1.837778         1.539881        0.014859   \n",
       "..             ...           ...              ...             ...   \n",
       "17        0.277171      0.069896         0.014546        0.004524   \n",
       "18        0.395350      0.053199         0.010412        0.007362   \n",
       "19        0.357533      0.029615         0.005364        0.007255   \n",
       "11        0.239526      0.019484         0.000000        0.000000   \n",
       "10        0.229113      0.019483         0.015621        0.012755   \n",
       "\n",
       "                                       param_algoritmo param_algoritmo__alpha  \\\n",
       "163  HistGradientBoostingRegressor(l2_regularizatio...                    NaN   \n",
       "196  HistGradientBoostingRegressor(l2_regularizatio...                    NaN   \n",
       "199  HistGradientBoostingRegressor(l2_regularizatio...                    NaN   \n",
       "127  HistGradientBoostingRegressor(l2_regularizatio...                    NaN   \n",
       "88   HistGradientBoostingRegressor(l2_regularizatio...                    NaN   \n",
       "..                                                 ...                    ...   \n",
       "17                                             Lasso()                    0.8   \n",
       "18                                             Lasso()                    0.9   \n",
       "19                                             Lasso()                    1.0   \n",
       "11                                             Lasso()                    0.2   \n",
       "10                                             Lasso()                    0.1   \n",
       "\n",
       "    param_algoritmo__l2_regularization param_algoritmo__learning_rate  \\\n",
       "163                               0.75                            0.1   \n",
       "196                                1.0                            0.1   \n",
       "199                                1.0                            0.1   \n",
       "127                                0.5                            0.1   \n",
       "88                                0.25                            0.1   \n",
       "..                                 ...                            ...   \n",
       "17                                 NaN                            NaN   \n",
       "18                                 NaN                            NaN   \n",
       "19                                 NaN                            NaN   \n",
       "11                                 NaN                            NaN   \n",
       "10                                 NaN                            NaN   \n",
       "\n",
       "    param_algoritmo__max_depth param_algoritmo__max_iter  \\\n",
       "163                         20                       200   \n",
       "196                         10                       200   \n",
       "199                         20                       200   \n",
       "127                         20                       200   \n",
       "88                          10                       200   \n",
       "..                         ...                       ...   \n",
       "17                         NaN                       NaN   \n",
       "18                         NaN                       NaN   \n",
       "19                         NaN                       NaN   \n",
       "11                         NaN                       NaN   \n",
       "10                         NaN                       NaN   \n",
       "\n",
       "                                                params  split0_test_score  \\\n",
       "163  {'algoritmo': HistGradientBoostingRegressor(l2...          -0.373411   \n",
       "196  {'algoritmo': HistGradientBoostingRegressor(l2...          -0.376144   \n",
       "199  {'algoritmo': HistGradientBoostingRegressor(l2...          -0.372932   \n",
       "127  {'algoritmo': HistGradientBoostingRegressor(l2...          -0.375658   \n",
       "88   {'algoritmo': HistGradientBoostingRegressor(l2...          -0.372739   \n",
       "..                                                 ...                ...   \n",
       "17     {'algoritmo': Lasso(), 'algoritmo__alpha': 0.8}          -0.487014   \n",
       "18     {'algoritmo': Lasso(), 'algoritmo__alpha': 0.9}          -0.487014   \n",
       "19     {'algoritmo': Lasso(), 'algoritmo__alpha': 1.0}          -0.487014   \n",
       "11     {'algoritmo': Lasso(), 'algoritmo__alpha': 0.2}          -0.487014   \n",
       "10     {'algoritmo': Lasso(), 'algoritmo__alpha': 0.1}          -0.487014   \n",
       "\n",
       "     split1_test_score  split2_test_score  mean_test_score  std_test_score  \\\n",
       "163          -0.371118          -0.371036        -0.371855        0.001101   \n",
       "196          -0.369564          -0.371894        -0.372534        0.002724   \n",
       "199          -0.373181          -0.371888        -0.372667        0.000560   \n",
       "127          -0.371237          -0.371641        -0.372846        0.001996   \n",
       "88           -0.371429          -0.374573        -0.372914        0.001290   \n",
       "..                 ...                ...              ...             ...   \n",
       "17           -0.487891          -0.487185        -0.487363        0.000380   \n",
       "18           -0.487891          -0.487185        -0.487363        0.000380   \n",
       "19           -0.487891          -0.487185        -0.487363        0.000380   \n",
       "11           -0.487891          -0.487185        -0.487363        0.000380   \n",
       "10           -0.487891          -0.487185        -0.487363        0.000380   \n",
       "\n",
       "     rank_test_score  \n",
       "163                1  \n",
       "196                2  \n",
       "199                3  \n",
       "127                4  \n",
       "88                 5  \n",
       "..               ...  \n",
       "17               191  \n",
       "18               191  \n",
       "19               191  \n",
       "11               191  \n",
       "10               191  \n",
       "\n",
       "[200 rows x 17 columns]"
      ]
     },
     "execution_count": 10,
     "metadata": {},
     "output_type": "execute_result"
    }
   ],
   "source": [
    "pd.DataFrame(grid_search.cv_results_).sort_values(by = 'rank_test_score')"
   ]
  },
  {
   "cell_type": "markdown",
   "id": "83862e2d",
   "metadata": {},
   "source": [
    "LightGBM architecture is the one that is performing best."
   ]
  },
  {
   "cell_type": "code",
   "execution_count": 12,
   "id": "231d4162",
   "metadata": {},
   "outputs": [
    {
     "data": {
      "text/plain": [
       "Pipeline(steps=[('algoritmo',\n",
       "                 HistGradientBoostingRegressor(l2_regularization=0.75,\n",
       "                                               max_depth=20, max_iter=200,\n",
       "                                               min_samples_leaf=100,\n",
       "                                               scoring='neg_mean_absolute_error'))])"
      ]
     },
     "execution_count": 12,
     "metadata": {},
     "output_type": "execute_result"
    }
   ],
   "source": [
    "model.best_estimator_"
   ]
  },
  {
   "cell_type": "markdown",
   "id": "f1154375",
   "metadata": {},
   "source": [
    "Note that scores obtained in the tested algorithms/parametrisations remains stable during cross-validation process, which is a good indicator of the stability of the model predictions."
   ]
  },
  {
   "cell_type": "code",
   "execution_count": 14,
   "id": "7a771231",
   "metadata": {},
   "outputs": [
    {
     "data": {
      "text/plain": [
       "HistGradientBoostingRegressor(l2_regularization=0.75, max_depth=20,\n",
       "                              max_iter=200, min_samples_leaf=100,\n",
       "                              scoring='neg_mean_absolute_error')"
      ]
     },
     "execution_count": 14,
     "metadata": {},
     "output_type": "execute_result"
    }
   ],
   "source": [
    "lgbm = HistGradientBoostingRegressor(learning_rate = 0.1,\n",
    "                                     max_iter = 200,\n",
    "                                     max_depth = 20,\n",
    "                                     min_samples_leaf = 100,\n",
    "                                     scoring = 'neg_mean_absolute_error',\n",
    "                                     l2_regularization = 0.75)\n",
    "lgbm.fit(train_x,train_y)"
   ]
  },
  {
   "cell_type": "markdown",
   "id": "fd6f59ab",
   "metadata": {},
   "source": [
    "## MODEL EVALUATION"
   ]
  },
  {
   "cell_type": "markdown",
   "id": "90ac986a",
   "metadata": {},
   "source": [
    "Predicting on test dataset:"
   ]
  },
  {
   "cell_type": "code",
   "execution_count": 15,
   "id": "ca079478",
   "metadata": {},
   "outputs": [],
   "source": [
    "pred = lgbm.predict(val_x)"
   ]
  },
  {
   "cell_type": "code",
   "execution_count": 16,
   "id": "8b394afc",
   "metadata": {},
   "outputs": [
    {
     "name": "stdout",
     "output_type": "stream",
     "text": [
      "Max: 1.261405063928991 \t Min: -0.0940958966463501\n"
     ]
    }
   ],
   "source": [
    "print('Max:',pred.max(),'\\t Min:',pred.min())"
   ]
  },
  {
   "cell_type": "markdown",
   "id": "7ec022d1",
   "metadata": {},
   "source": [
    "Given that the model's prediction is the percentage of the principal that will not be possible to recover from a loan that has been defaulted on, values must be between 0 and 1. However, the model may predict values outside this range so these cases must be corrected to avoid propagating such errors downstream."
   ]
  },
  {
   "cell_type": "code",
   "execution_count": 17,
   "id": "b4b88c53",
   "metadata": {},
   "outputs": [],
   "source": [
    "pred = np.clip(pred, a_min=0, a_max=1)"
   ]
  },
  {
   "cell_type": "code",
   "execution_count": 18,
   "id": "5a0b6547",
   "metadata": {},
   "outputs": [
    {
     "name": "stdout",
     "output_type": "stream",
     "text": [
      "Max: 1.0 \t Min: 0.0\n"
     ]
    }
   ],
   "source": [
    "print('Max:',pred.max(),'\\t Min:',pred.min())"
   ]
  },
  {
   "cell_type": "markdown",
   "id": "fe9fb9a1",
   "metadata": {},
   "source": [
    "Evaluating on test dataset:"
   ]
  },
  {
   "cell_type": "code",
   "execution_count": 19,
   "id": "f249d6b8",
   "metadata": {},
   "outputs": [
    {
     "data": {
      "text/plain": [
       "0.37191639716426406"
      ]
     },
     "execution_count": 19,
     "metadata": {},
     "output_type": "execute_result"
    }
   ],
   "source": [
    "mean_absolute_error(val_y, pred)"
   ]
  },
  {
   "cell_type": "markdown",
   "id": "7d812120",
   "metadata": {},
   "source": [
    "As can be seen, the error made by the model in predicting the loss level when default occurs is high. Nevertheless, it should be noted that errors in this type of risk acquisition models are generally significantly higher than those in behavioural models, marketing, customer management, etc., as much less customer information is available when running the model.\n",
    "\n",
    "In the same vein, it should also be noted that both defaulting and non-defaulting borrowers are being modelled, as this information is not available for a new customer. Therefore, on many occasions the model will be trying to predict loss level of borrowers who are unlikely to default, which also explains the errors obtained in the modelling."
   ]
  },
  {
   "cell_type": "markdown",
   "id": "f2848960",
   "metadata": {},
   "source": [
    "## MODEL REPORTING"
   ]
  },
  {
   "cell_type": "markdown",
   "id": "152a4925",
   "metadata": {},
   "source": [
    "Checking predictions:"
   ]
  },
  {
   "cell_type": "code",
   "execution_count": 20,
   "id": "e0edaf6f",
   "metadata": {},
   "outputs": [],
   "source": [
    "check = pd.DataFrame({'lgd_true':val_y, 'lgd_pred':pred})"
   ]
  },
  {
   "cell_type": "markdown",
   "id": "c7e41ad6",
   "metadata": {},
   "source": [
    "Checking the correlation between model predictions and actual values:"
   ]
  },
  {
   "cell_type": "code",
   "execution_count": 22,
   "id": "5c41e965",
   "metadata": {},
   "outputs": [
    {
     "data": {
      "text/html": [
       "<div>\n",
       "<style scoped>\n",
       "    .dataframe tbody tr th:only-of-type {\n",
       "        vertical-align: middle;\n",
       "    }\n",
       "\n",
       "    .dataframe tbody tr th {\n",
       "        vertical-align: top;\n",
       "    }\n",
       "\n",
       "    .dataframe thead th {\n",
       "        text-align: right;\n",
       "    }\n",
       "</style>\n",
       "<table border=\"1\" class=\"dataframe\">\n",
       "  <thead>\n",
       "    <tr style=\"text-align: right;\">\n",
       "      <th></th>\n",
       "      <th>lgd_true</th>\n",
       "      <th>lgd_pred</th>\n",
       "    </tr>\n",
       "  </thead>\n",
       "  <tbody>\n",
       "    <tr>\n",
       "      <th>lgd_true</th>\n",
       "      <td>1.000000</td>\n",
       "      <td>0.522327</td>\n",
       "    </tr>\n",
       "    <tr>\n",
       "      <th>lgd_pred</th>\n",
       "      <td>0.522327</td>\n",
       "      <td>1.000000</td>\n",
       "    </tr>\n",
       "  </tbody>\n",
       "</table>\n",
       "</div>"
      ],
      "text/plain": [
       "          lgd_true  lgd_pred\n",
       "lgd_true  1.000000  0.522327\n",
       "lgd_pred  0.522327  1.000000"
      ]
     },
     "execution_count": 22,
     "metadata": {},
     "output_type": "execute_result"
    }
   ],
   "source": [
    "check.corr()"
   ]
  },
  {
   "cell_type": "markdown",
   "id": "9c80d9c6",
   "metadata": {},
   "source": [
    "Checking the similarity between the density function of the model predictions and the actual value of the target:"
   ]
  },
  {
   "cell_type": "code",
   "execution_count": 24,
   "id": "0f3f6de4",
   "metadata": {},
   "outputs": [
    {
     "data": {
      "image/png": "[encoded data removed]",
      "text/plain": [
       "<Figure size 720x360 with 1 Axes>"
      ]
     },
     "metadata": {
      "needs_background": "light"
     },
     "output_type": "display_data"
    }
   ],
   "source": [
    "check.plot.density(figsize=(10,5));"
   ]
  },
  {
   "cell_type": "markdown",
   "id": "77dc0768",
   "metadata": {},
   "source": [
    "It can be seen that in reality (lgd_true) two large groups can be distinguished: a group of loans in which no amount is recovered, either because the borrower has not defaulted or because the borrower has defaulted but the bank has not been able to recover any amount; and a second group of loans in which it has been possible to recover the full amount, either because the borrower has amortised the entire loan or because it has been possible to recover the full amount a defaulted loan.\n",
    "\n",
    "Model's predictions tend towards intermediate loss levels, which leads to larger errors in predicting fully recovered or lost loans.\n",
    "\n",
    "However, at an aggregate level from a business point of view the performance of the model is acceptable, as it will be covering the lost amount of loans in which the amount borrowed has been completely lost by predicting to most customers a loss level of between 25% and 75% even those who ultimately fully paid their loans, thus covering the aggregate risk of the client portfolio."
   ]
  }
 ],
 "metadata": {
  "kernelspec": {
   "display_name": "Python 3 (ipykernel)",
   "language": "python",
   "name": "python3"
  },
  "language_info": {
   "codemirror_mode": {
    "name": "ipython",
    "version": 3
   },
   "file_extension": ".py",
   "mimetype": "text/x-python",
   "name": "python",
   "nbconvert_exporter": "python",
   "pygments_lexer": "ipython3",
   "version": "3.9.5"
  },
  "latex_envs": {
   "LaTeX_envs_menu_present": true,
   "autoclose": false,
   "autocomplete": true,
   "bibliofile": "biblio.bib",
   "cite_by": "apalike",
   "current_citInitial": 1,
   "eqLabelWithNumbers": true,
   "eqNumInitial": 1,
   "hotkeys": {
    "equation": "Ctrl-E",
    "itemize": "Ctrl-I"
   },
   "labels_anchors": false,
   "latex_user_defs": false,
   "report_style_numbering": false,
   "user_envs_cfg": false
  },
  "toc": {
   "base_numbering": 1,
   "nav_menu": {},
   "number_sections": true,
   "sideBar": true,
   "skip_h1_title": false,
   "title_cell": "Table of Contents",
   "title_sidebar": "Contents",
   "toc_cell": false,
   "toc_position": {
    "height": "calc(100% - 180px)",
    "left": "10px",
    "top": "150px",
    "width": "253.95px"
   },
   "toc_section_display": true,
   "toc_window_display": true
  },
  "varInspector": {
   "cols": {
    "lenName": 16,
    "lenType": 16,
    "lenVar": 40
   },
   "kernels_config": {
    "python": {
     "delete_cmd_postfix": "",
     "delete_cmd_prefix": "del ",
     "library": "var_list.py",
     "varRefreshCmd": "print(var_dic_list())"
    },
    "r": {
     "delete_cmd_postfix": ") ",
     "delete_cmd_prefix": "rm(",
     "library": "var_list.r",
     "varRefreshCmd": "cat(var_dic_list()) "
    }
   },
   "position": {
    "height": "546.85px",
    "left": "1531.75px",
    "right": "20px",
    "top": "115px",
    "width": "350px"
   },
   "types_to_exclude": [
    "module",
    "function",
    "builtin_function_or_method",
    "instance",
    "_Feature"
   ],
   "window_display": false
  }
 },
 "nbformat": 4,
 "nbformat_minor": 5
}
