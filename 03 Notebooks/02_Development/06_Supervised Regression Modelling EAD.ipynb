{
 "cells": [
  {
   "cell_type": "markdown",
   "id": "d31dea65",
   "metadata": {},
   "source": [
    "# SUPERVISED REGRESSION MODELLING: EXPOSURE AT DEFAULT"
   ]
  },
  {
   "cell_type": "markdown",
   "id": "e97e7e92",
   "metadata": {},
   "source": [
    "The objective of this model is to predict the percentage of the loan that a given borrower has not yet repaid when a default occurs:\n",
    "\n",
    "\\begin{equation*}\n",
    "\\text{target}_{\\text{ead}} = \\dfrac{\\text{Amount to be paid}}{\\text{Loan amount}} = \\dfrac{\\text{Loan amount} - \\text{Amortised amount}}{\\text{Loan amount}}\n",
    "\\end{equation*}"
   ]
  },
  {
   "cell_type": "markdown",
   "id": "swiss-fault",
   "metadata": {},
   "source": [
    "## IMPORTING PACKAGES"
   ]
  },
  {
   "cell_type": "code",
   "execution_count": 1,
   "id": "adjacent-toddler",
   "metadata": {},
   "outputs": [],
   "source": [
    "import numpy as np\n",
    "import pandas as pd\n",
    "import matplotlib.pyplot as plt\n",
    "%matplotlib inline\n",
    "\n",
    "from sklearn.model_selection import train_test_split\n",
    "\n",
    "from sklearn.linear_model import Ridge\n",
    "from sklearn.linear_model import Lasso\n",
    "from sklearn.ensemble import HistGradientBoostingRegressor\n",
    "\n",
    "from sklearn.pipeline import Pipeline\n",
    "\n",
    "from sklearn.model_selection import GridSearchCV\n",
    "\n",
    "from sklearn.metrics import mean_absolute_error\n",
    "\n",
    "#Autocompletar rápido\n",
    "%config IPCompleter.greedy=True\n",
    "\n",
    "#Desactivar los warnings\n",
    "import warnings\n",
    "warnings.filterwarnings(\"ignore\")"
   ]
  },
  {
   "cell_type": "markdown",
   "id": "graduate-compensation",
   "metadata": {},
   "source": [
    "## DATA IMPORTATION"
   ]
  },
  {
   "cell_type": "markdown",
   "id": "3a5b94ef",
   "metadata": {},
   "source": [
    "Project path."
   ]
  },
  {
   "cell_type": "code",
   "execution_count": 2,
   "id": "f9d2de58",
   "metadata": {},
   "outputs": [],
   "source": [
    "project_path = '../..'"
   ]
  },
  {
   "cell_type": "markdown",
   "id": "c3363765",
   "metadata": {},
   "source": [
    "Names of data files."
   ]
  },
  {
   "cell_type": "code",
   "execution_count": 3,
   "id": "a9e2e04a",
   "metadata": {},
   "outputs": [],
   "source": [
    "df_name = 'df_input_ead.pickle'"
   ]
  },
  {
   "cell_type": "markdown",
   "id": "b9825018",
   "metadata": {},
   "source": [
    "Data importation."
   ]
  },
  {
   "cell_type": "code",
   "execution_count": 4,
   "id": "cab6ebcd",
   "metadata": {},
   "outputs": [],
   "source": [
    "df = pd.read_pickle(project_path + '/02_Data/03_Work/' + df_name)"
   ]
  },
  {
   "cell_type": "markdown",
   "id": "9790d322",
   "metadata": {},
   "source": [
    "## MODELLING"
   ]
  },
  {
   "cell_type": "markdown",
   "id": "ac0293e7",
   "metadata": {},
   "source": [
    "In this section different combinations of algorithms/hyperparameters will be tested to find those with the best performance."
   ]
  },
  {
   "cell_type": "markdown",
   "id": "930f685f",
   "metadata": {},
   "source": [
    "### Reserving validation dataset"
   ]
  },
  {
   "cell_type": "code",
   "execution_count": 5,
   "id": "15abfbee",
   "metadata": {},
   "outputs": [],
   "source": [
    "x = df.drop(columns='target_ead')\n",
    "y = df.target_ead.copy()"
   ]
  },
  {
   "cell_type": "code",
   "execution_count": 6,
   "id": "84b6fd41",
   "metadata": {},
   "outputs": [],
   "source": [
    "train_x,val_x,train_y,val_y = train_test_split(x,y,test_size=0.3)"
   ]
  },
  {
   "cell_type": "markdown",
   "id": "53bd4ad6",
   "metadata": {},
   "source": [
    "### Creating the pipe and the dictionary of algorithms, parameters and values to be tested"
   ]
  },
  {
   "cell_type": "code",
   "execution_count": 7,
   "id": "3efa5c98",
   "metadata": {},
   "outputs": [],
   "source": [
    "pipe = Pipeline([('algoritmo',Ridge())])\n",
    "\n",
    "grid = [      \n",
    "        {'algoritmo': [Ridge()],\n",
    "         'algoritmo__alpha': np.arange(0.1,1.1,0.1)},\n",
    "        \n",
    "        {'algoritmo': [Lasso()],\n",
    "         'algoritmo__alpha': np.arange(0.1,1.1,0.1)},\n",
    "    \n",
    "        {'algoritmo': [HistGradientBoostingRegressor(min_samples_leaf = 100, scoring = 'neg_mean_absolute_error')],\n",
    "         'algoritmo__learning_rate': [0.01,0.025,0.05,0.1],\n",
    "         'algoritmo__max_iter': [50,100,200],\n",
    "         'algoritmo__max_depth': [5,10,20],\n",
    "         'algoritmo__l2_regularization': np.arange(0,1.25,0.25)}\n",
    "       ]"
   ]
  },
  {
   "cell_type": "markdown",
   "id": "1f836ca9",
   "metadata": {},
   "source": [
    "### Hyperparameter optimization"
   ]
  },
  {
   "cell_type": "markdown",
   "id": "3d73daa9",
   "metadata": {},
   "source": [
    "#### Using grid search"
   ]
  },
  {
   "cell_type": "code",
   "execution_count": 8,
   "id": "4be08386",
   "metadata": {},
   "outputs": [
    {
     "name": "stdout",
     "output_type": "stream",
     "text": [
      "Fitting 3 folds for each of 200 candidates, totalling 600 fits\n"
     ]
    }
   ],
   "source": [
    "grid_search = GridSearchCV(estimator= pipe, \n",
    "                           param_grid = grid, \n",
    "                           cv = 3, \n",
    "                           scoring = 'neg_mean_absolute_error',\n",
    "                           verbose = 3,\n",
    "                           n_jobs = -1)\n",
    "\n",
    "model = grid_search.fit(train_x.values,train_y)"
   ]
  },
  {
   "cell_type": "code",
   "execution_count": 9,
   "id": "b8c05bcc",
   "metadata": {
    "scrolled": false
   },
   "outputs": [
    {
     "data": {
      "text/html": [
       "<div>\n",
       "<style scoped>\n",
       "    .dataframe tbody tr th:only-of-type {\n",
       "        vertical-align: middle;\n",
       "    }\n",
       "\n",
       "    .dataframe tbody tr th {\n",
       "        vertical-align: top;\n",
       "    }\n",
       "\n",
       "    .dataframe thead th {\n",
       "        text-align: right;\n",
       "    }\n",
       "</style>\n",
       "<table border=\"1\" class=\"dataframe\">\n",
       "  <thead>\n",
       "    <tr style=\"text-align: right;\">\n",
       "      <th></th>\n",
       "      <th>mean_fit_time</th>\n",
       "      <th>std_fit_time</th>\n",
       "      <th>mean_score_time</th>\n",
       "      <th>std_score_time</th>\n",
       "      <th>param_algoritmo</th>\n",
       "      <th>param_algoritmo__alpha</th>\n",
       "      <th>param_algoritmo__l2_regularization</th>\n",
       "      <th>param_algoritmo__learning_rate</th>\n",
       "      <th>param_algoritmo__max_depth</th>\n",
       "      <th>param_algoritmo__max_iter</th>\n",
       "      <th>params</th>\n",
       "      <th>split0_test_score</th>\n",
       "      <th>split1_test_score</th>\n",
       "      <th>split2_test_score</th>\n",
       "      <th>mean_test_score</th>\n",
       "      <th>std_test_score</th>\n",
       "      <th>rank_test_score</th>\n",
       "    </tr>\n",
       "  </thead>\n",
       "  <tbody>\n",
       "    <tr>\n",
       "      <th>52</th>\n",
       "      <td>65.924226</td>\n",
       "      <td>0.240389</td>\n",
       "      <td>1.454189</td>\n",
       "      <td>0.078629</td>\n",
       "      <td>HistGradientBoostingRegressor(max_depth=10, ma...</td>\n",
       "      <td>NaN</td>\n",
       "      <td>0.0</td>\n",
       "      <td>0.1</td>\n",
       "      <td>10</td>\n",
       "      <td>200</td>\n",
       "      <td>{'algoritmo': HistGradientBoostingRegressor(ma...</td>\n",
       "      <td>-0.233332</td>\n",
       "      <td>-0.240378</td>\n",
       "      <td>-0.235311</td>\n",
       "      <td>-0.236340</td>\n",
       "      <td>0.002967</td>\n",
       "      <td>1</td>\n",
       "    </tr>\n",
       "    <tr>\n",
       "      <th>91</th>\n",
       "      <td>66.868591</td>\n",
       "      <td>0.902944</td>\n",
       "      <td>1.516827</td>\n",
       "      <td>0.108306</td>\n",
       "      <td>HistGradientBoostingRegressor(max_depth=10, ma...</td>\n",
       "      <td>NaN</td>\n",
       "      <td>0.25</td>\n",
       "      <td>0.1</td>\n",
       "      <td>20</td>\n",
       "      <td>200</td>\n",
       "      <td>{'algoritmo': HistGradientBoostingRegressor(ma...</td>\n",
       "      <td>-0.233457</td>\n",
       "      <td>-0.237571</td>\n",
       "      <td>-0.238169</td>\n",
       "      <td>-0.236399</td>\n",
       "      <td>0.002095</td>\n",
       "      <td>2</td>\n",
       "    </tr>\n",
       "    <tr>\n",
       "      <th>127</th>\n",
       "      <td>66.581199</td>\n",
       "      <td>0.444227</td>\n",
       "      <td>1.499041</td>\n",
       "      <td>0.033614</td>\n",
       "      <td>HistGradientBoostingRegressor(max_depth=10, ma...</td>\n",
       "      <td>NaN</td>\n",
       "      <td>0.5</td>\n",
       "      <td>0.1</td>\n",
       "      <td>20</td>\n",
       "      <td>200</td>\n",
       "      <td>{'algoritmo': HistGradientBoostingRegressor(ma...</td>\n",
       "      <td>-0.232111</td>\n",
       "      <td>-0.239031</td>\n",
       "      <td>-0.238370</td>\n",
       "      <td>-0.236504</td>\n",
       "      <td>0.003118</td>\n",
       "      <td>3</td>\n",
       "    </tr>\n",
       "    <tr>\n",
       "      <th>88</th>\n",
       "      <td>63.991437</td>\n",
       "      <td>1.193546</td>\n",
       "      <td>1.476026</td>\n",
       "      <td>0.092564</td>\n",
       "      <td>HistGradientBoostingRegressor(max_depth=10, ma...</td>\n",
       "      <td>NaN</td>\n",
       "      <td>0.25</td>\n",
       "      <td>0.1</td>\n",
       "      <td>10</td>\n",
       "      <td>200</td>\n",
       "      <td>{'algoritmo': HistGradientBoostingRegressor(ma...</td>\n",
       "      <td>-0.236937</td>\n",
       "      <td>-0.239672</td>\n",
       "      <td>-0.233154</td>\n",
       "      <td>-0.236587</td>\n",
       "      <td>0.002672</td>\n",
       "      <td>4</td>\n",
       "    </tr>\n",
       "    <tr>\n",
       "      <th>160</th>\n",
       "      <td>64.855688</td>\n",
       "      <td>0.400628</td>\n",
       "      <td>1.453707</td>\n",
       "      <td>0.041893</td>\n",
       "      <td>HistGradientBoostingRegressor(max_depth=10, ma...</td>\n",
       "      <td>NaN</td>\n",
       "      <td>0.75</td>\n",
       "      <td>0.1</td>\n",
       "      <td>10</td>\n",
       "      <td>200</td>\n",
       "      <td>{'algoritmo': HistGradientBoostingRegressor(ma...</td>\n",
       "      <td>-0.235847</td>\n",
       "      <td>-0.236030</td>\n",
       "      <td>-0.237984</td>\n",
       "      <td>-0.236620</td>\n",
       "      <td>0.000967</td>\n",
       "      <td>5</td>\n",
       "    </tr>\n",
       "    <tr>\n",
       "      <th>...</th>\n",
       "      <td>...</td>\n",
       "      <td>...</td>\n",
       "      <td>...</td>\n",
       "      <td>...</td>\n",
       "      <td>...</td>\n",
       "      <td>...</td>\n",
       "      <td>...</td>\n",
       "      <td>...</td>\n",
       "      <td>...</td>\n",
       "      <td>...</td>\n",
       "      <td>...</td>\n",
       "      <td>...</td>\n",
       "      <td>...</td>\n",
       "      <td>...</td>\n",
       "      <td>...</td>\n",
       "      <td>...</td>\n",
       "      <td>...</td>\n",
       "    </tr>\n",
       "    <tr>\n",
       "      <th>17</th>\n",
       "      <td>0.311397</td>\n",
       "      <td>0.025757</td>\n",
       "      <td>0.007979</td>\n",
       "      <td>0.000814</td>\n",
       "      <td>Lasso()</td>\n",
       "      <td>0.8</td>\n",
       "      <td>NaN</td>\n",
       "      <td>NaN</td>\n",
       "      <td>NaN</td>\n",
       "      <td>NaN</td>\n",
       "      <td>{'algoritmo': Lasso(), 'algoritmo__alpha': 0.8}</td>\n",
       "      <td>-0.343246</td>\n",
       "      <td>-0.344775</td>\n",
       "      <td>-0.344405</td>\n",
       "      <td>-0.344142</td>\n",
       "      <td>0.000651</td>\n",
       "      <td>191</td>\n",
       "    </tr>\n",
       "    <tr>\n",
       "      <th>18</th>\n",
       "      <td>0.369883</td>\n",
       "      <td>0.021240</td>\n",
       "      <td>0.009974</td>\n",
       "      <td>0.000815</td>\n",
       "      <td>Lasso()</td>\n",
       "      <td>0.9</td>\n",
       "      <td>NaN</td>\n",
       "      <td>NaN</td>\n",
       "      <td>NaN</td>\n",
       "      <td>NaN</td>\n",
       "      <td>{'algoritmo': Lasso(), 'algoritmo__alpha': 0.9}</td>\n",
       "      <td>-0.343246</td>\n",
       "      <td>-0.344775</td>\n",
       "      <td>-0.344405</td>\n",
       "      <td>-0.344142</td>\n",
       "      <td>0.000651</td>\n",
       "      <td>191</td>\n",
       "    </tr>\n",
       "    <tr>\n",
       "      <th>19</th>\n",
       "      <td>0.380980</td>\n",
       "      <td>0.010587</td>\n",
       "      <td>0.039893</td>\n",
       "      <td>0.014948</td>\n",
       "      <td>Lasso()</td>\n",
       "      <td>1.0</td>\n",
       "      <td>NaN</td>\n",
       "      <td>NaN</td>\n",
       "      <td>NaN</td>\n",
       "      <td>NaN</td>\n",
       "      <td>{'algoritmo': Lasso(), 'algoritmo__alpha': 1.0}</td>\n",
       "      <td>-0.343246</td>\n",
       "      <td>-0.344775</td>\n",
       "      <td>-0.344405</td>\n",
       "      <td>-0.344142</td>\n",
       "      <td>0.000651</td>\n",
       "      <td>191</td>\n",
       "    </tr>\n",
       "    <tr>\n",
       "      <th>14</th>\n",
       "      <td>0.295714</td>\n",
       "      <td>0.039187</td>\n",
       "      <td>0.013298</td>\n",
       "      <td>0.011056</td>\n",
       "      <td>Lasso()</td>\n",
       "      <td>0.5</td>\n",
       "      <td>NaN</td>\n",
       "      <td>NaN</td>\n",
       "      <td>NaN</td>\n",
       "      <td>NaN</td>\n",
       "      <td>{'algoritmo': Lasso(), 'algoritmo__alpha': 0.5}</td>\n",
       "      <td>-0.343246</td>\n",
       "      <td>-0.344775</td>\n",
       "      <td>-0.344405</td>\n",
       "      <td>-0.344142</td>\n",
       "      <td>0.000651</td>\n",
       "      <td>191</td>\n",
       "    </tr>\n",
       "    <tr>\n",
       "      <th>12</th>\n",
       "      <td>0.306180</td>\n",
       "      <td>0.063241</td>\n",
       "      <td>0.006821</td>\n",
       "      <td>0.002239</td>\n",
       "      <td>Lasso()</td>\n",
       "      <td>0.3</td>\n",
       "      <td>NaN</td>\n",
       "      <td>NaN</td>\n",
       "      <td>NaN</td>\n",
       "      <td>NaN</td>\n",
       "      <td>{'algoritmo': Lasso(), 'algoritmo__alpha': 0.3...</td>\n",
       "      <td>-0.343246</td>\n",
       "      <td>-0.344775</td>\n",
       "      <td>-0.344405</td>\n",
       "      <td>-0.344142</td>\n",
       "      <td>0.000651</td>\n",
       "      <td>191</td>\n",
       "    </tr>\n",
       "  </tbody>\n",
       "</table>\n",
       "<p>200 rows × 17 columns</p>\n",
       "</div>"
      ],
      "text/plain": [
       "     mean_fit_time  std_fit_time  mean_score_time  std_score_time  \\\n",
       "52       65.924226      0.240389         1.454189        0.078629   \n",
       "91       66.868591      0.902944         1.516827        0.108306   \n",
       "127      66.581199      0.444227         1.499041        0.033614   \n",
       "88       63.991437      1.193546         1.476026        0.092564   \n",
       "160      64.855688      0.400628         1.453707        0.041893   \n",
       "..             ...           ...              ...             ...   \n",
       "17        0.311397      0.025757         0.007979        0.000814   \n",
       "18        0.369883      0.021240         0.009974        0.000815   \n",
       "19        0.380980      0.010587         0.039893        0.014948   \n",
       "14        0.295714      0.039187         0.013298        0.011056   \n",
       "12        0.306180      0.063241         0.006821        0.002239   \n",
       "\n",
       "                                       param_algoritmo param_algoritmo__alpha  \\\n",
       "52   HistGradientBoostingRegressor(max_depth=10, ma...                    NaN   \n",
       "91   HistGradientBoostingRegressor(max_depth=10, ma...                    NaN   \n",
       "127  HistGradientBoostingRegressor(max_depth=10, ma...                    NaN   \n",
       "88   HistGradientBoostingRegressor(max_depth=10, ma...                    NaN   \n",
       "160  HistGradientBoostingRegressor(max_depth=10, ma...                    NaN   \n",
       "..                                                 ...                    ...   \n",
       "17                                             Lasso()                    0.8   \n",
       "18                                             Lasso()                    0.9   \n",
       "19                                             Lasso()                    1.0   \n",
       "14                                             Lasso()                    0.5   \n",
       "12                                             Lasso()                    0.3   \n",
       "\n",
       "    param_algoritmo__l2_regularization param_algoritmo__learning_rate  \\\n",
       "52                                 0.0                            0.1   \n",
       "91                                0.25                            0.1   \n",
       "127                                0.5                            0.1   \n",
       "88                                0.25                            0.1   \n",
       "160                               0.75                            0.1   \n",
       "..                                 ...                            ...   \n",
       "17                                 NaN                            NaN   \n",
       "18                                 NaN                            NaN   \n",
       "19                                 NaN                            NaN   \n",
       "14                                 NaN                            NaN   \n",
       "12                                 NaN                            NaN   \n",
       "\n",
       "    param_algoritmo__max_depth param_algoritmo__max_iter  \\\n",
       "52                          10                       200   \n",
       "91                          20                       200   \n",
       "127                         20                       200   \n",
       "88                          10                       200   \n",
       "160                         10                       200   \n",
       "..                         ...                       ...   \n",
       "17                         NaN                       NaN   \n",
       "18                         NaN                       NaN   \n",
       "19                         NaN                       NaN   \n",
       "14                         NaN                       NaN   \n",
       "12                         NaN                       NaN   \n",
       "\n",
       "                                                params  split0_test_score  \\\n",
       "52   {'algoritmo': HistGradientBoostingRegressor(ma...          -0.233332   \n",
       "91   {'algoritmo': HistGradientBoostingRegressor(ma...          -0.233457   \n",
       "127  {'algoritmo': HistGradientBoostingRegressor(ma...          -0.232111   \n",
       "88   {'algoritmo': HistGradientBoostingRegressor(ma...          -0.236937   \n",
       "160  {'algoritmo': HistGradientBoostingRegressor(ma...          -0.235847   \n",
       "..                                                 ...                ...   \n",
       "17     {'algoritmo': Lasso(), 'algoritmo__alpha': 0.8}          -0.343246   \n",
       "18     {'algoritmo': Lasso(), 'algoritmo__alpha': 0.9}          -0.343246   \n",
       "19     {'algoritmo': Lasso(), 'algoritmo__alpha': 1.0}          -0.343246   \n",
       "14     {'algoritmo': Lasso(), 'algoritmo__alpha': 0.5}          -0.343246   \n",
       "12   {'algoritmo': Lasso(), 'algoritmo__alpha': 0.3...          -0.343246   \n",
       "\n",
       "     split1_test_score  split2_test_score  mean_test_score  std_test_score  \\\n",
       "52           -0.240378          -0.235311        -0.236340        0.002967   \n",
       "91           -0.237571          -0.238169        -0.236399        0.002095   \n",
       "127          -0.239031          -0.238370        -0.236504        0.003118   \n",
       "88           -0.239672          -0.233154        -0.236587        0.002672   \n",
       "160          -0.236030          -0.237984        -0.236620        0.000967   \n",
       "..                 ...                ...              ...             ...   \n",
       "17           -0.344775          -0.344405        -0.344142        0.000651   \n",
       "18           -0.344775          -0.344405        -0.344142        0.000651   \n",
       "19           -0.344775          -0.344405        -0.344142        0.000651   \n",
       "14           -0.344775          -0.344405        -0.344142        0.000651   \n",
       "12           -0.344775          -0.344405        -0.344142        0.000651   \n",
       "\n",
       "     rank_test_score  \n",
       "52                 1  \n",
       "91                 2  \n",
       "127                3  \n",
       "88                 4  \n",
       "160                5  \n",
       "..               ...  \n",
       "17               191  \n",
       "18               191  \n",
       "19               191  \n",
       "14               191  \n",
       "12               191  \n",
       "\n",
       "[200 rows x 17 columns]"
      ]
     },
     "execution_count": 9,
     "metadata": {},
     "output_type": "execute_result"
    }
   ],
   "source": [
    "pd.DataFrame(grid_search.cv_results_).sort_values(by = 'rank_test_score')"
   ]
  },
  {
   "cell_type": "markdown",
   "id": "07dfa475",
   "metadata": {},
   "source": [
    "LightGBM architecture is the one that is performing best."
   ]
  },
  {
   "cell_type": "markdown",
   "id": "80a98e06",
   "metadata": {},
   "source": [
    "Note that scores obtained in the tested algorithms/parametrisations remains stable during cross-validation process, which is a good indicator of the stability of the model predictions."
   ]
  },
  {
   "cell_type": "code",
   "execution_count": 15,
   "id": "7a771231",
   "metadata": {},
   "outputs": [
    {
     "data": {
      "text/plain": [
       "HistGradientBoostingRegressor(l2_regularization=0.25, max_depth=10,\n",
       "                              max_iter=200, min_samples_leaf=100,\n",
       "                              scoring='neg_mean_absolute_error')"
      ]
     },
     "execution_count": 15,
     "metadata": {},
     "output_type": "execute_result"
    }
   ],
   "source": [
    "lgbm = HistGradientBoostingRegressor(learning_rate = 0.1,\n",
    "                                     max_iter = 200,\n",
    "                                     max_depth = 10,\n",
    "                                     min_samples_leaf = 100,\n",
    "                                     scoring = 'neg_mean_absolute_error',\n",
    "                                     l2_regularization = 0.25)\n",
    "lgbm.fit(train_x,train_y)"
   ]
  },
  {
   "cell_type": "markdown",
   "id": "fd6f59ab",
   "metadata": {},
   "source": [
    "## MODEL EVALUATION"
   ]
  },
  {
   "cell_type": "markdown",
   "id": "90ac986a",
   "metadata": {},
   "source": [
    "Predicting on test dataset:"
   ]
  },
  {
   "cell_type": "code",
   "execution_count": 33,
   "id": "ca079478",
   "metadata": {},
   "outputs": [],
   "source": [
    "pred = lgbm.predict(val_x)"
   ]
  },
  {
   "cell_type": "code",
   "execution_count": 27,
   "id": "0f0ab35d",
   "metadata": {},
   "outputs": [
    {
     "name": "stdout",
     "output_type": "stream",
     "text": [
      "Max: 1.0990831887041046 \t Min: -0.19289025259410325\n"
     ]
    }
   ],
   "source": [
    "print('Max:',pred.max(),'\\t Min:',pred.min())"
   ]
  },
  {
   "cell_type": "markdown",
   "id": "9551b980",
   "metadata": {},
   "source": [
    "Given that the model's prediction is the percentage of the loan that a given borrower has not yet amortised when a default occurs, values must be between 0 and 1. However, the model may predict values outside this range so these cases must be corrected to avoid propagating such errors downstream."
   ]
  },
  {
   "cell_type": "code",
   "execution_count": 45,
   "id": "217761eb",
   "metadata": {},
   "outputs": [],
   "source": [
    "pred = np.clip(pred, a_min=0, a_max=1)"
   ]
  },
  {
   "cell_type": "code",
   "execution_count": 29,
   "id": "dd3be7e4",
   "metadata": {},
   "outputs": [
    {
     "name": "stdout",
     "output_type": "stream",
     "text": [
      "Max: 1.0 \t Min: 0.0\n"
     ]
    }
   ],
   "source": [
    "print('Max:',pred.max(),'\\t Min:',pred.min())"
   ]
  },
  {
   "cell_type": "markdown",
   "id": "fe9fb9a1",
   "metadata": {},
   "source": [
    "Evaluating on test dataset:"
   ]
  },
  {
   "cell_type": "code",
   "execution_count": 30,
   "id": "f249d6b8",
   "metadata": {},
   "outputs": [
    {
     "data": {
      "text/plain": [
       "0.23543829260916888"
      ]
     },
     "execution_count": 30,
     "metadata": {},
     "output_type": "execute_result"
    }
   ],
   "source": [
    "mean_absolute_error(val_y, pred)"
   ]
  },
  {
   "cell_type": "markdown",
   "id": "a7425634",
   "metadata": {},
   "source": [
    "As can be seen, the error made by the model in predicting the level of not amortised loan when default occurs is high. Nevertheless, it should be noted that errors in this type of risk acquisition models are generally significantly higher than those in behavioural models, marketing, customer management, etc., as much less customer information is available when running the model.\n",
    "\n",
    "In the same vein, it should also be noted that both defaulting and non-defaulting borrowers are being modelled, as this information is not available for a new customer. Therefore, on many occasions the model will be trying to predict the exposure at default of borrowers who are unlikely to default, which also explains the level of errors obtained in the modelling."
   ]
  },
  {
   "cell_type": "markdown",
   "id": "f2848960",
   "metadata": {},
   "source": [
    "## MODEL REPORTING"
   ]
  },
  {
   "cell_type": "markdown",
   "id": "92d4cf8e",
   "metadata": {},
   "source": [
    "Checking predictions:"
   ]
  },
  {
   "cell_type": "code",
   "execution_count": 49,
   "id": "d9196510",
   "metadata": {},
   "outputs": [],
   "source": [
    "check = pd.DataFrame({'ead_true':val_y, 'ead_pred':pred})"
   ]
  },
  {
   "cell_type": "markdown",
   "id": "df096072",
   "metadata": {},
   "source": [
    "Checking the correlation between model predictions and actual values:"
   ]
  },
  {
   "cell_type": "code",
   "execution_count": 50,
   "id": "f2ddf67b",
   "metadata": {},
   "outputs": [
    {
     "data": {
      "text/html": [
       "<div>\n",
       "<style scoped>\n",
       "    .dataframe tbody tr th:only-of-type {\n",
       "        vertical-align: middle;\n",
       "    }\n",
       "\n",
       "    .dataframe tbody tr th {\n",
       "        vertical-align: top;\n",
       "    }\n",
       "\n",
       "    .dataframe thead th {\n",
       "        text-align: right;\n",
       "    }\n",
       "</style>\n",
       "<table border=\"1\" class=\"dataframe\">\n",
       "  <thead>\n",
       "    <tr style=\"text-align: right;\">\n",
       "      <th></th>\n",
       "      <th>ead_true</th>\n",
       "      <th>ead_pred</th>\n",
       "    </tr>\n",
       "  </thead>\n",
       "  <tbody>\n",
       "    <tr>\n",
       "      <th>ead_true</th>\n",
       "      <td>1.000000</td>\n",
       "      <td>0.632616</td>\n",
       "    </tr>\n",
       "    <tr>\n",
       "      <th>ead_pred</th>\n",
       "      <td>0.632616</td>\n",
       "      <td>1.000000</td>\n",
       "    </tr>\n",
       "  </tbody>\n",
       "</table>\n",
       "</div>"
      ],
      "text/plain": [
       "          ead_true  ead_pred\n",
       "ead_true  1.000000  0.632616\n",
       "ead_pred  0.632616  1.000000"
      ]
     },
     "execution_count": 50,
     "metadata": {},
     "output_type": "execute_result"
    }
   ],
   "source": [
    "check.corr()"
   ]
  },
  {
   "cell_type": "code",
   "execution_count": 51,
   "id": "a5662ee9",
   "metadata": {},
   "outputs": [
    {
     "data": {
      "image/png": "[encoded data removed]",
      "text/plain": [
       "<Figure size 720x360 with 1 Axes>"
      ]
     },
     "metadata": {
      "needs_background": "light"
     },
     "output_type": "display_data"
    }
   ],
   "source": [
    "check.plot.scatter(x='ead_true',y='ead_pred', alpha=0.7, figsize=(10,5));"
   ]
  },
  {
   "cell_type": "markdown",
   "id": "b568433c",
   "metadata": {},
   "source": [
    "Checking the similarity between the density function of the model predictions and the actual value of the target:"
   ]
  },
  {
   "cell_type": "code",
   "execution_count": 52,
   "id": "a0767920",
   "metadata": {},
   "outputs": [
    {
     "data": {
      "image/png": "[encoded data removed]",
      "text/plain": [
       "<Figure size 720x360 with 1 Axes>"
      ]
     },
     "metadata": {
      "needs_background": "light"
     },
     "output_type": "display_data"
    }
   ],
   "source": [
    "check.plot.density(figsize=(10,5));"
   ]
  },
  {
   "cell_type": "markdown",
   "id": "d08baff7",
   "metadata": {},
   "source": [
    "It can be seen that in reality (ead_true) three large groups can be distinguished, a majority group of borrowers whose exposure to default is zero, a second group with intermediate exposures (0.25-0.75), and a last group where all those borrowers with greater exposure to default are concentrated.\n",
    "\n",
    "Model's predictions tend towards intermediate default exposures, which leads to larger errors in predicting those borrowers with very low or very high actual default exposures.\n",
    "- For customers who will actually have very limited exposures at default: the model predicts that they will have some degree at exposure to default, which will lead to somewhat higher fees/interest being charged than they would be entitled to.\n",
    "- For customers with high actual default exposures: the model will tend to predict lower than actual default exposures, so that lower fees/interest will be applied than would be the case.\n",
    "\n",
    "However, at an aggregate level from a business point of view the performance of the model is quite acceptable, as it will be covering the part of fees/interest not collected from borrowers who end up having high exposure defaults with the additional surcharges/interest charged to those customers who eventually did not have defaults, thus covering the aggregate risk of the client portfolio."
   ]
  }
 ],
 "metadata": {
  "kernelspec": {
   "display_name": "Python 3 (ipykernel)",
   "language": "python",
   "name": "python3"
  },
  "language_info": {
   "codemirror_mode": {
    "name": "ipython",
    "version": 3
   },
   "file_extension": ".py",
   "mimetype": "text/x-python",
   "name": "python",
   "nbconvert_exporter": "python",
   "pygments_lexer": "ipython3",
   "version": "3.9.5"
  },
  "latex_envs": {
   "LaTeX_envs_menu_present": true,
   "autoclose": false,
   "autocomplete": true,
   "bibliofile": "biblio.bib",
   "cite_by": "apalike",
   "current_citInitial": 1,
   "eqLabelWithNumbers": true,
   "eqNumInitial": 1,
   "hotkeys": {
    "equation": "Ctrl-E",
    "itemize": "Ctrl-I"
   },
   "labels_anchors": false,
   "latex_user_defs": false,
   "report_style_numbering": false,
   "user_envs_cfg": false
  },
  "toc": {
   "base_numbering": 1,
   "nav_menu": {},
   "number_sections": true,
   "sideBar": true,
   "skip_h1_title": false,
   "title_cell": "Table of Contents",
   "title_sidebar": "Contents",
   "toc_cell": false,
   "toc_position": {
    "height": "calc(100% - 180px)",
    "left": "10px",
    "top": "150px",
    "width": "253.95px"
   },
   "toc_section_display": true,
   "toc_window_display": true
  },
  "varInspector": {
   "cols": {
    "lenName": 16,
    "lenType": 16,
    "lenVar": 40
   },
   "kernels_config": {
    "python": {
     "delete_cmd_postfix": "",
     "delete_cmd_prefix": "del ",
     "library": "var_list.py",
     "varRefreshCmd": "print(var_dic_list())"
    },
    "r": {
     "delete_cmd_postfix": ") ",
     "delete_cmd_prefix": "rm(",
     "library": "var_list.r",
     "varRefreshCmd": "cat(var_dic_list()) "
    }
   },
   "position": {
    "height": "546.85px",
    "left": "1531.75px",
    "right": "20px",
    "top": "115px",
    "width": "350px"
   },
   "types_to_exclude": [
    "module",
    "function",
    "builtin_function_or_method",
    "instance",
    "_Feature"
   ],
   "window_display": false
  }
 },
 "nbformat": 4,
 "nbformat_minor": 5
}
