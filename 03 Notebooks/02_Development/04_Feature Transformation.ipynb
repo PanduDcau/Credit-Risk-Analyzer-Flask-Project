{
 "cells": [
  {
   "cell_type": "markdown",
   "id": "d31dea65",
   "metadata": {},
   "source": [
    "# FEATURE TRANSFORMATION"
   ]
  },
  {
   "cell_type": "markdown",
   "id": "f5da94d6",
   "metadata": {},
   "source": [
    "At this stage of the project, different feature transformation techniques will be applied to adapt them to the requirements of the algorithms that will be used during the modelling phase.\n",
    "\n",
    "As discussed during the project desing stage, three different models will be developed:\n",
    "1. PD: Probability of default model.\n",
    "2. EAD: Exposure at default model.\n",
    "3. LGD: Loss given default model.\n",
    "\n",
    "In all cases, categorical features have to be transformed into numerical features. Ordinal encoding technique will be applied to ordinal features (`employment_length`, `scoring`). By other hand, `term`, `home_ownership` and `purpose` features will be encoded using one hot encoding. FInally, the rest of the nominal categorical features will be transformed by using target encoding technique. Note that as target encoding process is target-dependent, 3 different transformations must be carried out, one for each of the models to be developed.\n",
    "\n",
    "Regarding continuous features, given that PD model will be implemented using a logistic regression algorithm (as discussed in previous stages of the project), Gaussian normalisation processes will be applied.\n",
    "\n",
    "Finally, feature rescaling processes will be applied to transform all features in the dataset to a shared 0-1 scale."
   ]
  },
  {
   "cell_type": "markdown",
   "id": "87b82404",
   "metadata": {},
   "source": [
    "Note that the following features will not be processed as they cannot be used by the models due to this information will not be available at the time models are applied to a new borrower:\n",
    "- `n_cancellations_12_months`\n",
    "- `n_months_since_last_derrog`"
   ]
  },
  {
   "cell_type": "markdown",
   "id": "8ddf286f",
   "metadata": {},
   "source": [
    "*Reminder*: In previous stages of the project, the following feature transformation processes were identified:\n",
    "1. `targets`: Create the targets for probability of default (PD), exposure at default (EAD) and loss given default (LGD) predictive models.\n",
    "2. `home_ownership`: Group 'ANY', 'OTHER' and 'NONE' categories under the majority category ('MORTGAGE').\n",
    "3. `purpose`: Group 'wedding', 'renewable_energy' and 'educational' purposes under 'other' category.\n",
    "4. `p_credit_cards_exceeding_75p`: Discretise into three groups [0,20), [20,80), [80,100].\n",
    "5. `n_derogations`: Create a binary feature instead."
   ]
  },
  {
   "cell_type": "markdown",
   "id": "swiss-fault",
   "metadata": {},
   "source": [
    "## IMPORTING PACKAGES"
   ]
  },
  {
   "cell_type": "code",
   "execution_count": 1,
   "id": "adjacent-toddler",
   "metadata": {},
   "outputs": [],
   "source": [
    "import numpy as np\n",
    "import pandas as pd\n",
    "import matplotlib.pyplot as plt\n",
    "%matplotlib inline\n",
    "from sklearn.preprocessing import OneHotEncoder\n",
    "from sklearn.preprocessing import OrdinalEncoder\n",
    "from category_encoders import TargetEncoder\n",
    "from sklearn.preprocessing import Binarizer\n",
    "from sklearn.preprocessing import QuantileTransformer\n",
    "from sklearn.feature_extraction.text import TfidfVectorizer\n",
    "from sklearn.preprocessing import MinMaxScaler\n",
    "from sklearn.feature_extraction.text import strip_accents_unicode\n",
    "\n",
    "#To increase autocomplete response speed\n",
    "%config IPCompleter.greedy=True"
   ]
  },
  {
   "cell_type": "markdown",
   "id": "graduate-compensation",
   "metadata": {},
   "source": [
    "## DATA IMPORTATION"
   ]
  },
  {
   "cell_type": "markdown",
   "id": "3a5b94ef",
   "metadata": {},
   "source": [
    "Project path."
   ]
  },
  {
   "cell_type": "code",
   "execution_count": 2,
   "id": "f9d2de58",
   "metadata": {},
   "outputs": [],
   "source": [
    "project_path = '../..'"
   ]
  },
  {
   "cell_type": "markdown",
   "id": "c3363765",
   "metadata": {},
   "source": [
    "Names of data files."
   ]
  },
  {
   "cell_type": "code",
   "execution_count": 3,
   "id": "a9e2e04a",
   "metadata": {},
   "outputs": [],
   "source": [
    "cat_name = 'cat_result_eda.pickle'\n",
    "num_name = 'num_result_eda.pickle'"
   ]
  },
  {
   "cell_type": "markdown",
   "id": "b9825018",
   "metadata": {},
   "source": [
    "Data importation."
   ]
  },
  {
   "cell_type": "code",
   "execution_count": 4,
   "id": "cab6ebcd",
   "metadata": {},
   "outputs": [],
   "source": [
    "cat = pd.read_pickle(project_path + '/02_Data/03_Work/' + cat_name)\n",
    "num = pd.read_pickle(project_path + '/02_Data/03_Work/' + num_name)"
   ]
  },
  {
   "cell_type": "markdown",
   "id": "77c7ea5b",
   "metadata": {},
   "source": [
    "## DEFINING AND CREATING TARGETS"
   ]
  },
  {
   "cell_type": "markdown",
   "id": "595c80ad",
   "metadata": {},
   "source": [
    "In this section the target variable for each of probability of default (PD), exposure at default (EAD) and loss given default (LGD) predictive models will be defined and created."
   ]
  },
  {
   "cell_type": "markdown",
   "id": "458bccc5",
   "metadata": {},
   "source": [
    "### Target - Probability of Default model (PD)"
   ]
  },
  {
   "cell_type": "markdown",
   "id": "245e90ed",
   "metadata": {},
   "source": [
    "The purpose of this model will be to predict the probability that a given customer will default.\n",
    "\n",
    "In the context of this project, a default will be defined as any delay in the payment of loan instalments of more than 90 days."
   ]
  },
  {
   "cell_type": "code",
   "execution_count": 5,
   "id": "32f1d558",
   "metadata": {},
   "outputs": [
    {
     "data": {
      "text/plain": [
       "Fully Paid                                             66315\n",
       "Current                                                54343\n",
       "Charged Off                                            16446\n",
       "Late (31-120 days)                                      1325\n",
       "In Grace Period                                          524\n",
       "Late (16-30 days)                                        282\n",
       "Does not meet the credit policy. Status:Fully Paid       118\n",
       "Does not meet the credit policy. Status:Charged Off       52\n",
       "Default                                                    2\n",
       "Name: status, dtype: int64"
      ]
     },
     "execution_count": 5,
     "metadata": {},
     "output_type": "execute_result"
    }
   ],
   "source": [
    "cat.status.value_counts()"
   ]
  },
  {
   "cell_type": "markdown",
   "id": "182e7c5c",
   "metadata": {},
   "source": [
    "During the exploratory data analysis phase, it was found that 'Charged off' and 'Does not meet the credit policy. Status:Charged Off' categories had to be considered as default as certain amounts had been recovered in them. Obviously, 'Default' category should also be considered as default.\n",
    "\n",
    "'Current', 'Fully Paid', 'In Grace Period' and 'Does not meet the credit policy. Status:Fully Paid' categoires will clearly not be considered as non-payments.\n",
    "\n",
    "Regarding 'Late (31-120 days)' category and due to the selected criterion of considering >90 days = default, a decision should be made whether to include this category as default or not. Given that no additional information is available, it has been decided not to consider this category as default as 66% of its range is below 90 days."
   ]
  },
  {
   "cell_type": "code",
   "execution_count": 6,
   "id": "012d779b",
   "metadata": {},
   "outputs": [],
   "source": [
    "cat['target_pd'] = np.where(cat.status.isin(['Default',\n",
    "                                             'Charged Off',\n",
    "                                             'Does not meet the credit policy. Status:Charged Off']),1,0)\n",
    "cat.drop(columns='status',inplace=True)"
   ]
  },
  {
   "cell_type": "markdown",
   "id": "a24577b3",
   "metadata": {},
   "source": [
    "### Target - Exposure At Default model (EAD)"
   ]
  },
  {
   "cell_type": "markdown",
   "id": "2ff8da0f",
   "metadata": {},
   "source": [
    "The objective of this model is to predict the percentage of the loan that a given borrower has not yet repaid when a default occurs:\n",
    "\n",
    "\\begin{equation*}\n",
    "\\text{target}_{\\text{ead}} = \\dfrac{\\text{Amount to be paid}}{\\text{Loan amount}} = \\dfrac{\\text{Loan amount} - \\text{Amortised amount}}{\\text{Loan amount}}\n",
    "\\end{equation*}\n"
   ]
  },
  {
   "cell_type": "code",
   "execution_count": 7,
   "id": "d3c2fb84",
   "metadata": {},
   "outputs": [],
   "source": [
    "num['to_be_paid_amount'] = num.loan_amount - num.amortised_amount"
   ]
  },
  {
   "cell_type": "code",
   "execution_count": 8,
   "id": "05ddf7bc",
   "metadata": {},
   "outputs": [],
   "source": [
    "num['target_ead'] = num.to_be_paid_amount/num.loan_amount"
   ]
  },
  {
   "cell_type": "markdown",
   "id": "62028871",
   "metadata": {},
   "source": [
    "### Target - Loss Given Default model (LGD)"
   ]
  },
  {
   "cell_type": "markdown",
   "id": "e94d22d8",
   "metadata": {},
   "source": [
    "The objective of this model is to predict the percentage of the principal that will not be possible to recover from a loan that has been defaulted on.\n",
    "\n",
    "Therefore, the target will be defined as:\n",
    "\n",
    "\\begin{equation*}\n",
    "\\text{target}_{\\text{lgd}} = \n",
    "    \\begin{cases}\n",
    "      \\dfrac{\\text{Recovered amount}}{\\text{Amount to be paid}} & if \\, \\text{Amount to be paid} > 1  \\\\\n",
    "      0 & if \\, \\text{Amount to be paid} = 0\n",
    "    \\end{cases} \n",
    "\\end{equation*}"
   ]
  },
  {
   "cell_type": "code",
   "execution_count": 9,
   "id": "6635d90a",
   "metadata": {},
   "outputs": [],
   "source": [
    "num['target_lgd'] = 1 - num.recovered_amount/num.to_be_paid_amount\n",
    "num.target_lgd.fillna(0,inplace=True)"
   ]
  },
  {
   "cell_type": "markdown",
   "id": "1bc8ab88",
   "metadata": {},
   "source": [
    "### Checking created targets"
   ]
  },
  {
   "cell_type": "markdown",
   "id": "551dc9d9",
   "metadata": {},
   "source": [
    "`target_pd`:"
   ]
  },
  {
   "cell_type": "code",
   "execution_count": 10,
   "id": "bc4f07cd",
   "metadata": {},
   "outputs": [
    {
     "data": {
      "text/plain": [
       "0    0.881642\n",
       "1    0.118358\n",
       "Name: target_pd, dtype: float64"
      ]
     },
     "execution_count": 10,
     "metadata": {},
     "output_type": "execute_result"
    }
   ],
   "source": [
    "cat.target_pd.value_counts(normalize=True)"
   ]
  },
  {
   "cell_type": "markdown",
   "id": "eb517cee",
   "metadata": {},
   "source": [
    "`target_ead` and `target_lgd`:"
   ]
  },
  {
   "cell_type": "code",
   "execution_count": 11,
   "id": "6e23f2b7",
   "metadata": {},
   "outputs": [
    {
     "data": {
      "text/html": [
       "<div>\n",
       "<style scoped>\n",
       "    .dataframe tbody tr th:only-of-type {\n",
       "        vertical-align: middle;\n",
       "    }\n",
       "\n",
       "    .dataframe tbody tr th {\n",
       "        vertical-align: top;\n",
       "    }\n",
       "\n",
       "    .dataframe thead th {\n",
       "        text-align: right;\n",
       "    }\n",
       "</style>\n",
       "<table border=\"1\" class=\"dataframe\">\n",
       "  <thead>\n",
       "    <tr style=\"text-align: right;\">\n",
       "      <th></th>\n",
       "      <th>count</th>\n",
       "      <th>mean</th>\n",
       "      <th>std</th>\n",
       "      <th>min</th>\n",
       "      <th>25%</th>\n",
       "      <th>50%</th>\n",
       "      <th>75%</th>\n",
       "      <th>max</th>\n",
       "    </tr>\n",
       "  </thead>\n",
       "  <tbody>\n",
       "    <tr>\n",
       "      <th>target_ead</th>\n",
       "      <td>139407.0</td>\n",
       "      <td>0.337926</td>\n",
       "      <td>0.369471</td>\n",
       "      <td>-0.000012</td>\n",
       "      <td>0.0</td>\n",
       "      <td>0.130824</td>\n",
       "      <td>0.726128</td>\n",
       "      <td>1.0</td>\n",
       "    </tr>\n",
       "    <tr>\n",
       "      <th>target_lgd</th>\n",
       "      <td>139407.0</td>\n",
       "      <td>0.509251</td>\n",
       "      <td>0.490327</td>\n",
       "      <td>-0.275957</td>\n",
       "      <td>0.0</td>\n",
       "      <td>0.851073</td>\n",
       "      <td>1.000000</td>\n",
       "      <td>1.0</td>\n",
       "    </tr>\n",
       "  </tbody>\n",
       "</table>\n",
       "</div>"
      ],
      "text/plain": [
       "               count      mean       std       min  25%       50%       75%  \\\n",
       "target_ead  139407.0  0.337926  0.369471 -0.000012  0.0  0.130824  0.726128   \n",
       "target_lgd  139407.0  0.509251  0.490327 -0.275957  0.0  0.851073  1.000000   \n",
       "\n",
       "            max  \n",
       "target_ead  1.0  \n",
       "target_lgd  1.0  "
      ]
     },
     "execution_count": 11,
     "metadata": {},
     "output_type": "execute_result"
    }
   ],
   "source": [
    "num[['target_ead','target_lgd']].describe().T"
   ]
  },
  {
   "cell_type": "markdown",
   "id": "27f74193",
   "metadata": {},
   "source": [
    "The targen values will be limited to the range [0,1]:"
   ]
  },
  {
   "cell_type": "code",
   "execution_count": 12,
   "id": "02accf10",
   "metadata": {},
   "outputs": [],
   "source": [
    "num.target_ead.clip(0,1,inplace=True)\n",
    "num.target_lgd.clip(0,1,inplace=True)"
   ]
  },
  {
   "cell_type": "code",
   "execution_count": 13,
   "id": "95901c23",
   "metadata": {},
   "outputs": [
    {
     "data": {
      "text/html": [
       "<div>\n",
       "<style scoped>\n",
       "    .dataframe tbody tr th:only-of-type {\n",
       "        vertical-align: middle;\n",
       "    }\n",
       "\n",
       "    .dataframe tbody tr th {\n",
       "        vertical-align: top;\n",
       "    }\n",
       "\n",
       "    .dataframe thead th {\n",
       "        text-align: right;\n",
       "    }\n",
       "</style>\n",
       "<table border=\"1\" class=\"dataframe\">\n",
       "  <thead>\n",
       "    <tr style=\"text-align: right;\">\n",
       "      <th></th>\n",
       "      <th>count</th>\n",
       "      <th>mean</th>\n",
       "      <th>std</th>\n",
       "      <th>min</th>\n",
       "      <th>25%</th>\n",
       "      <th>50%</th>\n",
       "      <th>75%</th>\n",
       "      <th>max</th>\n",
       "    </tr>\n",
       "  </thead>\n",
       "  <tbody>\n",
       "    <tr>\n",
       "      <th>target_ead</th>\n",
       "      <td>139407.0</td>\n",
       "      <td>0.337926</td>\n",
       "      <td>0.369471</td>\n",
       "      <td>0.0</td>\n",
       "      <td>0.0</td>\n",
       "      <td>0.130824</td>\n",
       "      <td>0.726128</td>\n",
       "      <td>1.0</td>\n",
       "    </tr>\n",
       "    <tr>\n",
       "      <th>target_lgd</th>\n",
       "      <td>139407.0</td>\n",
       "      <td>0.509274</td>\n",
       "      <td>0.490300</td>\n",
       "      <td>0.0</td>\n",
       "      <td>0.0</td>\n",
       "      <td>0.851073</td>\n",
       "      <td>1.000000</td>\n",
       "      <td>1.0</td>\n",
       "    </tr>\n",
       "  </tbody>\n",
       "</table>\n",
       "</div>"
      ],
      "text/plain": [
       "               count      mean       std  min  25%       50%       75%  max\n",
       "target_ead  139407.0  0.337926  0.369471  0.0  0.0  0.130824  0.726128  1.0\n",
       "target_lgd  139407.0  0.509274  0.490300  0.0  0.0  0.851073  1.000000  1.0"
      ]
     },
     "execution_count": 13,
     "metadata": {},
     "output_type": "execute_result"
    }
   ],
   "source": [
    "num[['target_ead','target_lgd']].describe().T"
   ]
  },
  {
   "cell_type": "code",
   "execution_count": 14,
   "id": "7c7dc2d4",
   "metadata": {},
   "outputs": [
    {
     "data": {
      "image/png": "[encoded data removed]",
      "text/plain": [
       "<Figure size 1152x360 with 2 Axes>"
      ]
     },
     "metadata": {
      "needs_background": "light"
     },
     "output_type": "display_data"
    }
   ],
   "source": [
    "num[['target_ead','target_lgd']].plot(subplots=True ,kind='kde', layout=(1,2), figsize=(16,5), color=['darkblue','darkblue'],\n",
    "                                      alpha=0.8, title=['Target - Exposure at default','Target - Loss given default']);"
   ]
  },
  {
   "cell_type": "markdown",
   "id": "55f0eca0",
   "metadata": {},
   "source": [
    "## APPLYING TRANSFORMATIONS IDENTIFIED IN PREVIOUS STAGES"
   ]
  },
  {
   "cell_type": "code",
   "execution_count": 15,
   "id": "2ec2563f",
   "metadata": {},
   "outputs": [],
   "source": [
    "cat['home_ownership'] = cat.home_ownership.replace(['ANY','OTHER','NONE'],'MORTGAGE')\n",
    "\n",
    "cat['purpose'] = cat.purpose.replace(['wedding','renewable_energy','educational'],'other')\n",
    "\n",
    "cat['p_credit_cards_exceeding_75p_disc'] = pd.cut(num['p_credit_cards_exceeding_75p'], \n",
    "                                                  [-float(\"inf\"), 20, 80, float(\"inf\")], \n",
    "                                                  labels = ['00_Under_20p','01_20p_80p','02_Over_80p'])"
   ]
  },
  {
   "cell_type": "markdown",
   "id": "9790d322",
   "metadata": {},
   "source": [
    "## TRANSFORMATION OF CATEGORICAL FEATURES"
   ]
  },
  {
   "cell_type": "markdown",
   "id": "f1fa5201",
   "metadata": {},
   "source": [
    "### One Hot Encoding"
   ]
  },
  {
   "cell_type": "markdown",
   "id": "da9b786a",
   "metadata": {},
   "source": [
    "Selecting nominal features to be encoded using OHE:"
   ]
  },
  {
   "cell_type": "code",
   "execution_count": 16,
   "id": "6e36cf47",
   "metadata": {},
   "outputs": [],
   "source": [
    "var_ohe = ['term', 'home_ownership', 'purpose']"
   ]
  },
  {
   "cell_type": "markdown",
   "id": "db8d4634",
   "metadata": {},
   "source": [
    "Instantiating:"
   ]
  },
  {
   "cell_type": "code",
   "execution_count": 17,
   "id": "e75c2ee4",
   "metadata": {},
   "outputs": [],
   "source": [
    "ohe = OneHotEncoder(sparse = False, handle_unknown='ignore')"
   ]
  },
  {
   "cell_type": "markdown",
   "id": "26c9f58f",
   "metadata": {},
   "source": [
    "Training and applying encoding:"
   ]
  },
  {
   "cell_type": "code",
   "execution_count": 18,
   "id": "4162d5a7",
   "metadata": {},
   "outputs": [],
   "source": [
    "cat_ohe = ohe.fit_transform(cat[var_ohe])"
   ]
  },
  {
   "cell_type": "markdown",
   "id": "c9131f15",
   "metadata": {},
   "source": [
    "Saving as a dataframe:"
   ]
  },
  {
   "cell_type": "code",
   "execution_count": 19,
   "id": "783255d7",
   "metadata": {},
   "outputs": [],
   "source": [
    "cat_ohe = pd.DataFrame(cat_ohe, columns = ohe.get_feature_names_out())"
   ]
  },
  {
   "cell_type": "markdown",
   "id": "5e7c941a",
   "metadata": {},
   "source": [
    "### Ordinal Encoding"
   ]
  },
  {
   "cell_type": "markdown",
   "id": "c49c4a51",
   "metadata": {},
   "source": [
    "Selecting nominal features to be encoded using OE:"
   ]
  },
  {
   "cell_type": "code",
   "execution_count": 20,
   "id": "8a09974e",
   "metadata": {},
   "outputs": [],
   "source": [
    "var_oe = ['employment_length','scoring']"
   ]
  },
  {
   "cell_type": "markdown",
   "id": "6922c091",
   "metadata": {},
   "source": [
    "Establishing the order of the categories:"
   ]
  },
  {
   "cell_type": "code",
   "execution_count": 21,
   "id": "428dfe69",
   "metadata": {},
   "outputs": [],
   "source": [
    "order_employment_length = ['Unknown','< 1 year','1 year','2 years','3 years','4 years','5 years','6 years','7 years',\n",
    "                           '8 years','9 years','10+ years']\n",
    "\n",
    "order_scoring = ['A', 'B', 'C', 'D', 'E', 'F', 'G']"
   ]
  },
  {
   "cell_type": "markdown",
   "id": "3b38879c",
   "metadata": {},
   "source": [
    "Instantiating:"
   ]
  },
  {
   "cell_type": "code",
   "execution_count": 22,
   "id": "4fe57c80",
   "metadata": {},
   "outputs": [],
   "source": [
    "oe = OrdinalEncoder(categories = [order_employment_length,order_scoring],\n",
    "                    handle_unknown = 'use_encoded_value',\n",
    "                    unknown_value = 12)"
   ]
  },
  {
   "cell_type": "markdown",
   "id": "0aeff907",
   "metadata": {},
   "source": [
    "Training and applying:"
   ]
  },
  {
   "cell_type": "code",
   "execution_count": 23,
   "id": "dbeafa81",
   "metadata": {},
   "outputs": [],
   "source": [
    "cat_oe = oe.fit_transform(cat[var_oe])"
   ]
  },
  {
   "cell_type": "markdown",
   "id": "df479d84",
   "metadata": {},
   "source": [
    "Saving as a dataframe:"
   ]
  },
  {
   "cell_type": "code",
   "execution_count": 24,
   "id": "bd1db401",
   "metadata": {},
   "outputs": [],
   "source": [
    "#Adding suffixes to feature names\n",
    "names_oe = [feature + '_oe' for feature in var_oe]\n",
    "\n",
    "#Saving as dataframe\n",
    "cat_oe = pd.DataFrame(cat_oe, columns = names_oe)"
   ]
  },
  {
   "cell_type": "markdown",
   "id": "be5ec0ae",
   "metadata": {},
   "source": [
    "### Target Encoding"
   ]
  },
  {
   "cell_type": "markdown",
   "id": "320bbcb7",
   "metadata": {},
   "source": [
    "Selecting nominal features to be encoded using TE:"
   ]
  },
  {
   "cell_type": "code",
   "execution_count": 25,
   "id": "3544bb26",
   "metadata": {},
   "outputs": [],
   "source": [
    "var_te = ['employment_title', 'income_verification', 'p_credit_cards_exceeding_75p_disc']"
   ]
  },
  {
   "cell_type": "markdown",
   "id": "0d66cf0d",
   "metadata": {},
   "source": [
    "Instantiating:"
   ]
  },
  {
   "cell_type": "code",
   "execution_count": 26,
   "id": "0d214b55",
   "metadata": {},
   "outputs": [
    {
     "name": "stderr",
     "output_type": "stream",
     "text": [
      "C:\\Users\\pedro\\miniconda3\\envs\\pf_riskscoring\\lib\\site-packages\\category_encoders\\target_encoder.py:97: FutureWarning: Default parameter smoothing will change in version 2.6.See https://github.com/scikit-learn-contrib/category_encoders/issues/327\n",
      "  warnings.warn(\"Default parameter smoothing will change in version 2.6.\"\n"
     ]
    }
   ],
   "source": [
    "te = TargetEncoder(min_samples_leaf=100, return_df = False)"
   ]
  },
  {
   "cell_type": "markdown",
   "id": "65ea9fb7",
   "metadata": {},
   "source": [
    "Training and applying encoding (for each target):"
   ]
  },
  {
   "cell_type": "code",
   "execution_count": 27,
   "id": "aabd67d6",
   "metadata": {},
   "outputs": [],
   "source": [
    "cat_te_pd = te.fit_transform(cat[var_te], y = cat[['target_pd']])\n",
    "cat_te_ead = te.fit_transform(cat[var_te], y = num[['target_ead']])\n",
    "cat_te_lgd = te.fit_transform(cat[var_te], y = num[['target_lgd']])"
   ]
  },
  {
   "cell_type": "markdown",
   "id": "d8423376",
   "metadata": {},
   "source": [
    "Saving as dataframe:"
   ]
  },
  {
   "cell_type": "code",
   "execution_count": 28,
   "id": "9a188ce9",
   "metadata": {},
   "outputs": [],
   "source": [
    "#Adding suffixes to feature names\n",
    "names_te_pd = [feature + '_te_pd' for feature in var_te]\n",
    "names_te_ead = [feature + '_te_ead' for feature in var_te]\n",
    "names_te_lgd = [feature + '_te_lgd' for feature in var_te]\n",
    "\n",
    "#Saving as dataframe\n",
    "cat_te_pd = pd.DataFrame(cat_te_pd, columns = names_te_pd)\n",
    "cat_te_ead = pd.DataFrame(cat_te_ead, columns = names_te_ead)\n",
    "cat_te_lgd = pd.DataFrame(cat_te_lgd, columns = names_te_lgd)"
   ]
  },
  {
   "cell_type": "markdown",
   "id": "a6d9a823",
   "metadata": {},
   "source": [
    "## TEXTS"
   ]
  },
  {
   "cell_type": "markdown",
   "id": "c4553499",
   "metadata": {},
   "source": [
    "`description`: Basic NLP processes will be applied to test whether useful information can be extracted from this feature. In particular the Tf-idf technique will be used.\n",
    "\n",
    "Tf-idf means term-frequency times inverse document-frequency. This is a common term weighting scheme in information retrieval. The goal of using tf-idf instead of the raw frequencies of occurrence of a token in a given document is to scale down the impact of tokens that occur very frequently in a given corpus and that are hence empirically less informative than features that occur in a small fraction of the training corpus."
   ]
  },
  {
   "cell_type": "markdown",
   "id": "074775f2",
   "metadata": {},
   "source": [
    "Importing and cleaning stop words list:"
   ]
  },
  {
   "cell_type": "code",
   "execution_count": 29,
   "id": "ca75863c",
   "metadata": {
    "scrolled": false
   },
   "outputs": [],
   "source": [
    "stop_words = pd.read_csv(project_path + '/01_Documents/nlp_stop_words.txt', names = ['word'])\n",
    "stop_words['word_clean'] = stop_words.word.transform(strip_accents_unicode)"
   ]
  },
  {
   "cell_type": "markdown",
   "id": "09f55cb9",
   "metadata": {},
   "source": [
    "Instantiating:"
   ]
  },
  {
   "cell_type": "code",
   "execution_count": 30,
   "id": "66b18f9e",
   "metadata": {},
   "outputs": [],
   "source": [
    "tfidf = TfidfVectorizer(strip_accents = 'unicode',\n",
    "                        stop_words = stop_words.word_clean.to_list(),\n",
    "                        max_df = 0.7,\n",
    "                        min_df = 50,\n",
    "                        ngram_range = (1,3),\n",
    "                        max_features = 50)"
   ]
  },
  {
   "cell_type": "markdown",
   "id": "75e5ac60",
   "metadata": {},
   "source": [
    "Training and applying:"
   ]
  },
  {
   "cell_type": "code",
   "execution_count": 31,
   "id": "226ddce5",
   "metadata": {},
   "outputs": [
    {
     "name": "stderr",
     "output_type": "stream",
     "text": [
      "C:\\Users\\pedro\\miniconda3\\envs\\pf_riskscoring\\lib\\site-packages\\sklearn\\feature_extraction\\text.py:396: UserWarning: Your stop_words may be inconsistent with your preprocessing. Tokenizing the stop words generated tokens ['ain', 'al', 'couldn', 'daren', 'didn', 'doesn', 'hadn', 'hasn', 'haven', 'isn', 'itse', 'll', 'mayn', 'mightn', 'mon', 'mustn', 'myse', 'needn', 'oughtn', 'shan', 'shouldn', 've', 'wasn', 'weren', 'won', 'wouldn'] not in stop_words.\n",
      "  warnings.warn(\n"
     ]
    }
   ],
   "source": [
    "chars_to_replace = ['\\d+','//','>','br']\n",
    "\n",
    "description = tfidf.fit_transform(cat.description.transform(strip_accents_unicode) \\\n",
    "                                     .str.replace('|'.join(chars_to_replace), '', regex=True))"
   ]
  },
  {
   "cell_type": "markdown",
   "id": "08f2b9fd",
   "metadata": {},
   "source": [
    "Results:"
   ]
  },
  {
   "cell_type": "code",
   "execution_count": 32,
   "id": "94292c15",
   "metadata": {},
   "outputs": [
    {
     "data": {
      "text/plain": [
       "{'borrower': 1,\n",
       " 'loan': 28,\n",
       " 'borrower loan': 5,\n",
       " 'credit': 16,\n",
       " 'card': 10,\n",
       " 'debt': 20,\n",
       " 'pay': 36,\n",
       " 'payment': 40,\n",
       " 'cards': 12,\n",
       " 'higher': 26,\n",
       " 'consolidate': 13,\n",
       " 'payments': 41,\n",
       " 'month': 33,\n",
       " 'credit card': 17,\n",
       " 'card debt': 11,\n",
       " 'loan pay': 30,\n",
       " 'credit cards': 19,\n",
       " 'credit card debt': 18,\n",
       " 'years': 49,\n",
       " 'borrower consolidate': 2,\n",
       " 'consolidate credit': 14,\n",
       " 'free': 22,\n",
       " 'pay credit': 37,\n",
       " 'year': 48,\n",
       " 'business': 8,\n",
       " 'bills': 0,\n",
       " 'rates': 44,\n",
       " 'work': 47,\n",
       " 'monthly': 34,\n",
       " 'paying': 39,\n",
       " 'rate': 43,\n",
       " 'time': 46,\n",
       " 'plan': 42,\n",
       " 'car': 9,\n",
       " 'loans': 31,\n",
       " 'good': 23,\n",
       " 'job': 27,\n",
       " 'borrower pay': 6,\n",
       " 'money': 32,\n",
       " 'borrower pay credit': 7,\n",
       " 'loan consolidate': 29,\n",
       " 'pay credit cards': 38,\n",
       " 'consolidation': 15,\n",
       " 'borrower debt': 4,\n",
       " 'debt consolidation': 21,\n",
       " 'borrower credit': 3,\n",
       " 'high': 24,\n",
       " 'high credit': 25,\n",
       " 'stable': 45,\n",
       " 'paid': 35}"
      ]
     },
     "execution_count": 32,
     "metadata": {},
     "output_type": "execute_result"
    }
   ],
   "source": [
    "tfidf.vocabulary_"
   ]
  },
  {
   "cell_type": "markdown",
   "id": "70084490",
   "metadata": {},
   "source": [
    "**Conclusion**: It does not seem that these terms can generate additional information to that already collected in other features, so `description` feature will not be included in the models."
   ]
  },
  {
   "cell_type": "code",
   "execution_count": 33,
   "id": "713feb59",
   "metadata": {},
   "outputs": [],
   "source": [
    "cat.drop(columns='description',inplace=True)"
   ]
  },
  {
   "cell_type": "markdown",
   "id": "ec6bd31a",
   "metadata": {},
   "source": [
    "## TRANSFORMATION OF NUMERICAL FEATURES"
   ]
  },
  {
   "cell_type": "markdown",
   "id": "b5a4b948",
   "metadata": {},
   "source": [
    "### Feature Binarisation"
   ]
  },
  {
   "cell_type": "markdown",
   "id": "3208cfd8",
   "metadata": {},
   "source": [
    "Selecting features to be binarised:"
   ]
  },
  {
   "cell_type": "code",
   "execution_count": 34,
   "id": "a79b897c",
   "metadata": {},
   "outputs": [],
   "source": [
    "var_bin = ['n_derogations']"
   ]
  },
  {
   "cell_type": "markdown",
   "id": "9247e51a",
   "metadata": {},
   "source": [
    "Instantiating:"
   ]
  },
  {
   "cell_type": "code",
   "execution_count": 35,
   "id": "2bcf7c5f",
   "metadata": {},
   "outputs": [],
   "source": [
    "binarizer = Binarizer(threshold=0)"
   ]
  },
  {
   "cell_type": "markdown",
   "id": "b4c17941",
   "metadata": {},
   "source": [
    "Training and applying:"
   ]
  },
  {
   "cell_type": "code",
   "execution_count": 36,
   "id": "087568ab",
   "metadata": {},
   "outputs": [],
   "source": [
    "num_bin = binarizer.fit_transform(num[var_bin])"
   ]
  },
  {
   "cell_type": "markdown",
   "id": "52401fa6",
   "metadata": {},
   "source": [
    "Saving as a dataframe:"
   ]
  },
  {
   "cell_type": "code",
   "execution_count": 37,
   "id": "990bab10",
   "metadata": {},
   "outputs": [],
   "source": [
    "#Adding suffixes to feature names\n",
    "names_bin = [feature + '_bin' for feature in var_bin]\n",
    "\n",
    "#Saving as dataframe\n",
    "num_bin = pd.DataFrame(num_bin,columns = names_bin)"
   ]
  },
  {
   "cell_type": "markdown",
   "id": "2f3512e8",
   "metadata": {},
   "source": [
    "### Feature Normalisation (Gauss)"
   ]
  },
  {
   "cell_type": "markdown",
   "id": "30feb84f",
   "metadata": {},
   "source": [
    "#### Using Quantile Transformer"
   ]
  },
  {
   "cell_type": "markdown",
   "id": "ba6999c6",
   "metadata": {},
   "source": [
    "Selecting features to be normalised using Quantile Transformer:"
   ]
  },
  {
   "cell_type": "code",
   "execution_count": 38,
   "id": "2c5f072d",
   "metadata": {},
   "outputs": [],
   "source": [
    "var_qt = ['annual_income', 'dti', 'installment', 'interest_rate', 'loan_amount',  \n",
    "           'n_credit_lines', 'n_mortages', 'revolving_utilization']"
   ]
  },
  {
   "cell_type": "markdown",
   "id": "4e6f613d",
   "metadata": {},
   "source": [
    "Instantiating:"
   ]
  },
  {
   "cell_type": "code",
   "execution_count": 39,
   "id": "edbf34cf",
   "metadata": {},
   "outputs": [],
   "source": [
    "qt = QuantileTransformer(output_distribution='normal')"
   ]
  },
  {
   "cell_type": "markdown",
   "id": "ecbaf1ef",
   "metadata": {},
   "source": [
    "Training and applying:"
   ]
  },
  {
   "cell_type": "code",
   "execution_count": 40,
   "id": "5719501c",
   "metadata": {},
   "outputs": [],
   "source": [
    "num_qt = qt.fit_transform(num[var_qt])"
   ]
  },
  {
   "cell_type": "markdown",
   "id": "c132227b",
   "metadata": {},
   "source": [
    "Saving as dataframe:"
   ]
  },
  {
   "cell_type": "code",
   "execution_count": 41,
   "id": "471634dc",
   "metadata": {},
   "outputs": [],
   "source": [
    "#Adding suffixes to feature names\n",
    "names_qt = [feature + '_qt' for feature in var_qt]\n",
    "\n",
    "#Saving as dataframe\n",
    "num_qt = pd.DataFrame(num_qt,columns = names_qt)"
   ]
  },
  {
   "cell_type": "markdown",
   "id": "5f9ffae2",
   "metadata": {},
   "source": [
    "## FEATURE RESCALATION"
   ]
  },
  {
   "cell_type": "markdown",
   "id": "fbc62831",
   "metadata": {},
   "source": [
    "Unifying the datasets to be rescaled for each of the models:"
   ]
  },
  {
   "cell_type": "code",
   "execution_count": 42,
   "id": "96552fd8",
   "metadata": {},
   "outputs": [],
   "source": [
    "# PD model:\n",
    "df_res_pd = pd.concat([cat_oe,cat_te_pd,num_qt],axis=1)\n",
    "\n",
    "# EAD model:\n",
    "df_res_ead = pd.concat([cat_oe,cat_te_ead,num_qt],axis=1)\n",
    "\n",
    "# LGD model:\n",
    "df_res_lgd = pd.concat([cat_oe,cat_te_lgd,num_qt],axis=1)"
   ]
  },
  {
   "cell_type": "markdown",
   "id": "117ac120",
   "metadata": {},
   "source": [
    "Selecting features to be rescaled using Min-Max for each model"
   ]
  },
  {
   "cell_type": "code",
   "execution_count": 43,
   "id": "4c9e40ba",
   "metadata": {},
   "outputs": [],
   "source": [
    "# PD model:\n",
    "var_mms_pd = df_res_pd.columns\n",
    "\n",
    "# EAD model:\n",
    "var_mms_ead = df_res_ead.columns\n",
    "\n",
    "# LGD model:\n",
    "var_mms_lgd = df_res_lgd.columns"
   ]
  },
  {
   "cell_type": "markdown",
   "id": "b0b18ca7",
   "metadata": {},
   "source": [
    "Instantianting:"
   ]
  },
  {
   "cell_type": "code",
   "execution_count": 44,
   "id": "44a71f10",
   "metadata": {},
   "outputs": [],
   "source": [
    "mms = MinMaxScaler()"
   ]
  },
  {
   "cell_type": "markdown",
   "id": "57f8f537",
   "metadata": {},
   "source": [
    "Training and applying:"
   ]
  },
  {
   "cell_type": "code",
   "execution_count": 45,
   "id": "b45d4fa8",
   "metadata": {},
   "outputs": [],
   "source": [
    "# PD model:\n",
    "df_mms_pd = mms.fit_transform(df_res_pd[var_mms_pd])\n",
    "\n",
    "# EAD model:\n",
    "df_mms_ead = mms.fit_transform(df_res_ead[var_mms_ead])\n",
    "\n",
    "# LGD model:\n",
    "df_mms_lgd = mms.fit_transform(df_res_lgd[var_mms_lgd])"
   ]
  },
  {
   "cell_type": "markdown",
   "id": "aea83d81",
   "metadata": {},
   "source": [
    "Saving as dataframe:"
   ]
  },
  {
   "cell_type": "code",
   "execution_count": 46,
   "id": "d5ba3f86",
   "metadata": {},
   "outputs": [],
   "source": [
    "# Adding suffixes to feature names\n",
    "    # PD model:\n",
    "names_mms_pd = [feature + '_mms' for feature in var_mms_pd]\n",
    "    # EAD model:\n",
    "names_mms_ead = [feature + '_mms' for feature in var_mms_ead]   \n",
    "    # LGD model:\n",
    "names_mms_lgd = [feature + '_mms' for feature in var_mms_lgd]\n",
    "\n",
    "\n",
    "# Saving as dataframe\n",
    "    # PD model:\n",
    "df_mms_pd = pd.DataFrame(df_mms_pd,columns = names_mms_pd)\n",
    "    # EAD model:\n",
    "df_mms_ead = pd.DataFrame(df_mms_ead,columns = var_mms_ead)   \n",
    "    # LGD model:\n",
    "df_mms_lgd = pd.DataFrame(df_mms_lgd,columns = var_mms_lgd)"
   ]
  },
  {
   "cell_type": "markdown",
   "id": "118dac36",
   "metadata": {},
   "source": [
    "## UNIFYING DATASETS"
   ]
  },
  {
   "cell_type": "markdown",
   "id": "cc2f4dc1",
   "metadata": {},
   "source": [
    "### PD model"
   ]
  },
  {
   "cell_type": "markdown",
   "id": "8022bdd1",
   "metadata": {},
   "source": [
    "Creating a list of dataframes and features to be included for the development of the PD model:"
   ]
  },
  {
   "cell_type": "code",
   "execution_count": 47,
   "id": "762be4e8",
   "metadata": {},
   "outputs": [],
   "source": [
    "to_include_pd = [cat_ohe, num_bin, df_mms_pd, cat.reset_index()[['client_id','target_pd']]]"
   ]
  },
  {
   "cell_type": "markdown",
   "id": "81083d38",
   "metadata": {},
   "source": [
    "Unifying dataframes:"
   ]
  },
  {
   "cell_type": "code",
   "execution_count": 48,
   "id": "01fe43d8",
   "metadata": {},
   "outputs": [],
   "source": [
    "df_pd = pd.concat(to_include_pd,axis=1).set_index('client_id')"
   ]
  },
  {
   "cell_type": "markdown",
   "id": "451110dc",
   "metadata": {},
   "source": [
    "### EAD model"
   ]
  },
  {
   "cell_type": "markdown",
   "id": "1e40159c",
   "metadata": {},
   "source": [
    "Creating a list of dataframes and features to be included for the development of the EAD model:"
   ]
  },
  {
   "cell_type": "code",
   "execution_count": 49,
   "id": "98084958",
   "metadata": {},
   "outputs": [],
   "source": [
    "to_include_ead = [cat_ohe, num_bin, df_mms_ead, num.reset_index()[['client_id','target_ead']]]"
   ]
  },
  {
   "cell_type": "markdown",
   "id": "026cb89f",
   "metadata": {},
   "source": [
    "Unifying dataframes:"
   ]
  },
  {
   "cell_type": "code",
   "execution_count": 50,
   "id": "e32f9eda",
   "metadata": {},
   "outputs": [],
   "source": [
    "df_ead = pd.concat(to_include_ead,axis=1).set_index('client_id')"
   ]
  },
  {
   "cell_type": "markdown",
   "id": "574aa9c9",
   "metadata": {},
   "source": [
    "### LGD model"
   ]
  },
  {
   "cell_type": "markdown",
   "id": "3cd23502",
   "metadata": {},
   "source": [
    "Creating a list of dataframes and features to be included for the development of the LGD model:"
   ]
  },
  {
   "cell_type": "code",
   "execution_count": 51,
   "id": "c1a15c92",
   "metadata": {},
   "outputs": [],
   "source": [
    "to_include_lgd = [cat_ohe, num_bin, df_mms_lgd, num.reset_index()[['client_id','target_lgd']]]"
   ]
  },
  {
   "cell_type": "markdown",
   "id": "0ebce624",
   "metadata": {},
   "source": [
    "Unifying dataframes:"
   ]
  },
  {
   "cell_type": "code",
   "execution_count": 52,
   "id": "5bbaf5be",
   "metadata": {},
   "outputs": [],
   "source": [
    "df_lgd = pd.concat(to_include_lgd,axis=1).set_index('client_id')"
   ]
  },
  {
   "cell_type": "markdown",
   "id": "9f098f8a",
   "metadata": {},
   "source": [
    "## SAVING DATASETS AFTER DATA TRANSFORMATION"
   ]
  },
  {
   "cell_type": "markdown",
   "id": "7656ba95",
   "metadata": {},
   "source": [
    "df_pd, df_ead and df_lgd dataframes will be saved once data transformation procedures have been applied.\n",
    "\n",
    "In pickle format so as not to lose metadata modifications."
   ]
  },
  {
   "cell_type": "markdown",
   "id": "6d3f5014",
   "metadata": {},
   "source": [
    "### Defining dataset names"
   ]
  },
  {
   "cell_type": "code",
   "execution_count": 53,
   "id": "782bf43c",
   "metadata": {},
   "outputs": [],
   "source": [
    "path_df_input_pd = project_path + '/02_Data/03_Work/' + 'df_input_pd.pickle'\n",
    "path_df_input_ead = project_path + '/02_Data/03_Work/' + 'df_input_ead.pickle'\n",
    "path_df_input_lgd = project_path + '/02_Data/03_Work/' + 'df_input_lgd.pickle'"
   ]
  },
  {
   "cell_type": "markdown",
   "id": "c9fac7a0",
   "metadata": {},
   "source": [
    "### Saving datasets"
   ]
  },
  {
   "cell_type": "code",
   "execution_count": 54,
   "id": "44c7dd60",
   "metadata": {},
   "outputs": [],
   "source": [
    "df_pd.to_pickle(path_df_input_pd)\n",
    "df_ead.to_pickle(path_df_input_ead)\n",
    "df_lgd.to_pickle(path_df_input_lgd)"
   ]
  }
 ],
 "metadata": {
  "kernelspec": {
   "display_name": "Python 3 (ipykernel)",
   "language": "python",
   "name": "python3"
  },
  "language_info": {
   "codemirror_mode": {
    "name": "ipython",
    "version": 3
   },
   "file_extension": ".py",
   "mimetype": "text/x-python",
   "name": "python",
   "nbconvert_exporter": "python",
   "pygments_lexer": "ipython3",
   "version": "3.9.5"
  },
  "latex_envs": {
   "LaTeX_envs_menu_present": true,
   "autoclose": false,
   "autocomplete": true,
   "bibliofile": "biblio.bib",
   "cite_by": "apalike",
   "current_citInitial": 1,
   "eqLabelWithNumbers": true,
   "eqNumInitial": 1,
   "hotkeys": {
    "equation": "Ctrl-E",
    "itemize": "Ctrl-I"
   },
   "labels_anchors": false,
   "latex_user_defs": false,
   "report_style_numbering": false,
   "user_envs_cfg": false
  },
  "toc": {
   "base_numbering": 1,
   "nav_menu": {},
   "number_sections": true,
   "sideBar": true,
   "skip_h1_title": false,
   "title_cell": "Table of Contents",
   "title_sidebar": "Contents",
   "toc_cell": false,
   "toc_position": {
    "height": "calc(100% - 180px)",
    "left": "10px",
    "top": "150px",
    "width": "346.95px"
   },
   "toc_section_display": true,
   "toc_window_display": true
  },
  "varInspector": {
   "cols": {
    "lenName": 16,
    "lenType": 16,
    "lenVar": 40
   },
   "kernels_config": {
    "python": {
     "delete_cmd_postfix": "",
     "delete_cmd_prefix": "del ",
     "library": "var_list.py",
     "varRefreshCmd": "print(var_dic_list())"
    },
    "r": {
     "delete_cmd_postfix": ") ",
     "delete_cmd_prefix": "rm(",
     "library": "var_list.r",
     "varRefreshCmd": "cat(var_dic_list()) "
    }
   },
   "position": {
    "height": "546.85px",
    "left": "890.75px",
    "right": "20px",
    "top": "117px",
    "width": "350px"
   },
   "types_to_exclude": [
    "module",
    "function",
    "builtin_function_or_method",
    "instance",
    "_Feature"
   ],
   "window_display": false
  }
 },
 "nbformat": 4,
 "nbformat_minor": 5
}
