{
 "cells": [
  {
   "cell_type": "markdown",
   "id": "88094b04",
   "metadata": {},
   "source": [
    "# SET UP"
   ]
  },
  {
   "cell_type": "markdown",
   "id": "2cc6b0de",
   "metadata": {},
   "source": [
    "## CREATING PROJECT ENVIRONMENT"
   ]
  },
  {
   "cell_type": "markdown",
   "id": "0e7f59d7",
   "metadata": {},
   "source": [
    "In order to keep the project dependencies isolated from both the system and other projects, a new dedicated working environment named pf_riskscoring.yml will be created in this section. Conda has been used for this purpose."
   ]
  },
  {
   "cell_type": "markdown",
   "id": "a0d629ba",
   "metadata": {},
   "source": [
    "```\n",
    "conda create --name pf_riskcoring python numpy pandas matplotlib seaborn scikit-learn scipy sqlalchemy xgboost jupyter\n",
    "\n",
    "conda activate pf_riskcoring\n",
    "\n",
    "conda install -c conda-forge pyjanitor scikit-plot yellowbrick imbalanced-learn jupyter_contrib_nbextensions cloudpickle\n",
    "\n",
    "conda install -c districtdatalabs yellowbrick\n",
    "\n",
    "pip install category_encoders\n",
    "\n",
    "pip install streamlit-echarts\n",
    "\n",
    "pip install pipreqs\n",
    "\n",
    "conda env export > pf_riskscoring.yml\n",
    "```"
   ]
  },
  {
   "cell_type": "markdown",
   "id": "234469e4",
   "metadata": {},
   "source": [
    "## IMPORTING PACKAGES"
   ]
  },
  {
   "cell_type": "code",
   "execution_count": 21,
   "id": "18dab684",
   "metadata": {},
   "outputs": [],
   "source": [
    "import os\n",
    "import numpy as np\n",
    "import pandas as pd\n",
    "from janitor import clean_names\n",
    "\n",
    "#To Increase autocomplete response speed\n",
    "%config IPCompleter.greedy=True"
   ]
  },
  {
   "cell_type": "markdown",
   "id": "aa2291ac",
   "metadata": {},
   "source": [
    "## CREATING PROJECT DIRECTORY"
   ]
  },
  {
   "cell_type": "markdown",
   "id": "90cd2752",
   "metadata": {},
   "source": [
    "Defining root directory where the project is to be created:"
   ]
  },
  {
   "cell_type": "code",
   "execution_count": 15,
   "id": "ff896569",
   "metadata": {},
   "outputs": [],
   "source": [
    "root = (r'C:\\Users\\pedro\\PEDRO\\DS\\Portfolio').replace(os.sep,'/')"
   ]
  },
  {
   "cell_type": "markdown",
   "id": "d0486e55",
   "metadata": {},
   "source": [
    "Defining project name:"
   ]
  },
  {
   "cell_type": "code",
   "execution_count": 16,
   "id": "3b7dece1",
   "metadata": {},
   "outputs": [],
   "source": [
    "dir_name = 'RISK_SCORING'"
   ]
  },
  {
   "cell_type": "markdown",
   "id": "e98c881a",
   "metadata": {},
   "source": [
    "### Creating the project directory and structure"
   ]
  },
  {
   "cell_type": "code",
   "execution_count": 14,
   "id": "ea789940",
   "metadata": {},
   "outputs": [
    {
     "name": "stdout",
     "output_type": "stream",
     "text": [
      "C:/Users/pedro/PEDRO/DS/Portfolio/RISK_SCORING directory has been successfully created.\n"
     ]
    }
   ],
   "source": [
    "path = root + '/' + dir_name\n",
    "\n",
    "try:\n",
    "    os.mkdir(path)\n",
    "    os.mkdir(path + '/01_Documents')\n",
    "    os.mkdir(path + '/02_Data')\n",
    "    os.mkdir(path + '/02_Data/01_Originals')\n",
    "    os.mkdir(path + '/02_Data/02_Validation')\n",
    "    os.mkdir(path + '/02_Data/03_Work')\n",
    "    os.mkdir(path + '/02_Data/04_Caches')\n",
    "    os.mkdir(path + '/03_Notebooks')\n",
    "    os.mkdir(path + '/03_Notebooks/01_Functions')\n",
    "    os.mkdir(path + '/03_Notebooks/02_Development')\n",
    "    os.mkdir(path + '/03_Notebooks/03_System')\n",
    "    os.mkdir(path + '/04_Models')\n",
    "    os.mkdir(path + '/05_Results')\n",
    "    os.mkdir(path + '/09_Others')\n",
    "    \n",
    "except OSError:\n",
    "    print (\"Creation of the %s directory has failed.\" % path)\n",
    "else:\n",
    "    print (\"%s directory has been successfully created.\" % path)"
   ]
  },
  {
   "cell_type": "code",
   "execution_count": 17,
   "id": "6cf7027a",
   "metadata": {},
   "outputs": [],
   "source": [
    "os.chdir(path)"
   ]
  },
  {
   "cell_type": "markdown",
   "id": "03be6263",
   "metadata": {},
   "source": [
    "### Creating Environment.yml file"
   ]
  },
  {
   "cell_type": "markdown",
   "id": "4e766f89",
   "metadata": {},
   "source": [
    "**pf_riskscoring.yml** file can be found in '/01_Documents' folder of the project directory. \n",
    "\n",
    "This document contains the specific version of the packages used in the project, and can be used in the future to replicate this environment if needed."
   ]
  },
  {
   "cell_type": "markdown",
   "id": "eaae5ba8",
   "metadata": {},
   "source": [
    "## CREATING INITIAL DATASETS"
   ]
  },
  {
   "cell_type": "markdown",
   "id": "cc7657f8",
   "metadata": {},
   "source": [
    "The original dataset **Loans.csv** can be found in the folder '/02_Data/01_Originals'. This dataset has been acquired from [LendingClub](https://www.lendingclub.com/) official website. It provides information about past loan applicants."
   ]
  },
  {
   "cell_type": "markdown",
   "id": "7e6b4179",
   "metadata": {},
   "source": [
    "### Data importation"
   ]
  },
  {
   "cell_type": "markdown",
   "id": "a0aada6d",
   "metadata": {},
   "source": [
    "Data file name and full path:"
   ]
  },
  {
   "cell_type": "code",
   "execution_count": 18,
   "id": "a991faf3",
   "metadata": {},
   "outputs": [],
   "source": [
    "data_file_name = 'Loans.csv'\n",
    "full_path = path + '/02_Data/01_Originals/' + data_file_name"
   ]
  },
  {
   "cell_type": "markdown",
   "id": "f6047ce7",
   "metadata": {},
   "source": [
    "Brief review of the file content:"
   ]
  },
  {
   "cell_type": "code",
   "execution_count": 19,
   "id": "9c4a8ed6",
   "metadata": {},
   "outputs": [
    {
     "data": {
      "text/plain": [
       "['Client Id,Employment Title,Employment Length,Annual Income,Income Verification,Scoring,DTI,Home Ownership,Nº Mortages,Nº Credit Lines,% Credit Cards Exceeding 75%,Revolving utilization,Nº Cancellations 12 Months,Nº Derogations,Nº Months Since Last Derrog,Loan Id,Description,Purpose,Loan Amount,Interest Rate,Term,Installment,Amortised Amount,Status,Recovered Amount\\n',\n",
       " '137387967,Hvac technician ,3 years,54000.0,Source Verified,A,19.31,MORTGAGE,2.0,10.0,33.3,45.2,0.0,0.0,10.0,,,debt_consolidation,15000.0,7.21, 36 months,464.6,2669.06,Current,0.0\\n']"
      ]
     },
     "execution_count": 19,
     "metadata": {},
     "output_type": "execute_result"
    }
   ],
   "source": [
    "open(full_path,'r',encoding='utf-8').readlines()[:2]"
   ]
  },
  {
   "cell_type": "markdown",
   "id": "6f69525e",
   "metadata": {},
   "source": [
    "Data importation:"
   ]
  },
  {
   "cell_type": "code",
   "execution_count": 24,
   "id": "0af0f484",
   "metadata": {},
   "outputs": [
    {
     "data": {
      "text/html": [
       "<div>\n",
       "<style scoped>\n",
       "    .dataframe tbody tr th:only-of-type {\n",
       "        vertical-align: middle;\n",
       "    }\n",
       "\n",
       "    .dataframe tbody tr th {\n",
       "        vertical-align: top;\n",
       "    }\n",
       "\n",
       "    .dataframe thead th {\n",
       "        text-align: right;\n",
       "    }\n",
       "</style>\n",
       "<table border=\"1\" class=\"dataframe\">\n",
       "  <thead>\n",
       "    <tr style=\"text-align: right;\">\n",
       "      <th></th>\n",
       "      <th>Client Id</th>\n",
       "      <th>Employment Title</th>\n",
       "      <th>Employment Length</th>\n",
       "      <th>Annual Income</th>\n",
       "      <th>Income Verification</th>\n",
       "      <th>Scoring</th>\n",
       "      <th>DTI</th>\n",
       "      <th>Home Ownership</th>\n",
       "      <th>Nº Mortages</th>\n",
       "      <th>Nº Credit Lines</th>\n",
       "      <th>...</th>\n",
       "      <th>Loan Id</th>\n",
       "      <th>Description</th>\n",
       "      <th>Purpose</th>\n",
       "      <th>Loan Amount</th>\n",
       "      <th>Interest Rate</th>\n",
       "      <th>Term</th>\n",
       "      <th>Installment</th>\n",
       "      <th>Amortised Amount</th>\n",
       "      <th>Status</th>\n",
       "      <th>Recovered Amount</th>\n",
       "    </tr>\n",
       "  </thead>\n",
       "  <tbody>\n",
       "    <tr>\n",
       "      <th>0</th>\n",
       "      <td>137387967</td>\n",
       "      <td>Hvac technician</td>\n",
       "      <td>3 years</td>\n",
       "      <td>54000.0</td>\n",
       "      <td>Source Verified</td>\n",
       "      <td>A</td>\n",
       "      <td>19.31</td>\n",
       "      <td>MORTGAGE</td>\n",
       "      <td>2.0</td>\n",
       "      <td>10.0</td>\n",
       "      <td>...</td>\n",
       "      <td>NaN</td>\n",
       "      <td>NaN</td>\n",
       "      <td>debt_consolidation</td>\n",
       "      <td>15000.0</td>\n",
       "      <td>7.21</td>\n",
       "      <td>36 months</td>\n",
       "      <td>464.60</td>\n",
       "      <td>2669.06</td>\n",
       "      <td>Current</td>\n",
       "      <td>0.00</td>\n",
       "    </tr>\n",
       "    <tr>\n",
       "      <th>1</th>\n",
       "      <td>4798121</td>\n",
       "      <td>Target Promotions and Marketing,Inc</td>\n",
       "      <td>10+ years</td>\n",
       "      <td>65000.0</td>\n",
       "      <td>Not Verified</td>\n",
       "      <td>D</td>\n",
       "      <td>25.40</td>\n",
       "      <td>RENT</td>\n",
       "      <td>1.0</td>\n",
       "      <td>15.0</td>\n",
       "      <td>...</td>\n",
       "      <td>NaN</td>\n",
       "      <td>NaN</td>\n",
       "      <td>debt_consolidation</td>\n",
       "      <td>10000.0</td>\n",
       "      <td>17.77</td>\n",
       "      <td>36 months</td>\n",
       "      <td>360.38</td>\n",
       "      <td>6362.96</td>\n",
       "      <td>Charged Off</td>\n",
       "      <td>0.00</td>\n",
       "    </tr>\n",
       "    <tr>\n",
       "      <th>2</th>\n",
       "      <td>46641215</td>\n",
       "      <td>Banker</td>\n",
       "      <td>5 years</td>\n",
       "      <td>135000.0</td>\n",
       "      <td>Verified</td>\n",
       "      <td>A</td>\n",
       "      <td>14.68</td>\n",
       "      <td>RENT</td>\n",
       "      <td>0.0</td>\n",
       "      <td>19.0</td>\n",
       "      <td>...</td>\n",
       "      <td>NaN</td>\n",
       "      <td>NaN</td>\n",
       "      <td>debt_consolidation</td>\n",
       "      <td>24000.0</td>\n",
       "      <td>6.39</td>\n",
       "      <td>36 months</td>\n",
       "      <td>734.38</td>\n",
       "      <td>24000.00</td>\n",
       "      <td>Fully Paid</td>\n",
       "      <td>0.00</td>\n",
       "    </tr>\n",
       "    <tr>\n",
       "      <th>3</th>\n",
       "      <td>87998444</td>\n",
       "      <td>executive director</td>\n",
       "      <td>9 years</td>\n",
       "      <td>188000.0</td>\n",
       "      <td>Source Verified</td>\n",
       "      <td>B</td>\n",
       "      <td>11.69</td>\n",
       "      <td>MORTGAGE</td>\n",
       "      <td>3.0</td>\n",
       "      <td>15.0</td>\n",
       "      <td>...</td>\n",
       "      <td>NaN</td>\n",
       "      <td>NaN</td>\n",
       "      <td>credit_card</td>\n",
       "      <td>27000.0</td>\n",
       "      <td>8.99</td>\n",
       "      <td>60 months</td>\n",
       "      <td>560.35</td>\n",
       "      <td>12443.00</td>\n",
       "      <td>Current</td>\n",
       "      <td>0.00</td>\n",
       "    </tr>\n",
       "    <tr>\n",
       "      <th>4</th>\n",
       "      <td>132883631</td>\n",
       "      <td>Subsea Technician</td>\n",
       "      <td>7 years</td>\n",
       "      <td>125000.0</td>\n",
       "      <td>Source Verified</td>\n",
       "      <td>B</td>\n",
       "      <td>9.00</td>\n",
       "      <td>MORTGAGE</td>\n",
       "      <td>1.0</td>\n",
       "      <td>6.0</td>\n",
       "      <td>...</td>\n",
       "      <td>NaN</td>\n",
       "      <td>NaN</td>\n",
       "      <td>debt_consolidation</td>\n",
       "      <td>22000.0</td>\n",
       "      <td>10.90</td>\n",
       "      <td>36 months</td>\n",
       "      <td>719.22</td>\n",
       "      <td>22000.00</td>\n",
       "      <td>Fully Paid</td>\n",
       "      <td>0.00</td>\n",
       "    </tr>\n",
       "    <tr>\n",
       "      <th>...</th>\n",
       "      <td>...</td>\n",
       "      <td>...</td>\n",
       "      <td>...</td>\n",
       "      <td>...</td>\n",
       "      <td>...</td>\n",
       "      <td>...</td>\n",
       "      <td>...</td>\n",
       "      <td>...</td>\n",
       "      <td>...</td>\n",
       "      <td>...</td>\n",
       "      <td>...</td>\n",
       "      <td>...</td>\n",
       "      <td>...</td>\n",
       "      <td>...</td>\n",
       "      <td>...</td>\n",
       "      <td>...</td>\n",
       "      <td>...</td>\n",
       "      <td>...</td>\n",
       "      <td>...</td>\n",
       "      <td>...</td>\n",
       "      <td>...</td>\n",
       "    </tr>\n",
       "    <tr>\n",
       "      <th>199995</th>\n",
       "      <td>51876926</td>\n",
       "      <td>Office Manager</td>\n",
       "      <td>10+ years</td>\n",
       "      <td>42000.0</td>\n",
       "      <td>Not Verified</td>\n",
       "      <td>C</td>\n",
       "      <td>20.85</td>\n",
       "      <td>MORTGAGE</td>\n",
       "      <td>6.0</td>\n",
       "      <td>9.0</td>\n",
       "      <td>...</td>\n",
       "      <td>NaN</td>\n",
       "      <td>NaN</td>\n",
       "      <td>debt_consolidation</td>\n",
       "      <td>8000.0</td>\n",
       "      <td>12.29</td>\n",
       "      <td>36 months</td>\n",
       "      <td>266.83</td>\n",
       "      <td>8000.00</td>\n",
       "      <td>Fully Paid</td>\n",
       "      <td>0.00</td>\n",
       "    </tr>\n",
       "    <tr>\n",
       "      <th>199996</th>\n",
       "      <td>121031962</td>\n",
       "      <td>Owner &amp; President</td>\n",
       "      <td>6 years</td>\n",
       "      <td>111697.0</td>\n",
       "      <td>Verified</td>\n",
       "      <td>B</td>\n",
       "      <td>16.63</td>\n",
       "      <td>MORTGAGE</td>\n",
       "      <td>2.0</td>\n",
       "      <td>10.0</td>\n",
       "      <td>...</td>\n",
       "      <td>NaN</td>\n",
       "      <td>NaN</td>\n",
       "      <td>other</td>\n",
       "      <td>10000.0</td>\n",
       "      <td>9.44</td>\n",
       "      <td>36 months</td>\n",
       "      <td>320.05</td>\n",
       "      <td>4388.51</td>\n",
       "      <td>Current</td>\n",
       "      <td>0.00</td>\n",
       "    </tr>\n",
       "    <tr>\n",
       "      <th>199997</th>\n",
       "      <td>135641397</td>\n",
       "      <td>Sr. Field Engineer</td>\n",
       "      <td>10+ years</td>\n",
       "      <td>285000.0</td>\n",
       "      <td>Source Verified</td>\n",
       "      <td>D</td>\n",
       "      <td>6.02</td>\n",
       "      <td>MORTGAGE</td>\n",
       "      <td>3.0</td>\n",
       "      <td>9.0</td>\n",
       "      <td>...</td>\n",
       "      <td>NaN</td>\n",
       "      <td>NaN</td>\n",
       "      <td>small_business</td>\n",
       "      <td>30000.0</td>\n",
       "      <td>17.47</td>\n",
       "      <td>36 months</td>\n",
       "      <td>1076.62</td>\n",
       "      <td>5387.53</td>\n",
       "      <td>Current</td>\n",
       "      <td>0.00</td>\n",
       "    </tr>\n",
       "    <tr>\n",
       "      <th>199998</th>\n",
       "      <td>53664762</td>\n",
       "      <td>Attorney</td>\n",
       "      <td>8 years</td>\n",
       "      <td>168000.0</td>\n",
       "      <td>Source Verified</td>\n",
       "      <td>E</td>\n",
       "      <td>4.69</td>\n",
       "      <td>RENT</td>\n",
       "      <td>0.0</td>\n",
       "      <td>8.0</td>\n",
       "      <td>...</td>\n",
       "      <td>NaN</td>\n",
       "      <td>NaN</td>\n",
       "      <td>small_business</td>\n",
       "      <td>30050.0</td>\n",
       "      <td>18.25</td>\n",
       "      <td>60 months</td>\n",
       "      <td>767.17</td>\n",
       "      <td>2964.44</td>\n",
       "      <td>Charged Off</td>\n",
       "      <td>2750.88</td>\n",
       "    </tr>\n",
       "    <tr>\n",
       "      <th>199999</th>\n",
       "      <td>94394801</td>\n",
       "      <td>NaN</td>\n",
       "      <td>NaN</td>\n",
       "      <td>80000.0</td>\n",
       "      <td>Not Verified</td>\n",
       "      <td>C</td>\n",
       "      <td>31.49</td>\n",
       "      <td>MORTGAGE</td>\n",
       "      <td>1.0</td>\n",
       "      <td>9.0</td>\n",
       "      <td>...</td>\n",
       "      <td>NaN</td>\n",
       "      <td>NaN</td>\n",
       "      <td>debt_consolidation</td>\n",
       "      <td>10000.0</td>\n",
       "      <td>13.99</td>\n",
       "      <td>36 months</td>\n",
       "      <td>341.73</td>\n",
       "      <td>7096.40</td>\n",
       "      <td>Current</td>\n",
       "      <td>0.00</td>\n",
       "    </tr>\n",
       "  </tbody>\n",
       "</table>\n",
       "<p>200000 rows × 25 columns</p>\n",
       "</div>"
      ],
      "text/plain": [
       "        Client Id                     Employment Title Employment Length  \\\n",
       "0       137387967                     Hvac technician            3 years   \n",
       "1         4798121  Target Promotions and Marketing,Inc         10+ years   \n",
       "2        46641215                               Banker           5 years   \n",
       "3        87998444                   executive director           9 years   \n",
       "4       132883631                    Subsea Technician           7 years   \n",
       "...           ...                                  ...               ...   \n",
       "199995   51876926                       Office Manager         10+ years   \n",
       "199996  121031962                    Owner & President           6 years   \n",
       "199997  135641397                   Sr. Field Engineer         10+ years   \n",
       "199998   53664762                             Attorney           8 years   \n",
       "199999   94394801                                  NaN               NaN   \n",
       "\n",
       "        Annual Income Income Verification Scoring    DTI Home Ownership  \\\n",
       "0             54000.0     Source Verified       A  19.31       MORTGAGE   \n",
       "1             65000.0        Not Verified       D  25.40           RENT   \n",
       "2            135000.0            Verified       A  14.68           RENT   \n",
       "3            188000.0     Source Verified       B  11.69       MORTGAGE   \n",
       "4            125000.0     Source Verified       B   9.00       MORTGAGE   \n",
       "...               ...                 ...     ...    ...            ...   \n",
       "199995        42000.0        Not Verified       C  20.85       MORTGAGE   \n",
       "199996       111697.0            Verified       B  16.63       MORTGAGE   \n",
       "199997       285000.0     Source Verified       D   6.02       MORTGAGE   \n",
       "199998       168000.0     Source Verified       E   4.69           RENT   \n",
       "199999        80000.0        Not Verified       C  31.49       MORTGAGE   \n",
       "\n",
       "        Nº Mortages  Nº Credit Lines  ...  Loan Id  Description  \\\n",
       "0               2.0             10.0  ...      NaN          NaN   \n",
       "1               1.0             15.0  ...      NaN          NaN   \n",
       "2               0.0             19.0  ...      NaN          NaN   \n",
       "3               3.0             15.0  ...      NaN          NaN   \n",
       "4               1.0              6.0  ...      NaN          NaN   \n",
       "...             ...              ...  ...      ...          ...   \n",
       "199995          6.0              9.0  ...      NaN          NaN   \n",
       "199996          2.0             10.0  ...      NaN          NaN   \n",
       "199997          3.0              9.0  ...      NaN          NaN   \n",
       "199998          0.0              8.0  ...      NaN          NaN   \n",
       "199999          1.0              9.0  ...      NaN          NaN   \n",
       "\n",
       "                   Purpose  Loan Amount  Interest Rate        Term  \\\n",
       "0       debt_consolidation      15000.0           7.21   36 months   \n",
       "1       debt_consolidation      10000.0          17.77   36 months   \n",
       "2       debt_consolidation      24000.0           6.39   36 months   \n",
       "3              credit_card      27000.0           8.99   60 months   \n",
       "4       debt_consolidation      22000.0          10.90   36 months   \n",
       "...                    ...          ...            ...         ...   \n",
       "199995  debt_consolidation       8000.0          12.29   36 months   \n",
       "199996               other      10000.0           9.44   36 months   \n",
       "199997      small_business      30000.0          17.47   36 months   \n",
       "199998      small_business      30050.0          18.25   60 months   \n",
       "199999  debt_consolidation      10000.0          13.99   36 months   \n",
       "\n",
       "       Installment Amortised Amount       Status  Recovered Amount  \n",
       "0           464.60          2669.06      Current              0.00  \n",
       "1           360.38          6362.96  Charged Off              0.00  \n",
       "2           734.38         24000.00   Fully Paid              0.00  \n",
       "3           560.35         12443.00      Current              0.00  \n",
       "4           719.22         22000.00   Fully Paid              0.00  \n",
       "...            ...              ...          ...               ...  \n",
       "199995      266.83          8000.00   Fully Paid              0.00  \n",
       "199996      320.05          4388.51      Current              0.00  \n",
       "199997     1076.62          5387.53      Current              0.00  \n",
       "199998      767.17          2964.44  Charged Off           2750.88  \n",
       "199999      341.73          7096.40      Current              0.00  \n",
       "\n",
       "[200000 rows x 25 columns]"
      ]
     },
     "execution_count": 24,
     "metadata": {},
     "output_type": "execute_result"
    }
   ],
   "source": [
    "data = pd.read_csv(full_path)\n",
    "data"
   ]
  },
  {
   "cell_type": "markdown",
   "id": "a4fedb2a",
   "metadata": {},
   "source": [
    "### Extracting and reserving production script validation dataset"
   ]
  },
  {
   "cell_type": "markdown",
   "id": "f1ce1e98",
   "metadata": {},
   "source": [
    "30% of the data has been randomly separated, with the purpose of simulating unseen data that the model will receive in the future once it is put into production and thus be able to check its production performance."
   ]
  },
  {
   "cell_type": "code",
   "execution_count": 25,
   "id": "05d2c9b5",
   "metadata": {},
   "outputs": [],
   "source": [
    "val = data.sample(frac = 0.3)"
   ]
  },
  {
   "cell_type": "code",
   "execution_count": 26,
   "id": "db654eea",
   "metadata": {},
   "outputs": [],
   "source": [
    "validation_file_name = 'validation.csv'\n",
    "full_path = path + '/02_Data/02_Validation/' + validation_file_name\n",
    "\n",
    "val.to_csv(full_path,index=False)"
   ]
  },
  {
   "cell_type": "markdown",
   "id": "f84e120e",
   "metadata": {},
   "source": [
    "### Extracting and saving work dataset"
   ]
  },
  {
   "cell_type": "code",
   "execution_count": 27,
   "id": "e0ce153c",
   "metadata": {},
   "outputs": [],
   "source": [
    "work = data.loc[~data.index.isin(val.index)]"
   ]
  },
  {
   "cell_type": "code",
   "execution_count": 28,
   "id": "dbb79c5f",
   "metadata": {},
   "outputs": [],
   "source": [
    "work_file_name = 'work.csv'\n",
    "full_path = path + '/02_Data/03_Work/' + work_file_name\n",
    "\n",
    "work.to_csv(full_path,index=False)"
   ]
  }
 ],
 "metadata": {
  "kernelspec": {
   "display_name": "Python 3 (ipykernel)",
   "language": "python",
   "name": "python3"
  },
  "language_info": {
   "codemirror_mode": {
    "name": "ipython",
    "version": 3
   },
   "file_extension": ".py",
   "mimetype": "text/x-python",
   "name": "python",
   "nbconvert_exporter": "python",
   "pygments_lexer": "ipython3",
   "version": "3.9.12"
  },
  "latex_envs": {
   "LaTeX_envs_menu_present": true,
   "autoclose": false,
   "autocomplete": true,
   "bibliofile": "biblio.bib",
   "cite_by": "apalike",
   "current_citInitial": 1,
   "eqLabelWithNumbers": true,
   "eqNumInitial": 1,
   "hotkeys": {
    "equation": "Ctrl-E",
    "itemize": "Ctrl-I"
   },
   "labels_anchors": false,
   "latex_user_defs": false,
   "report_style_numbering": false,
   "user_envs_cfg": false
  },
  "toc": {
   "base_numbering": 1,
   "nav_menu": {},
   "number_sections": true,
   "sideBar": true,
   "skip_h1_title": false,
   "title_cell": "Table of Contents",
   "title_sidebar": "Contents",
   "toc_cell": false,
   "toc_position": {
    "height": "calc(100% - 180px)",
    "left": "10px",
    "top": "150px",
    "width": "208.9px"
   },
   "toc_section_display": true,
   "toc_window_display": true
  },
  "varInspector": {
   "cols": {
    "lenName": 16,
    "lenType": 16,
    "lenVar": 40
   },
   "kernels_config": {
    "python": {
     "delete_cmd_postfix": "",
     "delete_cmd_prefix": "del ",
     "library": "var_list.py",
     "varRefreshCmd": "print(var_dic_list())"
    },
    "r": {
     "delete_cmd_postfix": ") ",
     "delete_cmd_prefix": "rm(",
     "library": "var_list.r",
     "varRefreshCmd": "cat(var_dic_list()) "
    }
   },
   "types_to_exclude": [
    "module",
    "function",
    "builtin_function_or_method",
    "instance",
    "_Feature"
   ],
   "window_display": false
  }
 },
 "nbformat": 4,
 "nbformat_minor": 5
}
