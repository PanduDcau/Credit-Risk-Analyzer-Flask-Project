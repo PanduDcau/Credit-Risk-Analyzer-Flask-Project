{
 "cells": [
  {
   "cell_type": "markdown",
   "id": "d31dea65",
   "metadata": {},
   "source": [
    "# SUPERVISED CLASSIFICATION MODELLING: PROBABILITY OF DEFAULT"
   ]
  },
  {
   "cell_type": "markdown",
   "id": "444144f9",
   "metadata": {},
   "source": [
    "The purpose of this model will be to predict the probability that a given customer will default."
   ]
  },
  {
   "cell_type": "markdown",
   "id": "swiss-fault",
   "metadata": {},
   "source": [
    "## IMPORTING PACKAGES"
   ]
  },
  {
   "cell_type": "code",
   "execution_count": 1,
   "id": "adjacent-toddler",
   "metadata": {},
   "outputs": [],
   "source": [
    "import numpy as np\n",
    "import pandas as pd\n",
    "import matplotlib.pyplot as plt\n",
    "%matplotlib inline\n",
    "import seaborn as sns\n",
    "sns.set_style('whitegrid')\n",
    "\n",
    "from sklearn.model_selection import train_test_split\n",
    "from sklearn.linear_model import LogisticRegression\n",
    "from sklearn.pipeline import Pipeline\n",
    "from sklearn.model_selection import GridSearchCV\n",
    "from sklearn.metrics import roc_auc_score\n",
    "\n",
    "import scikitplot as skplt\n",
    "\n",
    "#To increase autocomplete response speed\n",
    "%config IPCompleter.greedy=True\n",
    "\n",
    "#Disabling warnings\n",
    "import warnings\n",
    "warnings.filterwarnings(\"ignore\")"
   ]
  },
  {
   "cell_type": "markdown",
   "id": "graduate-compensation",
   "metadata": {},
   "source": [
    "## DATA IMPORTATION"
   ]
  },
  {
   "cell_type": "markdown",
   "id": "3a5b94ef",
   "metadata": {},
   "source": [
    "Project path."
   ]
  },
  {
   "cell_type": "code",
   "execution_count": 2,
   "id": "f9d2de58",
   "metadata": {},
   "outputs": [],
   "source": [
    "project_path = '../..'"
   ]
  },
  {
   "cell_type": "markdown",
   "id": "c3363765",
   "metadata": {},
   "source": [
    "Names of data files."
   ]
  },
  {
   "cell_type": "code",
   "execution_count": 3,
   "id": "a9e2e04a",
   "metadata": {},
   "outputs": [],
   "source": [
    "df_name = 'df_input_pd.pickle'"
   ]
  },
  {
   "cell_type": "markdown",
   "id": "b9825018",
   "metadata": {},
   "source": [
    "Data importation."
   ]
  },
  {
   "cell_type": "code",
   "execution_count": 4,
   "id": "cab6ebcd",
   "metadata": {},
   "outputs": [],
   "source": [
    "df = pd.read_pickle(project_path + '/02_Data/03_Work/' + df_name)"
   ]
  },
  {
   "cell_type": "markdown",
   "id": "9790d322",
   "metadata": {},
   "source": [
    "## MODELLING"
   ]
  },
  {
   "cell_type": "markdown",
   "id": "82f41c07",
   "metadata": {},
   "source": [
    "As discussed in the design stage of the project, probability of default (PD) model will be based on the logistic regression algorithm. This section aims to find the optimal combination of hyperparameters."
   ]
  },
  {
   "cell_type": "markdown",
   "id": "04e1686e",
   "metadata": {},
   "source": [
    "### Feature correlations"
   ]
  },
  {
   "cell_type": "markdown",
   "id": "5f1eeb43",
   "metadata": {},
   "source": [
    "As one of the major assumptions of the logistic regression algorithm is the absence of multicollinearity among features, in this section, the existence of strong correlations will be checked."
   ]
  },
  {
   "cell_type": "code",
   "execution_count": 5,
   "id": "580c717e",
   "metadata": {},
   "outputs": [],
   "source": [
    "def corr_strong(dataframe, lower_lim=0.3, upper_lim=1, drop_duplicates=True):\n",
    "    c = dataframe.corr().unstack().to_frame().reset_index().rename(columns={'level_0':'var_0',\n",
    "                                                                            'level_1':'var_1',\n",
    "                                                                            0:'corr'})\n",
    "    c['corr_sign'] = np.where(c['corr']>=0,'+','-')\n",
    "    c['corr'] = c['corr'].transform(abs)\n",
    "    c = c.rename(columns={'corr':'corr_abs'})\n",
    "    \n",
    "    condition = (c['corr_abs']>lower_lim) & (c['corr_abs']<upper_lim)\n",
    "    c = c.loc[condition,:].sort_values(by='corr_abs',ascending=False)\n",
    "    \n",
    "    c = c if drop_duplicates==False else c.drop_duplicates(subset=['corr_abs'])\n",
    "    return(c)"
   ]
  },
  {
   "cell_type": "code",
   "execution_count": 6,
   "id": "891e0478",
   "metadata": {},
   "outputs": [
    {
     "data": {
      "text/plain": [
       "scoring_oe_mms                  3\n",
       "installment_qt_mms              2\n",
       "home_ownership_RENT             2\n",
       "n_mortages_qt_mms               2\n",
       "purpose_debt_consolidation      2\n",
       "revolving_utilization_qt_mms    1\n",
       "annual_income_qt_mms            1\n",
       "loan_amount_qt_mms              1\n",
       "interest_rate_qt_mms            1\n",
       "term_ 60 months                 1\n",
       "home_ownership_MORTGAGE         1\n",
       "dti_qt_mms                      1\n",
       "Name: var_1, dtype: int64"
      ]
     },
     "execution_count": 6,
     "metadata": {},
     "output_type": "execute_result"
    }
   ],
   "source": [
    "corr = corr_strong(df)\n",
    "corr.var_1.value_counts()"
   ]
  },
  {
   "cell_type": "code",
   "execution_count": 7,
   "id": "8b0d91b8",
   "metadata": {},
   "outputs": [
    {
     "data": {
      "text/html": [
       "<div>\n",
       "<style scoped>\n",
       "    .dataframe tbody tr th:only-of-type {\n",
       "        vertical-align: middle;\n",
       "    }\n",
       "\n",
       "    .dataframe tbody tr th {\n",
       "        vertical-align: top;\n",
       "    }\n",
       "\n",
       "    .dataframe thead th {\n",
       "        text-align: right;\n",
       "    }\n",
       "</style>\n",
       "<table border=\"1\" class=\"dataframe\">\n",
       "  <thead>\n",
       "    <tr style=\"text-align: right;\">\n",
       "      <th></th>\n",
       "      <th>var_0</th>\n",
       "      <th>var_1</th>\n",
       "      <th>corr_abs</th>\n",
       "      <th>corr_sign</th>\n",
       "    </tr>\n",
       "  </thead>\n",
       "  <tbody>\n",
       "    <tr>\n",
       "      <th>793</th>\n",
       "      <td>interest_rate_qt_mms</td>\n",
       "      <td>scoring_oe_mms</td>\n",
       "      <td>0.916059</td>\n",
       "      <td>+</td>\n",
       "    </tr>\n",
       "    <tr>\n",
       "      <th>830</th>\n",
       "      <td>loan_amount_qt_mms</td>\n",
       "      <td>installment_qt_mms</td>\n",
       "      <td>0.908304</td>\n",
       "      <td>+</td>\n",
       "    </tr>\n",
       "    <tr>\n",
       "      <th>66</th>\n",
       "      <td>home_ownership_MORTGAGE</td>\n",
       "      <td>home_ownership_RENT</td>\n",
       "      <td>0.798734</td>\n",
       "      <td>-</td>\n",
       "    </tr>\n",
       "    <tr>\n",
       "      <th>680</th>\n",
       "      <td>p_credit_cards_exceeding_75p_disc_te_pd_mms</td>\n",
       "      <td>revolving_utilization_qt_mms</td>\n",
       "      <td>0.629600</td>\n",
       "      <td>+</td>\n",
       "    </tr>\n",
       "    <tr>\n",
       "      <th>90</th>\n",
       "      <td>home_ownership_MORTGAGE</td>\n",
       "      <td>n_mortages_qt_mms</td>\n",
       "      <td>0.623418</td>\n",
       "      <td>+</td>\n",
       "    </tr>\n",
       "    <tr>\n",
       "      <th>193</th>\n",
       "      <td>purpose_credit_card</td>\n",
       "      <td>purpose_debt_consolidation</td>\n",
       "      <td>0.619206</td>\n",
       "      <td>-</td>\n",
       "    </tr>\n",
       "    <tr>\n",
       "      <th>872</th>\n",
       "      <td>n_mortages_qt_mms</td>\n",
       "      <td>home_ownership_RENT</td>\n",
       "      <td>0.597351</td>\n",
       "      <td>-</td>\n",
       "    </tr>\n",
       "    <tr>\n",
       "      <th>706</th>\n",
       "      <td>annual_income_qt_mms</td>\n",
       "      <td>installment_qt_mms</td>\n",
       "      <td>0.437392</td>\n",
       "      <td>+</td>\n",
       "    </tr>\n",
       "    <tr>\n",
       "      <th>828</th>\n",
       "      <td>loan_amount_qt_mms</td>\n",
       "      <td>annual_income_qt_mms</td>\n",
       "      <td>0.430018</td>\n",
       "      <td>+</td>\n",
       "    </tr>\n",
       "    <tr>\n",
       "      <th>18</th>\n",
       "      <td>term_ 36 months</td>\n",
       "      <td>scoring_oe_mms</td>\n",
       "      <td>0.379523</td>\n",
       "      <td>-</td>\n",
       "    </tr>\n",
       "    <tr>\n",
       "      <th>49</th>\n",
       "      <td>term_ 60 months</td>\n",
       "      <td>scoring_oe_mms</td>\n",
       "      <td>0.379523</td>\n",
       "      <td>+</td>\n",
       "    </tr>\n",
       "    <tr>\n",
       "      <th>57</th>\n",
       "      <td>term_ 60 months</td>\n",
       "      <td>loan_amount_qt_mms</td>\n",
       "      <td>0.369589</td>\n",
       "      <td>+</td>\n",
       "    </tr>\n",
       "    <tr>\n",
       "      <th>25</th>\n",
       "      <td>term_ 36 months</td>\n",
       "      <td>interest_rate_qt_mms</td>\n",
       "      <td>0.360009</td>\n",
       "      <td>-</td>\n",
       "    </tr>\n",
       "    <tr>\n",
       "      <th>776</th>\n",
       "      <td>interest_rate_qt_mms</td>\n",
       "      <td>term_ 60 months</td>\n",
       "      <td>0.360009</td>\n",
       "      <td>+</td>\n",
       "    </tr>\n",
       "    <tr>\n",
       "      <th>95</th>\n",
       "      <td>home_ownership_OWN</td>\n",
       "      <td>home_ownership_MORTGAGE</td>\n",
       "      <td>0.346724</td>\n",
       "      <td>-</td>\n",
       "    </tr>\n",
       "    <tr>\n",
       "      <th>860</th>\n",
       "      <td>n_credit_lines_qt_mms</td>\n",
       "      <td>dti_qt_mms</td>\n",
       "      <td>0.336907</td>\n",
       "      <td>+</td>\n",
       "    </tr>\n",
       "    <tr>\n",
       "      <th>710</th>\n",
       "      <td>annual_income_qt_mms</td>\n",
       "      <td>n_mortages_qt_mms</td>\n",
       "      <td>0.325585</td>\n",
       "      <td>+</td>\n",
       "    </tr>\n",
       "    <tr>\n",
       "      <th>255</th>\n",
       "      <td>purpose_home_improvement</td>\n",
       "      <td>purpose_debt_consolidation</td>\n",
       "      <td>0.303077</td>\n",
       "      <td>-</td>\n",
       "    </tr>\n",
       "  </tbody>\n",
       "</table>\n",
       "</div>"
      ],
      "text/plain": [
       "                                           var_0  \\\n",
       "793                         interest_rate_qt_mms   \n",
       "830                           loan_amount_qt_mms   \n",
       "66                       home_ownership_MORTGAGE   \n",
       "680  p_credit_cards_exceeding_75p_disc_te_pd_mms   \n",
       "90                       home_ownership_MORTGAGE   \n",
       "193                          purpose_credit_card   \n",
       "872                            n_mortages_qt_mms   \n",
       "706                         annual_income_qt_mms   \n",
       "828                           loan_amount_qt_mms   \n",
       "18                               term_ 36 months   \n",
       "49                               term_ 60 months   \n",
       "57                               term_ 60 months   \n",
       "25                               term_ 36 months   \n",
       "776                         interest_rate_qt_mms   \n",
       "95                            home_ownership_OWN   \n",
       "860                        n_credit_lines_qt_mms   \n",
       "710                         annual_income_qt_mms   \n",
       "255                     purpose_home_improvement   \n",
       "\n",
       "                            var_1  corr_abs corr_sign  \n",
       "793                scoring_oe_mms  0.916059         +  \n",
       "830            installment_qt_mms  0.908304         +  \n",
       "66            home_ownership_RENT  0.798734         -  \n",
       "680  revolving_utilization_qt_mms  0.629600         +  \n",
       "90              n_mortages_qt_mms  0.623418         +  \n",
       "193    purpose_debt_consolidation  0.619206         -  \n",
       "872           home_ownership_RENT  0.597351         -  \n",
       "706            installment_qt_mms  0.437392         +  \n",
       "828          annual_income_qt_mms  0.430018         +  \n",
       "18                 scoring_oe_mms  0.379523         -  \n",
       "49                 scoring_oe_mms  0.379523         +  \n",
       "57             loan_amount_qt_mms  0.369589         +  \n",
       "25           interest_rate_qt_mms  0.360009         -  \n",
       "776               term_ 60 months  0.360009         +  \n",
       "95        home_ownership_MORTGAGE  0.346724         -  \n",
       "860                    dti_qt_mms  0.336907         +  \n",
       "710             n_mortages_qt_mms  0.325585         +  \n",
       "255    purpose_debt_consolidation  0.303077         -  "
      ]
     },
     "execution_count": 7,
     "metadata": {},
     "output_type": "execute_result"
    }
   ],
   "source": [
    "corr"
   ]
  },
  {
   "cell_type": "markdown",
   "id": "7ef7300e",
   "metadata": {},
   "source": [
    "As already detected during the exploratory analysis phase, there is a high correlation between scoring and interest_rate features, as well as between loan amount and the monthly installments. After an iterative modelling process, it is found that the scoring and loan_amount features are more predictive than interest_rate and installment, so only the first two will be used in order to avoid these high correlations."
   ]
  },
  {
   "cell_type": "code",
   "execution_count": 8,
   "id": "5de25d34",
   "metadata": {},
   "outputs": [],
   "source": [
    "df.drop(columns=['interest_rate_qt_mms','installment_qt_mms'],inplace=True)"
   ]
  },
  {
   "cell_type": "code",
   "execution_count": 9,
   "id": "3ee016b3",
   "metadata": {},
   "outputs": [
    {
     "data": {
      "text/plain": [
       "home_ownership_RENT                            2\n",
       "home_ownership_MORTGAGE                        2\n",
       "purpose_debt_consolidation                     2\n",
       "p_credit_cards_exceeding_75p_disc_te_pd_mms    1\n",
       "annual_income_qt_mms                           1\n",
       "scoring_oe_mms                                 1\n",
       "term_ 60 months                                1\n",
       "loan_amount_qt_mms                             1\n",
       "n_credit_lines_qt_mms                          1\n",
       "n_mortages_qt_mms                              1\n",
       "Name: var_1, dtype: int64"
      ]
     },
     "execution_count": 9,
     "metadata": {},
     "output_type": "execute_result"
    }
   ],
   "source": [
    "corr = corr_strong(df)\n",
    "corr.var_1.value_counts()"
   ]
  },
  {
   "cell_type": "markdown",
   "id": "a235f92a",
   "metadata": {},
   "source": [
    "The remaining correlations are mainly due to the one hot encoding process. Lasso-regularised algorithm settings will preferably be selected to mitigate these effects."
   ]
  },
  {
   "cell_type": "markdown",
   "id": "930f685f",
   "metadata": {},
   "source": [
    "### Reserving validation dataset"
   ]
  },
  {
   "cell_type": "code",
   "execution_count": 10,
   "id": "8f52ff74",
   "metadata": {},
   "outputs": [],
   "source": [
    "x = df.drop(columns='target_pd')\n",
    "y = df.target_pd.copy()"
   ]
  },
  {
   "cell_type": "code",
   "execution_count": 11,
   "id": "84b6fd41",
   "metadata": {},
   "outputs": [],
   "source": [
    "train_x,val_x,train_y,val_y = train_test_split(x,y,test_size=0.3)"
   ]
  },
  {
   "cell_type": "markdown",
   "id": "53bd4ad6",
   "metadata": {},
   "source": [
    "### Creating the pipe and the dictionary of algorithms, parameters and values to be tested"
   ]
  },
  {
   "cell_type": "code",
   "execution_count": 12,
   "id": "3efa5c98",
   "metadata": {},
   "outputs": [],
   "source": [
    "pipe = Pipeline([('algorithm',LogisticRegression())])\n",
    "\n",
    "grid = [{'algorithm': [LogisticRegression(solver='saga', n_jobs=-1)],\n",
    "         'algorithm__penalty': ['elasticnet', 'l1', 'l2', 'none'],\n",
    "         'algorithm__C': np.arange(0,1.1,0.1)}]"
   ]
  },
  {
   "cell_type": "markdown",
   "id": "1f836ca9",
   "metadata": {},
   "source": [
    "### Hyperparameter optimization"
   ]
  },
  {
   "cell_type": "markdown",
   "id": "3d73daa9",
   "metadata": {},
   "source": [
    "#### Using grid search"
   ]
  },
  {
   "cell_type": "code",
   "execution_count": 13,
   "id": "4be08386",
   "metadata": {},
   "outputs": [
    {
     "name": "stdout",
     "output_type": "stream",
     "text": [
      "Fitting 10 folds for each of 44 candidates, totalling 440 fits\n"
     ]
    }
   ],
   "source": [
    "grid_search = GridSearchCV(estimator= pipe, \n",
    "                           param_grid = grid, \n",
    "                           cv = 10, \n",
    "                           scoring = 'roc_auc',\n",
    "                           verbose = 3,\n",
    "                           n_jobs = -1)\n",
    "\n",
    "model = grid_search.fit(train_x,train_y)"
   ]
  },
  {
   "cell_type": "code",
   "execution_count": 14,
   "id": "15d219df",
   "metadata": {
    "scrolled": false
   },
   "outputs": [
    {
     "data": {
      "text/html": [
       "<div>\n",
       "<style scoped>\n",
       "    .dataframe tbody tr th:only-of-type {\n",
       "        vertical-align: middle;\n",
       "    }\n",
       "\n",
       "    .dataframe tbody tr th {\n",
       "        vertical-align: top;\n",
       "    }\n",
       "\n",
       "    .dataframe thead th {\n",
       "        text-align: right;\n",
       "    }\n",
       "</style>\n",
       "<table border=\"1\" class=\"dataframe\">\n",
       "  <thead>\n",
       "    <tr style=\"text-align: right;\">\n",
       "      <th></th>\n",
       "      <th>param_algorithm__C</th>\n",
       "      <th>param_algorithm__penalty</th>\n",
       "      <th>mean_test_score</th>\n",
       "      <th>std_test_score</th>\n",
       "      <th>rank_test_score</th>\n",
       "    </tr>\n",
       "  </thead>\n",
       "  <tbody>\n",
       "    <tr>\n",
       "      <th>17</th>\n",
       "      <td>0.4</td>\n",
       "      <td>l1</td>\n",
       "      <td>0.700578</td>\n",
       "      <td>0.008637</td>\n",
       "      <td>1</td>\n",
       "    </tr>\n",
       "    <tr>\n",
       "      <th>21</th>\n",
       "      <td>0.5</td>\n",
       "      <td>l1</td>\n",
       "      <td>0.700576</td>\n",
       "      <td>0.008632</td>\n",
       "      <td>2</td>\n",
       "    </tr>\n",
       "    <tr>\n",
       "      <th>25</th>\n",
       "      <td>0.6</td>\n",
       "      <td>l1</td>\n",
       "      <td>0.700575</td>\n",
       "      <td>0.008626</td>\n",
       "      <td>3</td>\n",
       "    </tr>\n",
       "    <tr>\n",
       "      <th>13</th>\n",
       "      <td>0.3</td>\n",
       "      <td>l1</td>\n",
       "      <td>0.700575</td>\n",
       "      <td>0.008645</td>\n",
       "      <td>4</td>\n",
       "    </tr>\n",
       "    <tr>\n",
       "      <th>29</th>\n",
       "      <td>0.7</td>\n",
       "      <td>l1</td>\n",
       "      <td>0.700575</td>\n",
       "      <td>0.008623</td>\n",
       "      <td>5</td>\n",
       "    </tr>\n",
       "    <tr>\n",
       "      <th>33</th>\n",
       "      <td>0.8</td>\n",
       "      <td>l1</td>\n",
       "      <td>0.700572</td>\n",
       "      <td>0.008622</td>\n",
       "      <td>6</td>\n",
       "    </tr>\n",
       "    <tr>\n",
       "      <th>37</th>\n",
       "      <td>0.9</td>\n",
       "      <td>l1</td>\n",
       "      <td>0.700571</td>\n",
       "      <td>0.008621</td>\n",
       "      <td>7</td>\n",
       "    </tr>\n",
       "    <tr>\n",
       "      <th>41</th>\n",
       "      <td>1.0</td>\n",
       "      <td>l1</td>\n",
       "      <td>0.700567</td>\n",
       "      <td>0.008617</td>\n",
       "      <td>8</td>\n",
       "    </tr>\n",
       "    <tr>\n",
       "      <th>9</th>\n",
       "      <td>0.2</td>\n",
       "      <td>l1</td>\n",
       "      <td>0.700564</td>\n",
       "      <td>0.008673</td>\n",
       "      <td>9</td>\n",
       "    </tr>\n",
       "    <tr>\n",
       "      <th>26</th>\n",
       "      <td>0.6</td>\n",
       "      <td>l2</td>\n",
       "      <td>0.700552</td>\n",
       "      <td>0.008630</td>\n",
       "      <td>10</td>\n",
       "    </tr>\n",
       "    <tr>\n",
       "      <th>30</th>\n",
       "      <td>0.7</td>\n",
       "      <td>l2</td>\n",
       "      <td>0.700552</td>\n",
       "      <td>0.008626</td>\n",
       "      <td>11</td>\n",
       "    </tr>\n",
       "    <tr>\n",
       "      <th>38</th>\n",
       "      <td>0.9</td>\n",
       "      <td>l2</td>\n",
       "      <td>0.700551</td>\n",
       "      <td>0.008623</td>\n",
       "      <td>12</td>\n",
       "    </tr>\n",
       "    <tr>\n",
       "      <th>42</th>\n",
       "      <td>1.0</td>\n",
       "      <td>l2</td>\n",
       "      <td>0.700551</td>\n",
       "      <td>0.008622</td>\n",
       "      <td>13</td>\n",
       "    </tr>\n",
       "    <tr>\n",
       "      <th>34</th>\n",
       "      <td>0.8</td>\n",
       "      <td>l2</td>\n",
       "      <td>0.700551</td>\n",
       "      <td>0.008626</td>\n",
       "      <td>14</td>\n",
       "    </tr>\n",
       "    <tr>\n",
       "      <th>22</th>\n",
       "      <td>0.5</td>\n",
       "      <td>l2</td>\n",
       "      <td>0.700550</td>\n",
       "      <td>0.008631</td>\n",
       "      <td>15</td>\n",
       "    </tr>\n",
       "    <tr>\n",
       "      <th>19</th>\n",
       "      <td>0.4</td>\n",
       "      <td>none</td>\n",
       "      <td>0.700549</td>\n",
       "      <td>0.008608</td>\n",
       "      <td>16</td>\n",
       "    </tr>\n",
       "    <tr>\n",
       "      <th>11</th>\n",
       "      <td>0.2</td>\n",
       "      <td>none</td>\n",
       "      <td>0.700548</td>\n",
       "      <td>0.008608</td>\n",
       "      <td>17</td>\n",
       "    </tr>\n",
       "    <tr>\n",
       "      <th>35</th>\n",
       "      <td>0.8</td>\n",
       "      <td>none</td>\n",
       "      <td>0.700548</td>\n",
       "      <td>0.008608</td>\n",
       "      <td>18</td>\n",
       "    </tr>\n",
       "    <tr>\n",
       "      <th>7</th>\n",
       "      <td>0.1</td>\n",
       "      <td>none</td>\n",
       "      <td>0.700548</td>\n",
       "      <td>0.008609</td>\n",
       "      <td>19</td>\n",
       "    </tr>\n",
       "    <tr>\n",
       "      <th>39</th>\n",
       "      <td>0.9</td>\n",
       "      <td>none</td>\n",
       "      <td>0.700547</td>\n",
       "      <td>0.008609</td>\n",
       "      <td>20</td>\n",
       "    </tr>\n",
       "    <tr>\n",
       "      <th>23</th>\n",
       "      <td>0.5</td>\n",
       "      <td>none</td>\n",
       "      <td>0.700547</td>\n",
       "      <td>0.008608</td>\n",
       "      <td>21</td>\n",
       "    </tr>\n",
       "    <tr>\n",
       "      <th>15</th>\n",
       "      <td>0.3</td>\n",
       "      <td>none</td>\n",
       "      <td>0.700547</td>\n",
       "      <td>0.008609</td>\n",
       "      <td>22</td>\n",
       "    </tr>\n",
       "    <tr>\n",
       "      <th>27</th>\n",
       "      <td>0.6</td>\n",
       "      <td>none</td>\n",
       "      <td>0.700547</td>\n",
       "      <td>0.008608</td>\n",
       "      <td>23</td>\n",
       "    </tr>\n",
       "    <tr>\n",
       "      <th>31</th>\n",
       "      <td>0.7</td>\n",
       "      <td>none</td>\n",
       "      <td>0.700547</td>\n",
       "      <td>0.008608</td>\n",
       "      <td>24</td>\n",
       "    </tr>\n",
       "    <tr>\n",
       "      <th>43</th>\n",
       "      <td>1.0</td>\n",
       "      <td>none</td>\n",
       "      <td>0.700547</td>\n",
       "      <td>0.008608</td>\n",
       "      <td>25</td>\n",
       "    </tr>\n",
       "    <tr>\n",
       "      <th>3</th>\n",
       "      <td>0.0</td>\n",
       "      <td>none</td>\n",
       "      <td>0.700546</td>\n",
       "      <td>0.008609</td>\n",
       "      <td>26</td>\n",
       "    </tr>\n",
       "    <tr>\n",
       "      <th>18</th>\n",
       "      <td>0.4</td>\n",
       "      <td>l2</td>\n",
       "      <td>0.700546</td>\n",
       "      <td>0.008638</td>\n",
       "      <td>27</td>\n",
       "    </tr>\n",
       "    <tr>\n",
       "      <th>14</th>\n",
       "      <td>0.3</td>\n",
       "      <td>l2</td>\n",
       "      <td>0.700541</td>\n",
       "      <td>0.008643</td>\n",
       "      <td>28</td>\n",
       "    </tr>\n",
       "    <tr>\n",
       "      <th>5</th>\n",
       "      <td>0.1</td>\n",
       "      <td>l1</td>\n",
       "      <td>0.700524</td>\n",
       "      <td>0.008761</td>\n",
       "      <td>29</td>\n",
       "    </tr>\n",
       "    <tr>\n",
       "      <th>10</th>\n",
       "      <td>0.2</td>\n",
       "      <td>l2</td>\n",
       "      <td>0.700521</td>\n",
       "      <td>0.008657</td>\n",
       "      <td>30</td>\n",
       "    </tr>\n",
       "    <tr>\n",
       "      <th>6</th>\n",
       "      <td>0.1</td>\n",
       "      <td>l2</td>\n",
       "      <td>0.700426</td>\n",
       "      <td>0.008677</td>\n",
       "      <td>31</td>\n",
       "    </tr>\n",
       "    <tr>\n",
       "      <th>1</th>\n",
       "      <td>0.0</td>\n",
       "      <td>l1</td>\n",
       "      <td>0.500000</td>\n",
       "      <td>0.000000</td>\n",
       "      <td>32</td>\n",
       "    </tr>\n",
       "    <tr>\n",
       "      <th>40</th>\n",
       "      <td>1.0</td>\n",
       "      <td>elasticnet</td>\n",
       "      <td>NaN</td>\n",
       "      <td>NaN</td>\n",
       "      <td>33</td>\n",
       "    </tr>\n",
       "    <tr>\n",
       "      <th>2</th>\n",
       "      <td>0.0</td>\n",
       "      <td>l2</td>\n",
       "      <td>NaN</td>\n",
       "      <td>NaN</td>\n",
       "      <td>34</td>\n",
       "    </tr>\n",
       "    <tr>\n",
       "      <th>4</th>\n",
       "      <td>0.1</td>\n",
       "      <td>elasticnet</td>\n",
       "      <td>NaN</td>\n",
       "      <td>NaN</td>\n",
       "      <td>35</td>\n",
       "    </tr>\n",
       "    <tr>\n",
       "      <th>36</th>\n",
       "      <td>0.9</td>\n",
       "      <td>elasticnet</td>\n",
       "      <td>NaN</td>\n",
       "      <td>NaN</td>\n",
       "      <td>36</td>\n",
       "    </tr>\n",
       "    <tr>\n",
       "      <th>20</th>\n",
       "      <td>0.5</td>\n",
       "      <td>elasticnet</td>\n",
       "      <td>NaN</td>\n",
       "      <td>NaN</td>\n",
       "      <td>37</td>\n",
       "    </tr>\n",
       "    <tr>\n",
       "      <th>8</th>\n",
       "      <td>0.2</td>\n",
       "      <td>elasticnet</td>\n",
       "      <td>NaN</td>\n",
       "      <td>NaN</td>\n",
       "      <td>38</td>\n",
       "    </tr>\n",
       "    <tr>\n",
       "      <th>32</th>\n",
       "      <td>0.8</td>\n",
       "      <td>elasticnet</td>\n",
       "      <td>NaN</td>\n",
       "      <td>NaN</td>\n",
       "      <td>39</td>\n",
       "    </tr>\n",
       "    <tr>\n",
       "      <th>12</th>\n",
       "      <td>0.3</td>\n",
       "      <td>elasticnet</td>\n",
       "      <td>NaN</td>\n",
       "      <td>NaN</td>\n",
       "      <td>40</td>\n",
       "    </tr>\n",
       "    <tr>\n",
       "      <th>28</th>\n",
       "      <td>0.7</td>\n",
       "      <td>elasticnet</td>\n",
       "      <td>NaN</td>\n",
       "      <td>NaN</td>\n",
       "      <td>41</td>\n",
       "    </tr>\n",
       "    <tr>\n",
       "      <th>16</th>\n",
       "      <td>0.4</td>\n",
       "      <td>elasticnet</td>\n",
       "      <td>NaN</td>\n",
       "      <td>NaN</td>\n",
       "      <td>42</td>\n",
       "    </tr>\n",
       "    <tr>\n",
       "      <th>24</th>\n",
       "      <td>0.6</td>\n",
       "      <td>elasticnet</td>\n",
       "      <td>NaN</td>\n",
       "      <td>NaN</td>\n",
       "      <td>43</td>\n",
       "    </tr>\n",
       "    <tr>\n",
       "      <th>0</th>\n",
       "      <td>0.0</td>\n",
       "      <td>elasticnet</td>\n",
       "      <td>NaN</td>\n",
       "      <td>NaN</td>\n",
       "      <td>44</td>\n",
       "    </tr>\n",
       "  </tbody>\n",
       "</table>\n",
       "</div>"
      ],
      "text/plain": [
       "   param_algorithm__C param_algorithm__penalty  mean_test_score  \\\n",
       "17                0.4                       l1         0.700578   \n",
       "21                0.5                       l1         0.700576   \n",
       "25                0.6                       l1         0.700575   \n",
       "13                0.3                       l1         0.700575   \n",
       "29                0.7                       l1         0.700575   \n",
       "33                0.8                       l1         0.700572   \n",
       "37                0.9                       l1         0.700571   \n",
       "41                1.0                       l1         0.700567   \n",
       "9                 0.2                       l1         0.700564   \n",
       "26                0.6                       l2         0.700552   \n",
       "30                0.7                       l2         0.700552   \n",
       "38                0.9                       l2         0.700551   \n",
       "42                1.0                       l2         0.700551   \n",
       "34                0.8                       l2         0.700551   \n",
       "22                0.5                       l2         0.700550   \n",
       "19                0.4                     none         0.700549   \n",
       "11                0.2                     none         0.700548   \n",
       "35                0.8                     none         0.700548   \n",
       "7                 0.1                     none         0.700548   \n",
       "39                0.9                     none         0.700547   \n",
       "23                0.5                     none         0.700547   \n",
       "15                0.3                     none         0.700547   \n",
       "27                0.6                     none         0.700547   \n",
       "31                0.7                     none         0.700547   \n",
       "43                1.0                     none         0.700547   \n",
       "3                 0.0                     none         0.700546   \n",
       "18                0.4                       l2         0.700546   \n",
       "14                0.3                       l2         0.700541   \n",
       "5                 0.1                       l1         0.700524   \n",
       "10                0.2                       l2         0.700521   \n",
       "6                 0.1                       l2         0.700426   \n",
       "1                 0.0                       l1         0.500000   \n",
       "40                1.0               elasticnet              NaN   \n",
       "2                 0.0                       l2              NaN   \n",
       "4                 0.1               elasticnet              NaN   \n",
       "36                0.9               elasticnet              NaN   \n",
       "20                0.5               elasticnet              NaN   \n",
       "8                 0.2               elasticnet              NaN   \n",
       "32                0.8               elasticnet              NaN   \n",
       "12                0.3               elasticnet              NaN   \n",
       "28                0.7               elasticnet              NaN   \n",
       "16                0.4               elasticnet              NaN   \n",
       "24                0.6               elasticnet              NaN   \n",
       "0                 0.0               elasticnet              NaN   \n",
       "\n",
       "    std_test_score  rank_test_score  \n",
       "17        0.008637                1  \n",
       "21        0.008632                2  \n",
       "25        0.008626                3  \n",
       "13        0.008645                4  \n",
       "29        0.008623                5  \n",
       "33        0.008622                6  \n",
       "37        0.008621                7  \n",
       "41        0.008617                8  \n",
       "9         0.008673                9  \n",
       "26        0.008630               10  \n",
       "30        0.008626               11  \n",
       "38        0.008623               12  \n",
       "42        0.008622               13  \n",
       "34        0.008626               14  \n",
       "22        0.008631               15  \n",
       "19        0.008608               16  \n",
       "11        0.008608               17  \n",
       "35        0.008608               18  \n",
       "7         0.008609               19  \n",
       "39        0.008609               20  \n",
       "23        0.008608               21  \n",
       "15        0.008609               22  \n",
       "27        0.008608               23  \n",
       "31        0.008608               24  \n",
       "43        0.008608               25  \n",
       "3         0.008609               26  \n",
       "18        0.008638               27  \n",
       "14        0.008643               28  \n",
       "5         0.008761               29  \n",
       "10        0.008657               30  \n",
       "6         0.008677               31  \n",
       "1         0.000000               32  \n",
       "40             NaN               33  \n",
       "2              NaN               34  \n",
       "4              NaN               35  \n",
       "36             NaN               36  \n",
       "20             NaN               37  \n",
       "8              NaN               38  \n",
       "32             NaN               39  \n",
       "12             NaN               40  \n",
       "28             NaN               41  \n",
       "16             NaN               42  \n",
       "24             NaN               43  \n",
       "0              NaN               44  "
      ]
     },
     "execution_count": 14,
     "metadata": {},
     "output_type": "execute_result"
    }
   ],
   "source": [
    "pd.DataFrame(grid_search.cv_results_)[['param_algorithm__C','param_algorithm__penalty','mean_test_score','std_test_score',\n",
    "                                       'rank_test_score']].sort_values(by = 'rank_test_score')"
   ]
  },
  {
   "cell_type": "code",
   "execution_count": 15,
   "id": "7916f1b7",
   "metadata": {},
   "outputs": [
    {
     "data": {
      "text/plain": [
       "Pipeline(steps=[('algorithm',\n",
       "                 LogisticRegression(C=0.4, n_jobs=-1, penalty='l1',\n",
       "                                    solver='saga'))])"
      ]
     },
     "execution_count": 15,
     "metadata": {},
     "output_type": "execute_result"
    }
   ],
   "source": [
    "model.best_estimator_"
   ]
  },
  {
   "cell_type": "markdown",
   "id": "f765803c",
   "metadata": {},
   "source": [
    "The best parameterisation found corresponds to a logistic regression with lasso regularisation, C=1."
   ]
  },
  {
   "cell_type": "code",
   "execution_count": 16,
   "id": "bf388e3c",
   "metadata": {},
   "outputs": [
    {
     "data": {
      "text/plain": [
       "LogisticRegression(C=0.4, n_jobs=-1, penalty='l1', solver='saga')"
      ]
     },
     "execution_count": 16,
     "metadata": {},
     "output_type": "execute_result"
    }
   ],
   "source": [
    "lr = LogisticRegression(n_jobs=-1, C=0.4, penalty='l1', solver='saga')\n",
    "lr.fit(train_x,train_y)"
   ]
  },
  {
   "cell_type": "markdown",
   "id": "fd6f59ab",
   "metadata": {},
   "source": [
    "## MODEL EVALUATION"
   ]
  },
  {
   "cell_type": "markdown",
   "id": "90ac986a",
   "metadata": {},
   "source": [
    "Predicting on test dataset:"
   ]
  },
  {
   "cell_type": "code",
   "execution_count": 17,
   "id": "ca079478",
   "metadata": {},
   "outputs": [],
   "source": [
    "pred = lr.predict_proba(val_x)[:, 1]"
   ]
  },
  {
   "cell_type": "markdown",
   "id": "fe9fb9a1",
   "metadata": {},
   "source": [
    "Evaluating on test dataset:"
   ]
  },
  {
   "cell_type": "code",
   "execution_count": 18,
   "id": "f249d6b8",
   "metadata": {},
   "outputs": [
    {
     "data": {
      "text/plain": [
       "0.7014653202202464"
      ]
     },
     "execution_count": 18,
     "metadata": {},
     "output_type": "execute_result"
    }
   ],
   "source": [
    "roc_auc_score(val_y, pred)"
   ]
  },
  {
   "cell_type": "markdown",
   "id": "acd7e88c",
   "metadata": {},
   "source": [
    "Feature importances:"
   ]
  },
  {
   "cell_type": "code",
   "execution_count": 19,
   "id": "865429c3",
   "metadata": {},
   "outputs": [
    {
     "data": {
      "image/png": "[encoded data removed]",
      "text/plain": [
       "<Figure size 1152x720 with 1 Axes>"
      ]
     },
     "metadata": {},
     "output_type": "display_data"
    }
   ],
   "source": [
    "f,ax = plt.subplots(figsize=(16,10))\n",
    "\n",
    "sns.barplot(data=pd.DataFrame(data=lr.coef_,\n",
    "             columns=lr.feature_names_in_).T.reset_index() \\\n",
    "                       .rename(columns={'index':'feature',0:'coef'}).sort_values(by='coef',ascending=False),\n",
    "            x='coef', y='feature',\n",
    "            palette='viridis')\n",
    "plt.title(label='Logistic Regression model - feature importances',fontsize=15, fontweight='bold');\n",
    "plt.xlabel('Coef.',fontsize=14)\n",
    "plt.ylabel('Features',fontsize=14)\n",
    "plt.xticks(fontsize=13)\n",
    "plt.yticks(fontsize=13);"
   ]
  },
  {
   "cell_type": "markdown",
   "id": "f2848960",
   "metadata": {},
   "source": [
    "## MODEL REPORTING"
   ]
  },
  {
   "cell_type": "markdown",
   "id": "e25e2c94",
   "metadata": {},
   "source": [
    "### Gain Chart"
   ]
  },
  {
   "cell_type": "code",
   "execution_count": 37,
   "id": "2e63ef9d",
   "metadata": {},
   "outputs": [
    {
     "data": {
      "image/png": "[encoded data removed]",
      "text/plain": [
       "<Figure size 576x396 with 1 Axes>"
      ]
     },
     "metadata": {},
     "output_type": "display_data"
    }
   ],
   "source": [
    "fig, ax = plt.subplots()\n",
    "\n",
    "skplt.metrics.plot_cumulative_gain(val_y, model.best_estimator_.predict_proba(val_x), ax=ax) \n",
    "\n",
    "#Removing the zeroes class line class and personalising the legend\n",
    "del ax.lines[0] \n",
    "plt.gca().get_lines()[0].set_color(\"darkblue\")\n",
    "plt.legend(labels = ['Linear Regression Model','Random']);"
   ]
  },
  {
   "cell_type": "markdown",
   "id": "148a74a7",
   "metadata": {},
   "source": [
    "### Lift Chart"
   ]
  },
  {
   "cell_type": "code",
   "execution_count": 38,
   "id": "32e69974",
   "metadata": {},
   "outputs": [
    {
     "data": {
      "image/png": "[encoded data removed]",
      "text/plain": [
       "<Figure size 576x396 with 1 Axes>"
      ]
     },
     "metadata": {},
     "output_type": "display_data"
    }
   ],
   "source": [
    "fig, ax = plt.subplots()\n",
    "\n",
    "skplt.metrics.plot_lift_curve(val_y, model.best_estimator_.predict_proba(val_x), ax=ax) \n",
    "\n",
    "#Removing the zeroes class line class and personalising the legend\n",
    "del ax.lines[0]    \n",
    "plt.gca().get_lines()[0].set_color(\"darkblue\")\n",
    "plt.legend(labels = ['Linear Regression Model','Random']);"
   ]
  },
  {
   "cell_type": "markdown",
   "id": "b0f64e40",
   "metadata": {},
   "source": [
    "### ROC Chart"
   ]
  },
  {
   "cell_type": "code",
   "execution_count": 40,
   "id": "a0f575cf",
   "metadata": {},
   "outputs": [
    {
     "data": {
      "image/png": "[encoded data removed]",
      "text/plain": [
       "<Figure size 576x396 with 1 Axes>"
      ]
     },
     "metadata": {},
     "output_type": "display_data"
    }
   ],
   "source": [
    "fig, ax = plt.subplots()\n",
    "\n",
    "skplt.metrics.plot_roc(val_y, lr.predict_proba(val_x), ax=ax,\n",
    "                       plot_micro=False,\n",
    "                       plot_macro=False,\n",
    "                       classes_to_plot=1)\n",
    "plt.gca().get_lines()[0].set_color(\"darkblue\")\n",
    "plt.legend(labels = ['Linear Regression Model - ROC curve of class 1 (area=0.70)','Random']);"
   ]
  }
 ],
 "metadata": {
  "kernelspec": {
   "display_name": "Python 3 (ipykernel)",
   "language": "python",
   "name": "python3"
  },
  "language_info": {
   "codemirror_mode": {
    "name": "ipython",
    "version": 3
   },
   "file_extension": ".py",
   "mimetype": "text/x-python",
   "name": "python",
   "nbconvert_exporter": "python",
   "pygments_lexer": "ipython3",
   "version": "3.9.5"
  },
  "latex_envs": {
   "LaTeX_envs_menu_present": true,
   "autoclose": false,
   "autocomplete": true,
   "bibliofile": "biblio.bib",
   "cite_by": "apalike",
   "current_citInitial": 1,
   "eqLabelWithNumbers": true,
   "eqNumInitial": 1,
   "hotkeys": {
    "equation": "Ctrl-E",
    "itemize": "Ctrl-I"
   },
   "labels_anchors": false,
   "latex_user_defs": false,
   "report_style_numbering": false,
   "user_envs_cfg": false
  },
  "toc": {
   "base_numbering": 1,
   "nav_menu": {},
   "number_sections": true,
   "sideBar": true,
   "skip_h1_title": false,
   "title_cell": "Table of Contents",
   "title_sidebar": "Contents",
   "toc_cell": false,
   "toc_position": {
    "height": "calc(100% - 180px)",
    "left": "10px",
    "top": "150px",
    "width": "253.95px"
   },
   "toc_section_display": true,
   "toc_window_display": true
  },
  "varInspector": {
   "cols": {
    "lenName": 16,
    "lenType": 16,
    "lenVar": 40
   },
   "kernels_config": {
    "python": {
     "delete_cmd_postfix": "",
     "delete_cmd_prefix": "del ",
     "library": "var_list.py",
     "varRefreshCmd": "print(var_dic_list())"
    },
    "r": {
     "delete_cmd_postfix": ") ",
     "delete_cmd_prefix": "rm(",
     "library": "var_list.r",
     "varRefreshCmd": "cat(var_dic_list()) "
    }
   },
   "position": {
    "height": "546.85px",
    "left": "1531.75px",
    "right": "20px",
    "top": "115px",
    "width": "350px"
   },
   "types_to_exclude": [
    "module",
    "function",
    "builtin_function_or_method",
    "instance",
    "_Feature"
   ],
   "window_display": false
  }
 },
 "nbformat": 4,
 "nbformat_minor": 5
}
