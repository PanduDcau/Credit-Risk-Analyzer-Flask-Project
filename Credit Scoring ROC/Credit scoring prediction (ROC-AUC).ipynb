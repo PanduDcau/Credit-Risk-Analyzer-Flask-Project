{
 "cells": [
  {
   "cell_type": "code",
   "execution_count": 1,
   "id": "40ce9339",
   "metadata": {
    "_cell_guid": "b1076dfc-b9ad-4769-8c92-a6c4dae69d19",
    "_uuid": "8f2839f25d086af736a60e9eeb907d3b93b6e0e5",
    "execution": {
     "iopub.execute_input": "2022-02-06T00:17:56.282979Z",
     "iopub.status.busy": "2022-02-06T00:17:56.279306Z",
     "iopub.status.idle": "2022-02-06T00:17:57.609131Z",
     "shell.execute_reply": "2022-02-06T00:17:57.609738Z",
     "shell.execute_reply.started": "2022-02-05T23:03:16.180201Z"
    },
    "papermill": {
     "duration": 1.386089,
     "end_time": "2022-02-06T00:17:57.610044",
     "exception": false,
     "start_time": "2022-02-06T00:17:56.223955",
     "status": "completed"
    },
    "tags": []
   },
   "outputs": [
    {
     "name": "stdout",
     "output_type": "stream",
     "text": [
      "/kaggle/input/credit-card-approval-prediction/credit_record.csv\n",
      "/kaggle/input/credit-card-approval-prediction/application_record.csv\n"
     ]
    }
   ],
   "source": [
    "import numpy as np \n",
    "import pandas as pd \n",
    "from sklearn.preprocessing import StandardScaler\n",
    "from sklearn.neighbors import KNeighborsClassifier\n",
    "from sklearn.ensemble import GradientBoostingClassifier\n",
    "from sklearn.linear_model import LogisticRegression\n",
    "from sklearn.tree import DecisionTreeClassifier\n",
    "from sklearn.ensemble import RandomForestClassifier\n",
    "from sklearn.pipeline import Pipeline\n",
    "\n",
    "import matplotlib.pyplot as plt\n",
    "import os\n",
    "import seaborn as sns\n",
    "\n",
    "for dirname, _, filenames in os.walk('/kaggle/input'):\n",
    "    for filename in filenames:\n",
    "        print(os.path.join(dirname, filename))"
   ]
  },
  {
   "cell_type": "code",
   "execution_count": 2,
   "id": "0e2cd424",
   "metadata": {
    "execution": {
     "iopub.execute_input": "2022-02-06T00:17:57.709181Z",
     "iopub.status.busy": "2022-02-06T00:17:57.708555Z",
     "iopub.status.idle": "2022-02-06T00:18:00.121939Z",
     "shell.execute_reply": "2022-02-06T00:18:00.121253Z",
     "shell.execute_reply.started": "2022-02-05T23:03:16.196531Z"
    },
    "papermill": {
     "duration": 2.465001,
     "end_time": "2022-02-06T00:18:00.122082",
     "exception": false,
     "start_time": "2022-02-06T00:17:57.657081",
     "status": "completed"
    },
    "tags": []
   },
   "outputs": [],
   "source": [
    "CreditRecord = pd.read_csv('/kaggle/input/credit-card-approval-prediction/credit_record.csv')\n",
    "appRecord = pd.read_csv('/kaggle/input/credit-card-approval-prediction/application_record.csv')"
   ]
  },
  {
   "cell_type": "markdown",
   "id": "60023adb",
   "metadata": {
    "papermill": {
     "duration": 0.046269,
     "end_time": "2022-02-06T00:18:00.215629",
     "exception": false,
     "start_time": "2022-02-06T00:18:00.169360",
     "status": "completed"
    },
    "tags": []
   },
   "source": [
    "### Data exploration"
   ]
  },
  {
   "cell_type": "code",
   "execution_count": 3,
   "id": "104c66eb",
   "metadata": {
    "execution": {
     "iopub.execute_input": "2022-02-06T00:18:00.313799Z",
     "iopub.status.busy": "2022-02-06T00:18:00.313080Z",
     "iopub.status.idle": "2022-02-06T00:18:00.316682Z",
     "shell.execute_reply": "2022-02-06T00:18:00.317130Z",
     "shell.execute_reply.started": "2022-02-05T23:03:17.322976Z"
    },
    "papermill": {
     "duration": 0.055257,
     "end_time": "2022-02-06T00:18:00.317313",
     "exception": false,
     "start_time": "2022-02-06T00:18:00.262056",
     "status": "completed"
    },
    "tags": []
   },
   "outputs": [
    {
     "name": "stdout",
     "output_type": "stream",
     "text": [
      "(1048575, 3) (438557, 18)\n"
     ]
    }
   ],
   "source": [
    "print(CreditRecord.shape, appRecord.shape)"
   ]
  },
  {
   "cell_type": "code",
   "execution_count": 4,
   "id": "2a302c81",
   "metadata": {
    "execution": {
     "iopub.execute_input": "2022-02-06T00:18:00.419260Z",
     "iopub.status.busy": "2022-02-06T00:18:00.418276Z",
     "iopub.status.idle": "2022-02-06T00:18:00.428393Z",
     "shell.execute_reply": "2022-02-06T00:18:00.428982Z",
     "shell.execute_reply.started": "2022-02-05T23:03:17.331519Z"
    },
    "papermill": {
     "duration": 0.065267,
     "end_time": "2022-02-06T00:18:00.429146",
     "exception": false,
     "start_time": "2022-02-06T00:18:00.363879",
     "status": "completed"
    },
    "tags": []
   },
   "outputs": [
    {
     "data": {
      "text/html": [
       "<div>\n",
       "<style scoped>\n",
       "    .dataframe tbody tr th:only-of-type {\n",
       "        vertical-align: middle;\n",
       "    }\n",
       "\n",
       "    .dataframe tbody tr th {\n",
       "        vertical-align: top;\n",
       "    }\n",
       "\n",
       "    .dataframe thead th {\n",
       "        text-align: right;\n",
       "    }\n",
       "</style>\n",
       "<table border=\"1\" class=\"dataframe\">\n",
       "  <thead>\n",
       "    <tr style=\"text-align: right;\">\n",
       "      <th></th>\n",
       "      <th>ID</th>\n",
       "      <th>MONTHS_BALANCE</th>\n",
       "      <th>STATUS</th>\n",
       "    </tr>\n",
       "  </thead>\n",
       "  <tbody>\n",
       "    <tr>\n",
       "      <th>0</th>\n",
       "      <td>5001711</td>\n",
       "      <td>0</td>\n",
       "      <td>X</td>\n",
       "    </tr>\n",
       "    <tr>\n",
       "      <th>1</th>\n",
       "      <td>5001711</td>\n",
       "      <td>-1</td>\n",
       "      <td>0</td>\n",
       "    </tr>\n",
       "    <tr>\n",
       "      <th>2</th>\n",
       "      <td>5001711</td>\n",
       "      <td>-2</td>\n",
       "      <td>0</td>\n",
       "    </tr>\n",
       "    <tr>\n",
       "      <th>3</th>\n",
       "      <td>5001711</td>\n",
       "      <td>-3</td>\n",
       "      <td>0</td>\n",
       "    </tr>\n",
       "    <tr>\n",
       "      <th>4</th>\n",
       "      <td>5001712</td>\n",
       "      <td>0</td>\n",
       "      <td>C</td>\n",
       "    </tr>\n",
       "  </tbody>\n",
       "</table>\n",
       "</div>"
      ],
      "text/plain": [
       "        ID  MONTHS_BALANCE STATUS\n",
       "0  5001711               0      X\n",
       "1  5001711              -1      0\n",
       "2  5001711              -2      0\n",
       "3  5001711              -3      0\n",
       "4  5001712               0      C"
      ]
     },
     "execution_count": 4,
     "metadata": {},
     "output_type": "execute_result"
    }
   ],
   "source": [
    "CreditRecord.head(5)"
   ]
  },
  {
   "cell_type": "code",
   "execution_count": 5,
   "id": "5ae2a93a",
   "metadata": {
    "execution": {
     "iopub.execute_input": "2022-02-06T00:18:00.526977Z",
     "iopub.status.busy": "2022-02-06T00:18:00.526355Z",
     "iopub.status.idle": "2022-02-06T00:18:00.545307Z",
     "shell.execute_reply": "2022-02-06T00:18:00.545786Z",
     "shell.execute_reply.started": "2022-02-05T23:03:17.355419Z"
    },
    "papermill": {
     "duration": 0.069389,
     "end_time": "2022-02-06T00:18:00.545961",
     "exception": false,
     "start_time": "2022-02-06T00:18:00.476572",
     "status": "completed"
    },
    "tags": []
   },
   "outputs": [
    {
     "data": {
      "text/plain": [
       "-1     34436\n",
       "-2     34209\n",
       " 0     33856\n",
       "-3     33854\n",
       "-4     33365\n",
       "       ...  \n",
       "-56     2109\n",
       "-57     1649\n",
       "-58     1255\n",
       "-59      820\n",
       "-60      415\n",
       "Name: MONTHS_BALANCE, Length: 61, dtype: int64"
      ]
     },
     "execution_count": 5,
     "metadata": {},
     "output_type": "execute_result"
    }
   ],
   "source": [
    "CreditRecord['MONTHS_BALANCE'].value_counts()"
   ]
  },
  {
   "cell_type": "code",
   "execution_count": 6,
   "id": "9c60ad1d",
   "metadata": {
    "execution": {
     "iopub.execute_input": "2022-02-06T00:18:00.644139Z",
     "iopub.status.busy": "2022-02-06T00:18:00.643536Z",
     "iopub.status.idle": "2022-02-06T00:18:00.662401Z",
     "shell.execute_reply": "2022-02-06T00:18:00.662840Z",
     "shell.execute_reply.started": "2022-02-05T23:03:17.374758Z"
    },
    "papermill": {
     "duration": 0.069643,
     "end_time": "2022-02-06T00:18:00.663018",
     "exception": false,
     "start_time": "2022-02-06T00:18:00.593375",
     "status": "completed"
    },
    "tags": []
   },
   "outputs": [
    {
     "data": {
      "text/html": [
       "<div>\n",
       "<style scoped>\n",
       "    .dataframe tbody tr th:only-of-type {\n",
       "        vertical-align: middle;\n",
       "    }\n",
       "\n",
       "    .dataframe tbody tr th {\n",
       "        vertical-align: top;\n",
       "    }\n",
       "\n",
       "    .dataframe thead th {\n",
       "        text-align: right;\n",
       "    }\n",
       "</style>\n",
       "<table border=\"1\" class=\"dataframe\">\n",
       "  <thead>\n",
       "    <tr style=\"text-align: right;\">\n",
       "      <th></th>\n",
       "      <th>ID</th>\n",
       "      <th>CODE_GENDER</th>\n",
       "      <th>FLAG_OWN_CAR</th>\n",
       "      <th>FLAG_OWN_REALTY</th>\n",
       "      <th>CNT_CHILDREN</th>\n",
       "      <th>AMT_INCOME_TOTAL</th>\n",
       "      <th>NAME_INCOME_TYPE</th>\n",
       "      <th>NAME_EDUCATION_TYPE</th>\n",
       "      <th>NAME_FAMILY_STATUS</th>\n",
       "      <th>NAME_HOUSING_TYPE</th>\n",
       "      <th>DAYS_BIRTH</th>\n",
       "      <th>DAYS_EMPLOYED</th>\n",
       "      <th>FLAG_MOBIL</th>\n",
       "      <th>FLAG_WORK_PHONE</th>\n",
       "      <th>FLAG_PHONE</th>\n",
       "      <th>FLAG_EMAIL</th>\n",
       "      <th>OCCUPATION_TYPE</th>\n",
       "      <th>CNT_FAM_MEMBERS</th>\n",
       "    </tr>\n",
       "  </thead>\n",
       "  <tbody>\n",
       "    <tr>\n",
       "      <th>0</th>\n",
       "      <td>5008804</td>\n",
       "      <td>M</td>\n",
       "      <td>Y</td>\n",
       "      <td>Y</td>\n",
       "      <td>0</td>\n",
       "      <td>427500.0</td>\n",
       "      <td>Working</td>\n",
       "      <td>Higher education</td>\n",
       "      <td>Civil marriage</td>\n",
       "      <td>Rented apartment</td>\n",
       "      <td>-12005</td>\n",
       "      <td>-4542</td>\n",
       "      <td>1</td>\n",
       "      <td>1</td>\n",
       "      <td>0</td>\n",
       "      <td>0</td>\n",
       "      <td>NaN</td>\n",
       "      <td>2.0</td>\n",
       "    </tr>\n",
       "    <tr>\n",
       "      <th>1</th>\n",
       "      <td>5008805</td>\n",
       "      <td>M</td>\n",
       "      <td>Y</td>\n",
       "      <td>Y</td>\n",
       "      <td>0</td>\n",
       "      <td>427500.0</td>\n",
       "      <td>Working</td>\n",
       "      <td>Higher education</td>\n",
       "      <td>Civil marriage</td>\n",
       "      <td>Rented apartment</td>\n",
       "      <td>-12005</td>\n",
       "      <td>-4542</td>\n",
       "      <td>1</td>\n",
       "      <td>1</td>\n",
       "      <td>0</td>\n",
       "      <td>0</td>\n",
       "      <td>NaN</td>\n",
       "      <td>2.0</td>\n",
       "    </tr>\n",
       "    <tr>\n",
       "      <th>2</th>\n",
       "      <td>5008806</td>\n",
       "      <td>M</td>\n",
       "      <td>Y</td>\n",
       "      <td>Y</td>\n",
       "      <td>0</td>\n",
       "      <td>112500.0</td>\n",
       "      <td>Working</td>\n",
       "      <td>Secondary / secondary special</td>\n",
       "      <td>Married</td>\n",
       "      <td>House / apartment</td>\n",
       "      <td>-21474</td>\n",
       "      <td>-1134</td>\n",
       "      <td>1</td>\n",
       "      <td>0</td>\n",
       "      <td>0</td>\n",
       "      <td>0</td>\n",
       "      <td>Security staff</td>\n",
       "      <td>2.0</td>\n",
       "    </tr>\n",
       "    <tr>\n",
       "      <th>3</th>\n",
       "      <td>5008808</td>\n",
       "      <td>F</td>\n",
       "      <td>N</td>\n",
       "      <td>Y</td>\n",
       "      <td>0</td>\n",
       "      <td>270000.0</td>\n",
       "      <td>Commercial associate</td>\n",
       "      <td>Secondary / secondary special</td>\n",
       "      <td>Single / not married</td>\n",
       "      <td>House / apartment</td>\n",
       "      <td>-19110</td>\n",
       "      <td>-3051</td>\n",
       "      <td>1</td>\n",
       "      <td>0</td>\n",
       "      <td>1</td>\n",
       "      <td>1</td>\n",
       "      <td>Sales staff</td>\n",
       "      <td>1.0</td>\n",
       "    </tr>\n",
       "    <tr>\n",
       "      <th>4</th>\n",
       "      <td>5008809</td>\n",
       "      <td>F</td>\n",
       "      <td>N</td>\n",
       "      <td>Y</td>\n",
       "      <td>0</td>\n",
       "      <td>270000.0</td>\n",
       "      <td>Commercial associate</td>\n",
       "      <td>Secondary / secondary special</td>\n",
       "      <td>Single / not married</td>\n",
       "      <td>House / apartment</td>\n",
       "      <td>-19110</td>\n",
       "      <td>-3051</td>\n",
       "      <td>1</td>\n",
       "      <td>0</td>\n",
       "      <td>1</td>\n",
       "      <td>1</td>\n",
       "      <td>Sales staff</td>\n",
       "      <td>1.0</td>\n",
       "    </tr>\n",
       "  </tbody>\n",
       "</table>\n",
       "</div>"
      ],
      "text/plain": [
       "        ID CODE_GENDER FLAG_OWN_CAR FLAG_OWN_REALTY  CNT_CHILDREN  \\\n",
       "0  5008804           M            Y               Y             0   \n",
       "1  5008805           M            Y               Y             0   \n",
       "2  5008806           M            Y               Y             0   \n",
       "3  5008808           F            N               Y             0   \n",
       "4  5008809           F            N               Y             0   \n",
       "\n",
       "   AMT_INCOME_TOTAL      NAME_INCOME_TYPE            NAME_EDUCATION_TYPE  \\\n",
       "0          427500.0               Working               Higher education   \n",
       "1          427500.0               Working               Higher education   \n",
       "2          112500.0               Working  Secondary / secondary special   \n",
       "3          270000.0  Commercial associate  Secondary / secondary special   \n",
       "4          270000.0  Commercial associate  Secondary / secondary special   \n",
       "\n",
       "     NAME_FAMILY_STATUS  NAME_HOUSING_TYPE  DAYS_BIRTH  DAYS_EMPLOYED  \\\n",
       "0        Civil marriage   Rented apartment      -12005          -4542   \n",
       "1        Civil marriage   Rented apartment      -12005          -4542   \n",
       "2               Married  House / apartment      -21474          -1134   \n",
       "3  Single / not married  House / apartment      -19110          -3051   \n",
       "4  Single / not married  House / apartment      -19110          -3051   \n",
       "\n",
       "   FLAG_MOBIL  FLAG_WORK_PHONE  FLAG_PHONE  FLAG_EMAIL OCCUPATION_TYPE  \\\n",
       "0           1                1           0           0             NaN   \n",
       "1           1                1           0           0             NaN   \n",
       "2           1                0           0           0  Security staff   \n",
       "3           1                0           1           1     Sales staff   \n",
       "4           1                0           1           1     Sales staff   \n",
       "\n",
       "   CNT_FAM_MEMBERS  \n",
       "0              2.0  \n",
       "1              2.0  \n",
       "2              2.0  \n",
       "3              1.0  \n",
       "4              1.0  "
      ]
     },
     "execution_count": 6,
     "metadata": {},
     "output_type": "execute_result"
    }
   ],
   "source": [
    "appRecord.head(5)"
   ]
  },
  {
   "cell_type": "code",
   "execution_count": 7,
   "id": "88f7ae51",
   "metadata": {
    "execution": {
     "iopub.execute_input": "2022-02-06T00:18:00.763384Z",
     "iopub.status.busy": "2022-02-06T00:18:00.762742Z",
     "iopub.status.idle": "2022-02-06T00:18:01.116221Z",
     "shell.execute_reply": "2022-02-06T00:18:01.115639Z",
     "shell.execute_reply.started": "2022-02-05T23:03:17.395578Z"
    },
    "papermill": {
     "duration": 0.404192,
     "end_time": "2022-02-06T00:18:01.116370",
     "exception": false,
     "start_time": "2022-02-06T00:18:00.712178",
     "status": "completed"
    },
    "tags": []
   },
   "outputs": [
    {
     "name": "stdout",
     "output_type": "stream",
     "text": [
      "[5008804 5008805 5008806 ... 6841878 6842765 6842885]\n",
      "['M' 'F']\n",
      "['Y' 'N']\n",
      "['Y' 'N']\n",
      "[ 0  1  3  2  4  5 14 19  7  9 12  6]\n",
      "['Working' 'Commercial associate' 'Pensioner' 'State servant' 'Student']\n",
      "['Higher education' 'Secondary / secondary special' 'Incomplete higher'\n",
      " 'Lower secondary' 'Academic degree']\n",
      "['Civil marriage' 'Married' 'Single / not married' 'Separated' 'Widow']\n",
      "['Rented apartment' 'House / apartment' 'Municipal apartment'\n",
      " 'With parents' 'Co-op apartment' 'Office apartment']\n",
      "[-12005 -21474 -19110 ...  -8169  -9738 -22257]\n",
      "[-4542 -1134 -3051 ... -8300 -9020 -4884]\n",
      "[1]\n",
      "[1 0]\n",
      "[0 1]\n",
      "[0 1]\n",
      "[nan 'Security staff' 'Sales staff' 'Accountants' 'Laborers' 'Managers'\n",
      " 'Drivers' 'Core staff' 'High skill tech staff' 'Cleaning staff'\n",
      " 'Private service staff' 'Cooking staff' 'Low-skill Laborers'\n",
      " 'Medicine staff' 'Secretaries' 'Waiters/barmen staff' 'HR staff'\n",
      " 'Realty agents' 'IT staff']\n",
      "[ 2.  1.  5.  3.  4.  6. 15.  7. 20.  9. 11. 14.  8.]\n"
     ]
    }
   ],
   "source": [
    "for column in appRecord.columns:\n",
    "    if column != 'AMT_INCOME_TOTAL':\n",
    "        print(pd.unique(appRecord[column]))"
   ]
  },
  {
   "cell_type": "code",
   "execution_count": 8,
   "id": "492e2c3e",
   "metadata": {
    "execution": {
     "iopub.execute_input": "2022-02-06T00:18:01.341377Z",
     "iopub.status.busy": "2022-02-06T00:18:01.340444Z",
     "iopub.status.idle": "2022-02-06T00:18:01.343707Z",
     "shell.execute_reply": "2022-02-06T00:18:01.344134Z",
     "shell.execute_reply.started": "2022-02-05T23:03:17.667738Z"
    },
    "papermill": {
     "duration": 0.177189,
     "end_time": "2022-02-06T00:18:01.344346",
     "exception": false,
     "start_time": "2022-02-06T00:18:01.167157",
     "status": "completed"
    },
    "tags": []
   },
   "outputs": [
    {
     "data": {
      "text/plain": [
       "C    442031\n",
       "0    383120\n",
       "X    209230\n",
       "1     11090\n",
       "5      1693\n",
       "2       868\n",
       "3       320\n",
       "4       223\n",
       "Name: STATUS, dtype: int64"
      ]
     },
     "execution_count": 8,
     "metadata": {},
     "output_type": "execute_result"
    }
   ],
   "source": [
    "CreditRecord['STATUS'].value_counts()"
   ]
  },
  {
   "cell_type": "code",
   "execution_count": 9,
   "id": "49a22f56",
   "metadata": {
    "execution": {
     "iopub.execute_input": "2022-02-06T00:18:01.447258Z",
     "iopub.status.busy": "2022-02-06T00:18:01.445866Z",
     "iopub.status.idle": "2022-02-06T00:18:01.832138Z",
     "shell.execute_reply": "2022-02-06T00:18:01.831624Z",
     "shell.execute_reply.started": "2022-02-05T23:03:17.720107Z"
    },
    "papermill": {
     "duration": 0.438433,
     "end_time": "2022-02-06T00:18:01.832302",
     "exception": false,
     "start_time": "2022-02-06T00:18:01.393869",
     "status": "completed"
    },
    "tags": []
   },
   "outputs": [
    {
     "data": {
      "text/plain": [
       "ID                          0\n",
       "CODE_GENDER                 0\n",
       "FLAG_OWN_CAR                0\n",
       "FLAG_OWN_REALTY             0\n",
       "CNT_CHILDREN                0\n",
       "AMT_INCOME_TOTAL            0\n",
       "NAME_INCOME_TYPE            0\n",
       "NAME_EDUCATION_TYPE         0\n",
       "NAME_FAMILY_STATUS          0\n",
       "NAME_HOUSING_TYPE           0\n",
       "DAYS_BIRTH                  0\n",
       "DAYS_EMPLOYED               0\n",
       "FLAG_MOBIL                  0\n",
       "FLAG_WORK_PHONE             0\n",
       "FLAG_PHONE                  0\n",
       "FLAG_EMAIL                  0\n",
       "OCCUPATION_TYPE        134203\n",
       "CNT_FAM_MEMBERS             0\n",
       "dtype: int64"
      ]
     },
     "execution_count": 9,
     "metadata": {},
     "output_type": "execute_result"
    }
   ],
   "source": [
    "appRecord.isna().sum()"
   ]
  },
  {
   "cell_type": "code",
   "execution_count": 10,
   "id": "9ddb795d",
   "metadata": {
    "execution": {
     "iopub.execute_input": "2022-02-06T00:18:02.050960Z",
     "iopub.status.busy": "2022-02-06T00:18:02.050253Z",
     "iopub.status.idle": "2022-02-06T00:18:03.075028Z",
     "shell.execute_reply": "2022-02-06T00:18:03.074506Z",
     "shell.execute_reply.started": "2022-02-05T23:03:17.899628Z"
    },
    "papermill": {
     "duration": 1.193345,
     "end_time": "2022-02-06T00:18:03.075182",
     "exception": false,
     "start_time": "2022-02-06T00:18:01.881837",
     "status": "completed"
    },
    "tags": []
   },
   "outputs": [
    {
     "data": {
      "text/plain": [
       "<AxesSubplot:xlabel='STATUS', ylabel='MONTHS_BALANCE'>"
      ]
     },
     "execution_count": 10,
     "metadata": {},
     "output_type": "execute_result"
    },
    {
     "data": {
      "image/png": "[encoded data removed]",
      "text/plain": [
       "<Figure size 720x504 with 1 Axes>"
      ]
     },
     "metadata": {
      "needs_background": "light"
     },
     "output_type": "display_data"
    }
   ],
   "source": [
    "plt.figure(figsize=(10, 7))\n",
    "sns.boxplot(x=CreditRecord['STATUS'], y=CreditRecord['MONTHS_BALANCE'])"
   ]
  },
  {
   "cell_type": "code",
   "execution_count": 11,
   "id": "4e021e87",
   "metadata": {
    "execution": {
     "iopub.execute_input": "2022-02-06T00:18:03.218255Z",
     "iopub.status.busy": "2022-02-06T00:18:03.217163Z",
     "iopub.status.idle": "2022-02-06T00:18:03.540065Z",
     "shell.execute_reply": "2022-02-06T00:18:03.539570Z",
     "shell.execute_reply.started": "2022-02-05T23:03:18.657284Z"
    },
    "papermill": {
     "duration": 0.414166,
     "end_time": "2022-02-06T00:18:03.540204",
     "exception": false,
     "start_time": "2022-02-06T00:18:03.126038",
     "status": "completed"
    },
    "tags": []
   },
   "outputs": [
    {
     "data": {
      "image/png": "[encoded data removed]",
      "text/plain": [
       "<Figure size 864x432 with 2 Axes>"
      ]
     },
     "metadata": {
      "needs_background": "light"
     },
     "output_type": "display_data"
    }
   ],
   "source": [
    "fig = plt.figure(figsize=(5, 3))\n",
    "\n",
    "ax_1 = fig.add_subplot(1, 1, 1)\n",
    "ax_2 = fig.add_subplot(1, 2, 2)\n",
    "\n",
    "ax_1.hist(appRecord['FLAG_EMAIL'])\n",
    "ax_1.set_title(\"Flag Email\")\n",
    "\n",
    "ax_2.hist(appRecord['FLAG_WORK_PHONE'])\n",
    "ax_2.set_title(\"Flag Work Phone\")\n",
    "fig.set_size_inches(12,6)\n",
    "plt.show()"
   ]
  },
  {
   "cell_type": "markdown",
   "id": "46a19e9f",
   "metadata": {
    "papermill": {
     "duration": 0.051016,
     "end_time": "2022-02-06T00:18:03.642878",
     "exception": false,
     "start_time": "2022-02-06T00:18:03.591862",
     "status": "completed"
    },
    "tags": []
   },
   "source": [
    "### Data preprocessing"
   ]
  },
  {
   "cell_type": "code",
   "execution_count": 12,
   "id": "1f8ac52c",
   "metadata": {
    "execution": {
     "iopub.execute_input": "2022-02-06T00:18:03.752341Z",
     "iopub.status.busy": "2022-02-06T00:18:03.751649Z",
     "iopub.status.idle": "2022-02-06T00:18:04.144317Z",
     "shell.execute_reply": "2022-02-06T00:18:04.145135Z",
     "shell.execute_reply.started": "2022-02-05T23:03:19.013290Z"
    },
    "papermill": {
     "duration": 0.450578,
     "end_time": "2022-02-06T00:18:04.145393",
     "exception": false,
     "start_time": "2022-02-06T00:18:03.694815",
     "status": "completed"
    },
    "tags": []
   },
   "outputs": [
    {
     "name": "stdout",
     "output_type": "stream",
     "text": [
      "<class 'pandas.core.frame.DataFrame'>\n",
      "RangeIndex: 438557 entries, 0 to 438556\n",
      "Data columns (total 18 columns):\n",
      " #   Column               Non-Null Count   Dtype  \n",
      "---  ------               --------------   -----  \n",
      " 0   ID                   438557 non-null  int64  \n",
      " 1   CODE_GENDER          438557 non-null  object \n",
      " 2   FLAG_OWN_CAR         438557 non-null  object \n",
      " 3   FLAG_OWN_REALTY      438557 non-null  object \n",
      " 4   CNT_CHILDREN         438557 non-null  int64  \n",
      " 5   AMT_INCOME_TOTAL     438557 non-null  float64\n",
      " 6   NAME_INCOME_TYPE     438557 non-null  object \n",
      " 7   NAME_EDUCATION_TYPE  438557 non-null  object \n",
      " 8   NAME_FAMILY_STATUS   438557 non-null  object \n",
      " 9   NAME_HOUSING_TYPE    438557 non-null  object \n",
      " 10  DAYS_BIRTH           438557 non-null  int64  \n",
      " 11  DAYS_EMPLOYED        438557 non-null  int64  \n",
      " 12  FLAG_MOBIL           438557 non-null  int64  \n",
      " 13  FLAG_WORK_PHONE      438557 non-null  int64  \n",
      " 14  FLAG_PHONE           438557 non-null  int64  \n",
      " 15  FLAG_EMAIL           438557 non-null  int64  \n",
      " 16  OCCUPATION_TYPE      304354 non-null  object \n",
      " 17  CNT_FAM_MEMBERS      438557 non-null  float64\n",
      "dtypes: float64(2), int64(8), object(8)\n",
      "memory usage: 60.2+ MB\n"
     ]
    }
   ],
   "source": [
    "appRecord.info()"
   ]
  },
  {
   "cell_type": "code",
   "execution_count": 13,
   "id": "43b25eda",
   "metadata": {
    "execution": {
     "iopub.execute_input": "2022-02-06T00:18:04.258538Z",
     "iopub.status.busy": "2022-02-06T00:18:04.257702Z",
     "iopub.status.idle": "2022-02-06T00:18:05.354371Z",
     "shell.execute_reply": "2022-02-06T00:18:05.353742Z",
     "shell.execute_reply.started": "2022-02-05T23:03:19.193755Z"
    },
    "papermill": {
     "duration": 1.155035,
     "end_time": "2022-02-06T00:18:05.354537",
     "exception": false,
     "start_time": "2022-02-06T00:18:04.199502",
     "status": "completed"
    },
    "tags": []
   },
   "outputs": [],
   "source": [
    "from sklearn.preprocessing import LabelEncoder\n",
    "from sklearn.impute import SimpleImputer\n",
    "\n",
    "objectColumns = [\"CODE_GENDER\", \"FLAG_OWN_CAR\", \"FLAG_OWN_REALTY\", \"NAME_INCOME_TYPE\", \"NAME_EDUCATION_TYPE\", \"NAME_FAMILY_STATUS\", \"NAME_HOUSING_TYPE\"]\n",
    "for objColumn in objectColumns:\n",
    "    label = LabelEncoder()\n",
    "    appRecord[objColumn] = label.fit_transform(appRecord[objColumn].values)"
   ]
  },
  {
   "cell_type": "code",
   "execution_count": 14,
   "id": "6ce5b537",
   "metadata": {
    "execution": {
     "iopub.execute_input": "2022-02-06T00:18:05.462194Z",
     "iopub.status.busy": "2022-02-06T00:18:05.461600Z",
     "iopub.status.idle": "2022-02-06T00:18:05.524921Z",
     "shell.execute_reply": "2022-02-06T00:18:05.525455Z",
     "shell.execute_reply.started": "2022-02-05T23:03:19.807612Z"
    },
    "papermill": {
     "duration": 0.118383,
     "end_time": "2022-02-06T00:18:05.525628",
     "exception": false,
     "start_time": "2022-02-06T00:18:05.407245",
     "status": "completed"
    },
    "tags": []
   },
   "outputs": [],
   "source": [
    "Ocupation_dict = {'Security staff':0, 'Sales staff':1, \n",
    "                  'Accountants':2, 'Laborers':3, \n",
    "                  'Managers':4,'Drivers':5, \n",
    "                  'Core staff':6, 'High skill tech staff':7, \n",
    "                  'Cleaning staff':8,'Private service staff':9,\n",
    "                  'Cooking staff':10, 'Low-skill Laborers':11,\n",
    "                  'Medicine staff':12, 'Secretaries':13,\n",
    "                  'Waiters/barmen staff':14, 'HR staff':15,\n",
    "                  'Realty agents':16, \"IT staff\":17}\n",
    "\n",
    "appRecord['OCCUPATION_TYPE'] = appRecord['OCCUPATION_TYPE'].map(Ocupation_dict)"
   ]
  },
  {
   "cell_type": "code",
   "execution_count": 15,
   "id": "c9b12aa4",
   "metadata": {
    "execution": {
     "iopub.execute_input": "2022-02-06T00:18:05.632331Z",
     "iopub.status.busy": "2022-02-06T00:18:05.631657Z",
     "iopub.status.idle": "2022-02-06T00:18:05.695306Z",
     "shell.execute_reply": "2022-02-06T00:18:05.695794Z",
     "shell.execute_reply.started": "2022-02-05T23:03:19.846179Z"
    },
    "papermill": {
     "duration": 0.118526,
     "end_time": "2022-02-06T00:18:05.695975",
     "exception": false,
     "start_time": "2022-02-06T00:18:05.577449",
     "status": "completed"
    },
    "tags": []
   },
   "outputs": [],
   "source": [
    "appRecord.drop(['DAYS_BIRTH', 'DAYS_EMPLOYED'], inplace=True, axis=1)"
   ]
  },
  {
   "cell_type": "code",
   "execution_count": 16,
   "id": "a9608336",
   "metadata": {
    "execution": {
     "iopub.execute_input": "2022-02-06T00:18:05.867652Z",
     "iopub.status.busy": "2022-02-06T00:18:05.866920Z",
     "iopub.status.idle": "2022-02-06T00:18:05.875032Z",
     "shell.execute_reply": "2022-02-06T00:18:05.874503Z",
     "shell.execute_reply.started": "2022-02-05T23:03:19.990440Z"
    },
    "papermill": {
     "duration": 0.127157,
     "end_time": "2022-02-06T00:18:05.875179",
     "exception": false,
     "start_time": "2022-02-06T00:18:05.748022",
     "status": "completed"
    },
    "tags": []
   },
   "outputs": [],
   "source": [
    "map_status = {'C' : 1,\n",
    "              'X' : 1,\n",
    "              '0' : 1,\n",
    "              '1' : 0,\n",
    "              '2' : 0,\n",
    "              '3' : 0,\n",
    "              '4' : 0,\n",
    "              '5' : 0}\n",
    "CreditRecord[\"STATUS\"] = CreditRecord['STATUS'].map(map_status)"
   ]
  },
  {
   "cell_type": "code",
   "execution_count": 17,
   "id": "1e7d2f62",
   "metadata": {
    "execution": {
     "iopub.execute_input": "2022-02-06T00:18:05.983880Z",
     "iopub.status.busy": "2022-02-06T00:18:05.983156Z",
     "iopub.status.idle": "2022-02-06T00:18:05.995275Z",
     "shell.execute_reply": "2022-02-06T00:18:05.995809Z",
     "shell.execute_reply.started": "2022-02-05T23:03:20.058526Z"
    },
    "papermill": {
     "duration": 0.068098,
     "end_time": "2022-02-06T00:18:05.995976",
     "exception": false,
     "start_time": "2022-02-06T00:18:05.927878",
     "status": "completed"
    },
    "tags": []
   },
   "outputs": [
    {
     "data": {
      "text/plain": [
       "1    1034381\n",
       "0      14194\n",
       "Name: STATUS, dtype: int64"
      ]
     },
     "execution_count": 17,
     "metadata": {},
     "output_type": "execute_result"
    }
   ],
   "source": [
    "CreditRecord['STATUS'].value_counts()"
   ]
  },
  {
   "cell_type": "code",
   "execution_count": 18,
   "id": "86c0704e",
   "metadata": {
    "execution": {
     "iopub.execute_input": "2022-02-06T00:18:06.104235Z",
     "iopub.status.busy": "2022-02-06T00:18:06.103611Z",
     "iopub.status.idle": "2022-02-06T00:18:06.422605Z",
     "shell.execute_reply": "2022-02-06T00:18:06.423125Z",
     "shell.execute_reply.started": "2022-02-05T23:03:20.081289Z"
    },
    "papermill": {
     "duration": 0.374638,
     "end_time": "2022-02-06T00:18:06.423312",
     "exception": false,
     "start_time": "2022-02-06T00:18:06.048674",
     "status": "completed"
    },
    "tags": []
   },
   "outputs": [
    {
     "data": {
      "text/html": [
       "<div>\n",
       "<style scoped>\n",
       "    .dataframe tbody tr th:only-of-type {\n",
       "        vertical-align: middle;\n",
       "    }\n",
       "\n",
       "    .dataframe tbody tr th {\n",
       "        vertical-align: top;\n",
       "    }\n",
       "\n",
       "    .dataframe thead th {\n",
       "        text-align: right;\n",
       "    }\n",
       "</style>\n",
       "<table border=\"1\" class=\"dataframe\">\n",
       "  <thead>\n",
       "    <tr style=\"text-align: right;\">\n",
       "      <th></th>\n",
       "      <th>ID</th>\n",
       "      <th>CODE_GENDER</th>\n",
       "      <th>FLAG_OWN_CAR</th>\n",
       "      <th>FLAG_OWN_REALTY</th>\n",
       "      <th>CNT_CHILDREN</th>\n",
       "      <th>AMT_INCOME_TOTAL</th>\n",
       "      <th>NAME_INCOME_TYPE</th>\n",
       "      <th>NAME_EDUCATION_TYPE</th>\n",
       "      <th>NAME_FAMILY_STATUS</th>\n",
       "      <th>NAME_HOUSING_TYPE</th>\n",
       "      <th>FLAG_MOBIL</th>\n",
       "      <th>FLAG_WORK_PHONE</th>\n",
       "      <th>FLAG_PHONE</th>\n",
       "      <th>FLAG_EMAIL</th>\n",
       "      <th>OCCUPATION_TYPE</th>\n",
       "      <th>CNT_FAM_MEMBERS</th>\n",
       "      <th>MONTHS_BALANCE</th>\n",
       "      <th>STATUS</th>\n",
       "    </tr>\n",
       "  </thead>\n",
       "  <tbody>\n",
       "    <tr>\n",
       "      <th>0</th>\n",
       "      <td>5008804</td>\n",
       "      <td>1</td>\n",
       "      <td>1</td>\n",
       "      <td>1</td>\n",
       "      <td>0</td>\n",
       "      <td>427500.0</td>\n",
       "      <td>4</td>\n",
       "      <td>1</td>\n",
       "      <td>0</td>\n",
       "      <td>4</td>\n",
       "      <td>1</td>\n",
       "      <td>1</td>\n",
       "      <td>0</td>\n",
       "      <td>0</td>\n",
       "      <td>NaN</td>\n",
       "      <td>2.0</td>\n",
       "      <td>0</td>\n",
       "      <td>1</td>\n",
       "    </tr>\n",
       "    <tr>\n",
       "      <th>1</th>\n",
       "      <td>5008804</td>\n",
       "      <td>1</td>\n",
       "      <td>1</td>\n",
       "      <td>1</td>\n",
       "      <td>0</td>\n",
       "      <td>427500.0</td>\n",
       "      <td>4</td>\n",
       "      <td>1</td>\n",
       "      <td>0</td>\n",
       "      <td>4</td>\n",
       "      <td>1</td>\n",
       "      <td>1</td>\n",
       "      <td>0</td>\n",
       "      <td>0</td>\n",
       "      <td>NaN</td>\n",
       "      <td>2.0</td>\n",
       "      <td>-1</td>\n",
       "      <td>1</td>\n",
       "    </tr>\n",
       "    <tr>\n",
       "      <th>2</th>\n",
       "      <td>5008804</td>\n",
       "      <td>1</td>\n",
       "      <td>1</td>\n",
       "      <td>1</td>\n",
       "      <td>0</td>\n",
       "      <td>427500.0</td>\n",
       "      <td>4</td>\n",
       "      <td>1</td>\n",
       "      <td>0</td>\n",
       "      <td>4</td>\n",
       "      <td>1</td>\n",
       "      <td>1</td>\n",
       "      <td>0</td>\n",
       "      <td>0</td>\n",
       "      <td>NaN</td>\n",
       "      <td>2.0</td>\n",
       "      <td>-2</td>\n",
       "      <td>1</td>\n",
       "    </tr>\n",
       "    <tr>\n",
       "      <th>3</th>\n",
       "      <td>5008804</td>\n",
       "      <td>1</td>\n",
       "      <td>1</td>\n",
       "      <td>1</td>\n",
       "      <td>0</td>\n",
       "      <td>427500.0</td>\n",
       "      <td>4</td>\n",
       "      <td>1</td>\n",
       "      <td>0</td>\n",
       "      <td>4</td>\n",
       "      <td>1</td>\n",
       "      <td>1</td>\n",
       "      <td>0</td>\n",
       "      <td>0</td>\n",
       "      <td>NaN</td>\n",
       "      <td>2.0</td>\n",
       "      <td>-3</td>\n",
       "      <td>1</td>\n",
       "    </tr>\n",
       "    <tr>\n",
       "      <th>4</th>\n",
       "      <td>5008804</td>\n",
       "      <td>1</td>\n",
       "      <td>1</td>\n",
       "      <td>1</td>\n",
       "      <td>0</td>\n",
       "      <td>427500.0</td>\n",
       "      <td>4</td>\n",
       "      <td>1</td>\n",
       "      <td>0</td>\n",
       "      <td>4</td>\n",
       "      <td>1</td>\n",
       "      <td>1</td>\n",
       "      <td>0</td>\n",
       "      <td>0</td>\n",
       "      <td>NaN</td>\n",
       "      <td>2.0</td>\n",
       "      <td>-4</td>\n",
       "      <td>1</td>\n",
       "    </tr>\n",
       "    <tr>\n",
       "      <th>5</th>\n",
       "      <td>5008804</td>\n",
       "      <td>1</td>\n",
       "      <td>1</td>\n",
       "      <td>1</td>\n",
       "      <td>0</td>\n",
       "      <td>427500.0</td>\n",
       "      <td>4</td>\n",
       "      <td>1</td>\n",
       "      <td>0</td>\n",
       "      <td>4</td>\n",
       "      <td>1</td>\n",
       "      <td>1</td>\n",
       "      <td>0</td>\n",
       "      <td>0</td>\n",
       "      <td>NaN</td>\n",
       "      <td>2.0</td>\n",
       "      <td>-5</td>\n",
       "      <td>1</td>\n",
       "    </tr>\n",
       "  </tbody>\n",
       "</table>\n",
       "</div>"
      ],
      "text/plain": [
       "        ID  CODE_GENDER  FLAG_OWN_CAR  FLAG_OWN_REALTY  CNT_CHILDREN  \\\n",
       "0  5008804            1             1                1             0   \n",
       "1  5008804            1             1                1             0   \n",
       "2  5008804            1             1                1             0   \n",
       "3  5008804            1             1                1             0   \n",
       "4  5008804            1             1                1             0   \n",
       "5  5008804            1             1                1             0   \n",
       "\n",
       "   AMT_INCOME_TOTAL  NAME_INCOME_TYPE  NAME_EDUCATION_TYPE  \\\n",
       "0          427500.0                 4                    1   \n",
       "1          427500.0                 4                    1   \n",
       "2          427500.0                 4                    1   \n",
       "3          427500.0                 4                    1   \n",
       "4          427500.0                 4                    1   \n",
       "5          427500.0                 4                    1   \n",
       "\n",
       "   NAME_FAMILY_STATUS  NAME_HOUSING_TYPE  FLAG_MOBIL  FLAG_WORK_PHONE  \\\n",
       "0                   0                  4           1                1   \n",
       "1                   0                  4           1                1   \n",
       "2                   0                  4           1                1   \n",
       "3                   0                  4           1                1   \n",
       "4                   0                  4           1                1   \n",
       "5                   0                  4           1                1   \n",
       "\n",
       "   FLAG_PHONE  FLAG_EMAIL  OCCUPATION_TYPE  CNT_FAM_MEMBERS  MONTHS_BALANCE  \\\n",
       "0           0           0              NaN              2.0               0   \n",
       "1           0           0              NaN              2.0              -1   \n",
       "2           0           0              NaN              2.0              -2   \n",
       "3           0           0              NaN              2.0              -3   \n",
       "4           0           0              NaN              2.0              -4   \n",
       "5           0           0              NaN              2.0              -5   \n",
       "\n",
       "   STATUS  \n",
       "0       1  \n",
       "1       1  \n",
       "2       1  \n",
       "3       1  \n",
       "4       1  \n",
       "5       1  "
      ]
     },
     "execution_count": 18,
     "metadata": {},
     "output_type": "execute_result"
    }
   ],
   "source": [
    "df_credit = appRecord.merge(CreditRecord, how='inner', on=['ID'])\n",
    "df_credit.head(6)"
   ]
  },
  {
   "cell_type": "markdown",
   "id": "0fe6f792",
   "metadata": {
    "papermill": {
     "duration": 0.052767,
     "end_time": "2022-02-06T00:18:06.529430",
     "exception": false,
     "start_time": "2022-02-06T00:18:06.476663",
     "status": "completed"
    },
    "tags": []
   },
   "source": [
    "## Train models"
   ]
  },
  {
   "cell_type": "markdown",
   "id": "48f02332",
   "metadata": {
    "papermill": {
     "duration": 0.052427,
     "end_time": "2022-02-06T00:18:06.634792",
     "exception": false,
     "start_time": "2022-02-06T00:18:06.582365",
     "status": "completed"
    },
    "tags": []
   },
   "source": [
    "Split data to train and test"
   ]
  },
  {
   "cell_type": "code",
   "execution_count": 19,
   "id": "2520e468",
   "metadata": {
    "execution": {
     "iopub.execute_input": "2022-02-06T00:18:06.748797Z",
     "iopub.status.busy": "2022-02-06T00:18:06.746716Z",
     "iopub.status.idle": "2022-02-06T00:18:07.091610Z",
     "shell.execute_reply": "2022-02-06T00:18:07.090994Z",
     "shell.execute_reply.started": "2022-02-05T23:03:20.444966Z"
    },
    "papermill": {
     "duration": 0.403493,
     "end_time": "2022-02-06T00:18:07.091760",
     "exception": false,
     "start_time": "2022-02-06T00:18:06.688267",
     "status": "completed"
    },
    "tags": []
   },
   "outputs": [],
   "source": [
    "from sklearn.model_selection import train_test_split\n",
    "\n",
    "target = df_credit['STATUS']\n",
    "features = df_credit.drop(['STATUS'], axis=1)\n",
    "\n",
    "X_train, X_test, y_train, y_test = train_test_split(features, target, train_size=0.75)"
   ]
  },
  {
   "cell_type": "markdown",
   "id": "b37a2138",
   "metadata": {
    "papermill": {
     "duration": 0.052804,
     "end_time": "2022-02-06T00:18:07.198461",
     "exception": false,
     "start_time": "2022-02-06T00:18:07.145657",
     "status": "completed"
    },
    "tags": []
   },
   "source": [
    "### Logistic Regression"
   ]
  },
  {
   "cell_type": "markdown",
   "id": "ea4603ab",
   "metadata": {
    "papermill": {
     "duration": 0.052448,
     "end_time": "2022-02-06T00:18:07.304114",
     "exception": false,
     "start_time": "2022-02-06T00:18:07.251666",
     "status": "completed"
    },
    "tags": []
   },
   "source": [
    "Tuning"
   ]
  },
  {
   "cell_type": "code",
   "execution_count": 20,
   "id": "39c7de10",
   "metadata": {
    "execution": {
     "iopub.execute_input": "2022-02-06T00:18:07.413123Z",
     "iopub.status.busy": "2022-02-06T00:18:07.412537Z",
     "iopub.status.idle": "2022-02-06T00:18:07.416270Z",
     "shell.execute_reply": "2022-02-06T00:18:07.416785Z",
     "shell.execute_reply.started": "2022-02-05T23:03:21.094937Z"
    },
    "papermill": {
     "duration": 0.059971,
     "end_time": "2022-02-06T00:18:07.416938",
     "exception": false,
     "start_time": "2022-02-06T00:18:07.356967",
     "status": "completed"
    },
    "tags": []
   },
   "outputs": [],
   "source": [
    "from sklearn.model_selection import GridSearchCV\n",
    "\n",
    "pipeline = Pipeline(steps=[\n",
    "    ('imputer', SimpleImputer(missing_values=np.nan, strategy='most_frequent')),\n",
    "    ('lr', LogisticRegression())\n",
    "])"
   ]
  },
  {
   "cell_type": "code",
   "execution_count": 21,
   "id": "a1174b46",
   "metadata": {
    "execution": {
     "iopub.execute_input": "2022-02-06T00:18:07.525318Z",
     "iopub.status.busy": "2022-02-06T00:18:07.524695Z",
     "iopub.status.idle": "2022-02-06T00:49:39.004403Z",
     "shell.execute_reply": "2022-02-06T00:49:39.004989Z",
     "shell.execute_reply.started": "2022-02-05T23:03:21.102673Z"
    },
    "papermill": {
     "duration": 1891.535697,
     "end_time": "2022-02-06T00:49:39.005359",
     "exception": false,
     "start_time": "2022-02-06T00:18:07.469662",
     "status": "completed"
    },
    "tags": []
   },
   "outputs": [
    {
     "name": "stderr",
     "output_type": "stream",
     "text": [
      "/opt/conda/lib/python3.7/site-packages/sklearn/svm/_base.py:977: ConvergenceWarning: Liblinear failed to converge, increase the number of iterations.\n",
      "  \"the number of iterations.\", ConvergenceWarning)\n",
      "/opt/conda/lib/python3.7/site-packages/sklearn/svm/_base.py:977: ConvergenceWarning: Liblinear failed to converge, increase the number of iterations.\n",
      "  \"the number of iterations.\", ConvergenceWarning)\n"
     ]
    },
    {
     "data": {
      "text/plain": [
       "GridSearchCV(cv=4,\n",
       "             estimator=Pipeline(steps=[('imputer',\n",
       "                                        SimpleImputer(strategy='most_frequent')),\n",
       "                                       ('lr', LogisticRegression())]),\n",
       "             n_jobs=-1,\n",
       "             param_grid={'lr__C': array([1.00000000e-04, 2.63665090e-04, 6.95192796e-04, 1.83298071e-03,\n",
       "       4.83293024e-03, 1.27427499e-02, 3.35981829e-02, 8.85866790e-02,\n",
       "       2.33572147e-01, 6.15848211e-01, 1.62377674e+00, 4.28133240e+00,\n",
       "       1.12883789e+01, 2.97635144e+01, 7.84759970e+01, 2.06913808e+02,\n",
       "       5.45559478e+02, 1.43844989e+03, 3.79269019e+03, 1.00000000e+04]),\n",
       "                         'lr__penalty': ['l1', 'l2'],\n",
       "                         'lr__solver': ['liblinear']},\n",
       "             return_train_score=True, scoring='roc_auc')"
      ]
     },
     "execution_count": 21,
     "metadata": {},
     "output_type": "execute_result"
    }
   ],
   "source": [
    "grid_param = {\n",
    "    'lr__solver': ['liblinear'],\n",
    "    'lr__C': np.logspace(-4, 4, 20),\n",
    "    'lr__penalty': [\"l1\", \"l2\"]\n",
    "}\n",
    "\n",
    "grid_search = GridSearchCV(pipeline, param_grid=grid_param, n_jobs=-1, cv=4, return_train_score=True, scoring='roc_auc')\n",
    "grid_search.fit(X_train, y_train.values.ravel())"
   ]
  },
  {
   "cell_type": "code",
   "execution_count": 22,
   "id": "5a3761cf",
   "metadata": {
    "execution": {
     "iopub.execute_input": "2022-02-06T00:49:39.124456Z",
     "iopub.status.busy": "2022-02-06T00:49:39.122445Z",
     "iopub.status.idle": "2022-02-06T00:49:39.127544Z",
     "shell.execute_reply": "2022-02-06T00:49:39.128041Z",
     "shell.execute_reply.started": "2022-02-05T23:24:38.707123Z"
    },
    "papermill": {
     "duration": 0.069079,
     "end_time": "2022-02-06T00:49:39.128241",
     "exception": false,
     "start_time": "2022-02-06T00:49:39.059162",
     "status": "completed"
    },
    "tags": []
   },
   "outputs": [
    {
     "data": {
      "text/plain": [
       "Pipeline(steps=[('imputer', SimpleImputer(strategy='most_frequent')),\n",
       "                ('lr',\n",
       "                 LogisticRegression(C=1438.44988828766, penalty='l1',\n",
       "                                    solver='liblinear'))])"
      ]
     },
     "execution_count": 22,
     "metadata": {},
     "output_type": "execute_result"
    }
   ],
   "source": [
    "grid_search.best_estimator_"
   ]
  },
  {
   "cell_type": "code",
   "execution_count": 23,
   "id": "3b784ff8",
   "metadata": {
    "execution": {
     "iopub.execute_input": "2022-02-06T00:49:39.244154Z",
     "iopub.status.busy": "2022-02-06T00:49:39.243390Z",
     "iopub.status.idle": "2022-02-06T00:49:39.246440Z",
     "shell.execute_reply": "2022-02-06T00:49:39.246950Z",
     "shell.execute_reply.started": "2022-02-05T23:24:38.718457Z"
    },
    "papermill": {
     "duration": 0.063728,
     "end_time": "2022-02-06T00:49:39.247119",
     "exception": false,
     "start_time": "2022-02-06T00:49:39.183391",
     "status": "completed"
    },
    "tags": []
   },
   "outputs": [
    {
     "data": {
      "text/plain": [
       "0.5681242170663845"
      ]
     },
     "execution_count": 23,
     "metadata": {},
     "output_type": "execute_result"
    }
   ],
   "source": [
    "grid_search.best_score_"
   ]
  },
  {
   "cell_type": "markdown",
   "id": "63d31d34",
   "metadata": {
    "papermill": {
     "duration": 0.054393,
     "end_time": "2022-02-06T00:49:39.356096",
     "exception": false,
     "start_time": "2022-02-06T00:49:39.301703",
     "status": "completed"
    },
    "tags": []
   },
   "source": [
    "Metrics"
   ]
  },
  {
   "cell_type": "code",
   "execution_count": 24,
   "id": "f4fb79d4",
   "metadata": {
    "execution": {
     "iopub.execute_input": "2022-02-06T00:49:39.469408Z",
     "iopub.status.busy": "2022-02-06T00:49:39.468358Z",
     "iopub.status.idle": "2022-02-06T00:49:39.637558Z",
     "shell.execute_reply": "2022-02-06T00:49:39.639340Z",
     "shell.execute_reply.started": "2022-02-05T23:24:38.732868Z"
    },
    "papermill": {
     "duration": 0.229205,
     "end_time": "2022-02-06T00:49:39.639874",
     "exception": false,
     "start_time": "2022-02-06T00:49:39.410669",
     "status": "completed"
    },
    "tags": []
   },
   "outputs": [
    {
     "data": {
      "text/plain": [
       "0.5663156202310098"
      ]
     },
     "execution_count": 24,
     "metadata": {},
     "output_type": "execute_result"
    }
   ],
   "source": [
    "from sklearn.metrics import roc_auc_score, precision_recall_curve, ConfusionMatrixDisplay, confusion_matrix\n",
    "\n",
    "prediction = grid_search.best_estimator_.predict_proba(X_test)[:, 1]\n",
    "roc_auc_score(y_test, prediction)"
   ]
  },
  {
   "cell_type": "code",
   "execution_count": 25,
   "id": "2bdbb6c8",
   "metadata": {
    "execution": {
     "iopub.execute_input": "2022-02-06T00:49:39.759930Z",
     "iopub.status.busy": "2022-02-06T00:49:39.758938Z",
     "iopub.status.idle": "2022-02-06T00:49:40.271512Z",
     "shell.execute_reply": "2022-02-06T00:49:40.270171Z",
     "shell.execute_reply.started": "2022-02-05T23:24:38.910591Z"
    },
    "papermill": {
     "duration": 0.575721,
     "end_time": "2022-02-06T00:49:40.271689",
     "exception": false,
     "start_time": "2022-02-06T00:49:39.695968",
     "status": "completed"
    },
    "tags": []
   },
   "outputs": [
    {
     "data": {
      "image/png": "[encoded data removed]",
      "text/plain": [
       "<Figure size 432x288 with 1 Axes>"
      ]
     },
     "metadata": {
      "needs_background": "light"
     },
     "output_type": "display_data"
    }
   ],
   "source": [
    "precision, recall, th = precision_recall_curve(y_test, prediction)\n",
    "plt.plot(recall, precision, marker='.')\n",
    "\n",
    "plt.xlabel(\"Recall\")\n",
    "plt.ylabel(\"Precision\")\n",
    "plt.title(\"ROC-AUC\")\n",
    "plt.legend()\n",
    "plt.show()"
   ]
  },
  {
   "cell_type": "markdown",
   "id": "baead304",
   "metadata": {
    "papermill": {
     "duration": 0.055624,
     "end_time": "2022-02-06T00:49:40.384696",
     "exception": false,
     "start_time": "2022-02-06T00:49:40.329072",
     "status": "completed"
    },
    "tags": []
   },
   "source": [
    "### KNN"
   ]
  },
  {
   "cell_type": "markdown",
   "id": "2b2e4250",
   "metadata": {
    "papermill": {
     "duration": 0.055662,
     "end_time": "2022-02-06T00:49:40.496351",
     "exception": false,
     "start_time": "2022-02-06T00:49:40.440689",
     "status": "completed"
    },
    "tags": []
   },
   "source": [
    "Tuning"
   ]
  },
  {
   "cell_type": "code",
   "execution_count": 26,
   "id": "80e4c8bf",
   "metadata": {
    "execution": {
     "iopub.execute_input": "2022-02-06T00:49:40.613542Z",
     "iopub.status.busy": "2022-02-06T00:49:40.612883Z",
     "iopub.status.idle": "2022-02-06T00:49:40.616742Z",
     "shell.execute_reply": "2022-02-06T00:49:40.617322Z",
     "shell.execute_reply.started": "2022-02-05T23:24:39.411995Z"
    },
    "papermill": {
     "duration": 0.063172,
     "end_time": "2022-02-06T00:49:40.617493",
     "exception": false,
     "start_time": "2022-02-06T00:49:40.554321",
     "status": "completed"
    },
    "tags": []
   },
   "outputs": [],
   "source": [
    "pipelineKNN = Pipeline(steps=[\n",
    "    (\"imputer\", SimpleImputer(strategy='most_frequent')),\n",
    "    (\"knn\", KNeighborsClassifier())\n",
    "])"
   ]
  },
  {
   "cell_type": "code",
   "execution_count": 27,
   "id": "3b0c71ed",
   "metadata": {
    "execution": {
     "iopub.execute_input": "2022-02-06T00:49:40.732366Z",
     "iopub.status.busy": "2022-02-06T00:49:40.731714Z",
     "iopub.status.idle": "2022-02-06T00:56:19.457330Z",
     "shell.execute_reply": "2022-02-06T00:56:19.457875Z",
     "shell.execute_reply.started": "2022-02-05T23:24:39.424368Z"
    },
    "papermill": {
     "duration": 398.784911,
     "end_time": "2022-02-06T00:56:19.458068",
     "exception": false,
     "start_time": "2022-02-06T00:49:40.673157",
     "status": "completed"
    },
    "tags": []
   },
   "outputs": [
    {
     "data": {
      "text/plain": [
       "GridSearchCV(cv=5,\n",
       "             estimator=Pipeline(steps=[('imputer',\n",
       "                                        SimpleImputer(strategy='most_frequent')),\n",
       "                                       ('knn', KNeighborsClassifier())]),\n",
       "             n_jobs=-1,\n",
       "             param_grid={'knn__n_neighbors': range(2, 8),\n",
       "                         'knn__weights': ['uniform', 'distance']},\n",
       "             scoring='roc_auc')"
      ]
     },
     "execution_count": 27,
     "metadata": {},
     "output_type": "execute_result"
    }
   ],
   "source": [
    "grid_knn_param = {\n",
    "    'knn__weights': ['uniform', 'distance'],\n",
    "    'knn__n_neighbors': range(2, 8)\n",
    "}\n",
    "\n",
    "grid_search_KNN = GridSearchCV(pipelineKNN, param_grid=grid_knn_param, n_jobs=-1, cv=5, scoring='roc_auc')\n",
    "grid_search_KNN.fit(X_train, y_train.values.ravel())"
   ]
  },
  {
   "cell_type": "code",
   "execution_count": 28,
   "id": "c3f935ba",
   "metadata": {
    "execution": {
     "iopub.execute_input": "2022-02-06T00:56:19.575852Z",
     "iopub.status.busy": "2022-02-06T00:56:19.575143Z",
     "iopub.status.idle": "2022-02-06T00:56:19.582588Z",
     "shell.execute_reply": "2022-02-06T00:56:19.583077Z",
     "shell.execute_reply.started": "2022-02-05T23:31:47.826066Z"
    },
    "papermill": {
     "duration": 0.068843,
     "end_time": "2022-02-06T00:56:19.583261",
     "exception": false,
     "start_time": "2022-02-06T00:56:19.514418",
     "status": "completed"
    },
    "tags": []
   },
   "outputs": [
    {
     "data": {
      "text/plain": [
       "Pipeline(steps=[('imputer', SimpleImputer(strategy='most_frequent')),\n",
       "                ('knn',\n",
       "                 KNeighborsClassifier(n_neighbors=7, weights='distance'))])"
      ]
     },
     "execution_count": 28,
     "metadata": {},
     "output_type": "execute_result"
    }
   ],
   "source": [
    "grid_search_KNN.best_estimator_"
   ]
  },
  {
   "cell_type": "markdown",
   "id": "ed28bcf6",
   "metadata": {
    "papermill": {
     "duration": 0.057271,
     "end_time": "2022-02-06T00:56:19.697649",
     "exception": false,
     "start_time": "2022-02-06T00:56:19.640378",
     "status": "completed"
    },
    "tags": []
   },
   "source": [
    "Metrics"
   ]
  },
  {
   "cell_type": "code",
   "execution_count": 29,
   "id": "4b2a683e",
   "metadata": {
    "execution": {
     "iopub.execute_input": "2022-02-06T00:56:19.819184Z",
     "iopub.status.busy": "2022-02-06T00:56:19.818517Z",
     "iopub.status.idle": "2022-02-06T00:56:29.515410Z",
     "shell.execute_reply": "2022-02-06T00:56:29.515946Z",
     "shell.execute_reply.started": "2022-02-05T23:31:47.836726Z"
    },
    "papermill": {
     "duration": 9.760995,
     "end_time": "2022-02-06T00:56:29.516121",
     "exception": false,
     "start_time": "2022-02-06T00:56:19.755126",
     "status": "completed"
    },
    "tags": []
   },
   "outputs": [
    {
     "data": {
      "text/plain": [
       "0.8448556455963243"
      ]
     },
     "execution_count": 29,
     "metadata": {},
     "output_type": "execute_result"
    }
   ],
   "source": [
    "predictionKNN = grid_search_KNN.best_estimator_.predict_proba(X_test)[:, 1]\n",
    "roc_auc_score(y_test, predictionKNN)"
   ]
  },
  {
   "cell_type": "code",
   "execution_count": 30,
   "id": "367adac0",
   "metadata": {
    "execution": {
     "iopub.execute_input": "2022-02-06T00:56:29.633642Z",
     "iopub.status.busy": "2022-02-06T00:56:29.632632Z",
     "iopub.status.idle": "2022-02-06T00:56:29.862089Z",
     "shell.execute_reply": "2022-02-06T00:56:29.862554Z",
     "shell.execute_reply.started": "2022-02-05T23:31:57.259706Z"
    },
    "papermill": {
     "duration": 0.289693,
     "end_time": "2022-02-06T00:56:29.862729",
     "exception": false,
     "start_time": "2022-02-06T00:56:29.573036",
     "status": "completed"
    },
    "tags": []
   },
   "outputs": [
    {
     "data": {
      "image/png": "[encoded data removed]",
      "text/plain": [
       "<Figure size 432x288 with 1 Axes>"
      ]
     },
     "metadata": {
      "needs_background": "light"
     },
     "output_type": "display_data"
    }
   ],
   "source": [
    "precision, recall, th = precision_recall_curve(y_test, predictionKNN)\n",
    "plt.plot(recall, precision, marker='.')\n",
    "\n",
    "plt.xlabel(\"Recall\")\n",
    "plt.ylabel(\"Precision\")\n",
    "plt.title(\"ROC-AUC\")\n",
    "plt.legend()\n",
    "plt.show()"
   ]
  },
  {
   "cell_type": "markdown",
   "id": "792bd186",
   "metadata": {
    "papermill": {
     "duration": 0.05756,
     "end_time": "2022-02-06T00:56:29.978741",
     "exception": false,
     "start_time": "2022-02-06T00:56:29.921181",
     "status": "completed"
    },
    "tags": []
   },
   "source": [
    "### Random Forest"
   ]
  },
  {
   "cell_type": "markdown",
   "id": "cab2ad62",
   "metadata": {
    "papermill": {
     "duration": 0.058796,
     "end_time": "2022-02-06T00:56:30.095718",
     "exception": false,
     "start_time": "2022-02-06T00:56:30.036922",
     "status": "completed"
    },
    "tags": []
   },
   "source": [
    "Tuning and training"
   ]
  },
  {
   "cell_type": "code",
   "execution_count": 31,
   "id": "441d76c8",
   "metadata": {
    "execution": {
     "iopub.execute_input": "2022-02-06T00:56:30.215770Z",
     "iopub.status.busy": "2022-02-06T00:56:30.214710Z",
     "iopub.status.idle": "2022-02-06T00:56:30.219439Z",
     "shell.execute_reply": "2022-02-06T00:56:30.219987Z",
     "shell.execute_reply.started": "2022-02-05T23:31:57.488644Z"
    },
    "papermill": {
     "duration": 0.066338,
     "end_time": "2022-02-06T00:56:30.220153",
     "exception": false,
     "start_time": "2022-02-06T00:56:30.153815",
     "status": "completed"
    },
    "tags": []
   },
   "outputs": [],
   "source": [
    "pipelineForest = Pipeline([\n",
    "    ('imputer', SimpleImputer(strategy='most_frequent')),\n",
    "    ('forest', RandomForestClassifier())\n",
    "])"
   ]
  },
  {
   "cell_type": "code",
   "execution_count": 32,
   "id": "cfed3729",
   "metadata": {
    "execution": {
     "iopub.execute_input": "2022-02-06T00:56:30.339915Z",
     "iopub.status.busy": "2022-02-06T00:56:30.338857Z",
     "iopub.status.idle": "2022-02-06T00:56:30.990277Z",
     "shell.execute_reply": "2022-02-06T00:56:30.990838Z",
     "shell.execute_reply.started": "2022-02-05T23:31:57.496600Z"
    },
    "papermill": {
     "duration": 0.71326,
     "end_time": "2022-02-06T00:56:30.991020",
     "exception": false,
     "start_time": "2022-02-06T00:56:30.277760",
     "status": "completed"
    },
    "tags": []
   },
   "outputs": [],
   "source": [
    "imputer = SimpleImputer(strategy='most_frequent')\n",
    "imputer.fit(X_train)\n",
    "X_train = imputer.transform(X_train)"
   ]
  },
  {
   "cell_type": "code",
   "execution_count": 33,
   "id": "2c779d88",
   "metadata": {
    "execution": {
     "iopub.execute_input": "2022-02-06T00:56:31.136195Z",
     "iopub.status.busy": "2022-02-06T00:56:31.135164Z",
     "iopub.status.idle": "2022-02-06T00:56:31.331225Z",
     "shell.execute_reply": "2022-02-06T00:56:31.330191Z",
     "shell.execute_reply.started": "2022-02-05T23:31:58.135013Z"
    },
    "papermill": {
     "duration": 0.273456,
     "end_time": "2022-02-06T00:56:31.331437",
     "exception": false,
     "start_time": "2022-02-06T00:56:31.057981",
     "status": "completed"
    },
    "tags": []
   },
   "outputs": [],
   "source": [
    "imputer.fit(X_test)\n",
    "X_test = imputer.transform(X_test)"
   ]
  },
  {
   "cell_type": "code",
   "execution_count": 34,
   "id": "6b685bc3",
   "metadata": {
    "execution": {
     "iopub.execute_input": "2022-02-06T00:56:31.463760Z",
     "iopub.status.busy": "2022-02-06T00:56:31.462445Z",
     "iopub.status.idle": "2022-02-06T00:58:12.982701Z",
     "shell.execute_reply": "2022-02-06T00:58:12.983312Z",
     "shell.execute_reply.started": "2022-02-05T23:31:58.328274Z"
    },
    "papermill": {
     "duration": 101.58639,
     "end_time": "2022-02-06T00:58:12.983522",
     "exception": false,
     "start_time": "2022-02-06T00:56:31.397132",
     "status": "completed"
    },
    "tags": []
   },
   "outputs": [
    {
     "data": {
      "text/plain": [
       "0.9999862846013791"
      ]
     },
     "execution_count": 34,
     "metadata": {},
     "output_type": "execute_result"
    }
   ],
   "source": [
    "forest = RandomForestClassifier()\n",
    "forest.fit(X_train, y_train)\n",
    "forest.score(X_train, y_train)"
   ]
  },
  {
   "cell_type": "markdown",
   "id": "5909e787",
   "metadata": {
    "papermill": {
     "duration": 0.05869,
     "end_time": "2022-02-06T00:58:13.099958",
     "exception": false,
     "start_time": "2022-02-06T00:58:13.041268",
     "status": "completed"
    },
    "tags": []
   },
   "source": [
    "Metrics"
   ]
  },
  {
   "cell_type": "code",
   "execution_count": 35,
   "id": "e4b8984c",
   "metadata": {
    "execution": {
     "iopub.execute_input": "2022-02-06T00:58:13.219652Z",
     "iopub.status.busy": "2022-02-06T00:58:13.218621Z",
     "iopub.status.idle": "2022-02-06T00:58:18.494992Z",
     "shell.execute_reply": "2022-02-06T00:58:18.495631Z",
     "shell.execute_reply.started": "2022-02-05T23:34:13.321115Z"
    },
    "papermill": {
     "duration": 5.338099,
     "end_time": "2022-02-06T00:58:18.495818",
     "exception": false,
     "start_time": "2022-02-06T00:58:13.157719",
     "status": "completed"
    },
    "tags": []
   },
   "outputs": [
    {
     "data": {
      "text/plain": [
       "0.8578382217831707"
      ]
     },
     "execution_count": 35,
     "metadata": {},
     "output_type": "execute_result"
    }
   ],
   "source": [
    "predictionForest = forest.predict_proba(X_test)[:, 1]\n",
    "roc_auc_score(y_test, predictionForest)"
   ]
  },
  {
   "cell_type": "code",
   "execution_count": 36,
   "id": "09ea4657",
   "metadata": {
    "execution": {
     "iopub.execute_input": "2022-02-06T00:58:18.619378Z",
     "iopub.status.busy": "2022-02-06T00:58:18.618650Z",
     "iopub.status.idle": "2022-02-06T00:58:18.836976Z",
     "shell.execute_reply": "2022-02-06T00:58:18.837502Z",
     "shell.execute_reply.started": "2022-02-05T23:34:18.471782Z"
    },
    "papermill": {
     "duration": 0.283547,
     "end_time": "2022-02-06T00:58:18.837673",
     "exception": false,
     "start_time": "2022-02-06T00:58:18.554126",
     "status": "completed"
    },
    "tags": []
   },
   "outputs": [
    {
     "data": {
      "image/png": "[encoded data removed]",
      "text/plain": [
       "<Figure size 432x288 with 1 Axes>"
      ]
     },
     "metadata": {
      "needs_background": "light"
     },
     "output_type": "display_data"
    }
   ],
   "source": [
    "precision, recall, th = precision_recall_curve(y_test, predictionForest)\n",
    "plt.plot(recall, precision, marker='.')\n",
    "\n",
    "plt.xlabel(\"Recall\")\n",
    "plt.ylabel(\"Precision\")\n",
    "plt.title(\"ROC-AUC\")\n",
    "plt.legend()\n",
    "plt.show()"
   ]
  },
  {
   "cell_type": "markdown",
   "id": "90bdf882",
   "metadata": {
    "papermill": {
     "duration": 0.059414,
     "end_time": "2022-02-06T00:58:18.960801",
     "exception": false,
     "start_time": "2022-02-06T00:58:18.901387",
     "status": "completed"
    },
    "tags": []
   },
   "source": [
    "### Decision Tree"
   ]
  },
  {
   "cell_type": "markdown",
   "id": "9748a3f5",
   "metadata": {
    "papermill": {
     "duration": 0.065352,
     "end_time": "2022-02-06T00:58:19.091430",
     "exception": false,
     "start_time": "2022-02-06T00:58:19.026078",
     "status": "completed"
    },
    "tags": []
   },
   "source": [
    "Tuning"
   ]
  },
  {
   "cell_type": "code",
   "execution_count": 37,
   "id": "d97e05b5",
   "metadata": {
    "execution": {
     "iopub.execute_input": "2022-02-06T00:58:19.234540Z",
     "iopub.status.busy": "2022-02-06T00:58:19.232153Z",
     "iopub.status.idle": "2022-02-06T00:58:19.236349Z",
     "shell.execute_reply": "2022-02-06T00:58:19.236887Z",
     "shell.execute_reply.started": "2022-02-05T23:34:18.689707Z"
    },
    "papermill": {
     "duration": 0.073014,
     "end_time": "2022-02-06T00:58:19.237059",
     "exception": false,
     "start_time": "2022-02-06T00:58:19.164045",
     "status": "completed"
    },
    "tags": []
   },
   "outputs": [],
   "source": [
    "pipelineTree = Pipeline([\n",
    "    ('imputer', SimpleImputer(strategy='most_frequent')),\n",
    "    ('tree', DecisionTreeClassifier())\n",
    "])"
   ]
  },
  {
   "cell_type": "code",
   "execution_count": 38,
   "id": "8c68407a",
   "metadata": {
    "execution": {
     "iopub.execute_input": "2022-02-06T00:58:19.359267Z",
     "iopub.status.busy": "2022-02-06T00:58:19.358264Z",
     "iopub.status.idle": "2022-02-06T00:58:19.362661Z",
     "shell.execute_reply": "2022-02-06T00:58:19.363158Z",
     "shell.execute_reply.started": "2022-02-05T23:34:18.696893Z"
    },
    "papermill": {
     "duration": 0.067196,
     "end_time": "2022-02-06T00:58:19.363351",
     "exception": false,
     "start_time": "2022-02-06T00:58:19.296155",
     "status": "completed"
    },
    "tags": []
   },
   "outputs": [],
   "source": [
    "grid_tree_params = {\n",
    "    'tree__max_depth': [7, 9, 11, 13],\n",
    "    'tree__min_samples_leaf': [8, 10, 12, 15]\n",
    "}"
   ]
  },
  {
   "cell_type": "code",
   "execution_count": 39,
   "id": "d5af76c7",
   "metadata": {
    "execution": {
     "iopub.execute_input": "2022-02-06T00:58:19.488969Z",
     "iopub.status.busy": "2022-02-06T00:58:19.486754Z",
     "iopub.status.idle": "2022-02-06T01:00:12.942935Z",
     "shell.execute_reply": "2022-02-06T01:00:12.943470Z",
     "shell.execute_reply.started": "2022-02-05T23:34:18.709094Z"
    },
    "papermill": {
     "duration": 113.518615,
     "end_time": "2022-02-06T01:00:12.943660",
     "exception": false,
     "start_time": "2022-02-06T00:58:19.425045",
     "status": "completed"
    },
    "tags": []
   },
   "outputs": [
    {
     "data": {
      "text/plain": [
       "GridSearchCV(cv=5,\n",
       "             estimator=Pipeline(steps=[('imputer',\n",
       "                                        SimpleImputer(strategy='most_frequent')),\n",
       "                                       ('tree', DecisionTreeClassifier())]),\n",
       "             n_jobs=-1,\n",
       "             param_grid={'tree__max_depth': [7, 9, 11, 13],\n",
       "                         'tree__min_samples_leaf': [8, 10, 12, 15]},\n",
       "             scoring='roc_auc')"
      ]
     },
     "execution_count": 39,
     "metadata": {},
     "output_type": "execute_result"
    }
   ],
   "source": [
    "grid_search_tree = GridSearchCV(pipelineTree, param_grid=grid_tree_params, n_jobs=-1, cv=5, scoring='roc_auc')\n",
    "grid_search_tree.fit(X_train, y_train.values.ravel())"
   ]
  },
  {
   "cell_type": "markdown",
   "id": "d05e4c09",
   "metadata": {
    "papermill": {
     "duration": 0.059482,
     "end_time": "2022-02-06T01:00:13.062489",
     "exception": false,
     "start_time": "2022-02-06T01:00:13.003007",
     "status": "completed"
    },
    "tags": []
   },
   "source": [
    "Metrics"
   ]
  },
  {
   "cell_type": "code",
   "execution_count": 40,
   "id": "49b8968f",
   "metadata": {
    "execution": {
     "iopub.execute_input": "2022-02-06T01:00:13.185144Z",
     "iopub.status.busy": "2022-02-06T01:00:13.184527Z",
     "iopub.status.idle": "2022-02-06T01:00:13.292070Z",
     "shell.execute_reply": "2022-02-06T01:00:13.291573Z",
     "shell.execute_reply.started": "2022-02-05T23:36:10.953545Z"
    },
    "papermill": {
     "duration": 0.169807,
     "end_time": "2022-02-06T01:00:13.292227",
     "exception": false,
     "start_time": "2022-02-06T01:00:13.122420",
     "status": "completed"
    },
    "tags": []
   },
   "outputs": [
    {
     "data": {
      "text/plain": [
       "0.7070609949354476"
      ]
     },
     "execution_count": 40,
     "metadata": {},
     "output_type": "execute_result"
    }
   ],
   "source": [
    "predictionTree = grid_search_tree.best_estimator_.predict_proba(X_test)[:, 1]\n",
    "roc_auc_score(y_test, predictionTree)"
   ]
  },
  {
   "cell_type": "code",
   "execution_count": 41,
   "id": "096d726e",
   "metadata": {
    "execution": {
     "iopub.execute_input": "2022-02-06T01:00:13.415820Z",
     "iopub.status.busy": "2022-02-06T01:00:13.415043Z",
     "iopub.status.idle": "2022-02-06T01:00:13.647663Z",
     "shell.execute_reply": "2022-02-06T01:00:13.648409Z",
     "shell.execute_reply.started": "2022-02-05T23:36:11.068817Z"
    },
    "papermill": {
     "duration": 0.296255,
     "end_time": "2022-02-06T01:00:13.648590",
     "exception": false,
     "start_time": "2022-02-06T01:00:13.352335",
     "status": "completed"
    },
    "tags": []
   },
   "outputs": [
    {
     "data": {
      "image/png": "[encoded data removed]",
      "text/plain": [
       "<Figure size 432x288 with 1 Axes>"
      ]
     },
     "metadata": {
      "needs_background": "light"
     },
     "output_type": "display_data"
    }
   ],
   "source": [
    "precision, recall, th = precision_recall_curve(y_test, predictionTree)\n",
    "plt.plot(recall, precision, marker='.')\n",
    "\n",
    "plt.xlabel(\"Recall\")\n",
    "plt.ylabel(\"Precision\")\n",
    "plt.title(\"ROC-AUC\")\n",
    "plt.legend()\n",
    "plt.show()"
   ]
  },
  {
   "cell_type": "markdown",
   "id": "f031adf0",
   "metadata": {
    "papermill": {
     "duration": 0.060739,
     "end_time": "2022-02-06T01:00:13.771531",
     "exception": false,
     "start_time": "2022-02-06T01:00:13.710792",
     "status": "completed"
    },
    "tags": []
   },
   "source": [
    "### Gradient Boosting"
   ]
  },
  {
   "cell_type": "code",
   "execution_count": 42,
   "id": "1b65a318",
   "metadata": {
    "execution": {
     "iopub.execute_input": "2022-02-06T01:00:13.898310Z",
     "iopub.status.busy": "2022-02-06T01:00:13.897641Z",
     "iopub.status.idle": "2022-02-06T01:10:12.850061Z",
     "shell.execute_reply": "2022-02-06T01:10:12.850604Z",
     "shell.execute_reply.started": "2022-02-05T23:40:34.811201Z"
    },
    "papermill": {
     "duration": 599.017859,
     "end_time": "2022-02-06T01:10:12.850790",
     "exception": false,
     "start_time": "2022-02-06T01:00:13.832931",
     "status": "completed"
    },
    "tags": []
   },
   "outputs": [
    {
     "name": "stderr",
     "output_type": "stream",
     "text": [
      "/opt/conda/lib/python3.7/site-packages/sklearn/svm/_base.py:977: ConvergenceWarning: Liblinear failed to converge, increase the number of iterations.\n",
      "  \"the number of iterations.\", ConvergenceWarning)\n",
      "/opt/conda/lib/python3.7/site-packages/sklearn/svm/_base.py:977: ConvergenceWarning: Liblinear failed to converge, increase the number of iterations.\n",
      "  \"the number of iterations.\", ConvergenceWarning)\n"
     ]
    },
    {
     "data": {
      "text/plain": [
       "GradientBoostingClassifier(max_depth=10, n_estimators=200)"
      ]
     },
     "execution_count": 42,
     "metadata": {},
     "output_type": "execute_result"
    }
   ],
   "source": [
    "boost = GradientBoostingClassifier(n_estimators=200, max_depth=10)\n",
    "boost.fit(X_train, y_train)"
   ]
  },
  {
   "cell_type": "markdown",
   "id": "57a1df02",
   "metadata": {
    "papermill": {
     "duration": 0.19624,
     "end_time": "2022-02-06T01:10:13.122593",
     "exception": false,
     "start_time": "2022-02-06T01:10:12.926353",
     "status": "completed"
    },
    "tags": []
   },
   "source": [
    "Mertics"
   ]
  },
  {
   "cell_type": "code",
   "execution_count": 43,
   "id": "7f6a9159",
   "metadata": {
    "execution": {
     "iopub.execute_input": "2022-02-06T01:10:13.592020Z",
     "iopub.status.busy": "2022-02-06T01:10:13.588441Z",
     "iopub.status.idle": "2022-02-06T01:10:16.466570Z",
     "shell.execute_reply": "2022-02-06T01:10:16.467088Z",
     "shell.execute_reply.started": "2022-02-05T23:53:39.515290Z"
    },
    "papermill": {
     "duration": 3.129492,
     "end_time": "2022-02-06T01:10:16.467289",
     "exception": false,
     "start_time": "2022-02-06T01:10:13.337797",
     "status": "completed"
    },
    "tags": []
   },
   "outputs": [
    {
     "data": {
      "text/plain": [
       "0.875185772426501"
      ]
     },
     "execution_count": 43,
     "metadata": {},
     "output_type": "execute_result"
    }
   ],
   "source": [
    "predictionBoost = boost.predict_proba(X_test)[:, 1]\n",
    "roc_auc_score(y_test, predictionBoost)"
   ]
  },
  {
   "cell_type": "code",
   "execution_count": 44,
   "id": "83edca21",
   "metadata": {
    "execution": {
     "iopub.execute_input": "2022-02-06T01:10:16.691950Z",
     "iopub.status.busy": "2022-02-06T01:10:16.690933Z",
     "iopub.status.idle": "2022-02-06T01:10:17.282224Z",
     "shell.execute_reply": "2022-02-06T01:10:17.281562Z",
     "shell.execute_reply.started": "2022-02-05T23:53:46.424477Z"
    },
    "papermill": {
     "duration": 0.692561,
     "end_time": "2022-02-06T01:10:17.282382",
     "exception": false,
     "start_time": "2022-02-06T01:10:16.589821",
     "status": "completed"
    },
    "tags": []
   },
   "outputs": [
    {
     "data": {
      "image/png": "[encoded data removed]",
      "text/plain": [
       "<Figure size 432x288 with 1 Axes>"
      ]
     },
     "metadata": {
      "needs_background": "light"
     },
     "output_type": "display_data"
    }
   ],
   "source": [
    "precision, recall, th = precision_recall_curve(y_test, predictionBoost)\n",
    "plt.plot(recall, precision, marker='.')\n",
    "\n",
    "plt.xlabel(\"Recall\")\n",
    "plt.ylabel(\"Precision\")\n",
    "plt.title(\"ROC-AUC\")\n",
    "plt.legend()\n",
    "plt.show()"
   ]
  },
  {
   "cell_type": "markdown",
   "id": "092dd6c6",
   "metadata": {
    "papermill": {
     "duration": 0.09279,
     "end_time": "2022-02-06T01:10:17.468147",
     "exception": false,
     "start_time": "2022-02-06T01:10:17.375357",
     "status": "completed"
    },
    "tags": []
   },
   "source": [
    "### Ada Boost"
   ]
  },
  {
   "cell_type": "code",
   "execution_count": 45,
   "id": "3ab83729",
   "metadata": {
    "execution": {
     "iopub.execute_input": "2022-02-06T01:10:17.617183Z",
     "iopub.status.busy": "2022-02-06T01:10:17.616104Z",
     "iopub.status.idle": "2022-02-06T01:15:38.907827Z",
     "shell.execute_reply": "2022-02-06T01:15:38.908397Z",
     "shell.execute_reply.started": "2022-02-05T23:53:55.609597Z"
    },
    "papermill": {
     "duration": 321.364888,
     "end_time": "2022-02-06T01:15:38.908606",
     "exception": false,
     "start_time": "2022-02-06T01:10:17.543718",
     "status": "completed"
    },
    "tags": []
   },
   "outputs": [
    {
     "data": {
      "text/plain": [
       "AdaBoostClassifier(base_estimator=DecisionTreeClassifier(max_depth=4),\n",
       "                   n_estimators=250)"
      ]
     },
     "execution_count": 45,
     "metadata": {},
     "output_type": "execute_result"
    }
   ],
   "source": [
    "from sklearn.ensemble import AdaBoostClassifier\n",
    "\n",
    "adaBoost = AdaBoostClassifier(base_estimator=DecisionTreeClassifier(max_depth=4), n_estimators=250)\n",
    "adaBoost.fit(X_train, y_train)"
   ]
  },
  {
   "cell_type": "code",
   "execution_count": 46,
   "id": "7e42aa84",
   "metadata": {
    "execution": {
     "iopub.execute_input": "2022-02-06T01:15:39.043393Z",
     "iopub.status.busy": "2022-02-06T01:15:39.042059Z",
     "iopub.status.idle": "2022-02-06T01:15:45.491143Z",
     "shell.execute_reply": "2022-02-06T01:15:45.490481Z",
     "shell.execute_reply.started": "2022-02-06T00:04:01.391960Z"
    },
    "papermill": {
     "duration": 6.518571,
     "end_time": "2022-02-06T01:15:45.491331",
     "exception": false,
     "start_time": "2022-02-06T01:15:38.972760",
     "status": "completed"
    },
    "tags": []
   },
   "outputs": [
    {
     "data": {
      "text/plain": [
       "0.8566578844607096"
      ]
     },
     "execution_count": 46,
     "metadata": {},
     "output_type": "execute_result"
    }
   ],
   "source": [
    "predictionAda = adaBoost.predict_proba(X_test)[:, 1]\n",
    "roc_auc_score(y_test, predictionAda)"
   ]
  },
  {
   "cell_type": "code",
   "execution_count": 47,
   "id": "86fdd502",
   "metadata": {
    "execution": {
     "iopub.execute_input": "2022-02-06T01:15:45.625272Z",
     "iopub.status.busy": "2022-02-06T01:15:45.624608Z",
     "iopub.status.idle": "2022-02-06T01:15:46.015647Z",
     "shell.execute_reply": "2022-02-06T01:15:46.015059Z",
     "shell.execute_reply.started": "2022-02-06T00:04:14.045107Z"
    },
    "papermill": {
     "duration": 0.46071,
     "end_time": "2022-02-06T01:15:46.015799",
     "exception": false,
     "start_time": "2022-02-06T01:15:45.555089",
     "status": "completed"
    },
    "tags": []
   },
   "outputs": [
    {
     "data": {
      "image/png": "[encoded data removed]",
      "text/plain": [
       "<Figure size 432x288 with 1 Axes>"
      ]
     },
     "metadata": {
      "needs_background": "light"
     },
     "output_type": "display_data"
    }
   ],
   "source": [
    "precision, recall, th = precision_recall_curve(y_test, predictionAda)\n",
    "plt.plot(recall, precision, marker='.')\n",
    "\n",
    "plt.xlabel(\"Recall\")\n",
    "plt.ylabel(\"Precision\")\n",
    "plt.title(\"ROC-AUC\")\n",
    "plt.legend()\n",
    "plt.show()"
   ]
  },
  {
   "cell_type": "markdown",
   "id": "01fd8033",
   "metadata": {
    "papermill": {
     "duration": 0.064543,
     "end_time": "2022-02-06T01:15:46.145582",
     "exception": false,
     "start_time": "2022-02-06T01:15:46.081039",
     "status": "completed"
    },
    "tags": []
   },
   "source": [
    "##### Best model is gradient boosting with roc-auc score: 0.86. Random forest and adaBoost show high score (0.85, 0.84). Among non-ensemble methods, KNN turned out to be the best (0.838)."
   ]
  }
 ],
 "metadata": {
  "kernelspec": {
   "display_name": "Python 3",
   "language": "python",
   "name": "python3"
  },
  "language_info": {
   "codemirror_mode": {
    "name": "ipython",
    "version": 3
   },
   "file_extension": ".py",
   "mimetype": "text/x-python",
   "name": "python",
   "nbconvert_exporter": "python",
   "pygments_lexer": "ipython3",
   "version": "3.7.12"
  },
  "papermill": {
   "default_parameters": {},
   "duration": 3480.5785,
   "end_time": "2022-02-06T01:15:47.128568",
   "environment_variables": {},
   "exception": null,
   "input_path": "__notebook__.ipynb",
   "output_path": "__notebook__.ipynb",
   "parameters": {},
   "start_time": "2022-02-06T00:17:46.550068",
   "version": "2.3.3"
  }
 },
 "nbformat": 4,
 "nbformat_minor": 5
}
